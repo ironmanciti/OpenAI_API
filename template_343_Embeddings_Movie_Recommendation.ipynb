{
 "cells": [
  {
   "cell_type": "markdown",
   "id": "27f1e5f5",
   "metadata": {
    "id": "vUehOJlORE-j"
   },
   "source": [
    "# 임베딩을 활용한 영화 추천 시스템\n",
    "\n",
    "OpenAI 임베딩 기능을 사용하여 영화 추천 시스템을 설계하고 구축하는 과정의 세 번째 프로젝트에 오신 것을 환영합니다. 이 모듈에서는 OpenAI 기계 학습 모델의 고급 자연어 이해 기능을 활용하여 영화 제목과 설명을 분석하고 일치시켜 사용자에게 맞춤형 추천을 제공합니다.\n",
    "\n",
    "## 프로젝트 목적\n",
    "\n",
    "이 프로젝트는 다음과 같은 추천 시스템을 구축하도록 안내합니다.\n",
    "\n",
    "1. **영화 데이터 처리**: 영화 제목과 설명을 콘텐츠의 본질을 포착하는 임베딩으로 변환합니다.\n",
    "2. **유사성 계산**: 임베딩을 사용하여 사용자 쿼리 또는 과거 사용자 상호 작용을 기반으로 영화 간의 유사성을 찾습니다.\n",
    "3. **추천 생성**: 사용자의 취향과 시청 기록에 맞는 추천 영화 목록을 제공합니다."
   ]
  },
  {
   "cell_type": "markdown",
   "id": "86f13776",
   "metadata": {
    "id": "C9LvBQl426tE"
   },
   "source": [
    "### Setting up API Key"
   ]
  },
  {
   "cell_type": "code",
   "execution_count": null,
   "id": "a120705e",
   "metadata": {},
   "outputs": [],
   "source": []
  },
  {
   "cell_type": "code",
   "execution_count": null,
   "id": "46cf1d03",
   "metadata": {},
   "outputs": [],
   "source": []
  },
  {
   "cell_type": "markdown",
   "id": "04095623",
   "metadata": {
    "id": "PDn1iN-FwiBF"
   },
   "source": [
    "## Similarity (유사도) 측정 방법"
   ]
  },
  {
   "cell_type": "code",
   "execution_count": null,
   "id": "160d07a8",
   "metadata": {},
   "outputs": [],
   "source": []
  },
  {
   "cell_type": "code",
   "execution_count": null,
   "id": "3eec44bb",
   "metadata": {},
   "outputs": [],
   "source": [
    "# 임베딩을 저장할 빈 리스트 생성\n",
    "# 여러 문장에 대한 임베딩 생성 요청\n",
    "# 생성된 임베딩을 toy_vectors 리스트에 추가"
   ]
  },
  {
   "cell_type": "code",
   "execution_count": null,
   "id": "87dbee58",
   "metadata": {},
   "outputs": [],
   "source": []
  },
  {
   "cell_type": "markdown",
   "id": "fe42e75b",
   "metadata": {
    "id": "xsCuV7oAIRtz"
   },
   "source": [
    "내적 연산이 가능하도록 user_vector의 shape을 2차원 matrix 형태로 바꾸어 줍니다."
   ]
  },
  {
   "cell_type": "code",
   "execution_count": null,
   "id": "3a2e4b7f",
   "metadata": {},
   "outputs": [],
   "source": []
  },
  {
   "cell_type": "markdown",
   "id": "a1b0233d",
   "metadata": {
    "id": "u9HmY4MRSFxM"
   },
   "source": [
    "cosine 유사도 계산"
   ]
  },
  {
   "cell_type": "code",
   "execution_count": null,
   "id": "094d3bf6",
   "metadata": {},
   "outputs": [],
   "source": []
  },
  {
   "cell_type": "markdown",
   "id": "fbe48123",
   "metadata": {
    "id": "NH4nGGFQyvnv"
   },
   "source": [
    "## 가장 유사한 벡터 추천\n",
    "\n",
    "np.argsort()는 배열 내의 원소들을 오름차순으로 정렬했을 때의 인덱스를 반환"
   ]
  },
  {
   "cell_type": "code",
   "execution_count": null,
   "id": "c8d23ea5",
   "metadata": {},
   "outputs": [],
   "source": [
    "# 유사도가 높은 순서대로 원소의 인덱스를 반환"
   ]
  },
  {
   "cell_type": "code",
   "execution_count": null,
   "id": "3c50d521",
   "metadata": {},
   "outputs": [],
   "source": [
    "# 유사도가 높은 순서대로 영화의 제목 출력"
   ]
  },
  {
   "cell_type": "markdown",
   "id": "7465ec51",
   "metadata": {
    "id": "9_OjVDWsUe4n"
   },
   "source": [
    "# 대규모 데이터 세트로 확장"
   ]
  },
  {
   "cell_type": "code",
   "execution_count": null,
   "id": "4a3b5691",
   "metadata": {},
   "outputs": [],
   "source": []
  },
  {
   "cell_type": "code",
   "execution_count": null,
   "id": "1a44f89b",
   "metadata": {},
   "outputs": [],
   "source": []
  },
  {
   "cell_type": "code",
   "execution_count": null,
   "id": "d806abda",
   "metadata": {},
   "outputs": [],
   "source": [
    "# missing value 갯수 계산"
   ]
  },
  {
   "cell_type": "code",
   "execution_count": null,
   "id": "15e594ae",
   "metadata": {},
   "outputs": [],
   "source": [
    "# Drop missing values"
   ]
  },
  {
   "cell_type": "code",
   "execution_count": null,
   "id": "7cd41c36",
   "metadata": {},
   "outputs": [],
   "source": [
    "# API 비용 절감을 위해 추천 시스템에 50편의 영화만 사용"
   ]
  },
  {
   "cell_type": "code",
   "execution_count": null,
   "id": "a1b671ad",
   "metadata": {},
   "outputs": [],
   "source": []
  },
  {
   "cell_type": "code",
   "execution_count": null,
   "id": "e1211018",
   "metadata": {},
   "outputs": [],
   "source": [
    "# 임베딩을 저장할 빈 리스트 생성\n",
    "# DataFrame에서 한글 개요 열의 값을 리스트로 변환하여 임베딩 생성 요청\n",
    "# 생성된 임베딩을 toy_vectors 리스트에 추가"
   ]
  },
  {
   "cell_type": "code",
   "execution_count": null,
   "id": "77236f24",
   "metadata": {},
   "outputs": [],
   "source": []
  },
  {
   "cell_type": "code",
   "execution_count": null,
   "id": "cebd0039",
   "metadata": {},
   "outputs": [],
   "source": []
  },
  {
   "cell_type": "markdown",
   "id": "074a2b52",
   "metadata": {
    "id": "Xucr-U-HVZw8"
   },
   "source": [
    "벡터를 정규화(normalize)하면 벡터 간 비교를 보다 공정하고 효과적으로 수행할 수 있습니다.  정규화는 벡터의 길이(크기)를 1로 만듭니다. 이렇게 하면 모든 벡터가 동일한 스케일을 가지게 되어, 벡터 간 비교 시 크기의 영향을 받지 않습니다."
   ]
  },
  {
   "cell_type": "code",
   "execution_count": null,
   "id": "9f6a2574",
   "metadata": {},
   "outputs": [],
   "source": [
    "# user_vector 정규화\n",
    "# toy_vectors 정규화\n",
    "# 정규화된 벡터들 간의 코사인 유사도 계산"
   ]
  },
  {
   "cell_type": "code",
   "execution_count": null,
   "id": "28dc992d",
   "metadata": {},
   "outputs": [],
   "source": [
    "# 유사도 점수에 따라 정렬된 인덱스를 얻기 위해 np.argsort 사용\n",
    "# -similarities를 사용하여 유사도가 높은 순서대로 정렬\n",
    "# 정렬된 인덱스에 따라 상위 5개 행을 추출"
   ]
  },
  {
   "cell_type": "code",
   "execution_count": null,
   "id": "82a74e32",
   "metadata": {},
   "outputs": [],
   "source": []
  }
 ],
 "metadata": {
  "colab": {
   "provenance": []
  },
  "kernelspec": {
   "display_name": "Python 3 (ipykernel)",
   "language": "python",
   "name": "python3"
  },
  "language_info": {
   "codemirror_mode": {
    "name": "ipython",
    "version": 3
   },
   "file_extension": ".py",
   "mimetype": "text/x-python",
   "name": "python",
   "nbconvert_exporter": "python",
   "pygments_lexer": "ipython3",
   "version": "3.9.16"
  }
 },
 "nbformat": 4,
 "nbformat_minor": 5
}
