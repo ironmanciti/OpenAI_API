{
 "cells": [
  {
   "cell_type": "markdown",
   "metadata": {
    "id": "vUehOJlORE-j"
   },
   "source": [
    "# 임베딩을 활용한 영화 추천 시스템\n",
    "\n",
    "OpenAI 임베딩 기능을 사용하여 영화 추천 시스템을 설계하고 구축하는 과정의 세 번째 프로젝트에 오신 것을 환영합니다. 이 모듈에서는 OpenAI 기계 학습 모델의 고급 자연어 이해 기능을 활용하여 영화 제목과 설명을 분석하고 일치시켜 사용자에게 맞춤형 추천을 제공합니다.\n",
    "\n",
    "## 프로젝트 목적\n",
    "\n",
    "이 프로젝트는 다음과 같은 추천 시스템을 구축하도록 안내합니다.\n",
    "\n",
    "1. **영화 데이터 처리**: 영화 제목과 설명을 콘텐츠의 본질을 포착하는 임베딩으로 변환합니다.\n",
    "2. **유사성 계산**: 임베딩을 사용하여 사용자 쿼리 또는 과거 사용자 상호 작용을 기반으로 영화 간의 유사성을 찾습니다.\n",
    "3. **추천 생성**: 사용자의 취향과 시청 기록에 맞는 추천 영화 목록을 제공합니다."
   ]
  },
  {
   "cell_type": "markdown",
   "metadata": {
    "id": "C9LvBQl426tE"
   },
   "source": [
    "### Setting up API Key"
   ]
  },
  {
   "cell_type": "code",
   "execution_count": 1,
   "metadata": {
    "id": "lYFNyycCQ2p-"
   },
   "outputs": [],
   "source": [
    "import os\n",
    "import openai\n",
    "\n",
    "from dotenv import load_dotenv, find_dotenv\n",
    "_ = load_dotenv(find_dotenv()) # read local .env file"
   ]
  },
  {
   "cell_type": "code",
   "execution_count": 2,
   "metadata": {
    "id": "btc16h6ySPFA"
   },
   "outputs": [],
   "source": [
    "from openai import OpenAI\n",
    "client = OpenAI()\n",
    "\n",
    "embedding_model = \"text-embedding-3-small\"  # 사용할 텍스트 임베딩 모델"
   ]
  },
  {
   "cell_type": "markdown",
   "metadata": {
    "id": "PDn1iN-FwiBF"
   },
   "source": [
    "## Similarity (유사도) 측정 방법"
   ]
  },
  {
   "cell_type": "code",
   "execution_count": 3,
   "metadata": {
    "id": "025NzygqwlTL"
   },
   "outputs": [],
   "source": [
    "toy_dataset = [\n",
    "    \"명량은 이순신 장군에 관한 영화다.\",\n",
    "    \"해리포터는 마법사와 마법에 관한 영화 입니다\",\n",
    "    \"영화 매트릭스에서 AI는 이미 가장 강력한 존재가 되어 있습니다.'\"\n",
    "]"
   ]
  },
  {
   "cell_type": "code",
   "execution_count": 5,
   "metadata": {
    "id": "hLHxQdc7xEKo"
   },
   "outputs": [
    {
     "data": {
      "text/plain": [
       "(3, 1536)"
      ]
     },
     "execution_count": 5,
     "metadata": {},
     "output_type": "execute_result"
    }
   ],
   "source": [
    "import numpy as np\n",
    "\n",
    "# 임베딩을 저장할 빈 리스트 생성\n",
    "toy_vectors = []\n",
    "\n",
    "# 여러 문장에 대한 임베딩 생성 요청\n",
    "embeddings = client.embeddings.create(\n",
    "    model=embedding_model,  # 사용할 모델 지정\n",
    "    input=toy_dataset        # 임베딩을 생성할 문장들의 리스트\n",
    ")\n",
    "\n",
    "# 생성된 임베딩을 toy_vectors 리스트에 추가\n",
    "for data in embeddings.data:\n",
    "    toy_vectors.append(data.embedding)\n",
    "\n",
    "np.array(toy_vectors).shape"
   ]
  },
  {
   "cell_type": "code",
   "execution_count": 6,
   "metadata": {
    "colab": {
     "base_uri": "https://localhost:8080/"
    },
    "id": "mVC5Wgpfv5g9",
    "outputId": "1858d457-df62-4cd3-90a6-0018c76aa6f5"
   },
   "outputs": [
    {
     "data": {
      "text/plain": [
       "(1536,)"
      ]
     },
     "execution_count": 6,
     "metadata": {},
     "output_type": "execute_result"
    }
   ],
   "source": [
    "user_embedding = client.embeddings.create(\n",
    "    model=embedding_model,\n",
    "    input=\"이순신 장군 영화를 추천해 주세요.\"\n",
    ")\n",
    "\n",
    "user_vector = user_embedding.data[0].embedding\n",
    "np.array(user_vector).shape"
   ]
  },
  {
   "cell_type": "markdown",
   "metadata": {
    "id": "xsCuV7oAIRtz"
   },
   "source": [
    "내적 연산이 가능하도록 user_vector의 shape을 2차원 matrix 형태로 바꾸어 줍니다."
   ]
  },
  {
   "cell_type": "code",
   "execution_count": 8,
   "metadata": {
    "colab": {
     "base_uri": "https://localhost:8080/"
    },
    "id": "pQKgmDssSdBx",
    "outputId": "3639d643-eae4-4257-c058-17593736979e"
   },
   "outputs": [
    {
     "data": {
      "text/plain": [
       "(1, 1536)"
      ]
     },
     "execution_count": 8,
     "metadata": {},
     "output_type": "execute_result"
    }
   ],
   "source": [
    "user_vector = np.array(user_vector).reshape(1, -1)\n",
    "user_vector.shape"
   ]
  },
  {
   "cell_type": "markdown",
   "metadata": {
    "id": "u9HmY4MRSFxM"
   },
   "source": [
    "cosine 유사도 계산"
   ]
  },
  {
   "cell_type": "code",
   "execution_count": 10,
   "metadata": {
    "colab": {
     "base_uri": "https://localhost:8080/"
    },
    "id": "tMiuqNg1SMvM",
    "outputId": "028cd288-77c6-4aa1-f96b-a2ca2a368aa7"
   },
   "outputs": [
    {
     "data": {
      "text/plain": [
       "array([[0.60100796, 0.23606571, 0.21466633]])"
      ]
     },
     "execution_count": 10,
     "metadata": {},
     "output_type": "execute_result"
    }
   ],
   "source": [
    "similarities = np.dot(user_vector, np.array(toy_vectors).T)\n",
    "similarities"
   ]
  },
  {
   "cell_type": "markdown",
   "metadata": {
    "id": "NH4nGGFQyvnv"
   },
   "source": [
    "## 가장 유사한 벡터 추천\n",
    "\n",
    "np.argsort()는 배열 내의 원소들을 오름차순으로 정렬했을 때의 인덱스를 반환"
   ]
  },
  {
   "cell_type": "code",
   "execution_count": 11,
   "metadata": {
    "colab": {
     "base_uri": "https://localhost:8080/"
    },
    "id": "kJ73xZV0yvX0",
    "outputId": "00321cbc-b345-445c-ea3d-e22ce44e76ae"
   },
   "outputs": [
    {
     "data": {
      "text/plain": [
       "array([[0, 1, 2]], dtype=int64)"
      ]
     },
     "execution_count": 11,
     "metadata": {},
     "output_type": "execute_result"
    }
   ],
   "source": [
    "# 유사도가 높은 순서대로 원소의 인덱스를 반환\n",
    "np.argsort(-similarities)"
   ]
  },
  {
   "cell_type": "code",
   "execution_count": 12,
   "metadata": {
    "colab": {
     "base_uri": "https://localhost:8080/"
    },
    "id": "S7F8O_shpyad",
    "outputId": "fc3504ef-22c4-4db8-d879-ccc5e018faeb"
   },
   "outputs": [
    {
     "data": {
      "text/plain": [
       "['명량은 이순신 장군에 관한 영화다.',\n",
       " '해리포터는 마법사와 마법에 관한 영화 입니다',\n",
       " \"영화 매트릭스에서 AI는 이미 가장 강력한 존재가 되어 있습니다.'\"]"
      ]
     },
     "execution_count": 12,
     "metadata": {},
     "output_type": "execute_result"
    }
   ],
   "source": [
    "# 유사도가 높은 순서대로 영화의 제목 출력\n",
    "[toy_dataset[id] for id in np.argsort(-similarities)[0]]"
   ]
  },
  {
   "cell_type": "markdown",
   "metadata": {
    "id": "9_OjVDWsUe4n"
   },
   "source": [
    "# 대규모 데이터 세트로 확장"
   ]
  },
  {
   "cell_type": "code",
   "execution_count": 18,
   "metadata": {
    "colab": {
     "base_uri": "https://localhost:8080/",
     "height": 224
    },
    "id": "XW3sF_EmTbtr",
    "outputId": "209474b7-7e12-4a69-9f85-a58f495fdc57"
   },
   "outputs": [
    {
     "name": "stdout",
     "output_type": "stream",
     "text": [
      "(4998, 3)\n"
     ]
    },
    {
     "data": {
      "text/html": [
       "<div>\n",
       "<style scoped>\n",
       "    .dataframe tbody tr th:only-of-type {\n",
       "        vertical-align: middle;\n",
       "    }\n",
       "\n",
       "    .dataframe tbody tr th {\n",
       "        vertical-align: top;\n",
       "    }\n",
       "\n",
       "    .dataframe thead th {\n",
       "        text-align: right;\n",
       "    }\n",
       "</style>\n",
       "<table border=\"1\" class=\"dataframe\">\n",
       "  <thead>\n",
       "    <tr style=\"text-align: right;\">\n",
       "      <th></th>\n",
       "      <th>title</th>\n",
       "      <th>overview</th>\n",
       "      <th>kor_overview</th>\n",
       "    </tr>\n",
       "  </thead>\n",
       "  <tbody>\n",
       "    <tr>\n",
       "      <th>0</th>\n",
       "      <td>Toy Story</td>\n",
       "      <td>Led by Woody, Andy's toys live happily in his ...</td>\n",
       "      <td>Woody가 이끄는 Andy의 장난감은 Andy의 생일이 Buzz Lightyear...</td>\n",
       "    </tr>\n",
       "    <tr>\n",
       "      <th>1</th>\n",
       "      <td>Jumanji</td>\n",
       "      <td>When siblings Judy and Peter discover an encha...</td>\n",
       "      <td>형제 인 Judy와 Peter가 마법의 세계의 문을 열어주는 마법의 보드 게임을 발...</td>\n",
       "    </tr>\n",
       "    <tr>\n",
       "      <th>2</th>\n",
       "      <td>Grumpier Old Men</td>\n",
       "      <td>A family wedding reignites the ancient feud be...</td>\n",
       "      <td>가족 결혼식은 옆집 이웃과 낚시 친구 인 John과 Max 사이의 고대 불화를 통치...</td>\n",
       "    </tr>\n",
       "    <tr>\n",
       "      <th>3</th>\n",
       "      <td>Waiting to Exhale</td>\n",
       "      <td>Cheated on, mistreated and stepped on, the wom...</td>\n",
       "      <td>속임수를 쓰고 학대를 당하고 발을 딛고, 여자들은 숨을들이 쉬고, 애매한 \"좋은 사...</td>\n",
       "    </tr>\n",
       "    <tr>\n",
       "      <th>4</th>\n",
       "      <td>Father of the Bride Part II</td>\n",
       "      <td>Just when George Banks has recovered from his ...</td>\n",
       "      <td>조지 뱅크스가 딸의 결혼식에서 회복되었을 때, 그는 그녀가 임신했다는 소식을 받았습...</td>\n",
       "    </tr>\n",
       "  </tbody>\n",
       "</table>\n",
       "</div>"
      ],
      "text/plain": [
       "                         title  \\\n",
       "0                    Toy Story   \n",
       "1                      Jumanji   \n",
       "2             Grumpier Old Men   \n",
       "3            Waiting to Exhale   \n",
       "4  Father of the Bride Part II   \n",
       "\n",
       "                                            overview  \\\n",
       "0  Led by Woody, Andy's toys live happily in his ...   \n",
       "1  When siblings Judy and Peter discover an encha...   \n",
       "2  A family wedding reignites the ancient feud be...   \n",
       "3  Cheated on, mistreated and stepped on, the wom...   \n",
       "4  Just when George Banks has recovered from his ...   \n",
       "\n",
       "                                        kor_overview  \n",
       "0  Woody가 이끄는 Andy의 장난감은 Andy의 생일이 Buzz Lightyear...  \n",
       "1  형제 인 Judy와 Peter가 마법의 세계의 문을 열어주는 마법의 보드 게임을 발...  \n",
       "2  가족 결혼식은 옆집 이웃과 낚시 친구 인 John과 Max 사이의 고대 불화를 통치...  \n",
       "3  속임수를 쓰고 학대를 당하고 발을 딛고, 여자들은 숨을들이 쉬고, 애매한 \"좋은 사...  \n",
       "4  조지 뱅크스가 딸의 결혼식에서 회복되었을 때, 그는 그녀가 임신했다는 소식을 받았습...  "
      ]
     },
     "execution_count": 18,
     "metadata": {},
     "output_type": "execute_result"
    }
   ],
   "source": [
    "import pandas as pd\n",
    "\n",
    "df = pd.read_excel(\"data/movies_5000_korean.xlsx\", header=None)\n",
    "\n",
    "df.columns = ['title', 'overview', 'kor_overview']\n",
    "\n",
    "print(df.shape)\n",
    "df.head()"
   ]
  },
  {
   "cell_type": "code",
   "execution_count": 19,
   "metadata": {
    "colab": {
     "base_uri": "https://localhost:8080/",
     "height": 206
    },
    "id": "m2bCFPJHz4v0",
    "outputId": "a5de7586-e478-4c04-b9a8-585d842fad90"
   },
   "outputs": [
    {
     "data": {
      "text/html": [
       "<div>\n",
       "<style scoped>\n",
       "    .dataframe tbody tr th:only-of-type {\n",
       "        vertical-align: middle;\n",
       "    }\n",
       "\n",
       "    .dataframe tbody tr th {\n",
       "        vertical-align: top;\n",
       "    }\n",
       "\n",
       "    .dataframe thead th {\n",
       "        text-align: right;\n",
       "    }\n",
       "</style>\n",
       "<table border=\"1\" class=\"dataframe\">\n",
       "  <thead>\n",
       "    <tr style=\"text-align: right;\">\n",
       "      <th></th>\n",
       "      <th>title</th>\n",
       "      <th>overview</th>\n",
       "      <th>kor_overview</th>\n",
       "    </tr>\n",
       "  </thead>\n",
       "  <tbody>\n",
       "    <tr>\n",
       "      <th>4993</th>\n",
       "      <td>The Deadly Mantis</td>\n",
       "      <td>The calving of an Arctic iceberg releases a gi...</td>\n",
       "      <td>북극 빙산의 분만은 선사 시대부터 정지 된 애니메이션에 갇힌 거대한기도 만티를 풀어...</td>\n",
       "    </tr>\n",
       "    <tr>\n",
       "      <th>4994</th>\n",
       "      <td>Dragonfly</td>\n",
       "      <td>A grieving doctor is being contacted by his la...</td>\n",
       "      <td>슬픔에 빠진 의사는 사망 경험 근처의 환자를 통해 늦은 아내와 연락을 취하고 있습니다.</td>\n",
       "    </tr>\n",
       "    <tr>\n",
       "      <th>4995</th>\n",
       "      <td>Queen of the Damned</td>\n",
       "      <td>Lestat de Lioncourt is awakened from his slumb...</td>\n",
       "      <td>Lestat de Lioncourt는 그의 잠에서 깨어났습니다. 그의 존재에 지루해...</td>\n",
       "    </tr>\n",
       "    <tr>\n",
       "      <th>4996</th>\n",
       "      <td>Big Bad Love</td>\n",
       "      <td>Vietnam veteran Leon Barlow is struggling as a...</td>\n",
       "      <td>베트남 베테랑 레온 바로우 (Leon Barlow)는 작가로서 어려움을 겪고 있으며...</td>\n",
       "    </tr>\n",
       "    <tr>\n",
       "      <th>4997</th>\n",
       "      <td>Green Dragon</td>\n",
       "      <td>A tale about Vietnamese refugees sent to an or...</td>\n",
       "      <td>베트남 난민에 대한 이야기는 캘리포니아의 캠프 펜들턴 해양 기지의 오리엔테이션 캠프...</td>\n",
       "    </tr>\n",
       "  </tbody>\n",
       "</table>\n",
       "</div>"
      ],
      "text/plain": [
       "                    title                                           overview  \\\n",
       "4993    The Deadly Mantis  The calving of an Arctic iceberg releases a gi...   \n",
       "4994            Dragonfly  A grieving doctor is being contacted by his la...   \n",
       "4995  Queen of the Damned  Lestat de Lioncourt is awakened from his slumb...   \n",
       "4996         Big Bad Love  Vietnam veteran Leon Barlow is struggling as a...   \n",
       "4997         Green Dragon  A tale about Vietnamese refugees sent to an or...   \n",
       "\n",
       "                                           kor_overview  \n",
       "4993  북극 빙산의 분만은 선사 시대부터 정지 된 애니메이션에 갇힌 거대한기도 만티를 풀어...  \n",
       "4994   슬픔에 빠진 의사는 사망 경험 근처의 환자를 통해 늦은 아내와 연락을 취하고 있습니다.  \n",
       "4995  Lestat de Lioncourt는 그의 잠에서 깨어났습니다. 그의 존재에 지루해...  \n",
       "4996  베트남 베테랑 레온 바로우 (Leon Barlow)는 작가로서 어려움을 겪고 있으며...  \n",
       "4997  베트남 난민에 대한 이야기는 캘리포니아의 캠프 펜들턴 해양 기지의 오리엔테이션 캠프...  "
      ]
     },
     "execution_count": 19,
     "metadata": {},
     "output_type": "execute_result"
    }
   ],
   "source": [
    "df.tail()"
   ]
  },
  {
   "cell_type": "code",
   "execution_count": 20,
   "metadata": {
    "colab": {
     "base_uri": "https://localhost:8080/"
    },
    "id": "PaLcTFW3yfrd",
    "outputId": "702ad16b-87f5-4131-b5bd-18ab334a345a"
   },
   "outputs": [
    {
     "data": {
      "text/plain": [
       "title            0\n",
       "overview        23\n",
       "kor_overview    23\n",
       "dtype: int64"
      ]
     },
     "execution_count": 20,
     "metadata": {},
     "output_type": "execute_result"
    }
   ],
   "source": [
    "# missing value 갯수 계산\n",
    "df.isnull().sum()"
   ]
  },
  {
   "cell_type": "code",
   "execution_count": 21,
   "metadata": {
    "colab": {
     "base_uri": "https://localhost:8080/"
    },
    "id": "pI1CvePHZwT3",
    "outputId": "d2ef2b77-6a45-4de8-b273-9a042f7b9f47"
   },
   "outputs": [
    {
     "data": {
      "text/plain": [
       "(4975, 3)"
      ]
     },
     "execution_count": 21,
     "metadata": {},
     "output_type": "execute_result"
    }
   ],
   "source": [
    "# Drop missing values\n",
    "df.dropna(inplace=True)\n",
    "df.shape"
   ]
  },
  {
   "cell_type": "code",
   "execution_count": 22,
   "metadata": {
    "colab": {
     "base_uri": "https://localhost:8080/"
    },
    "id": "3osSsmQU0XVK",
    "outputId": "bb5a5c93-b196-4598-b8ed-25f36748364d"
   },
   "outputs": [
    {
     "data": {
      "text/plain": [
       "(50, 3)"
      ]
     },
     "execution_count": 22,
     "metadata": {},
     "output_type": "execute_result"
    }
   ],
   "source": [
    "# API 비용 절감을 위해 추천 시스템에 50편의 영화만 사용\n",
    "df = df[:50]\n",
    "df.shape"
   ]
  },
  {
   "cell_type": "code",
   "execution_count": 25,
   "metadata": {
    "colab": {
     "base_uri": "https://localhost:8080/",
     "height": 54
    },
    "id": "1mnFi8g0S5PP",
    "outputId": "b077bc51-ffeb-44f3-fa42-73d96d6de02f"
   },
   "outputs": [
    {
     "data": {
      "text/plain": [
       "46    역사는 신세계의 사랑과 모험에 관한 디즈니의 서사시 애니메이션 이야기에서 영광스럽게...\n",
       "47    대도시 대학교에서 문맹 퇴치 교수로 임기로 일하는 신중한 여성은 마을에 오는 현지 ...\n",
       "48    L.A. 심문실에서 열린 구두 킨트는 연준에게 신화 범죄 군주 인 키저 수즈 (Ke...\n",
       "49    형사 - 돌림 -Cynthia McKay (Cynthia Rothrock)는 McK...\n",
       "50    레니와 그의 아내 아만다가 아기를 입양했을 때 레니는 그의 아들이 천재라는 것을 깨...\n",
       "Name: kor_overview, dtype: object"
      ]
     },
     "execution_count": 25,
     "metadata": {},
     "output_type": "execute_result"
    }
   ],
   "source": [
    "df['kor_overview'].tail()"
   ]
  },
  {
   "cell_type": "code",
   "execution_count": 26,
   "metadata": {
    "id": "fI4Urr9W1mMV"
   },
   "outputs": [],
   "source": [
    "# 임베딩을 저장할 빈 리스트 생성\n",
    "toy_vectors = []\n",
    "\n",
    "# DataFrame에서 한글 개요 열의 값을 리스트로 변환하여 임베딩 생성 요청\n",
    "embeddings = client.embeddings.create(\n",
    "    model=embedding_model,  # 사용할 모델 지정\n",
    "    input=df['kor_overview'].values.tolist()  # 임베딩을 생성할 한글 텍스트 리스트\n",
    ")\n",
    "\n",
    "# 생성된 임베딩을 toy_vectors 리스트에 추가\n",
    "for data in embeddings.data:\n",
    "    toy_vectors.append(data.embedding)"
   ]
  },
  {
   "cell_type": "code",
   "execution_count": 28,
   "metadata": {
    "colab": {
     "base_uri": "https://localhost:8080/"
    },
    "id": "dl0PWZPcRwQ6",
    "outputId": "63314ab3-cf49-4b5d-f240-59fa9c3b4100"
   },
   "outputs": [
    {
     "name": "stdout",
     "output_type": "stream",
     "text": [
      "1536\n"
     ]
    }
   ],
   "source": [
    "print(len(toy_vectors[0]))"
   ]
  },
  {
   "cell_type": "code",
   "execution_count": 29,
   "metadata": {
    "colab": {
     "base_uri": "https://localhost:8080/"
    },
    "id": "9VJk56Pq1sk9",
    "outputId": "4840c44e-006b-45a6-a330-32ba9d24c0f1"
   },
   "outputs": [
    {
     "name": "stdin",
     "output_type": "stream",
     "text": [
      "어떤 영화를 원하시나요?   신세계의 사랑과 모험\n"
     ]
    },
    {
     "data": {
      "text/plain": [
       "(1, 1536)"
      ]
     },
     "execution_count": 29,
     "metadata": {},
     "output_type": "execute_result"
    }
   ],
   "source": [
    "user_request = input('어떤 영화를 원하시나요?  ')\n",
    "user_embedding = client.embeddings.create(\n",
    "    model=embedding_model,\n",
    "    input=user_request\n",
    ")\n",
    "\n",
    "user_vector = user_embedding.data[0].embedding\n",
    "user_vector = np.array(user_vector).reshape(1, -1)\n",
    "user_vector.shape"
   ]
  },
  {
   "cell_type": "markdown",
   "metadata": {
    "id": "Xucr-U-HVZw8"
   },
   "source": [
    "벡터를 정규화(normalize)하면 벡터 간 비교를 보다 공정하고 효과적으로 수행할 수 있습니다.  정규화는 벡터의 길이(크기)를 1로 만듭니다. 이렇게 하면 모든 벡터가 동일한 스케일을 가지게 되어, 벡터 간 비교 시 크기의 영향을 받지 않습니다."
   ]
  },
  {
   "cell_type": "code",
   "execution_count": 30,
   "metadata": {
    "colab": {
     "base_uri": "https://localhost:8080/"
    },
    "id": "NFcQgX81tVcm",
    "outputId": "0303b13d-1d56-4694-dc5b-b7b4dd5fc99a"
   },
   "outputs": [
    {
     "data": {
      "text/plain": [
       "array([[0.13620369, 0.18584609, 0.14163169, 0.28396919, 0.15169872,\n",
       "        0.13794801, 0.24469232, 0.18766956, 0.15845267, 0.15276814,\n",
       "        0.13493464, 0.11034339, 0.21602425, 0.17033837, 0.13626547,\n",
       "        0.1228956 , 0.15349031, 0.11533921, 0.19123704, 0.12380528,\n",
       "        0.16831806, 0.15822449, 0.14105608, 0.16557163, 0.24455175,\n",
       "        0.22056524, 0.25624943, 0.11507875, 0.1784274 , 0.18962516,\n",
       "        0.17209837, 0.16291691, 0.2332074 , 0.18956829, 0.16879154,\n",
       "        0.15560595, 0.13548522, 0.14983788, 0.11237464, 0.07647325,\n",
       "        0.23275763, 0.2242218 , 0.21892958, 0.22701337, 0.13849902,\n",
       "        0.39054808, 0.08171686, 0.10006683, 0.18341132, 0.16875266]])"
      ]
     },
     "execution_count": 30,
     "metadata": {},
     "output_type": "execute_result"
    }
   ],
   "source": [
    "# user_vector 정규화\n",
    "user_vector_norm = user_vector / np.linalg.norm(user_vector)\n",
    "\n",
    "# toy_vectors 정규화\n",
    "toy_vectors_norm = np.array(toy_vectors) / np.linalg.norm(toy_vectors, axis=1, keepdims=True)\n",
    "\n",
    "# 정규화된 벡터들 간의 코사인 유사도 계산\n",
    "similarities = np.dot(user_vector_norm, toy_vectors_norm.T)\n",
    "similarities"
   ]
  },
  {
   "cell_type": "code",
   "execution_count": 31,
   "metadata": {
    "colab": {
     "base_uri": "https://localhost:8080/"
    },
    "id": "76udtEePtqFq",
    "outputId": "cd647336-8174-49d7-ed26-ca8abc7e04dc"
   },
   "outputs": [
    {
     "data": {
      "text/plain": [
       "[title                                                  Pocahontas\n",
       " overview        History comes gloriously to life in Disney's e...\n",
       " kor_overview    역사는 신세계의 사랑과 모험에 관한 디즈니의 서사시 애니메이션 이야기에서 영광스럽게...\n",
       " Name: 46, dtype: object,\n",
       " title                                           Waiting to Exhale\n",
       " overview        Cheated on, mistreated and stepped on, the wom...\n",
       " kor_overview    속임수를 쓰고 학대를 당하고 발을 딛고, 여자들은 숨을들이 쉬고, 애매한 \"좋은 사...\n",
       " Name: 3, dtype: object,\n",
       " title                                                Now and Then\n",
       " overview        Waxing nostalgic about the bittersweet passage...\n",
       " kor_overview    어린 시절부터 사춘기까지의 쓴맛에 대한 향수는이 부드러운 시대의 이야기, 4 명의 ...\n",
       " Name: 26, dtype: object,\n",
       " title                                                     Sabrina\n",
       " overview        An ugly duckling having undergone a remarkable...\n",
       " kor_overview    놀라운 변화를 겪은 추악한 오리는 여전히 그녀의 호감에 대한 감정을 품고 있지만, ...\n",
       " Name: 6, dtype: object,\n",
       " title                                           Leaving Las Vegas\n",
       " overview        Ben Sanderson, an alcoholic Hollywood screenwr...\n",
       " kor_overview    음주로 모든 것을 잃은 알코올 할리우드 시나리오 작가 인 벤 샌드 슨 (Ben Sa...\n",
       " Name: 24, dtype: object]"
      ]
     },
     "execution_count": 31,
     "metadata": {},
     "output_type": "execute_result"
    }
   ],
   "source": [
    "# 유사도 점수에 따라 정렬된 인덱스를 얻기 위해 np.argsort 사용\n",
    "# -similarities를 사용하여 유사도가 높은 순서대로 정렬\n",
    "sorted_indices = np.argsort(-similarities)[0]\n",
    "\n",
    "# 정렬된 인덱스에 따라 상위 5개 행을 추출\n",
    "top_5_rows = [df.iloc[id] for id in sorted_indices][:5]\n",
    "top_5_rows"
   ]
  },
  {
   "cell_type": "code",
   "execution_count": null,
   "metadata": {},
   "outputs": [],
   "source": []
  }
 ],
 "metadata": {
  "colab": {
   "provenance": []
  },
  "kernelspec": {
   "display_name": "Python 3 (ipykernel)",
   "language": "python",
   "name": "python3"
  },
  "language_info": {
   "codemirror_mode": {
    "name": "ipython",
    "version": 3
   },
   "file_extension": ".py",
   "mimetype": "text/x-python",
   "name": "python",
   "nbconvert_exporter": "python",
   "pygments_lexer": "ipython3",
   "version": "3.9.16"
  }
 },
 "nbformat": 4,
 "nbformat_minor": 4
}
