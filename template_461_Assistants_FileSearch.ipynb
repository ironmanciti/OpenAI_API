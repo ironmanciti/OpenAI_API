{
 "cells": [
  {
   "cell_type": "markdown",
   "id": "e0619d6b-69f6-4f0a-91fa-85eebe422e45",
   "metadata": {},
   "source": [
    "# Assistants API - 파일 검색\n",
    "\n",
    "파일 검색은 독점 제품 정보나 사용자가 제공한 문서 등 모델 외부의 지식으로 도우미를 강화합니다. OpenAI는 자동으로 문서를 구문 분석 및 청크하고, 임베딩을 생성 및 저장하며, 벡터 및 키워드 검색을 모두 사용하여 관련 콘텐츠를 검색하여 사용자 쿼리에 응답합니다.  \n",
    "\n",
    "이 실습에서는 회사의 재무제표에 대한 질문에 답변하는 데 도움이 되는  assistant를 만듭니다."
   ]
  },
  {
   "cell_type": "code",
   "execution_count": null,
   "id": "3ae2dd31",
   "metadata": {},
   "outputs": [],
   "source": []
  },
  {
   "cell_type": "code",
   "execution_count": null,
   "id": "8894ee87",
   "metadata": {},
   "outputs": [],
   "source": []
  },
  {
   "cell_type": "markdown",
   "id": "21b36d9a-c58e-44b6-bcdd-fc5daacd411a",
   "metadata": {},
   "source": [
    "### 1단계: 파일 검색이 활성화된 새 assistant 만들기\n",
    "Assistants tools parameter수에서 file_search가 활성화된 새 assistant를 만듭니다  \n",
    "file_search 도구가 활성화되면 모델은 사용자 메시지를 기반으로 콘텐츠를 검색할 시기를 결정합니다."
   ]
  },
  {
   "cell_type": "code",
   "execution_count": null,
   "id": "b822c173",
   "metadata": {},
   "outputs": [],
   "source": [
    "# assistant 생성"
   ]
  },
  {
   "cell_type": "markdown",
   "id": "c1061b24-b41e-41c8-a22a-a71576909674",
   "metadata": {},
   "source": [
    "### 2단계: Vector Store 생성"
   ]
  },
  {
   "cell_type": "code",
   "execution_count": null,
   "id": "85721ce2",
   "metadata": {},
   "outputs": [],
   "source": [
    "# \"Financial Statements\"라는 벡터 스토어 생성\n",
    "# OpenAI에 업로드할 파일 준비\n",
    "# 업로드 및 폴링 SDK 도우미를 사용하여 파일을 업로드하고 벡터 스토어에 추가,\n",
    "# 파일 배치의 완료 상태를 폴링합니다.\n",
    "# 이 작업의 결과를 보기 위해 상태 및 파일 개수를 출력할 수 있습니다."
   ]
  },
  {
   "cell_type": "markdown",
   "id": "2bbf6fe0-c582-4796-bee0-6d5432c7c674",
   "metadata": {},
   "source": [
    "### 3단계: 새로운 Vector Store를 사용하도록 어시스턴트 업데이트\n",
    "어시스턴트가 파일에 액세스할 수 있도록 하려면 어시스턴트의 tool_resources를 새 vector_store ID로 업데이트합니다."
   ]
  },
  {
   "cell_type": "code",
   "execution_count": null,
   "id": "eae5ae67",
   "metadata": {},
   "outputs": [],
   "source": [
    "#기존 Assistant를 업데이트하여 파일 검색 기능을 사용할 수 있도록 설정"
   ]
  },
  {
   "cell_type": "markdown",
   "id": "2d0b5632-f49a-4aaf-b2a7-e67f5807b65a",
   "metadata": {},
   "source": [
    "### 4단계: 스레드 만들기\n",
    "스레드에 메시지 첨부 파일로 파일을 첨부할 수도 있습니다. 이렇게 하면 스레드와 연결된 또 다른 벡터 저장소가 생성됩니다. 또는 이 스레드에 이미 연결된 벡터 저장소가 있는 경우 새 파일을 기존 스레드 벡터 저장소에 연결합니다. 이 스레드에서 실행을 생성하면 파일 검색 도구는 어시스턴트의 vector_store와 스레드의 vector_store를 모두 쿼리합니다.  \n",
    "\n",
    "여기서 사용자는 Apple의 최신 10-K 파일을 추가로 첨부합니다. "
   ]
  },
  {
   "cell_type": "code",
   "execution_count": null,
   "id": "ac60f908",
   "metadata": {},
   "outputs": [],
   "source": [
    "# OpenAI에 사용자 제공 파일 업로드\n",
    "# 스레드 생성 및 파일을 메시지에 첨부\n",
    "      # 새 파일을 메시지에 첨부합니다.\n",
    "# 이제 스레드에는 파일이 있는 벡터 저장소가 툴 리소스로 있습니다."
   ]
  },
  {
   "cell_type": "markdown",
   "id": "8442d29b-e724-4062-b8de-a89e1ddb565e",
   "metadata": {},
   "source": [
    "### 5단계: Run 만들기 및 출력 확인\r\n",
    "이제Run행을 생성하고 모델이 파일 검색 도구를 사용하여 사용자의 질문에 대한 응답을 제공하는 것을 관찰합니다."
   ]
  },
  {
   "cell_type": "markdown",
   "id": "0a20afa0-a97c-43a9-b469-5be9f2bfe8ef",
   "metadata": {},
   "source": [
    "#### streaming 사용\n",
    "OpenAI의 AssistantEventHandler를 사용하여 Run을 만들고 응답을 스트리밍할 수 있습니다."
   ]
  },
  {
   "cell_type": "code",
   "execution_count": null,
   "id": "add8d1b8",
   "metadata": {},
   "outputs": [],
   "source": [
    "# 먼저, 이벤트 핸들러 클래스(EventHandler)를 생성하여\n",
    "# 응답 스트림에서 이벤트를 어떻게 처리할지 정의합니다.\n",
    "class EventHandler(AssistantEventHandler):    \n",
    "  # 텍스트 생성이 완료되었을 때 호출되는 메서드\n",
    "  def on_text_created(self, text) -> None:\n",
    "  # 텍스트 생성 중간에 호출되는 메서드\n",
    "  def on_text_delta(self, delta, snapshot):\n",
    "  # 도구 호출이 생성되었을 때 호출되는 메서드\n",
    "  def on_tool_call_created(self, tool_call):\n",
    "  # 도구 호출 중간에 호출되는 메서드\n",
    "  def on_tool_call_delta(self, delta, snapshot):\n",
    "# 그런 다음, `stream` SDK 도우미와 `EventHandler` 클래스를 사용하여\n",
    "# Run을 생성하고 응답을 스트리밍합니다."
   ]
  },
  {
   "cell_type": "markdown",
   "id": "17f83b53-b1b0-4020-8711-69a5a998128c",
   "metadata": {},
   "source": [
    "### Thread에 새로운 message 추가 및 Run 생성"
   ]
  },
  {
   "cell_type": "code",
   "execution_count": null,
   "id": "1b3831b3",
   "metadata": {},
   "outputs": [],
   "source": [
    "# thread 에 사용자 message 추가\n",
    "# OpenAI Assistant 실행 (Function Calling 및 대화 흐름 처리)"
   ]
  },
  {
   "cell_type": "code",
   "execution_count": null,
   "id": "6790d9a2",
   "metadata": {},
   "outputs": [],
   "source": []
  }
 ],
 "metadata": {
  "kernelspec": {
   "display_name": "Python 3 (ipykernel)",
   "language": "python",
   "name": "python3"
  },
  "language_info": {
   "codemirror_mode": {
    "name": "ipython",
    "version": 3
   },
   "file_extension": ".py",
   "mimetype": "text/x-python",
   "name": "python",
   "nbconvert_exporter": "python",
   "pygments_lexer": "ipython3",
   "version": "3.9.16"
  }
 },
 "nbformat": 4,
 "nbformat_minor": 5
}
