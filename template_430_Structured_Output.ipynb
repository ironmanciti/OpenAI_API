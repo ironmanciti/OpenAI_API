{
 "cells": [
  {
   "cell_type": "markdown",
   "id": "6ae088d7-3725-4567-8d0e-bbc0cac194b6",
   "metadata": {},
   "source": [
    "# 구조화된 출력 (Structured Outputs)\n",
    "\n",
    "### 응답을 JSON 스키마에 맞게 생성하기\n",
    "\n",
    "- JSON은 애플리케이션 간 데이터 교환을 위한 가장 널리 사용되는 형식 중 하나입니다.\n",
    "\n",
    "- 구조화된 출력(Structured Outputs) 기능을 사용하면 모델이 제공된 JSON 스키마를 항상 준수하도록 보장할 수 있습니다.\n",
    "이를 통해 필수 키가 누락되거나 잘못된 값이 생성되는 문제를 방지할 수 있습니다.\n",
    "\n",
    "- 구조화된 출력의 장점\n",
    "    - 타입 안전성 보장 - 응답이 항상 올바른 형식을 따르므로 검증 및 재요청이 불필요함\n",
    "    - 명시적인 거부 응답 - 안전상의 이유로 모델이 요청을 거부하면 이를 프로그래밍 방식으로 감지 가능\n",
    "    - 더 간단한 프롬프트 작성 - 특정 형식을 강제하기 위한 프롬프트 조정이 불필요\n",
    "  \n",
    "<br>  \n",
    "- Python OpenAI SDK에서는 JSON 스키마를 사용하여 데이터를 정의할 수 있도록 Pydantic 지원"
   ]
  },
  {
   "cell_type": "code",
   "execution_count": null,
   "id": "7dc4fd49",
   "metadata": {},
   "outputs": [],
   "source": []
  },
  {
   "cell_type": "code",
   "execution_count": null,
   "id": "951d8200",
   "metadata": {},
   "outputs": [],
   "source": []
  },
  {
   "cell_type": "markdown",
   "id": "f35b6ad8-321e-48c1-9677-9b3950578a16",
   "metadata": {},
   "source": [
    "### pydantic.BaseModel\n",
    "- pydantic은 Python의 데이터 검증 및 설정 관리 라이브러리입니다.\n",
    "- BaseModel은 **데이터 유효성 검사 및 JSON 직렬화(Serialization)** 를 쉽게 할 수 있도록 도와주는 핵심 클래스입니다."
   ]
  },
  {
   "cell_type": "code",
   "execution_count": null,
   "id": "ba69d7d6",
   "metadata": {},
   "outputs": [],
   "source": [
    "class CalendarEvent(BaseModel):"
   ]
  },
  {
   "cell_type": "markdown",
   "id": "6d7f4e55-4f82-4c72-a4f8-5afb50e2f460",
   "metadata": {},
   "source": [
    "### COT (Chain of Thought)  \r\n",
    "모델이 답변을 단계별로 구조화하여 출력하도록 요청할 수 있으며, 이를 통해 사용자가 해결 과정을 따라갈 수 있도록 안내할 수 있습니다."
   ]
  },
  {
   "cell_type": "code",
   "execution_count": null,
   "id": "0adcfd0a",
   "metadata": {},
   "outputs": [],
   "source": [
    "# 체인 오브 소트(Chain of Thought) 기반 수학 지도용 구조화된 출력\n",
    "class Step(BaseModel):\n",
    "class MathReasoning(BaseModel):"
   ]
  },
  {
   "cell_type": "code",
   "execution_count": null,
   "id": "f832f426",
   "metadata": {},
   "outputs": [],
   "source": []
  },
  {
   "cell_type": "markdown",
   "id": "54430de4-1f8b-45bd-9efa-084a6ee5a85a",
   "metadata": {},
   "source": [
    "### 구조화된 데이터 추출  \r\n",
    "연구 논문과 같은 비정형 입력 데이터에서 구조화된 필드를 정의하여 정보를 추출할 수 있습니다.."
   ]
  },
  {
   "cell_type": "code",
   "execution_count": null,
   "id": "7e0b2b05",
   "metadata": {},
   "outputs": [],
   "source": [
    "# !pip install pymupdf"
   ]
  },
  {
   "cell_type": "code",
   "execution_count": null,
   "id": "35d8cc3b",
   "metadata": {},
   "outputs": [],
   "source": [
    "# 구조화된 출력을 사용하여 연구 논문에서 데이터 추출하기\n",
    "def extract_text_from_pdf(pdf_path):\n",
    "# PDF 파일에서 텍스트 추출\n",
    "class ResearchPaperExtraction(BaseModel):"
   ]
  },
  {
   "cell_type": "code",
   "execution_count": null,
   "id": "1ff563fb",
   "metadata": {},
   "outputs": [],
   "source": []
  },
  {
   "cell_type": "code",
   "execution_count": null,
   "id": "3cc3d98e",
   "metadata": {},
   "outputs": [],
   "source": [
    "# 구조화된 출력을 활용한 콘텐츠 심사\n",
    "class Category(str, Enum):\n",
    "class ContentCompliance(BaseModel):\n",
    "        # {\"role\": \"user\", \"content\": \"취업 면접을 준비하는 방법은 무엇인가요?\"}\n",
    "        # {\"role\": \"user\", \"content\": \"일본에서 제일 싸움 잘하는 사람은 도끼로 이마까 입니다.\"}\n",
    "        # {\"role\": \"developer\", \"content\": \"이 사진은 성적으로 노골적인 내용을 포함하고 있어.\"},"
   ]
  },
  {
   "cell_type": "code",
   "execution_count": null,
   "id": "df022a61",
   "metadata": {},
   "outputs": [],
   "source": []
  },
  {
   "cell_type": "code",
   "execution_count": null,
   "id": "d7d5cfe6",
   "metadata": {},
   "outputs": [],
   "source": []
  },
  {
   "cell_type": "code",
   "execution_count": null,
   "id": "f8b620d2",
   "metadata": {},
   "outputs": [],
   "source": []
  }
 ],
 "metadata": {
  "kernelspec": {
   "display_name": "Python 3 (ipykernel)",
   "language": "python",
   "name": "python3"
  },
  "language_info": {
   "codemirror_mode": {
    "name": "ipython",
    "version": 3
   },
   "file_extension": ".py",
   "mimetype": "text/x-python",
   "name": "python",
   "nbconvert_exporter": "python",
   "pygments_lexer": "ipython3",
   "version": "3.9.16"
  }
 },
 "nbformat": 4,
 "nbformat_minor": 5
}
