{
 "cells": [
  {
   "cell_type": "markdown",
   "id": "740c03c0-d68a-4a63-a26d-a5d3da02fa40",
   "metadata": {},
   "source": [
    "# Embedding을 이용한 영화평 긍정/부정 예측 이진 분류 모델 \n",
    "\n",
    "\n",
    "| **비교 항목**              | **OpenAI Embedding API**                          | **딥러닝 모델로 직접 임베딩 생성**                     |\n",
    "|----------------------------|---------------------------------------------------|-------------------------------------------------------|\n",
    "| **1. 개발 및 구현 난이도**   | ✅ **간단하고 빠름**: 이미 학습된 모델을 호출 | 🚧 **복잡함**: 모델 설계, 학습, 튜닝 필요 |\n",
    "| **2. 초기 설정 비용**       | ✅ **거의 없음**: OpenAI 클라이언트 호출로 즉시 사용 가능 | 🚧 **높음**: 데이터 준비, 모델 학습, 하드웨어 필요 |\n",
    "| **3. 모델 품질**            | ✅ **최신 기술**: OpenAI가 최적화된 사전 학습 모델 제공 | 품질이 데이터와 학습 과정에 크게 의존 |\n",
    "| **4. 사용자 맞춤화**        | ❌ **제한적**: 제공된 모델을 변경하거나 재학습 불가 | ✅ **유연함**: 사용자의 데이터로 모델을 재학습 가능 |\n",
    "| **8. 대규모 데이터 학습**    | ❌ **불가능**: OpenAI 모델은 이미 고정된 학습 데이터 기반 | ✅ **가능**: 특정 도메인 데이터를 학습해 성능 개선 가능 |\n",
    "| **9. 도메인 적합성**         | ❌ **제한적**: OpenAI 모델이 일반화된 데이터에 최적화 | ✅ **높음**: 특정 도메인 데이터로 커스터마이징 가능 |\n",
    "| **10. 유지보수와 지속성**    | ✅ **OpenAI가 관리**: API 호출만 하면 됨 | 🚧 **직접 관리**: 코드, 학습 데이터, 모델 업데이트 필요 |\n"
   ]
  },
  {
   "cell_type": "code",
   "execution_count": null,
   "id": "7de85501",
   "metadata": {},
   "outputs": [],
   "source": []
  },
  {
   "cell_type": "code",
   "execution_count": null,
   "id": "c4fdcfca",
   "metadata": {},
   "outputs": [],
   "source": []
  },
  {
   "cell_type": "markdown",
   "id": "590ec01a-773b-4a00-bccf-6f2a1ab7185e",
   "metadata": {},
   "source": [
    "### Embedding을 특성으로 사용하여 Naver 영화평 예측 Machine Learning model 작성"
   ]
  },
  {
   "cell_type": "code",
   "execution_count": null,
   "id": "1aabd3bf",
   "metadata": {},
   "outputs": [],
   "source": []
  },
  {
   "cell_type": "code",
   "execution_count": null,
   "id": "959d4470",
   "metadata": {},
   "outputs": [],
   "source": []
  },
  {
   "cell_type": "code",
   "execution_count": null,
   "id": "b6e21eb3",
   "metadata": {},
   "outputs": [],
   "source": []
  },
  {
   "cell_type": "markdown",
   "id": "93b143a8-f6d7-4f1b-b4eb-0b2c6fee6405",
   "metadata": {},
   "source": [
    "- OpenAI API 가 유료 서비스이므로 학습 데이터 건수 축소"
   ]
  },
  {
   "cell_type": "code",
   "execution_count": null,
   "id": "8af1fc9d",
   "metadata": {},
   "outputs": [],
   "source": [
    "# 샘플링할 데이터 수\n",
    "# 긍정 및 부정 리뷰 필터링 (학습 데이터)\n",
    "# 긍정 및 부정 리뷰 필터링 (테스트 데이터)\n",
    "# 긍정 및 부정 리뷰에서 각각 n_train_samples 수만큼 무작위 추출 (학습 데이터)\n",
    "# 긍정 및 부정 리뷰에서 각각 n_test_samples 수만큼 무작위 추출 (테스트 데이터)\n",
    "# 추출한 샘플 데이터 결합 (학습 데이터)\n",
    "# 추출한 샘플 데이터 결합 (테스트 데이터)\n",
    "# 학습 샘플 데이터 분포 출력\n",
    "# 테스트 샘플 데이터 분포 출력"
   ]
  },
  {
   "cell_type": "markdown",
   "id": "cae2b38d-f0f4-4a6b-a07c-c6dc9963628b",
   "metadata": {},
   "source": [
    "- 약 10분 소요 예상"
   ]
  },
  {
   "cell_type": "code",
   "execution_count": null,
   "id": "1d47c06a",
   "metadata": {},
   "outputs": [],
   "source": [
    "# 텍스트 임베딩을 생성하는 함수 정의\n",
    "def get_embedding(text, model):\n",
    "    # 주어진 텍스트를 사용하여 임베딩 생성 요청을 보내고 결과를 반환\n",
    "# # 학습 데이터에 대한 임베딩 생성\n",
    "# train_sample['embedding'] = train_sample.document.apply(lambda x: get_embedding(x, model=embedding_model))\n",
    "# # 테스트 데이터에 대한 임베딩 생성\n",
    "# test_sample['embedding'] = test_sample.document.apply(lambda x: get_embedding(x, model=embedding_model))\n",
    "# # 임베딩이 포함된 데이터프레임을 CSV 파일로 저장\n",
    "# train_sample.to_csv(\"output/train_sample.csv\")\n",
    "# test_sample.to_csv(\"output/test_sample.csv\")"
   ]
  },
  {
   "cell_type": "code",
   "execution_count": null,
   "id": "07703fe4",
   "metadata": {},
   "outputs": [],
   "source": [
    "# 한번 저장해 놓은 임베딩을 시간과 비용 절약을 위해 재사용.\n",
    "# 저장된 임베딩을 리스트 형태로 변환하여 다시 활용 가능하도록 변경"
   ]
  },
  {
   "cell_type": "code",
   "execution_count": null,
   "id": "7064e4c2",
   "metadata": {},
   "outputs": [],
   "source": []
  },
  {
   "cell_type": "code",
   "execution_count": null,
   "id": "1cb7af19",
   "metadata": {},
   "outputs": [],
   "source": []
  },
  {
   "cell_type": "code",
   "execution_count": null,
   "id": "b5f57717",
   "metadata": {},
   "outputs": [],
   "source": []
  },
  {
   "cell_type": "markdown",
   "id": "c43688e0-96f4-4a62-80c0-ea195c6a5d0a",
   "metadata": {},
   "source": [
    "## Machine Learning 학습을 위한 Text Feature Encoder로서의 Embedding 사용"
   ]
  },
  {
   "cell_type": "code",
   "execution_count": null,
   "id": "d81a6ff6",
   "metadata": {},
   "outputs": [],
   "source": [
    "# 리스트 형태의 임베딩을 numpy 배열로 변환"
   ]
  },
  {
   "cell_type": "markdown",
   "id": "dcb84128-018f-4e93-b655-3e2307987996",
   "metadata": {},
   "source": [
    "### 이진 분류 모델 작성에 사용"
   ]
  },
  {
   "cell_type": "code",
   "execution_count": null,
   "id": "9dc3299b",
   "metadata": {},
   "outputs": [],
   "source": []
  },
  {
   "cell_type": "code",
   "execution_count": null,
   "id": "f327ba1e",
   "metadata": {},
   "outputs": [],
   "source": []
  }
 ],
 "metadata": {
  "kernelspec": {
   "display_name": "Python 3 (ipykernel)",
   "language": "python",
   "name": "python3"
  },
  "language_info": {
   "codemirror_mode": {
    "name": "ipython",
    "version": 3
   },
   "file_extension": ".py",
   "mimetype": "text/x-python",
   "name": "python",
   "nbconvert_exporter": "python",
   "pygments_lexer": "ipython3",
   "version": "3.9.16"
  }
 },
 "nbformat": 4,
 "nbformat_minor": 5
}
