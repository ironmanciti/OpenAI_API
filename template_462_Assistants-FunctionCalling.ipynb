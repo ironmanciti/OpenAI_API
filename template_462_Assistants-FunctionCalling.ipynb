{
 "cells": [
  {
   "attachments": {},
   "cell_type": "markdown",
   "id": "e0619d6b-69f6-4f0a-91fa-85eebe422e45",
   "metadata": {},
   "source": [
    "# Assistants API - Function Calling(함수 호출)\n",
    "\n",
    "함수 호출을 사용하면 Assistants API에 함수를 설명하고 인수와 함께 호출해야 하는 함수를 지능적으로 반환하도록 할 수 있습니다.\n",
    "\n",
    "이 예에서는 날씨 assistant를 만들고 assistant가 호출할 수 있는 도구로 `get_current_temp`, `get_rain_probability` 및 `get_n_day_weather_forecast`라는 세 가지 함수를 정의합니다. 사용자 쿼리에 따라 모델은 2023년 11월 6일 이후에 출시된 최신 모델을 사용하는 경우 병렬 함수 호출을 호출합니다. 병렬 함수 호출을 사용하는 예시에서는 assistant에게 오늘 특정 도시의 날씨가 어떨지와 비가 올 확률을 물어봅니다. 스트리밍으로 어시스턴트의 응답을 출력하는 방법도 보여줍니다.\n"
   ]
  },
  {
   "cell_type": "code",
   "execution_count": null,
   "id": "28d79235",
   "metadata": {},
   "outputs": [],
   "source": []
  },
  {
   "cell_type": "code",
   "execution_count": null,
   "id": "fbe015b2",
   "metadata": {},
   "outputs": [],
   "source": []
  },
  {
   "cell_type": "markdown",
   "id": "c1203d8d-8661-409d-bb54-bbf32979494e",
   "metadata": {},
   "source": [
    "### 1단계: 함수 정의\n",
    "어시스턴트를 생성할 때 먼저 어시스턴트의 tools 매개변수 아래에 기능을 정의합니다."
   ]
  },
  {
   "cell_type": "code",
   "execution_count": null,
   "id": "4cc1f3f3",
   "metadata": {},
   "outputs": [],
   "source": [
    "# 현재 기온을 가져오는 함수\n",
    "def get_current_temperature(latitude, longitude):\n",
    "# 현재 강수 확률을 가져오는 함수\n",
    "def get_rain_probability(latitude, longitude):\n",
    "# N일간의 날씨 예보를 가져오는 함수\n",
    "def get_n_day_weather_forecast(latitude, longitude, days):\n",
    "# 서울의 위도, 경도 제공\n",
    "# 현재 기온 출력\n",
    "# 현재 강수 확률 출력\n",
    "# 서울의 7일간의 날씨 예보 요청\n",
    "# N일간의 날씨 예보 출력"
   ]
  },
  {
   "cell_type": "code",
   "execution_count": null,
   "id": "4766b1e9",
   "metadata": {},
   "outputs": [],
   "source": [
    "# 함수 호출 assistant 생성 "
   ]
  },
  {
   "cell_type": "markdown",
   "id": "4f7b82b3-d4a8-4c71-87bd-42fcd18383f6",
   "metadata": {},
   "source": [
    "### 2단계: 스레드 생성 및 메시지 추가\r\n",
    "사용자가 대화를 시작할 때 스레드를 생성하고 사용자가 질문을 하면 스레드에 메시지를 추가합니다."
   ]
  },
  {
   "cell_type": "code",
   "execution_count": null,
   "id": "a7ff0d09",
   "metadata": {},
   "outputs": [],
   "source": [
    "# 새로운 Thread(대화 세션) 생성\n",
    "# 사용자 메시지를 Thread에 추가"
   ]
  },
  {
   "cell_type": "markdown",
   "id": "be50703a-ade6-40d7-b8ae-41e6316f8ab9",
   "metadata": {},
   "source": [
    "### 3단계: 실행 시작\n",
    "하나 이상의 기능을 트리거하는 사용자 메시지가 포함된 스레드에서 Run을 시작하면 Run이 `pending` 상태로 들어갑니다. 처리거 끝난 후 Run은 Run의 상태를 확인할 수 있는 `require_action` 상태로 전환됩니다. 이는 Run 실행을 계속하려면 도구(tools)를 실행하고 해당 출력을 Assistant에 제출해야 함을 나타냅니다. 우리의 경우에는 사용자 쿼리로 인해 병렬 함수 호출이 발생했음을 나타내는 두 개의 tool_call이 표시됩니다."
   ]
  },
  {
   "cell_type": "markdown",
   "id": "0a20afa0-a97c-43a9-b469-5be9f2bfe8ef",
   "metadata": {},
   "source": [
    "#### streaming 사용\n",
    "OpenAI의 AssistantEventHandler를 사용하여 Run을 만들고 응답을 스트리밍할 수 있습니다."
   ]
  },
  {
   "cell_type": "code",
   "execution_count": null,
   "id": "a2efa8e3",
   "metadata": {},
   "outputs": [],
   "source": [
    "# EventHandler 클래스 정의 (Function Calling을 처리하는 역할)\n",
    "class EventHandler(AssistantEventHandler):\n",
    "    def on_event(self, event):\n",
    "        # 'requires_action' 이벤트 감지\n",
    "    def handle_requires_action(self, data, run_id):\n",
    "        # 요청된 모든 함수 호출 확인\n",
    "            # JSON 문자열로 전달된 함수 인자 파싱\n",
    "    def submit_tool_outputs(self, tool_outputs, run_id):\n",
    "        # `submit_tool_outputs_stream()`을 사용하여 함수 결과 제출\n",
    "# Function Calling은 스트리밍 방식만 지원됨\n",
    "# Assistant가 실행되면서 EventHandler가 `Function Calling` 요청을 처리"
   ]
  },
  {
   "cell_type": "markdown",
   "id": "17f83b53-b1b0-4020-8711-69a5a998128c",
   "metadata": {},
   "source": [
    "### Thread에 새로운 message 추가 및 Run 생성"
   ]
  },
  {
   "cell_type": "code",
   "execution_count": null,
   "id": "c0f53d3c",
   "metadata": {},
   "outputs": [],
   "source": [
    "# 사용자의 메시지를 생성하여 Thread(대화 세션)에 추가\n",
    "# Assistant 실행 (Function Calling 처리)"
   ]
  },
  {
   "cell_type": "code",
   "execution_count": null,
   "id": "b9d3c8af",
   "metadata": {},
   "outputs": [],
   "source": []
  }
 ],
 "metadata": {
  "kernelspec": {
   "display_name": "Python 3 (ipykernel)",
   "language": "python",
   "name": "python3"
  },
  "language_info": {
   "codemirror_mode": {
    "name": "ipython",
    "version": 3
   },
   "file_extension": ".py",
   "mimetype": "text/x-python",
   "name": "python",
   "nbconvert_exporter": "python",
   "pygments_lexer": "ipython3",
   "version": "3.9.16"
  }
 },
 "nbformat": 4,
 "nbformat_minor": 5
}
