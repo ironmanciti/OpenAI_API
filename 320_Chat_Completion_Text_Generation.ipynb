{
 "cells": [
  {
   "cell_type": "markdown",
   "id": "c5a91499-2154-45fc-b4b0-10c888d61c6d",
   "metadata": {},
   "source": [
    "# Text Generation models"
   ]
  },
  {
   "cell_type": "markdown",
   "id": "94635dde-ab9f-4d32-b3aa-5db234bb122d",
   "metadata": {},
   "source": [
    "## Chat Completion API"
   ]
  },
  {
   "cell_type": "code",
   "execution_count": null,
   "id": "a00edb9a-2fa7-4518-82b2-c1a4d6afb5c2",
   "metadata": {},
   "outputs": [],
   "source": [
    "# !pip install -q openai\n",
    "# !pip install -q python-dotenv"
   ]
  },
  {
   "cell_type": "code",
   "execution_count": 1,
   "id": "989f8b65-992a-4c1c-b196-aa19cfff4e95",
   "metadata": {},
   "outputs": [],
   "source": [
    "import os\n",
    "import openai\n",
    "\n",
    "from dotenv import load_dotenv, find_dotenv\n",
    "_ = load_dotenv(find_dotenv()) # read local .env file"
   ]
  },
  {
   "cell_type": "markdown",
   "id": "3461435a-a667-4f08-a1df-1f4b731c9d43",
   "metadata": {},
   "source": [
    "#### 메시지와 역할 (Messages and Roles)\n",
    "\n",
    "Chat Completions API에서는 모델에 지침을 제공하는 **메시지 배열(array of messages)** 을 통해 프롬프트를 생성합니다.  \n",
    "각 메시지는 **다른 역할(Role)** 을 가질 수 있으며, 이는 모델이 입력을 해석하는 방식에 영향을 미칩니다.\n",
    "\n",
    "\n",
    "\n",
    "## **역할(Role) 설명**\n",
    "\n",
    "| **Role**      | **설명**                                                                                              | **사용 예제**                                                                                                                                                                   |\n",
    "|---------------|------------------------------------------------------------------------------------------------------|--------------------------------------------------------------------------------------------------------------------------------------------------------------------------------|\n",
    "| **user**      | 모델에게 특정 출력을 요청하는 메시지. ChatGPT에서 사용자가 입력하는 일반적인 메시지와 동일합니다.           | `\"재귀함수에 대한 시를 작성해줘.\"`                                                                                                                              |\n",
    "| **developer** | 사용자 메시지보다 우선적으로 적용되는 모델 지침. 이전에는 \"system prompt\"로 불렸습니다.                      | `\"당신은 미국 남동부 지역 사투리를 사용하는 프로그래밍 질문 도우미입니다. 이제 모든 응답은 남부 스타일의 말투로 작성되어야 합니다.\"`                                                                                 |\n",
    "| **assistant** | 모델이 생성한 메시지로, 이전 요청에서 생성된 응답을 포함할 수 있습니다.                                     |  `\"똑똑! 누구세요? 나는 OpenAI야! OpenAI 누구?\"`                                                                            |\n",
    "\n",
    "---\n",
    "\n",
    "## **메시지 역할의 중요성**\n",
    "- **더 나은 응답 생성**: 역할을 적절히 사용하면 **더 정교하고 원하는 방식의 결과**를 얻을 수 있습니다.\n",
    "- **계층적 지침 전달**: `developer` 역할을 사용하여 모델의 동작과 톤을 정의할 수 있습니다.\n",
    "- **비결정적(Dynamic)**: 각 역할의 효과는 상황에 따라 달라질 수 있으므로, 여러 접근 방식을 시도해보는 것이 좋습니다."
   ]
  },
  {
   "cell_type": "code",
   "execution_count": 2,
   "id": "db721c95-6024-4d85-961c-a5d4c648e9a0",
   "metadata": {},
   "outputs": [],
   "source": [
    "from openai import OpenAI\n",
    "client = OpenAI()\n",
    "\n",
    "Model = \"gpt-4o-mini\"\n",
    "\n",
    "response = client.chat.completions.create(\n",
    "  model=Model,\n",
    "  messages=[\n",
    "    {\"role\": \"developer\", \"content\": \"You are a helpful assistant.\"},\n",
    "    {\"role\": \"user\", \"content\": \"2020년 코리안 시리즈를 우승한 야구팀이 어디?\"},\n",
    "    {\"role\": \"assistant\", \"content\": \"2020년 한국시리즈(Korean Series) 우승 야구팀은 NC 다이노스(NC Dinos)입니다.\"},\n",
    "    {\"role\": \"user\", \"content\": \"마지막 게임이 어디에서 열렸어?\"}\n",
    "  ]\n",
    ")"
   ]
  },
  {
   "cell_type": "code",
   "execution_count": 3,
   "id": "1bb38be4-cac2-4e73-a784-4c0732006b17",
   "metadata": {},
   "outputs": [
    {
     "data": {
      "text/plain": [
       "{'id': 'chatcmpl-AubCVpSBd7nzQS61yyrfJI7A9ia6c',\n",
       " 'choices': [{'finish_reason': 'stop',\n",
       "   'index': 0,\n",
       "   'logprobs': None,\n",
       "   'message': {'content': '2020년 한국시리즈 7차전은 창원NC파크에서 열렸습니다. NC 다이노스가 홈 구장에서 우승을 차지했습니다.',\n",
       "    'refusal': None,\n",
       "    'role': 'assistant'}}],\n",
       " 'created': 1738052731,\n",
       " 'model': 'gpt-4o-mini-2024-07-18',\n",
       " 'object': 'chat.completion',\n",
       " 'service_tier': 'default',\n",
       " 'system_fingerprint': 'fp_72ed7ab54c',\n",
       " 'usage': {'completion_tokens': 38,\n",
       "  'prompt_tokens': 81,\n",
       "  'total_tokens': 119,\n",
       "  'completion_tokens_details': {'audio_tokens': 0,\n",
       "   'reasoning_tokens': 0,\n",
       "   'accepted_prediction_tokens': 0,\n",
       "   'rejected_prediction_tokens': 0},\n",
       "  'prompt_tokens_details': {'audio_tokens': 0, 'cached_tokens': 0}}}"
      ]
     },
     "execution_count": 3,
     "metadata": {},
     "output_type": "execute_result"
    }
   ],
   "source": [
    "response.to_dict()"
   ]
  },
  {
   "cell_type": "code",
   "execution_count": 4,
   "id": "82f42489-3c5a-4eee-a76b-f2716c219821",
   "metadata": {},
   "outputs": [
    {
     "name": "stdout",
     "output_type": "stream",
     "text": [
      "2020년 한국시리즈 7차전은 창원NC파크에서 열렸습니다. NC 다이노스가 홈 구장에서 우승을 차지했습니다.\n"
     ]
    }
   ],
   "source": [
    "print(response.choices[0].message.content)"
   ]
  },
  {
   "cell_type": "markdown",
   "id": "444715f4-8b62-4c16-a9d3-aa037d3fb67e",
   "metadata": {},
   "source": [
    "- 모든 응답에는 'finish_reason'이 포함되며, 'finish_reason'의 가능한 값은 다음과 같습니다:\n",
    "    - stop: API가 완전한 메시지를 반환하거나, stop 매개변수를 통해 제공된 중단 시퀀스 중 하나에 의해 메시지가 종료됨\n",
    "    - length: max_tokens 매개변수 또는 토큰 제한으로 인해 완전하지 않은 모델 출력\n",
    "    - function_call: 모델이 함수를 호출하기로 결정함"
   ]
  },
  {
   "cell_type": "code",
   "execution_count": 6,
   "id": "b3f0eebb-d556-4424-92f8-d710d03b7e29",
   "metadata": {},
   "outputs": [
    {
     "name": "stdout",
     "output_type": "stream",
     "text": [
      "stop\n"
     ]
    }
   ],
   "source": [
    "print(response.choices[0].finish_reason)"
   ]
  },
  {
   "cell_type": "markdown",
   "id": "632be6d1-52ba-4cd8-b8bc-15281213b414",
   "metadata": {},
   "source": [
    "### 구조화된 출력 (Structured Outputs)\n",
    "\n",
    "- JSON 스키마를 준수하는 응답을 보장합니다.  \n",
    "\n",
    "- JSON은 애플리케이션 간 데이터 교환을 위한 전 세계적으로 널리 사용되는 포맷 중 하나입니다.  \n",
    "\n",
    "- 구조화된 출력(Structured Outputs)은 모델이 항상 제공된 [JSON 스키마](https://json-schema.org/overview/what-is-jsonschema)를 준수하도록 보장하는 기능입니다. 이를 통해 모델이 필요한 키를 누락하거나, 잘못된 열거형(enum) 값을 생성하는 걱정을 덜 수 있습니다.\n",
    "\n",
    "**구조화된 출력의 주요 장점**\n",
    "\n",
    "1. **신뢰할 수 있는 타입 안정성**: 잘못된 형식의 응답을 검증하거나 재요청할 필요가 없습니다.  \n",
    "2. **명시적인 거부**: 안전성 기반의 모델 거부를 프로그래밍 방식으로 감지할 수 있습니다.  \n",
    "3. **간단한 프롬프트**: 일관된 형식을 달성하기 위해 강한 표현의 프롬프트가 필요하지 않습니다.  \n",
    "\n",
    "**SDK와 통합**  \n",
    "\n",
    "REST API뿐만 아니라, OpenAI의 [Python](https://github.com/openai/openai-python/blob/main/helpers.md#structured-outputs-parsing-helpers) SDK에서도 [Pydantic](https://docs.pydantic.dev/latest/)를 사용하여 객체 스키마를 정의하기 쉽게 지원합니다."
   ]
  },
  {
   "cell_type": "code",
   "execution_count": 9,
   "id": "cd1aea3c-8ab2-42b7-ada9-7c6ab02a80e7",
   "metadata": {},
   "outputs": [],
   "source": [
    "from pydantic import BaseModel\n",
    "from openai import OpenAI\n",
    "\n",
    "client = OpenAI()\n",
    "\n",
    "class CalendarEvent(BaseModel):\n",
    "    name: str\n",
    "    date: str\n",
    "    participants: list[str]\n",
    "\n",
    "completion = client.beta.chat.completions.parse(\n",
    "    model=\"gpt-4o-2024-08-06\",\n",
    "    messages=[\n",
    "        {\"role\": \"developer\", \"content\": \"이벤트 정보를 추출하세요. 한국어로 추출하세요\"},\n",
    "        {\"role\": \"user\", \"content\": \"앨리스와 밥이 금요일에 과학 박람회에 갈 예정입니다.\"},\n",
    "    ],\n",
    "    response_format=CalendarEvent,\n",
    ")\n",
    "\n",
    "event = completion.choices[0].message.parsed"
   ]
  },
  {
   "cell_type": "code",
   "execution_count": 10,
   "id": "4e57c1ca-2d9a-4864-8e94-c2e6bf169d2d",
   "metadata": {},
   "outputs": [
    {
     "data": {
      "text/plain": [
       "CalendarEvent(name='과학 박람회', date='금요일', participants=['앨리스', '밥'])"
      ]
     },
     "execution_count": 10,
     "metadata": {},
     "output_type": "execute_result"
    }
   ],
   "source": [
    "event"
   ]
  },
  {
   "cell_type": "markdown",
   "id": "d884b7e7-03d3-4668-8f5b-0e7b447dbeb5",
   "metadata": {},
   "source": [
    "## Token 관리\n",
    "- \"ChatGPT is great!“ 는 6개의 토큰으로 인코딩됩니다 $\\rightarrow$ [\"Chat\", \"G\", \"PT\", \" is\", \" great\", \"!\"]\n",
    "- 예를 들어, API 호출이 메시지 입력에서 10개의 토큰을 사용하고 메시지 출력에서 ​​20개의 토큰을 받은 경우 30개의 토큰에 대한 요금이 청구됩니다.\n"
   ]
  },
  {
   "cell_type": "code",
   "execution_count": 20,
   "id": "bc86c2c7-11d0-4449-99a5-9f33b75c1bfe",
   "metadata": {},
   "outputs": [
    {
     "name": "stdout",
     "output_type": "stream",
     "text": [
      "role developer\n",
      "[77944]\n",
      "content 당신은 도움이 되는 어시스턴트입니다.\n",
      "[19388, 11753, 4740, 159807, 107081, 21252, 5637, 5648, 74404, 7984, 27001, 13]\n",
      "\n",
      "role user\n",
      "[1428]\n",
      "content 2020년 코리안 시리즈를 우승한 야구팀이 어디?\n",
      "[1323, 15, 12622, 43824, 4960, 14307, 12468, 186042, 4831, 26090, 42643, 3748, 109887, 10997, 91214, 2186, 154074, 30]\n",
      "\n",
      "role assistant\n",
      "[173781]\n",
      "content 2020년 한국시리즈(Korean Series) 우승 야구팀은 NC 다이노스(NC Dinos)입니다.\n",
      "[1323, 15, 12622, 52971, 5637, 186042, 28797, 99693, 14932, 8, 26090, 42643, 109887, 10997, 91214, 4740, 28895, 14367, 2186, 21464, 5648, 10564, 34, 415, 8200, 8, 27001, 13]\n",
      "\n",
      "role user\n",
      "[1428]\n",
      "content 마지막 게임이 어디에서 열렸어? 한국어로 답해줘\n",
      "[11630, 118016, 55377, 2186, 154074, 11440, 49496, 76892, 5959, 30, 52971, 5959, 3710, 107393, 5650, 153545]\n",
      "\n",
      "94\n"
     ]
    }
   ],
   "source": [
    "import tiktoken\n",
    "\n",
    "encoding = tiktoken.encoding_for_model(Model)\n",
    "\n",
    "messages=[\n",
    "    {\"role\": \"developer\", \"content\": \"당신은 도움이 되는 어시스턴트입니다.\"},\n",
    "    {\"role\": \"user\", \"content\": \"2020년 코리안 시리즈를 우승한 야구팀이 어디?\"},\n",
    "    {\"role\": \"assistant\", \"content\": \"2020년 한국시리즈(Korean Series) 우승 야구팀은 NC 다이노스(NC Dinos)입니다.\"},\n",
    "    {\"role\": \"user\", \"content\": \"마지막 게임이 어디에서 열렸어? 한국어로 답해줘\"}\n",
    "  ]\n",
    "\n",
    "num_tokens = 0\n",
    "for message in messages:\n",
    "  num_tokens += 4  #모든 메시지는 다음 형식을 따릅니다: `<im_start>{role/name}\\n{content}<im_end>\\n`\n",
    "  for key, value in message.items():\n",
    "      num_tokens += len(encoding.encode(value))\n",
    "      print(key, value) # role, role value \n",
    "      print(encoding.encode(value))  # encoding value\n",
    "  print()\n",
    "    \n",
    "print(num_tokens)"
   ]
  },
  {
   "cell_type": "markdown",
   "id": "cab3f31a-ec6c-4c96-9d64-2411e6111eaa",
   "metadata": {},
   "source": [
    "## 재현 가능한 출력 \n",
    "- SEED 매개 변수 사용"
   ]
  },
  {
   "cell_type": "code",
   "execution_count": 21,
   "id": "1043b529-c5f8-4160-ae7f-4e7cfa76bb39",
   "metadata": {},
   "outputs": [
    {
     "data": {
      "text/html": [
       "\n",
       "    <table>\n",
       "    <tr><th style=\"text-align: left;\">Response</th><td style=\"text-align: left;\">화성으로의 여행은 인류의 꿈이었다. 25세기, 기술이 발전한 이 시대에 마침내 그 꿈을 현실로 만들 기회가 찾아왔다. NASA는 최초의 유인 화성 탐사 프로젝트를 시작했고, 다양한 배경을 가진 우주 탐험가들이 모집되었다. 그 중 가장 젊은 탐험가는 불과 20살의 리안이었다.\n",
       "\n",
       "리안은 어릴 적부터 별과 우주에 대한 호기심이 남다른 아이였다. 그러던 어느 날, 화성에서의 삶이 그려진 책 한 권을 통해 화성을 동경하게 되었고, 망원경을 통해 바라보는 붉은 행성의 모습에 매료됐다.\n",
       "\n",
       "마침내 드디어 화성 여행이 시작되었고, 리안은 동료들과 함께 '서프라이즈01'호에 탑승했다. 우주선 안에서 친구, 에이미와 함께 거대한 유리창에 비친 익숙한 지구를 바라보며 둘은 다짐했다. “우리 집에 무사히 돌아갈 수 있을까?” 서로의 손을 맞잡으며 화성에 착륙할 준비를 했다.\n",
       "\n",
       "여행 도중, 무중력 상태에서의 목욕은 비눗방울이 자유롭게 떠 다니는 마법 같은 순간이었고, 뒷 선실에서는 첨단 장비를 만지며 꿈에 그리던 화성과 가까워짐을 느꼈다. 하지만 화성의 대기는 무척 차가웠고, 지구와는 전혀 다른 인상적이고도 쓸쓸한 곳이었다. 붉은 먼지와 돌들이 널려 있었고, '서프라이즈01'호의 인젝션 프로펠러 소리에 그 장면은 더욱 극적이었다.\n",
       "\n",
       "착륙 후 리안과 동료들은 우주복을 입고 탐사에 나섰다. 마르스의 산과 계곡을 탐험하며 고대의 미소 선들의 흔적을 발견하고, 자생하는 식물체도 체험하며 화성 문명 탐구에 몰두했다. 리안은 우주선으로부터 멀리 떨어진 곳에서 고대 유적 같은 곳을 발견했고, 식민지의 잔재와 그들이 남깁니다. 이른 아침, 스며드는 햇빛에 감아졌던 회의감이 가시었다.\n",
       "\n",
       "여행의 마지막 날, 리안은 갈라진 대지 위에 서서 붉은 태양이 지평선 너머로 사라지는 장면을 바라보았다. “우리가 꿈꿔온 한 점, 발견하게 되어 기쁘다”며 눈을 감았다. 내내 느낀 언어로도 표현할 수 없는 기쁨, 그리고 그것을 함께한 모든 동료들에게 감사가 깃들던 순간이었다.\n",
       "\n",
       "리안과 동료들은 안전하게 지구로 돌아왔고, 그들이 촬영한 화성의 사진들은 세상을 바꿀 이야기가 되었다. 문명은 그들의 여행에서 영감을 받아 화성 탐사의 이정표가 형성되었고, 언제가 우리가 부른 이름 ‘화성’은 이제 새로운 집이라는 꿈이 현실로 다가오는 날이 기다려졌다. \n",
       "\n",
       "지구를 향해 나아가는 우주선, 그들은 다짐했다. “앞으로도 새로운 세상을 보러 나가자.”</td></tr>\n",
       "    <tr><th style=\"text-align: left;\">System Fingerprint</th><td style=\"text-align: left;\">fp_72ed7ab54c</td></tr>\n",
       "    <tr><th style=\"text-align: left;\">Number of completion tokens</th><td style=\"text-align: left;\">750</td></tr>\n",
       "    <tr><th style=\"text-align: left;\">finish reason</th><td style=\"text-align: left;\">stop</td></tr>\n",
       "    </table>\n",
       "    "
      ],
      "text/plain": [
       "<IPython.core.display.HTML object>"
      ]
     },
     "metadata": {},
     "output_type": "display_data"
    }
   ],
   "source": [
    "from IPython.display import display, HTML\n",
    "\n",
    "MODEL = \"gpt-4o-mini\"\n",
    "SEED = 123\n",
    "\n",
    "topic = \"화성으로의 여행\"\n",
    "system_message = \"당신은 짧은 이야기를 창작하는 소설가 입니다.\"\n",
    "user_request = f\"{topic}에 관한 짧은 이야기를 한국어로 생성하세요.\"\n",
    "\n",
    "try:\n",
    "    messages = [\n",
    "        {\"role\": \"developer\", \"content\": system_message},\n",
    "        {\"role\": \"user\", \"content\": user_request},\n",
    "    ]\n",
    "\n",
    "    response = openai.chat.completions.create(\n",
    "        model=MODEL,\n",
    "        messages=messages,\n",
    "        seed=SEED,\n",
    "        max_tokens=1000,\n",
    "        temperature=1.2,\n",
    "    )\n",
    "\n",
    "    response_content = response.choices[0].message.content\n",
    "    system_fingerprint = response.system_fingerprint  # 특정 API 응답을 식별하고 추적하는 데 도움 되는 고유 식별자\n",
    "    completion_tokens = (\n",
    "        response.usage.total_tokens - response.usage.prompt_tokens\n",
    "    )\n",
    "    finish_reason = response.choices[0].finish_reason\n",
    "\n",
    "    table = f\"\"\"\n",
    "    <table>\n",
    "    <tr><th style=\"text-align: left;\">Response</th><td style=\"text-align: left;\">{response_content}</td></tr>\n",
    "    <tr><th style=\"text-align: left;\">System Fingerprint</th><td style=\"text-align: left;\">{system_fingerprint}</td></tr>\n",
    "    <tr><th style=\"text-align: left;\">Number of completion tokens</th><td style=\"text-align: left;\">{completion_tokens}</td></tr>\n",
    "    <tr><th style=\"text-align: left;\">finish reason</th><td style=\"text-align: left;\">{finish_reason}</td></tr>\n",
    "    </table>\n",
    "    \"\"\"\n",
    "    display(HTML(table))\n",
    "except Exception as e:\n",
    "    print(f\"An error occurred: {e}\")"
   ]
  },
  {
   "cell_type": "code",
   "execution_count": 22,
   "id": "bcbc14ee-2a65-4ca9-9de6-2f25a75c68d3",
   "metadata": {},
   "outputs": [
    {
     "data": {
      "text/plain": [
       "{'id': 'chatcmpl-AubX9D30WX4Z9tcVXOtKx8W13An8d',\n",
       " 'choices': [{'finish_reason': 'stop',\n",
       "   'index': 0,\n",
       "   'logprobs': None,\n",
       "   'message': {'content': \"화성으로의 여행은 인류의 꿈이었다. 25세기, 기술이 발전한 이 시대에 마침내 그 꿈을 현실로 만들 기회가 찾아왔다. NASA는 최초의 유인 화성 탐사 프로젝트를 시작했고, 다양한 배경을 가진 우주 탐험가들이 모집되었다. 그 중 가장 젊은 탐험가는 불과 20살의 리안이었다.\\n\\n리안은 어릴 적부터 별과 우주에 대한 호기심이 남다른 아이였다. 그러던 어느 날, 화성에서의 삶이 그려진 책 한 권을 통해 화성을 동경하게 되었고, 망원경을 통해 바라보는 붉은 행성의 모습에 매료됐다.\\n\\n마침내 드디어 화성 여행이 시작되었고, 리안은 동료들과 함께 '서프라이즈01'호에 탑승했다. 우주선 안에서 친구, 에이미와 함께 거대한 유리창에 비친 익숙한 지구를 바라보며 둘은 다짐했다. “우리 집에 무사히 돌아갈 수 있을까?” 서로의 손을 맞잡으며 화성에 착륙할 준비를 했다.\\n\\n여행 도중, 무중력 상태에서의 목욕은 비눗방울이 자유롭게 떠 다니는 마법 같은 순간이었고, 뒷 선실에서는 첨단 장비를 만지며 꿈에 그리던 화성과 가까워짐을 느꼈다. 하지만 화성의 대기는 무척 차가웠고, 지구와는 전혀 다른 인상적이고도 쓸쓸한 곳이었다. 붉은 먼지와 돌들이 널려 있었고, '서프라이즈01'호의 인젝션 프로펠러 소리에 그 장면은 더욱 극적이었다.\\n\\n착륙 후 리안과 동료들은 우주복을 입고 탐사에 나섰다. 마르스의 산과 계곡을 탐험하며 고대의 미소 선들의 흔적을 발견하고, 자생하는 식물체도 체험하며 화성 문명 탐구에 몰두했다. 리안은 우주선으로부터 멀리 떨어진 곳에서 고대 유적 같은 곳을 발견했고, 식민지의 잔재와 그들이 남깁니다. 이른 아침, 스며드는 햇빛에 감아졌던 회의감이 가시었다.\\n\\n여행의 마지막 날, 리안은 갈라진 대지 위에 서서 붉은 태양이 지평선 너머로 사라지는 장면을 바라보았다. “우리가 꿈꿔온 한 점, 발견하게 되어 기쁘다”며 눈을 감았다. 내내 느낀 언어로도 표현할 수 없는 기쁨, 그리고 그것을 함께한 모든 동료들에게 감사가 깃들던 순간이었다.\\n\\n리안과 동료들은 안전하게 지구로 돌아왔고, 그들이 촬영한 화성의 사진들은 세상을 바꿀 이야기가 되었다. 문명은 그들의 여행에서 영감을 받아 화성 탐사의 이정표가 형성되었고, 언제가 우리가 부른 이름 ‘화성’은 이제 새로운 집이라는 꿈이 현실로 다가오는 날이 기다려졌다. \\n\\n지구를 향해 나아가는 우주선, 그들은 다짐했다. “앞으로도 새로운 세상을 보러 나가자.”\",\n",
       "    'refusal': None,\n",
       "    'role': 'assistant'}}],\n",
       " 'created': 1738054011,\n",
       " 'model': 'gpt-4o-mini-2024-07-18',\n",
       " 'object': 'chat.completion',\n",
       " 'service_tier': 'default',\n",
       " 'system_fingerprint': 'fp_72ed7ab54c',\n",
       " 'usage': {'completion_tokens': 750,\n",
       "  'prompt_tokens': 45,\n",
       "  'total_tokens': 795,\n",
       "  'completion_tokens_details': {'audio_tokens': 0,\n",
       "   'reasoning_tokens': 0,\n",
       "   'accepted_prediction_tokens': 0,\n",
       "   'rejected_prediction_tokens': 0},\n",
       "  'prompt_tokens_details': {'audio_tokens': 0, 'cached_tokens': 0}}}"
      ]
     },
     "execution_count": 22,
     "metadata": {},
     "output_type": "execute_result"
    }
   ],
   "source": [
    "response.to_dict()"
   ]
  },
  {
   "cell_type": "markdown",
   "id": "39ebea80-caec-4952-9261-46b6f107c032",
   "metadata": {},
   "source": [
    "### 수학문제 풀이"
   ]
  },
  {
   "cell_type": "code",
   "execution_count": 23,
   "id": "9e304b90-0d30-4dca-89f4-4d7c46ae346c",
   "metadata": {},
   "outputs": [
    {
     "name": "stdout",
     "output_type": "stream",
     "text": [
      "Assistant: 안녕하세요! 물론입니다. 2+2는 4입니다. 더 도와드릴 것이 있나요?\n"
     ]
    }
   ],
   "source": [
    "completion = client.chat.completions.create(\n",
    "  model=MODEL,\n",
    "  messages=[\n",
    "    {\"role\": \"developer\", \"content\": \"당신은 도움이 되는 조수입니다. 내 수학 숙제를 도와주세요!\"}, # <-- 모델에 컨텍스트를 제공하는 시스템 메시지입니다.\n",
    "    {\"role\": \"user\", \"content\": \"안녕하세요! 2+2를 풀 수 있나요?\"}  # <-- 모델이 응답을 생성할 사용자 메시지입니다.\n",
    "  ]\n",
    ")\n",
    "\n",
    "print(\"Assistant: \" + completion.choices[0].message.content)"
   ]
  },
  {
   "cell_type": "code",
   "execution_count": null,
   "id": "78b5a870-72c5-4437-8e41-9bbda72eab39",
   "metadata": {},
   "outputs": [],
   "source": []
  }
 ],
 "metadata": {
  "kernelspec": {
   "display_name": "Python 3 (ipykernel)",
   "language": "python",
   "name": "python3"
  },
  "language_info": {
   "codemirror_mode": {
    "name": "ipython",
    "version": 3
   },
   "file_extension": ".py",
   "mimetype": "text/x-python",
   "name": "python",
   "nbconvert_exporter": "python",
   "pygments_lexer": "ipython3",
   "version": "3.9.16"
  }
 },
 "nbformat": 4,
 "nbformat_minor": 5
}
