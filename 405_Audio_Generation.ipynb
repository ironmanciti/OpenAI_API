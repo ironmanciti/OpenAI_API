{
 "cells": [
  {
   "cell_type": "markdown",
   "id": "60a5491a-8997-4bb5-bceb-2d5f1aa69451",
   "metadata": {},
   "source": [
    "# 오디오 생성"
   ]
  },
  {
   "cell_type": "code",
   "execution_count": 1,
   "id": "0ed382a9-0877-4faf-be05-0a7b6ba33ae2",
   "metadata": {},
   "outputs": [
    {
     "data": {
      "text/plain": [
       "True"
      ]
     },
     "execution_count": 1,
     "metadata": {},
     "output_type": "execute_result"
    }
   ],
   "source": [
    "from dotenv import load_dotenv, find_dotenv\n",
    "load_dotenv(find_dotenv()) # read local .env file"
   ]
  },
  {
   "cell_type": "code",
   "execution_count": 2,
   "id": "3c82d97e-7056-4c55-bb92-b9b9002e677f",
   "metadata": {},
   "outputs": [],
   "source": [
    "from openai import OpenAI\n",
    "client = OpenAI()"
   ]
  },
  {
   "attachments": {},
   "cell_type": "markdown",
   "id": "4352baae-7044-4a6f-a4b8-d18da7b47c20",
   "metadata": {},
   "source": [
    "### 모델로 부터 audio 출력"
   ]
  },
  {
   "cell_type": "code",
   "execution_count": 3,
   "id": "b946d023-0409-4096-9d07-46234e3236c0",
   "metadata": {},
   "outputs": [],
   "source": [
    "import warnings\n",
    "warnings.filterwarnings('ignore')\n",
    "import base64\n",
    "\n",
    "Model = \"gpt-4o-mini-audio-preview\"\n",
    "\n",
    "completion = client.chat.completions.create(\n",
    "    model=Model,\n",
    "    modalities=[\"text\", \"audio\"],\n",
    "    audio={\"voice\": \"alloy\", \"format\": \"wav\"},\n",
    "    messages=[\n",
    "        {\n",
    "            \"role\": \"user\",\n",
    "            \"content\": \"진도개는 주인에게 충성스러운가요?\"\n",
    "        }\n",
    "    ]\n",
    ")\n",
    "\n",
    "wav_bytes = base64.b64decode(completion.choices[0].message.audio.data)\n",
    "with open(\"output/dog.wav\", \"wb\") as f:\n",
    "    f.write(wav_bytes)"
   ]
  },
  {
   "cell_type": "markdown",
   "id": "8ae0fd8d-5cca-4e70-a9cb-e66a3fb4e604",
   "metadata": {},
   "source": [
    "### Audio를 model에 입력하고 Text 와 Audio 를 동시에 출력"
   ]
  },
  {
   "cell_type": "code",
   "execution_count": 4,
   "id": "5af22fae-d967-4abc-ada0-f76441928fa5",
   "metadata": {},
   "outputs": [],
   "source": [
    "import base64\n",
    "import requests\n",
    "\n",
    "# Fetch the audio file and convert it to a base64 encoded string\n",
    "url = \"https://openaiassets.blob.core.windows.net/$web/API/docs/audio/alloy.wav\"\n",
    "response = requests.get(url)\n",
    "response.raise_for_status()\n",
    "wav_data = response.content\n",
    "encoded_string = base64.b64encode(wav_data).decode('utf-8')\n",
    "\n",
    "completion = client.chat.completions.create(\n",
    "    model=Model,\n",
    "    modalities=[\"text\", \"audio\"],\n",
    "    audio={\"voice\": \"alloy\", \"format\": \"wav\"},\n",
    "    messages=[\n",
    "        {\n",
    "            \"role\": \"user\",\n",
    "            \"content\": [\n",
    "                { \n",
    "                    \"type\": \"text\",\n",
    "                    \"text\": \"이 녹음파일에는 어떤 내용이 들어 있나요?\"\n",
    "                },\n",
    "                {\n",
    "                    \"type\": \"input_audio\",\n",
    "                    \"input_audio\": {\n",
    "                        \"data\": encoded_string,\n",
    "                        \"format\": \"wav\"\n",
    "                    }\n",
    "                }\n",
    "            ]\n",
    "        },\n",
    "    ]\n",
    ")\n",
    "\n",
    "wav_bytes = base64.b64decode(completion.choices[0].message.audio.data)\n",
    "with open(\"output/audio_out.wav\", \"wb\") as f:\n",
    "    f.write(wav_bytes)"
   ]
  },
  {
   "cell_type": "code",
   "execution_count": 5,
   "id": "8ee54b7e-2f28-4a5b-ade0-7d2e4ab63f5e",
   "metadata": {},
   "outputs": [
    {
     "data": {
      "text/plain": [
       "'이 문장은 지구의 자전과 관련된 기본적인 사실을 언급합니다. 해가 동쪽에서 뜨고 서쪽으로 진다는 것은, 지구가 자전하면서 우리에게 낮과 밤의 변화를 가져온다는 의미입니다. 이 사실은 오랜 시간 동안 관측되어 온 것으로, 사람들은 이를 통해 시간을 측정하고 일상을 계획할 수 있게 되었습니다. 이러한 자연현상은 다양한 문화에서 중요한 역할을 하며, 천문학의 기초를 이루고 있습니다. 이런 지구의 자전과 관련된 정보는 우리의 일상생활과 시간 관리에 매우 중요합니다.'"
      ]
     },
     "execution_count": 5,
     "metadata": {},
     "output_type": "execute_result"
    }
   ],
   "source": [
    "completion.choices[0].message.audio.transcript"
   ]
  },
  {
   "cell_type": "markdown",
   "id": "d6bd7d3c-7073-463d-b3dc-7d3e04f09209",
   "metadata": {},
   "source": [
    "# Text to Audio\n",
    "- 텍스트를 오디오로 변환\n",
    "- 6개의 내장 음성 제공\n",
    "( alloy, echo, fable, onyx, nova및 shimmer)"
   ]
  },
  {
   "cell_type": "code",
   "execution_count": 6,
   "id": "e025e50e-5c3e-475a-84d2-44273a000d32",
   "metadata": {},
   "outputs": [],
   "source": [
    "Model = \"tts-1\"\n",
    "\n",
    "speech_file_path = \"output/speech.mp3\"\n",
    "\n",
    "response = client.audio.speech.create(\n",
    "  model=Model,\n",
    "  voice=\"alloy\",\n",
    "  input=\"\"\"\n",
    "  한국의 자연은 울창한 산림, 아름다운 해안선, 그리고 계절마다 변화하는 아름다운 경관으로 유명합니다. \n",
    "  봄에는 벚꽃이, 가을에는 단풍이 화려하며, 전국에 흩어진 국립공원과 하천은 탐방객들에게 인기 있는 명소입니다.\n",
    "  \"\"\"\n",
    ")\n",
    "\n",
    "response.stream_to_file(speech_file_path)"
   ]
  },
  {
   "cell_type": "code",
   "execution_count": null,
   "id": "10209133-b625-478b-8d6a-4ab18415766d",
   "metadata": {},
   "outputs": [],
   "source": []
  },
  {
   "cell_type": "code",
   "execution_count": null,
   "id": "ae1bfb89-6920-4571-b7e4-fe5db842fcf8",
   "metadata": {},
   "outputs": [],
   "source": []
  },
  {
   "cell_type": "code",
   "execution_count": null,
   "id": "c9b0819e-5d5a-4e1a-bac7-19050f4275a4",
   "metadata": {},
   "outputs": [],
   "source": []
  }
 ],
 "metadata": {
  "kernelspec": {
   "display_name": "Python 3 (ipykernel)",
   "language": "python",
   "name": "python3"
  },
  "language_info": {
   "codemirror_mode": {
    "name": "ipython",
    "version": 3
   },
   "file_extension": ".py",
   "mimetype": "text/x-python",
   "name": "python",
   "nbconvert_exporter": "python",
   "pygments_lexer": "ipython3",
   "version": "3.9.16"
  }
 },
 "nbformat": 4,
 "nbformat_minor": 5
}
