{
 "cells": [
  {
   "cell_type": "markdown",
   "id": "eaba8d4f-7846-4ec5-8cf5-661e339e9c0e",
   "metadata": {},
   "source": [
    "# DALLE로 이미지 생성하기\n",
    "\n",
    "Images API는 이미지와 상호작용하기 위한 세 가지 방법을 제공합니다.\n",
    "\n",
    "1. 텍스트 프롬프트를 기반으로 처음부터 이미지 생성(DALL·E 3 및 DALL·E 2)\n",
    "2. 새 텍스트 프롬프트를 기반으로 모델이 기존 이미지의 일부 영역을 대체하도록 하여 편집된 이미지 버전 생성(DALL·E 2에만 해당)\n",
    "3. 기존 이미지의 변형 생성(DALL·E 2에만 해당)\n",
    "\n",
    "DALL·E-2 모델의 경우 256x256, 512x512 또는 1024x1024 중 하나여야 합니다.   \n",
    "DALL·E 3을 사용하는 경우 이미지 크기는 1024x1024, 1024x1792 또는 1792x1024 픽셀일 수 있습니다.   \n",
    "기본적으로 이미지는 standard품질로 생성되지만 DALL·E 3을 사용하면 quality: \"hd\"향상된 세부 묘사를 설정할 수 있습니다. 정사각형의 표준 품질 이미지가 생성되는 속도가 가장 빠릅니다."
   ]
  },
  {
   "cell_type": "code",
   "execution_count": null,
   "id": "3dc74ca6",
   "metadata": {},
   "outputs": [],
   "source": []
  },
  {
   "cell_type": "code",
   "execution_count": null,
   "id": "afa201a3",
   "metadata": {},
   "outputs": [],
   "source": []
  },
  {
   "cell_type": "code",
   "execution_count": null,
   "id": "dd8cbade",
   "metadata": {},
   "outputs": [],
   "source": [
    "# 주어진 URL의 이미지 시각화\n",
    "def show_image_from_url(url):\n",
    "# 제공된 URL의 이미지를 저장하는 함수\n",
    "def save_image_from_url(url, file_path):"
   ]
  },
  {
   "cell_type": "markdown",
   "id": "77c73952-f19b-4efd-b13c-45baa791d91e",
   "metadata": {},
   "source": [
    "- 이미지 생성"
   ]
  },
  {
   "cell_type": "code",
   "execution_count": null,
   "id": "9d8e300b",
   "metadata": {},
   "outputs": [],
   "source": []
  },
  {
   "cell_type": "code",
   "execution_count": null,
   "id": "444b5ea9",
   "metadata": {},
   "outputs": [],
   "source": []
  },
  {
   "cell_type": "code",
   "execution_count": null,
   "id": "87a01930",
   "metadata": {},
   "outputs": [],
   "source": []
  },
  {
   "cell_type": "code",
   "execution_count": null,
   "id": "7609ad04",
   "metadata": {},
   "outputs": [],
   "source": []
  },
  {
   "cell_type": "code",
   "execution_count": null,
   "id": "76de232b",
   "metadata": {},
   "outputs": [],
   "source": []
  },
  {
   "cell_type": "markdown",
   "id": "f75ff4c2-e129-4351-a6b2-f4b246c8df63",
   "metadata": {},
   "source": [
    "#### DALL·E 3 프롬프팅  \r",
    " 모델은 입력된 프롬프트를 자동으로 수정하여 다음과 같은 이유로 최적화합니다:  \r\n",
    "\r\n",
    "- **안전성 확보**: 부적절하거나 제한된 콘텐츠를 방지하기 위해 프롬프트를 조정합니다.  \r\n",
    "- **더 많은 세부 정보 추가**: 일반적으로 자세한 프롬프트일수록 높은 품질의 이미지를 생성하기 때문에, 모델이 프롬프트를 보완하여 더 나은 결과를 제공합니다."
   ]
  },
  {
   "cell_type": "code",
   "execution_count": null,
   "id": "57835ca1",
   "metadata": {},
   "outputs": [],
   "source": []
  },
  {
   "cell_type": "markdown",
   "id": "b62e7ca0-4fcc-4212-8cee-4a06d0c78aa3",
   "metadata": {},
   "source": [
    "- 고품질 이미지 생성"
   ]
  },
  {
   "cell_type": "code",
   "execution_count": null,
   "id": "9d9611cf",
   "metadata": {},
   "outputs": [],
   "source": []
  },
  {
   "cell_type": "code",
   "execution_count": null,
   "id": "6d63278d",
   "metadata": {},
   "outputs": [],
   "source": []
  },
  {
   "cell_type": "code",
   "execution_count": null,
   "id": "7f3c6a08",
   "metadata": {},
   "outputs": [],
   "source": []
  },
  {
   "cell_type": "code",
   "execution_count": null,
   "id": "d0d58666",
   "metadata": {},
   "outputs": [],
   "source": []
  }
 ],
 "metadata": {
  "kernelspec": {
   "display_name": "Python 3 (ipykernel)",
   "language": "python",
   "name": "python3"
  },
  "language_info": {
   "codemirror_mode": {
    "name": "ipython",
    "version": 3
   },
   "file_extension": ".py",
   "mimetype": "text/x-python",
   "name": "python",
   "nbconvert_exporter": "python",
   "pygments_lexer": "ipython3",
   "version": "3.9.16"
  }
 },
 "nbformat": 4,
 "nbformat_minor": 5
}
