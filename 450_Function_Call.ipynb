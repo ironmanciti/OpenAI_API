{
 "cells": [
  {
   "cell_type": "markdown",
   "id": "14745a6a-9274-4410-8223-d47c135d3923",
   "metadata": {},
   "source": [
    "# 함수 호출\n",
    "- 대규모 언어 모델을 외부 도구에 연결하는 방법  \n",
    "\n",
    "- API 호출에서 함수를 설명하고 모델이 하나 이상의 함수를 호출하기 위한 인수가 포함된 JSON 개체를 출력하도록 지능적으로 선택하도록 할 수 있습니다. Chat Completions API는 함수를 호출하지 않습니다. 대신 모델은 코드에서 함수를 호출하는 데 사용할 수 있는 JSON을 생성합니다.\n",
    "- 모델은 함수를 호출해야 하는 시기를 감지하고 함수를 준수하는 JSON으로 응답하도록 훈련되었습니다. 이 기능에는 잠재적인 위험도 따릅니다. 사용자를 대신하여 세상에 영향을 미치는 조치(이메일 전송, 온라인 게시, 구매 등)를 수행하기 전에 사용자 확인 흐름을 구축하는 것이 좋습니다."
   ]
  },
  {
   "cell_type": "markdown",
   "id": "25632191-7a44-4ea2-81a0-7ef6529140c7",
   "metadata": {},
   "source": [
    "### 채팅 모델로 함수를 호출하는 방법\n",
    "\n",
    "함수 호출을 위한 기본 단계는 다음과 같습니다:\n",
    "\n",
    "1. **모델 호출**: 사용자 질의와 함께 함수 집합을 정의하여 모델을 호출합니다. 함수 목록을 `tools` 파라미터에 제공합니다.\n",
    "\n",
    "\n",
    "2. **모델의 함수 호출 선택**: 모델은 하나 이상의 함수를 호출할 수 있습니다. 이 경우, 모델의 응답 내용은 사용자가 정의한 스키마에 따른 JSON 객체 문자열이 됩니다. \n",
    "\n",
    "\n",
    "3. **JSON 파싱 및 함수 호출**: 코드에서 문자열을 JSON으로 파싱하고, 제공된 인수가 있는 경우 함수를 호출합니다.\n",
    "\n",
    "\n",
    "4. **모델 재호출 및 결과 요약**: 함수 응답을 새로운 메시지로 추가하여 모델을 다시 호출합니다. 모델이 결과를 사용자에게 요약하여 전달합니다.\n",
    "\n",
    "이 단계들은 사용자 질의에 따라 적절한 함수를 선택하고, 해당 함수의 응답을 처리하여 최종 결과를 사용자에게 제공하는 과정을 포함합니다. 이를 통해 사용자는 더 나은 응답을 받을 수 있습니다."
   ]
  },
  {
   "cell_type": "markdown",
   "id": "86bcdef2-ea2f-4ebf-bd91-b1c02e594394",
   "metadata": {},
   "source": [
    "### 함수 정의 (Defining Functions)\n",
    "- 각 API 요청의 tools 매개변수 내에서 함수를 정의할 수 있습니다.\n",
    "- 함수는 스키마(Schema) 를 통해 정의되며, 모델이 함수의 목적과 입력 인수를 이해할 수 있도록 돕습니다.\n",
    "스키마는 다음과 같은 필드로 구성됩니다.\n",
    "| 필드        | 설명                                      |\r\n",
    "|------------|------------------------------------------|\r\n",
    "| **name**   | 함수의 이름 (예: `get_weather`)          |\r\n",
    "| **description** | 함수가 언제, 어떻게 사용되는지 설명  |\r\n",
    "| **parameters**  | 함수의 입력 인수를 정의하는 JSON 스키마 |\r\n"
   ]
  },
  {
   "cell_type": "code",
   "execution_count": 1,
   "id": "334d11fd-c651-4d59-9c38-e5f7b14aae06",
   "metadata": {},
   "outputs": [],
   "source": [
    "import os\n",
    "import openai\n",
    "\n",
    "from dotenv import load_dotenv, find_dotenv\n",
    "_ = load_dotenv(find_dotenv()) # read local .env file"
   ]
  },
  {
   "cell_type": "code",
   "execution_count": 2,
   "id": "e06c229b-b633-456e-9ae1-c62ebe6c79b9",
   "metadata": {},
   "outputs": [],
   "source": [
    "from openai import OpenAI\n",
    "import json\n",
    "\n",
    "client = OpenAI()\n",
    "\n",
    "Model = \"gpt-4o-mini\""
   ]
  },
  {
   "cell_type": "code",
   "execution_count": 3,
   "id": "8b0cc744-bed3-4a63-8874-1ab7f8f6bcec",
   "metadata": {},
   "outputs": [
    {
     "data": {
      "text/plain": [
       "'{\"location\": \"Paris\", \"temperature\": \"22\", \"unit\": \"celsius\"}'"
      ]
     },
     "execution_count": 3,
     "metadata": {},
     "output_type": "execute_result"
    }
   ],
   "source": [
    "# 예제 더미 함수로 하드 코딩된 동일한 날씨 정보를 반환합니다.\n",
    "# 실제 환경에서는 백엔드 API 또는 외부 API가 될 수 있습니다.\n",
    "def get_current_weather(location, unit=\"celsius\"):\n",
    "    \"\"\"지정된 위치의 현재 날씨를 가져옵니다.\"\"\"\n",
    "    if \"tokyo\" in location.lower():\n",
    "        return json.dumps({\"location\": \"Tokyo\", \"temperature\": \"10\", \"unit\": unit})\n",
    "    elif \"san francisco\" in location.lower():\n",
    "        return json.dumps({\"location\": \"San Francisco\", \"temperature\": \"22.2\", \"unit\": unit})\n",
    "    elif \"paris\" in location.lower():\n",
    "        return json.dumps({\"location\": \"Paris\", \"temperature\": \"22\", \"unit\": unit})\n",
    "    else:\n",
    "        return json.dumps({\"location\": location, \"temperature\": \"unknown\"})\n",
    "\n",
    "get_current_weather(\"Paris\")"
   ]
  },
  {
   "cell_type": "code",
   "execution_count": 4,
   "id": "7d6a9e46-97ec-4b5e-9239-dbb27f427711",
   "metadata": {},
   "outputs": [],
   "source": [
    "# 모델이 호출할 수 있는 함수들을 딕셔너리 형태로 정의합니다.\n",
    "# 이 예제에서는 하나의 함수만 있지만, 여러 개의 함수가 있을 수 있습니다.\n",
    "available_functions = {\n",
    "        \"get_current_weather\": get_current_weather,\n",
    "    }  "
   ]
  },
  {
   "cell_type": "code",
   "execution_count": 5,
   "id": "8cee8de6-60e3-429a-813a-ba39c588b0b2",
   "metadata": {},
   "outputs": [],
   "source": [
    "messages = [{\"role\": \"user\", \"content\": \"샌프란시스코, 도쿄, 파리의 날씨는 어떻습니까?\"}]\n",
    "\n",
    "#함수 집합 정의\n",
    "tools = [\n",
    "    {\n",
    "        \"type\": \"function\",   # 도구의 유형을 함수로 설정\n",
    "        \"function\": {\n",
    "            \"name\": \"get_current_weather\",   # 함수 이름\n",
    "            \"description\": \"지정된 위치의 현재 날씨를 가져오는 함수.\",    # 함수 설명\n",
    "            \"parameters\": {\n",
    "                \"type\": \"object\",    # 파라미터의 유형을 객체로 설정\n",
    "                \"properties\": {\n",
    "                    \"location\": {\n",
    "                        \"type\": \"string\",   # location 파라미터의 데이터 유형을 문자열로 설정\n",
    "                        \"description\": \"날씨를 알고 싶은 도시와 주 이름. 예: San Francisco, CA\",  # location 파라미터 설명\n",
    "                    },\n",
    "                    \"unit\": {\"type\": \"string\",   # unit 파라미터의 데이터 유형을 문자열로 설정\n",
    "                             \"enum\": [\"celsius\", \"fahrenheit\"]},   # unit 파라미터가 가질 수 있는 값의 열거형 설정\n",
    "                },\n",
    "                \"required\": [\"location\"],   # location 파라미터는 필수\n",
    "            },\n",
    "        },\n",
    "    }\n",
    "]"
   ]
  },
  {
   "cell_type": "code",
   "execution_count": 6,
   "id": "69fec526-f0bf-4fc2-b03c-7395b7fd012b",
   "metadata": {},
   "outputs": [
    {
     "name": "stdout",
     "output_type": "stream",
     "text": [
      "도구 호출 정보 = \n",
      "[ChatCompletionMessageToolCall(id='call_pNRA2sK3hczy8aLDnas0KTBx', function=Function(arguments='{\"location\": \"San Francisco, CA\"}', name='get_current_weather'), type='function'), ChatCompletionMessageToolCall(id='call_GGggj2r0ZEbnEZbDnE5mqLBH', function=Function(arguments='{\"location\": \"Tokyo, Japan\"}', name='get_current_weather'), type='function'), ChatCompletionMessageToolCall(id='call_BJTNGjQvlcF7ApojdyVBLTYf', function=Function(arguments='{\"location\": \"Paris, France\"}', name='get_current_weather'), type='function')]\n",
      "\n",
      "[Function(arguments='{\"location\": \"San Francisco, CA\"}', name='get_current_weather'), Function(arguments='{\"location\": \"Tokyo, Japan\"}', name='get_current_weather'), Function(arguments='{\"location\": \"Paris, France\"}', name='get_current_weather')]\n"
     ]
    }
   ],
   "source": [
    "# Step 1: 모델 호출: 사용자 질의와 함께 함수 집합을 정의하여 모델을 호출합니다. 함수 목록을 tools 파라미터에 제공합니다.\n",
    "# Step 2: 모델의 함수 호출 선택: 모델은 하나 이상의 함수를 호출할 수 있습니다. \n",
    "# 이 경우, 모델의 응답 내용은 사용자가 정의한 스키마에 따른 JSON 객체 문자열이 됩니다.\n",
    "response = client.chat.completions.create(\n",
    "    model=Model,\n",
    "    messages=messages,\n",
    "    tools=tools\n",
    ")\n",
    "\n",
    "response_message = response.choices[0].message\n",
    "tool_calls = response_message.tool_calls   # 응답 메시지에서 도구 호출 정보를 가져옴\n",
    "\n",
    "print(\"도구 호출 정보 = \")\n",
    "print(tool_calls)\n",
    "print()\n",
    "print([tool_call.function for tool_call in tool_calls])"
   ]
  },
  {
   "cell_type": "code",
   "execution_count": 7,
   "id": "5f7d491a-2cf4-4221-baca-9b8a1492bd36",
   "metadata": {},
   "outputs": [],
   "source": [
    "# 도구 호출 처리\n",
    "if tool_calls:\n",
    "    messages.append(response_message)  # 어시스턴트의 답변을 대화에 추가\n",
    "\n",
    "    for tool_call in tool_calls:   # 각 도구 호출에 대해 반복\n",
    "        # Step 3: 함수를 호출합니다.\n",
    "        function_name = tool_call.function.name   # 호출할 함수 이름 가져오기\n",
    "        function_to_call = available_functions[function_name]   # 호출할 함수 가져오기\n",
    "        function_args = json.loads(tool_call.function.arguments)   # 함수 인수 파싱\n",
    "        function_response = function_to_call(\n",
    "            location=function_args.get(\"location\"),   # location 인수 전달\n",
    "            unit=function_args.get(\"unit\"),   # unit 인수 전달\n",
    "        )\n",
    "        \n",
    "        # 함수 응답을 대화에 추가\n",
    "        messages.append(\n",
    "            {\n",
    "                \"tool_call_id\": tool_call.id,   # 도구 호출 ID\n",
    "                \"role\": \"tool\",     # 역할 설정 (도구)\n",
    "                \"name\": function_name,   # 함수 이름\n",
    "                \"content\": function_response,   # 함수 응답 내용\n",
    "            }\n",
    "        )  \n",
    "        \n",
    "    # Step 4: 각 함수 호출에 대한 정보와 함수 응답을 모델에 전달합니다.\n",
    "    second_response = client.chat.completions.create(\n",
    "        model=Model,\n",
    "        messages=messages,\n",
    "    )  "
   ]
  },
  {
   "cell_type": "code",
   "execution_count": 8,
   "id": "4166dc43-b95c-48b3-91bb-949fc5592701",
   "metadata": {},
   "outputs": [
    {
     "data": {
      "text/plain": [
       "{'id': 'chatcmpl-AuySVaWrupYISNZ1y2ahU3T40FDJF',\n",
       " 'choices': [{'finish_reason': 'stop',\n",
       "   'index': 0,\n",
       "   'logprobs': None,\n",
       "   'message': {'content': '현재 날씨는 다음과 같습니다:\\n\\n- **샌프란시스코**: 22.2도\\n- **도쿄**: 10도\\n- **파리**: 22도\\n\\n각 도시의 날씨가 다르니 참고하세요!',\n",
       "    'refusal': None,\n",
       "    'role': 'assistant'}}],\n",
       " 'created': 1738142135,\n",
       " 'model': 'gpt-4o-mini-2024-07-18',\n",
       " 'object': 'chat.completion',\n",
       " 'service_tier': 'default',\n",
       " 'system_fingerprint': 'fp_bd83329f63',\n",
       " 'usage': {'completion_tokens': 59,\n",
       "  'prompt_tokens': 162,\n",
       "  'total_tokens': 221,\n",
       "  'completion_tokens_details': {'audio_tokens': 0,\n",
       "   'reasoning_tokens': 0,\n",
       "   'accepted_prediction_tokens': 0,\n",
       "   'rejected_prediction_tokens': 0},\n",
       "  'prompt_tokens_details': {'audio_tokens': 0, 'cached_tokens': 0}}}"
      ]
     },
     "execution_count": 8,
     "metadata": {},
     "output_type": "execute_result"
    }
   ],
   "source": [
    "# second_response를 dictionary로 출력\n",
    "second_response.to_dict()"
   ]
  },
  {
   "cell_type": "code",
   "execution_count": 9,
   "id": "d6fabaad-8ed9-43c9-8bd3-31c6faa0d389",
   "metadata": {},
   "outputs": [
    {
     "name": "stdout",
     "output_type": "stream",
     "text": [
      "현재 날씨는 다음과 같습니다:\n",
      "\n",
      "- **샌프란시스코**: 22.2도\n",
      "- **도쿄**: 10도\n",
      "- **파리**: 22도\n",
      "\n",
      "각 도시의 날씨가 다르니 참고하세요!\n"
     ]
    }
   ],
   "source": [
    "# message.content 출력\n",
    "print(second_response.choices[0].message.content)"
   ]
  },
  {
   "cell_type": "markdown",
   "id": "5af0ec0f-ba19-4cc8-ae09-252da6de50eb",
   "metadata": {},
   "source": [
    "### Free Weather API 이용\n",
    "https://open-meteo.com/"
   ]
  },
  {
   "cell_type": "code",
   "execution_count": 10,
   "id": "9561e47c-48f9-42e5-866b-3e93c0b45b07",
   "metadata": {},
   "outputs": [
    {
     "data": {
      "text/plain": [
       "-4.2"
      ]
     },
     "execution_count": 10,
     "metadata": {},
     "output_type": "execute_result"
    }
   ],
   "source": [
    "import requests\n",
    "\n",
    "# 현재의 온도 가져오기\n",
    "def get_weather(latitude, longitude):\n",
    "    response = requests.get(f\"https://api.open-meteo.com/v1/forecast?latitude={latitude}&longitude={longitude}&current=temperature_2m\")\n",
    "    data = response.json()\n",
    "    return data['current']['temperature_2m']\n",
    "\n",
    "# 서울의 위도, 경도\n",
    "get_weather(37.56667, 126.97806)"
   ]
  },
  {
   "cell_type": "code",
   "execution_count": 11,
   "id": "6cef1f06-d513-43ee-97af-e49168ead4d2",
   "metadata": {},
   "outputs": [],
   "source": [
    "import json\n",
    "\n",
    "tools = [{\n",
    "    \"type\": \"function\",\n",
    "    \"function\": {\n",
    "        \"name\": \"get_weather\",\n",
    "        \"description\": \"제공된 좌표의 현재 기온을 섭씨(Celsius) 단위로 가져오세요.\",\n",
    "        \"parameters\": {\n",
    "            \"type\": \"object\",\n",
    "            \"properties\": {\n",
    "                \"latitude\": {\"type\": \"number\"},\n",
    "                \"longitude\": {\"type\": \"number\"}\n",
    "            },\n",
    "            \"required\": [\"latitude\", \"longitude\"],\n",
    "            \"additionalProperties\": False\n",
    "        },\n",
    "        \"strict\": True   # JSON 스키마의 엄격한 준수(strict mode)를 적용\n",
    "    }\n",
    "}]\n",
    "\n",
    "messages = [{\"role\": \"user\", \"content\": \"오늘 서울의 기온이 어때?\"}]\n",
    "\n",
    "response = client.chat.completions.create(\n",
    "    model=Model,\n",
    "    messages=messages,\n",
    "    tools=tools,\n",
    ")"
   ]
  },
  {
   "cell_type": "code",
   "execution_count": 12,
   "id": "d29fb0db-21f4-422b-abb2-a545b36dc24f",
   "metadata": {},
   "outputs": [
    {
     "data": {
      "text/plain": [
       "ChatCompletionMessageToolCall(id='call_SbKC1iLFxW48O5okwfSqn9En', function=Function(arguments='{\"latitude\":37.5665,\"longitude\":126.978}', name='get_weather'), type='function')"
      ]
     },
     "execution_count": 12,
     "metadata": {},
     "output_type": "execute_result"
    }
   ],
   "source": [
    "# 함수 호출 확인 \n",
    "tool_call = response.choices[0].message.tool_calls[0]\n",
    "tool_call"
   ]
  },
  {
   "cell_type": "code",
   "execution_count": 13,
   "id": "374789fe-0d27-4e7f-abb2-3bfadd22d419",
   "metadata": {},
   "outputs": [
    {
     "data": {
      "text/plain": [
       "{'latitude': 37.5665, 'longitude': 126.978}"
      ]
     },
     "execution_count": 13,
     "metadata": {},
     "output_type": "execute_result"
    }
   ],
   "source": [
    "# parameters 확인\n",
    "args = json.loads(tool_call.function.arguments)\n",
    "args"
   ]
  },
  {
   "cell_type": "code",
   "execution_count": 14,
   "id": "3f755294-0643-4cdd-bcbb-7a4937138196",
   "metadata": {},
   "outputs": [],
   "source": [
    "# 함수 호출 결과 저장\n",
    "result = get_weather(args[\"latitude\"], args[\"longitude\"])"
   ]
  },
  {
   "cell_type": "code",
   "execution_count": 15,
   "id": "1610ae8d-4ff8-4a00-944d-0f003a0630e7",
   "metadata": {},
   "outputs": [
    {
     "data": {
      "text/plain": [
       "-4.2"
      ]
     },
     "execution_count": 15,
     "metadata": {},
     "output_type": "execute_result"
    }
   ],
   "source": [
    "result"
   ]
  },
  {
   "cell_type": "code",
   "execution_count": 17,
   "id": "95848744-9611-41cf-bd7f-c6331ac5ce33",
   "metadata": {},
   "outputs": [],
   "source": [
    "# 모델의 함수 호출 결과 메시지를 messages 리스트에 추가\n",
    "messages.append(response.choices[0].message)  \n",
    "\n",
    "# 함수 실행 결과를 messages 리스트에 추가\n",
    "messages.append({                             \n",
    "    \"role\": \"tool\",\n",
    "    \"tool_call_id\": tool_call.id,\n",
    "    \"content\": str(result)\n",
    "})"
   ]
  },
  {
   "cell_type": "code",
   "execution_count": 18,
   "id": "f6877f31-0301-446f-929b-d58b04f7283b",
   "metadata": {},
   "outputs": [],
   "source": [
    "# API를 호출하여 모델의 응답을 생성 (Function Calling 포함)\n",
    "second_response = client.chat.completions.create(\n",
    "    model=Model,\n",
    "    messages=messages,\n",
    "    tools=tools,\n",
    ")"
   ]
  },
  {
   "cell_type": "code",
   "execution_count": 19,
   "id": "174767ae-a998-426d-918e-b13683d70806",
   "metadata": {},
   "outputs": [
    {
     "data": {
      "text/plain": [
       "'오늘 서울의 기온은 -4.2도입니다.'"
      ]
     },
     "execution_count": 19,
     "metadata": {},
     "output_type": "execute_result"
    }
   ],
   "source": [
    "second_response.choices[0].message.content"
   ]
  },
  {
   "cell_type": "markdown",
   "id": "8b0e5a52-3eb4-4f92-951e-2282287902f2",
   "metadata": {},
   "source": [
    "### Email 보내기"
   ]
  },
  {
   "cell_type": "code",
   "execution_count": 20,
   "id": "36be27d9-ffc8-44c6-8107-4a2216d6a896",
   "metadata": {},
   "outputs": [
    {
     "data": {
      "text/plain": [
       "'test@naver.com 에게 성공적으로 메일 발송'"
      ]
     },
     "execution_count": 20,
     "metadata": {},
     "output_type": "execute_result"
    }
   ],
   "source": [
    "# email 생성 함수\n",
    "def send_email(to, subject, body):\n",
    "    from email.utils import formatdate\n",
    "    from email.mime.multipart import MIMEMultipart\n",
    "    from email.header import Header\n",
    "    # 메일 제목과 내용을 설정하는 모듈\n",
    "    from email.mime.text import MIMEText\n",
    "    \n",
    "    msg = MIMEMultipart()\n",
    "\n",
    "    port = 465  # For SSL\n",
    "    smtp_server = \"smtp.gmail.com\"\n",
    "    sender_email = \"xxcompany@xxx.com\" \n",
    "    receiver_email = to\n",
    "\n",
    "    msg['From'] = sender_email \n",
    "    msg['To'] = receiver_email \n",
    "    msg['Date'] = formatdate(localtime=True)\n",
    "\n",
    "    msg['Subject'] = Header(s=subject, charset='utf-8')\n",
    "    body = MIMEText(body, _charset='utf-8')\n",
    "    msg.attach(body)\n",
    "        \n",
    "    return f\"{to} 에게 성공적으로 메일 발송\"\n",
    "    \n",
    "\n",
    "send_email(\"test@naver.com\", \"test\", \"test\")"
   ]
  },
  {
   "cell_type": "code",
   "execution_count": 21,
   "id": "81455cfe-6580-4ac1-93de-186dbd183779",
   "metadata": {},
   "outputs": [],
   "source": [
    "# 모델이 호출할 수 있는 함수들을 딕셔너리 형태로 정의합니다.\n",
    "# 이 예제에서는 하나의 함수만 있지만, 여러 개의 함수가 있을 수 있습니다.\n",
    "available_functions = {\n",
    "        \"get_current_weather\": get_current_weather,\n",
    "        \"send_email\": send_email\n",
    "    }  "
   ]
  },
  {
   "cell_type": "code",
   "execution_count": 22,
   "id": "9360d402-e935-4013-ab92-e10c1fc9a162",
   "metadata": {},
   "outputs": [
    {
     "name": "stdout",
     "output_type": "stream",
     "text": [
      "[ChatCompletionMessageToolCall(id='call_S4qwRmJpmWY6SztXvV9PVSTP', function=Function(arguments='{\"to\": \"ilan@example.com\", \"subject\": \"안녕하세요\", \"body\": \"안녕하세요\"}', name='send_email'), type='function'), ChatCompletionMessageToolCall(id='call_hYc1WJVnCaoR2Iaj7sKcVwgC', function=Function(arguments='{\"to\": \"katia@example.com\", \"subject\": \"안녕하세요\", \"body\": \"안녕하세요\"}', name='send_email'), type='function')]\n"
     ]
    }
   ],
   "source": [
    "# 이메일 보내기(send_email) 함수 호출 예제\n",
    "tools = [{\n",
    "    \"type\": \"function\",\n",
    "    \"function\": {\n",
    "        \"name\": \"send_email\",\n",
    "        \"description\": \"지정된 수신자에게 제목과 메시지를 포함한 이메일을 보내세요.\",\n",
    "        \"parameters\": {\n",
    "            \"type\": \"object\",\n",
    "            \"properties\": {\n",
    "                \"to\": {\n",
    "                    \"type\": \"string\",\n",
    "                    \"description\": \"수신자의 이메일 주소\"\n",
    "                },\n",
    "                \"subject\": {\n",
    "                    \"type\": \"string\",\n",
    "                    \"description\": \"이메일 제목 줄\"\n",
    "                },\n",
    "                \"body\": {\n",
    "                    \"type\": \"string\",\n",
    "                    \"description\": \"이메일 본문\"\n",
    "                }\n",
    "            },\n",
    "            \"required\": [\n",
    "                \"to\",\n",
    "                \"subject\",\n",
    "                \"body\"\n",
    "            ],\n",
    "            \"additionalProperties\": False\n",
    "        },\n",
    "        \"strict\": True\n",
    "    }\n",
    "}]\n",
    "\n",
    "messages=[{\"role\": \"user\", \n",
    "           \"content\": \"ilan@example.com 과 katia@example.com 에게 `안녕하세요`라는 내용을 담은 이메일을 보내줄 수 있나요?\"}]\n",
    "\n",
    "completion = client.chat.completions.create(\n",
    "    model=Model,\n",
    "    messages=messages,\n",
    "    tools=tools\n",
    ")\n",
    "\n",
    "print(completion.choices[0].message.tool_calls)"
   ]
  },
  {
   "cell_type": "code",
   "execution_count": 23,
   "id": "d7302d08-2b6a-4678-b3f0-4b71378dc810",
   "metadata": {},
   "outputs": [
    {
     "data": {
      "text/plain": [
       "{'id': 'call_S4qwRmJpmWY6SztXvV9PVSTP',\n",
       " 'function': {'arguments': '{\"to\": \"ilan@example.com\", \"subject\": \"안녕하세요\", \"body\": \"안녕하세요\"}',\n",
       "  'name': 'send_email'},\n",
       " 'type': 'function'}"
      ]
     },
     "execution_count": 23,
     "metadata": {},
     "output_type": "execute_result"
    }
   ],
   "source": [
    "# 첫 번째 함수 호출(`tool_calls[0]`)을 딕셔너리 형식으로 변환\n",
    "completion.choices[0].message.tool_calls[0].dict()"
   ]
  },
  {
   "cell_type": "code",
   "execution_count": 24,
   "id": "d43bc3d0-afbc-4fc1-beb6-c7977e7d5d84",
   "metadata": {},
   "outputs": [
    {
     "data": {
      "text/plain": [
       "[ChatCompletionMessageToolCall(id='call_S4qwRmJpmWY6SztXvV9PVSTP', function=Function(arguments='{\"to\": \"ilan@example.com\", \"subject\": \"안녕하세요\", \"body\": \"안녕하세요\"}', name='send_email'), type='function'),\n",
       " ChatCompletionMessageToolCall(id='call_hYc1WJVnCaoR2Iaj7sKcVwgC', function=Function(arguments='{\"to\": \"katia@example.com\", \"subject\": \"안녕하세요\", \"body\": \"안녕하세요\"}', name='send_email'), type='function')]"
      ]
     },
     "execution_count": 24,
     "metadata": {},
     "output_type": "execute_result"
    }
   ],
   "source": [
    "# OpenAI API의 응답에서 첫 번째 선택된 응답 메시지 가져오기\n",
    "response_message = completion.choices[0].message\n",
    "\n",
    "# Assistant가 호출한 Function Calling(함수 호출) 목록 가져오기\n",
    "tool_calls = response_message.tool_calls  \n",
    "tool_calls"
   ]
  },
  {
   "cell_type": "code",
   "execution_count": 25,
   "id": "69bdab0c-2bd2-4644-b3a7-8d5b4eb23e6e",
   "metadata": {},
   "outputs": [],
   "source": [
    "# 도구 호출 처리\n",
    "if tool_calls:\n",
    "    messages.append(response_message)  # 어시스턴트의 답변을 대화에 추가\n",
    "\n",
    "    for tool_call in tool_calls:   # 각 도구 호출에 대해 반복\n",
    "        # Step 3: 함수를 호출합니다.\n",
    "        function_name = tool_call.function.name   # 호출할 함수 이름 가져오기\n",
    "        function_to_call = available_functions[function_name]   # 호출할 함수 가져오기\n",
    "        function_args = json.loads(tool_call.function.arguments)   # 함수 인수 파싱\n",
    "        function_response = function_to_call(\n",
    "            to=function_args.get(\"to\"),\n",
    "            subject=function_args.get(\"subject\"),   \n",
    "            body=function_args.get(\"body\")\n",
    "        )\n",
    "        \n",
    "        # 함수 응답을 대화에 추가\n",
    "        messages.append(\n",
    "            {\n",
    "                \"tool_call_id\": tool_call.id,   # 도구 호출 ID\n",
    "                \"role\": \"tool\",     # 역할 설정 (도구)\n",
    "                \"name\": function_name,   # 함수 이름\n",
    "                \"content\": function_response,   # 함수 응답 내용\n",
    "            }\n",
    "        )  \n",
    "        \n",
    "    # Step 4: 각 함수 호출에 대한 정보와 함수 응답을 모델에 전달합니다.\n",
    "    second_response = client.chat.completions.create(\n",
    "        model=Model,\n",
    "        messages=messages,\n",
    "    )  "
   ]
  },
  {
   "cell_type": "code",
   "execution_count": 26,
   "id": "c4c40b1c-5690-4d1c-b2f9-eb97ead2a690",
   "metadata": {},
   "outputs": [
    {
     "data": {
      "text/plain": [
       "'이메일을 각각 ilan@example.com과 katia@example.com에게 성공적으로 발송했습니다. 내용은 \"안녕하세요\"입니다.'"
      ]
     },
     "execution_count": 26,
     "metadata": {},
     "output_type": "execute_result"
    }
   ],
   "source": [
    "second_response.choices[0].message.content"
   ]
  },
  {
   "cell_type": "code",
   "execution_count": null,
   "id": "7150d263-6e67-4021-9f1a-f2ed63a3aefa",
   "metadata": {},
   "outputs": [],
   "source": []
  }
 ],
 "metadata": {
  "kernelspec": {
   "display_name": "Python 3 (ipykernel)",
   "language": "python",
   "name": "python3"
  },
  "language_info": {
   "codemirror_mode": {
    "name": "ipython",
    "version": 3
   },
   "file_extension": ".py",
   "mimetype": "text/x-python",
   "name": "python",
   "nbconvert_exporter": "python",
   "pygments_lexer": "ipython3",
   "version": "3.9.16"
  }
 },
 "nbformat": 4,
 "nbformat_minor": 5
}
