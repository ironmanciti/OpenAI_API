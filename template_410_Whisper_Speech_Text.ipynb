{
 "cells": [
  {
   "cell_type": "markdown",
   "id": "97fefb72",
   "metadata": {
    "id": "vUehOJlORE-j"
   },
   "source": [
    "# 음성 메시지를 텍스트로 변환\n",
    "\n",
    "최첨단 음성-텍스트 기능을 위한 OpenAI의 Whisper API와 정확한 텍스트 번역을 위한 ChatCompletion API를 활용하여 모든 음성 메시지를 선택한 언어로 번역할 수 있는 엔드투엔드 솔루션 작성.\n",
    "\n",
    "- **음성 인식용 Whisper API**: 음성 메시지를 텍스트로 변환하는 OpenAI의 Whisper API\n",
    "\n"
   ]
  },
  {
   "cell_type": "code",
   "execution_count": null,
   "id": "40ecc8bb",
   "metadata": {},
   "outputs": [],
   "source": []
  },
  {
   "cell_type": "code",
   "execution_count": null,
   "id": "8d2da39b",
   "metadata": {},
   "outputs": [],
   "source": []
  },
  {
   "cell_type": "markdown",
   "id": "88a006c7",
   "metadata": {
    "id": "9_OjVDWsUe4n"
   },
   "source": [
    "# Whisper로 오디오 파일 처리하기\n",
    "\n",
    "### 오디오 전사(Audio transcription)\n",
    "\n",
    "- 오디오가 어떤 언어로 되어 있든 오디오를 전사할 수 있습니다.  \n",
    "\n",
    "#### respose format\n",
    "- vtt(Web Video Text Tracks) 형식 - 비디오 자막에 주로 사용되며, 시간 코드와 함께 텍스트 정보를 포함  \n",
    "- text - TEXT 형식"
   ]
  },
  {
   "cell_type": "code",
   "execution_count": null,
   "id": "e0e4b276",
   "metadata": {},
   "outputs": [],
   "source": [
    "# 오디오 파일을 바이너리 읽기 모드로 열기\n",
    "# 오디오 파일을 전사하기 위한 요청"
   ]
  },
  {
   "cell_type": "code",
   "execution_count": null,
   "id": "5b484eba",
   "metadata": {},
   "outputs": [],
   "source": []
  },
  {
   "cell_type": "markdown",
   "id": "acc4cf2e",
   "metadata": {
    "id": "x-6F2sWioRAf"
   },
   "source": [
    "### 오디오 번역(Audio translation)\n",
    "\n",
    "- 오디오를 영어로 번역하고 기록합니다."
   ]
  },
  {
   "cell_type": "code",
   "execution_count": null,
   "id": "400a0011",
   "metadata": {},
   "outputs": [],
   "source": [
    "# 오디오 파일 번역 요청\n",
    "# 번역된 결과 출력"
   ]
  },
  {
   "cell_type": "markdown",
   "id": "c3a8ed9a",
   "metadata": {
    "id": "mzr2K30GUbUN"
   },
   "source": [
    "### Auido를 원하는 언어로 번역\n",
    "\n",
    "`whisper-1`은 audio를 영어로 번역하므로 영어가 아닌 언어를 target으로 할 경우 ChatGpt 모델과 연결하여 번역"
   ]
  },
  {
   "cell_type": "code",
   "execution_count": null,
   "id": "a54e9e6d",
   "metadata": {},
   "outputs": [],
   "source": [
    "# 번역 대상 언어 설정\n",
    "# AI의 역할을 메시지 리스트에 추가\n",
    "# 번역할 텍스트를 메시지 리스트에 추가\n",
    "# 대화형 AI로부터 번역 응답 생성 요청"
   ]
  },
  {
   "cell_type": "code",
   "execution_count": null,
   "id": "280db85f",
   "metadata": {},
   "outputs": [],
   "source": []
  },
  {
   "cell_type": "markdown",
   "id": "65180252",
   "metadata": {},
   "source": [
    "### GPT-4 출력을 Audio speech 로 변환\n"
   ]
  },
  {
   "cell_type": "code",
   "execution_count": null,
   "id": "9901695e",
   "metadata": {},
   "outputs": [],
   "source": []
  },
  {
   "cell_type": "code",
   "execution_count": null,
   "id": "bf840920",
   "metadata": {},
   "outputs": [],
   "source": [
    "# 생성된 음성을 파일로 저장\n",
    "# 저장된 음성 파일을 자동 재생으로 출력"
   ]
  },
  {
   "cell_type": "code",
   "execution_count": null,
   "id": "5c7ce56c",
   "metadata": {},
   "outputs": [],
   "source": []
  }
 ],
 "metadata": {
  "colab": {
   "provenance": []
  },
  "kernelspec": {
   "display_name": "Python 3 (ipykernel)",
   "language": "python",
   "name": "python3"
  },
  "language_info": {
   "codemirror_mode": {
    "name": "ipython",
    "version": 3
   },
   "file_extension": ".py",
   "mimetype": "text/x-python",
   "name": "python",
   "nbconvert_exporter": "python",
   "pygments_lexer": "ipython3",
   "version": "3.9.16"
  }
 },
 "nbformat": 4,
 "nbformat_minor": 5
}
