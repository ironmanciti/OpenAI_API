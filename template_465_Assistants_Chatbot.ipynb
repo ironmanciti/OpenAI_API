{
 "cells": [
  {
   "cell_type": "markdown",
   "id": "8aef70ae",
   "metadata": {
    "id": "vUehOJlORE-j"
   },
   "source": [
    "# Assistants API를 사용하여 챗봇 구축\n",
    "\n",
    "OpenAI의 Assistants API를 사용하여 맞춤형 챗봇을 만드는 방법에 대해 알아볼 것입니다. 이 프로젝트는 대화 방식으로 사용자 입력을 이해하고 응답하는 OpenAI 언어 모델의 기능을 선보일 것입니다. 다양한 주제에 대해 사용자와 대화하고 관련성이 있고 상황에 맞는 응답을 제공할 수 있는 챗봇을 만드는 방법을 배우게 됩니다."
   ]
  },
  {
   "cell_type": "code",
   "execution_count": null,
   "id": "e3b02cda",
   "metadata": {},
   "outputs": [],
   "source": []
  },
  {
   "cell_type": "code",
   "execution_count": null,
   "id": "e5078ff8",
   "metadata": {},
   "outputs": [],
   "source": []
  },
  {
   "cell_type": "markdown",
   "id": "fb8abfcb",
   "metadata": {
    "id": "Uhi3pSl0lCW1"
   },
   "source": [
    "## request 보내기"
   ]
  },
  {
   "cell_type": "code",
   "execution_count": null,
   "id": "6a7b18b1",
   "metadata": {},
   "outputs": [],
   "source": []
  },
  {
   "cell_type": "markdown",
   "id": "444024ad",
   "metadata": {
    "id": "9_OjVDWsUe4n"
   },
   "source": [
    "# OpenAI API를 사용하여 맞춤형 챗봇 구축\n",
    "\n",
    "API는 매번 새로운 session 이 시작되므로 중간의 대화 내용을 기억하지 못합니다. 해결 방법은,  \n",
    "1. 주고 받은 대화 내용을 메모리에 저장 시키면 이전의 대화 내용을 기억할 수 있습니다.\n",
    "2. Assistant API의 Thread 기능을 이용하여 중간 대화 history를 저장할 수 있습니다."
   ]
  },
  {
   "cell_type": "markdown",
   "id": "e64168c5",
   "metadata": {},
   "source": [
    "```\n",
    "(withoug Assistant) - 주고 받은 내용을 메모리에 저장 \n",
    "사용자 입력: My name is Gildong. What is my name?\n",
    "Assistant:  Your name is Gildong.\n",
    "사용자 입력: What is my name?\n",
    "Assistant:  I apologize, but I'm not able to determine your name as I don't have access to your personal information.\n",
    "사용자 입력: quit\n",
    "```"
   ]
  },
  {
   "cell_type": "code",
   "execution_count": null,
   "id": "8e5b37ef",
   "metadata": {},
   "outputs": [],
   "source": [
    "# 대화 기록을 저장할 메모리 버퍼 초기화 (시스템 메시지 포함)\n",
    "# Assistant 없이 챗봇 구축 (사용자 입력을 직접 처리)\n",
    "    # 사용자 입력을 메모리 버퍼에 추가\n",
    "    # penAI API를 사용하여 챗봇 응답 생성\n",
    "    # Assistant의 응답 출력"
   ]
  },
  {
   "cell_type": "markdown",
   "id": "8111ad97",
   "metadata": {},
   "source": [
    "### Assistants API 이용 챗봇 구축"
   ]
  },
  {
   "cell_type": "code",
   "execution_count": null,
   "id": "a13e18bd",
   "metadata": {},
   "outputs": [],
   "source": [
    "# 1단계 - Assistant 생성"
   ]
  },
  {
   "cell_type": "code",
   "execution_count": null,
   "id": "9764a7d2",
   "metadata": {},
   "outputs": [],
   "source": [
    "# 2단계 - Thread 생성"
   ]
  },
  {
   "cell_type": "code",
   "execution_count": null,
   "id": "ce98b685",
   "metadata": {},
   "outputs": [],
   "source": [
    "# 먼저, 이벤트 핸들러 클래스(EventHandler)를 생성하여\n",
    "# 응답 스트림에서 이벤트를 어떻게 처리할지 정의합니다.\n",
    "class EventHandler(AssistantEventHandler):\n",
    "  # 텍스트 생성이 완료되었을 때 호출되는 메서드\n",
    "  def on_text_created(self, text) -> None:\n",
    "  # 텍스트 생성 중간에 호출되는 메서드\n",
    "  def on_text_delta(self, delta, snapshot):\n",
    "# Run을 생성하고 응답을 스트리밍합니다."
   ]
  },
  {
   "cell_type": "code",
   "execution_count": null,
   "id": "515937fe",
   "metadata": {},
   "outputs": [],
   "source": [
    "    # 3단계 - Thread에 Message 추가\n",
    "    # 4단계 - Run 생성"
   ]
  },
  {
   "cell_type": "markdown",
   "id": "dfccca0e",
   "metadata": {
    "id": "gdGX-w1CVxGx"
   },
   "source": [
    "### 문서/텍스트를 기반으로 챗봇이 답변하도록 하기\n",
    "\n",
    "문서/텍스트 내용을 API 호출시 넘겨주면 우리가 원하는 답변을 유도할 수 있습니다."
   ]
  },
  {
   "cell_type": "code",
   "execution_count": null,
   "id": "188cfe76",
   "metadata": {},
   "outputs": [],
   "source": []
  },
  {
   "cell_type": "code",
   "execution_count": null,
   "id": "94b6f23f",
   "metadata": {},
   "outputs": [],
   "source": [
    "# 1단계 - Assistant 생성"
   ]
  },
  {
   "cell_type": "code",
   "execution_count": null,
   "id": "ef30afa6",
   "metadata": {},
   "outputs": [],
   "source": [
    "# 2단계 - Thread 생성"
   ]
  },
  {
   "cell_type": "code",
   "execution_count": null,
   "id": "6277e30b",
   "metadata": {},
   "outputs": [],
   "source": [
    "# 3단계 - Thread에 Message 추가"
   ]
  },
  {
   "cell_type": "code",
   "execution_count": null,
   "id": "8066078b",
   "metadata": {},
   "outputs": [],
   "source": [
    "    # 3단계 - Thread에 Message 추가\n",
    "    # 4단계 - Run 생성"
   ]
  },
  {
   "cell_type": "markdown",
   "id": "d22d7a47",
   "metadata": {
    "id": "aldpG86H9S6D"
   },
   "source": [
    "### <<대화 예시 >>\n",
    "사용자 입력: 맞춤법 검사 기능을 사용할 수 있나요  \n",
    "Assistant:  네, 맞춤법 검사 기능을 사용할 수 있습니다. 어떤 문장을 맞춤법 검사해드릴까요?  \n",
    "\n",
    "사용자 입력: UNDP는 어떤 비밀번호 형식을 요구하나요  \n",
    "Assistant:  UNDP는 다음과 같은 비밀번호 형식을 요구합니다:\n",
    "- 최소 8자 이상의 길이\n",
    "- 대문자와 소문자를 혼합하여 사용\n",
    "- 숫자와 특수문자를 혼합하여 사용  \n",
    "\n",
    "사용자 입력: 각 섹션의 모든 정보를 제공해야하나요  \n",
    "Assistant:  UNDP에 따르면, 각 섹션에서 요구하는 정보는 다를 수 있습니다. 일반적으로, UNDP 신청서나 등록 절차에서는 다음과 같은 정보를 제공해야 할 수 있습니다:\n",
    "\n",
    "1. 개인 정보: 이름, 생년월일, 성별, 국적 등 개인 신상정보\n",
    "2. 연락처 정보: 전화번호, 이메일 주소, 주소 등 연락처 정보\n",
    "3. 학력 및 경력: 학력 수준, 전공, 졸업 일자, 이전 직장 경력 등\n",
    "4. 기술 및 자격증: 특정 기술 또는 자격증 보유 여  \n",
    "\n",
    "사용자 입력: 강남에서 남산에 가는 교통편을 알려주세요  \n",
    "Assistant:  강남에서 남산으로 가는 교통편은 다양합니다. 여러 가지 옵션 중에서 몇 가지를 알려드리겠습니다:\n",
    "\n",
    "1. 지하철:\n",
    "   - 강남역에서 3호선을 타고 충무로역으로 이동한 후, 3호선에서 4호선으로 환승하여 회현역에서 1호선으로 환승합니다. 그리고 남산역에서 하차하면 됩니다.\n",
    "\n",
    "2. 버스:\n",
    "   - 강남역 혹은 강남역 근처에서 남산 방향으로 가는 버스를 탈 수 있습니다. 예를 들어, 402, 405, 406  \n",
    "\n",
    "사용자 입력: stop\n",
    "Assistant:  알겠습니다. 추가로 도움이 필요하시면   \n",
    "언제든지 말씀해주세요. 좋은 하루 되세요!  \n",
    "\n",
    "사용자 입력: quit"
   ]
  },
  {
   "cell_type": "code",
   "execution_count": null,
   "id": "c3108355",
   "metadata": {},
   "outputs": [],
   "source": []
  }
 ],
 "metadata": {
  "colab": {
   "provenance": []
  },
  "kernelspec": {
   "display_name": "Python 3 (ipykernel)",
   "language": "python",
   "name": "python3"
  },
  "language_info": {
   "codemirror_mode": {
    "name": "ipython",
    "version": 3
   },
   "file_extension": ".py",
   "mimetype": "text/x-python",
   "name": "python",
   "nbconvert_exporter": "python",
   "pygments_lexer": "ipython3",
   "version": "3.9.16"
  }
 },
 "nbformat": 4,
 "nbformat_minor": 5
}
