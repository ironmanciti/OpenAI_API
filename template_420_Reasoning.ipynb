{
 "cells": [
  {
   "cell_type": "markdown",
   "id": "2663f08e",
   "metadata": {
    "id": "vUehOJlORE-j"
   },
   "source": [
    "# 고급 추론 및 문제 해결 모델 탐색  \r\n",
    "\r\n",
    "OpenAI의 o1 시리즈 모델은 강화 학습을 통해 훈련된 대형 언어 모델로, 복잡한 추론을 수행할 수 있도록 설계되었습니다. o1 모델은 답변하기 전에 깊이 사고하며, 내부적으로 긴 사고 과정을 거친 후 응답을 생성합니다.  \r\n",
    "\r\n",
    "o1 모델은 과학적 추론에서 뛰어난 성능을 보이며, 경쟁 프로그래밍(Codeforces) 문제에서 상위 89퍼센타일을 기록하고, 미국 수학 올림피아드 예선(AIME)에서 미국 상위 500명 학생 수준의 성과를 달성했으며, 물리학, 생물학, 화학 문제를 다루는 GPQA 벤치마크에서 인간 박사급 정답률을 초과했습니다.  \r\n",
    "\r\n",
    "API에서는 두 가지 추론 모델을 사용할 수 있습니다:  \r\n",
    "\r\n",
    "- **o1**: 광범위한 일반 지식을 활용하여 어려운 문제를 추론하도록 설계된 모델  \r\n",
    "- **o1-mini**: 보다 빠르고 경제적인 버전의 o1 모델로, 방대한 일반 지식이 필요하지 않은 코딩, 수학, 과학 문제 해결에 특히 강점이 있음\n",
    "\n"
   ]
  },
  {
   "cell_type": "code",
   "execution_count": null,
   "id": "3723f21f",
   "metadata": {},
   "outputs": [],
   "source": []
  },
  {
   "cell_type": "code",
   "execution_count": null,
   "id": "c7ba9434",
   "metadata": {},
   "outputs": [],
   "source": []
  },
  {
   "cell_type": "code",
   "execution_count": null,
   "id": "c61dfc1a",
   "metadata": {},
   "outputs": [],
   "source": []
  },
  {
   "cell_type": "markdown",
   "id": "4155096c",
   "metadata": {},
   "source": [
    "### Python code 를 실행해 봅니다."
   ]
  },
  {
   "cell_type": "code",
   "execution_count": null,
   "id": "674db5c9",
   "metadata": {},
   "outputs": [],
   "source": [
    "def parse_matrix(input_str):\n",
    "        # 문자열을 리스트 형식으로 감싸서 파싱\n",
    "        # 모든 행이 리스트인지 확인\n",
    "def transpose_matrix(matrix):\n",
    "def matrix_to_string(matrix):\n",
    "def main():\n",
    "    # 사용자로부터 입력 받기\n",
    "        # 입력 파싱\n",
    "        # 전치 행렬 계산\n",
    "        # 출력 형식 변환"
   ]
  },
  {
   "cell_type": "markdown",
   "id": "1fea8378",
   "metadata": {},
   "source": [
    "### 비용 관리  \r\n",
    "\r\n",
    "o1 시리즈 모델에서 비용을 관리하려면 `max_completion_tokens` 매개변수를 사용하여 모델이 생성하는 총 토큰 수(추론 토큰과 응답 토큰 포함)를 제한할 수 있습니다.  \r\n",
    "\r\n",
    "이전 모델에서는 `max_tokens` 매개변수가 생성되는 토큰 수와 사용자에게 표시되는 토큰 수를 동시에 제어했으며, 이 둘은 항상 동일했습니다. 그러나 o1 시리즈에서는 내부 추론 과정에서 추가 토큰이 생성될 수 있어, 총 생성 토큰 수가 사용자에게 표시되는 토큰 수를 초과할 수 있습니다. 때문에, o1 시리즈에서는 `max_completion_tokens`를 도입하여 모델이 생성하는 총 토큰 수(추론 + 표시된 응답 토큰)를 명확하게 제어할 수 있도록 했습니다. 이를 통해 새로운 모델을 사용할 때 기존 애플리케이션이 정상적으로 작동하도록 보장속 작동합니다."
   ]
  },
  {
   "cell_type": "code",
   "execution_count": null,
   "id": "f02aa011",
   "metadata": {},
   "outputs": [],
   "source": []
  },
  {
   "cell_type": "markdown",
   "id": "6637c0f8",
   "metadata": {},
   "source": [
    "추론 토큰을 위한 충분한 컨텍스트 윈도우 공간 확보가 필요 합니다. 문제의 복잡성에 따라 모델은 수백 개에서 수만 개의 추론 토큰을 생성할 수 있습니다.  \r\n",
    "\r\n",
    "사용된 정확한 추론 토큰 수는 채팅 완성 응답 객체(chat completion response object)의 `usage` 객체 내 `completion_tokens_details`에서 확인할 수 있습니다."
   ]
  },
  {
   "cell_type": "code",
   "execution_count": null,
   "id": "c2ce45d3",
   "metadata": {},
   "outputs": [],
   "source": []
  },
  {
   "cell_type": "markdown",
   "id": "b8efb74e",
   "metadata": {},
   "source": [
    "### COT (Chain of Thought)\n",
    "**Chain of Thought (CoT)** 는 **대형 언어 모델(LLM)** 이 문제를 해결할 때 논리적 사고 과정을 단계별로 명확하게 표현하도록 유도하는 프롬프트 기법입니다.\n",
    "\n",
    "일반적인 LLM의 답변 방식은 질문에 대해 즉시 응답하는 것이지만, CoT를 활용하면 모델이 중간 사고 과정을 거쳐 더 정확하고 신뢰할 수 있는 답변을 생성할 수 있습니다. \n",
    "\n",
    "##### CoT의 핵심 원리\n",
    "- 단계별 사고 과정 유도\n",
    "- 문제를 한 번에 풀도록 요청하는 것이 아니라, **\"하나씩 논리적으로 설명한 후 답변을 제시\"**하도록 유도하는 방식입니다.\n",
    "- 모델에게 \"Let's think step by step.\"(단계별로 생각해 보자) 같은 문구를 추가하면 CoT 방식을 유도할 수 있습니다."
   ]
  },
  {
   "cell_type": "code",
   "execution_count": null,
   "id": "7574b11b",
   "metadata": {},
   "outputs": [],
   "source": [
    "def cot_test(question):\n",
    "# 테스트할 문제\n",
    "# CoT 결과 출력"
   ]
  },
  {
   "cell_type": "code",
   "execution_count": null,
   "id": "73d54eb2",
   "metadata": {},
   "outputs": [],
   "source": []
  }
 ],
 "metadata": {
  "colab": {
   "provenance": []
  },
  "kernelspec": {
   "display_name": "Python 3 (ipykernel)",
   "language": "python",
   "name": "python3"
  },
  "language_info": {
   "codemirror_mode": {
    "name": "ipython",
    "version": 3
   },
   "file_extension": ".py",
   "mimetype": "text/x-python",
   "name": "python",
   "nbconvert_exporter": "python",
   "pygments_lexer": "ipython3",
   "version": "3.9.16"
  }
 },
 "nbformat": 4,
 "nbformat_minor": 5
}
