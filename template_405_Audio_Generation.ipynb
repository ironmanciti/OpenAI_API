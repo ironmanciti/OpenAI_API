{
 "cells": [
  {
   "cell_type": "markdown",
   "id": "60a5491a-8997-4bb5-bceb-2d5f1aa69451",
   "metadata": {},
   "source": [
    "# 오디오 생성"
   ]
  },
  {
   "cell_type": "code",
   "execution_count": null,
   "id": "2da14a1b",
   "metadata": {},
   "outputs": [],
   "source": []
  },
  {
   "cell_type": "code",
   "execution_count": null,
   "id": "cee3ce88",
   "metadata": {},
   "outputs": [],
   "source": []
  },
  {
   "attachments": {},
   "cell_type": "markdown",
   "id": "4352baae-7044-4a6f-a4b8-d18da7b47c20",
   "metadata": {},
   "source": [
    "### 모델로 부터 audio 출력"
   ]
  },
  {
   "cell_type": "code",
   "execution_count": null,
   "id": "08994955",
   "metadata": {},
   "outputs": [],
   "source": []
  },
  {
   "cell_type": "markdown",
   "id": "8ae0fd8d-5cca-4e70-a9cb-e66a3fb4e604",
   "metadata": {},
   "source": [
    "### Audio를 model에 입력하고 Text 와 Audio 를 동시에 출력"
   ]
  },
  {
   "cell_type": "code",
   "execution_count": null,
   "id": "76537514",
   "metadata": {},
   "outputs": [],
   "source": [
    "# Fetch the audio file and convert it to a base64 encoded string"
   ]
  },
  {
   "cell_type": "code",
   "execution_count": null,
   "id": "496bac0a",
   "metadata": {},
   "outputs": [],
   "source": []
  },
  {
   "cell_type": "markdown",
   "id": "d6bd7d3c-7073-463d-b3dc-7d3e04f09209",
   "metadata": {},
   "source": [
    "# Text to Audio\n",
    "- 텍스트를 오디오로 변환\n",
    "- 6개의 내장 음성 제공\n",
    "( alloy, echo, fable, onyx, nova및 shimmer)"
   ]
  },
  {
   "cell_type": "code",
   "execution_count": null,
   "id": "b069f360",
   "metadata": {},
   "outputs": [],
   "source": []
  },
  {
   "cell_type": "code",
   "execution_count": null,
   "id": "66d92035",
   "metadata": {},
   "outputs": [],
   "source": []
  },
  {
   "cell_type": "code",
   "execution_count": null,
   "id": "d56f818c",
   "metadata": {},
   "outputs": [],
   "source": []
  },
  {
   "cell_type": "code",
   "execution_count": null,
   "id": "1408a087",
   "metadata": {},
   "outputs": [],
   "source": []
  }
 ],
 "metadata": {
  "kernelspec": {
   "display_name": "Python 3 (ipykernel)",
   "language": "python",
   "name": "python3"
  },
  "language_info": {
   "codemirror_mode": {
    "name": "ipython",
    "version": 3
   },
   "file_extension": ".py",
   "mimetype": "text/x-python",
   "name": "python",
   "nbconvert_exporter": "python",
   "pygments_lexer": "ipython3",
   "version": "3.9.16"
  }
 },
 "nbformat": 4,
 "nbformat_minor": 5
}
