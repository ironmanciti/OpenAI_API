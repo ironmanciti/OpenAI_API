{
 "cells": [
  {
   "cell_type": "markdown",
   "id": "c5a91499-2154-45fc-b4b0-10c888d61c6d",
   "metadata": {},
   "source": [
    "# Vision 기능\n",
    "\n",
    "- GPT-4o with image inpus\n",
    "\n",
    "- GPT-4o와 GPT-4 Turbo 모두 비전 기능을 갖추고 있습니다. 즉, 모델이 이미지를 촬영하고 그에 대한 질문에 답할 수 있습니다"
   ]
  },
  {
   "cell_type": "code",
   "execution_count": 1,
   "id": "989f8b65-992a-4c1c-b196-aa19cfff4e95",
   "metadata": {},
   "outputs": [],
   "source": [
    "import os\n",
    "import openai\n",
    "\n",
    "from dotenv import load_dotenv, find_dotenv\n",
    "_ = load_dotenv(find_dotenv()) # read local .env file"
   ]
  },
  {
   "cell_type": "markdown",
   "id": "77b88726-3171-428a-9145-c2a4e48c3521",
   "metadata": {},
   "source": [
    "이미지는 두 가지 주요 방법, 즉 이미지에 대한 링크를 전달하거나 요청에 base64로 인코딩된 이미지를 직접 전달하는 방법으로 모델에서 사용할 수 있습니다. "
   ]
  },
  {
   "cell_type": "code",
   "execution_count": 2,
   "id": "d5d24889-8f2f-479a-b5a1-d8d4a7a26b31",
   "metadata": {},
   "outputs": [],
   "source": [
    "from openai import OpenAI\n",
    "\n",
    "client = OpenAI()"
   ]
  },
  {
   "cell_type": "markdown",
   "id": "1a776c83-96c5-47bd-a67a-5b220905e0cc",
   "metadata": {},
   "source": [
    "### 이미지의 내용 설명\n",
    "<img src=\"https://upload.wikimedia.org/wikipedia/commons/thumb/d/dd/Gfp-wisconsin-madison-the-nature-boardwalk.jpg/2560px-Gfp-wisconsin-madison-the-nature-boardwalk.jpg\" width=300px />op)을 생성합니다."
   ]
  },
  {
   "cell_type": "code",
   "execution_count": 10,
   "id": "db721c95-6024-4d85-961c-a5d4c648e9a0",
   "metadata": {},
   "outputs": [
    {
     "data": {
      "text/plain": [
       "{'id': 'chatcmpl-Auogb8h0S0f7Cj00vPB4D3xAEuFve',\n",
       " 'choices': [{'finish_reason': 'stop',\n",
       "   'index': 0,\n",
       "   'logprobs': None,\n",
       "   'message': {'content': '이 이미지는 넓은 초원과 나무들로 둘러싸인 보행로를 보여줍니다. 보행로는 나무로 만들어져 있으며, 초록색 풀밭 사이로 뻗어 있습니다. 하늘은 푸르고 구름이 흩어져 있어 맑은 날씨를 나타내고 있습니다. 전체적으로 평화롭고 자연적인 풍경이 느껴지는 장면입니다.',\n",
       "    'refusal': None,\n",
       "    'role': 'assistant'}}],\n",
       " 'created': 1738104569,\n",
       " 'model': 'gpt-4o-mini-2024-07-18',\n",
       " 'object': 'chat.completion',\n",
       " 'service_tier': 'default',\n",
       " 'system_fingerprint': 'fp_bd83329f63',\n",
       " 'usage': {'completion_tokens': 95,\n",
       "  'prompt_tokens': 1160,\n",
       "  'total_tokens': 1255,\n",
       "  'completion_tokens_details': {'audio_tokens': 0,\n",
       "   'reasoning_tokens': 0,\n",
       "   'accepted_prediction_tokens': 0,\n",
       "   'rejected_prediction_tokens': 0},\n",
       "  'prompt_tokens_details': {'audio_tokens': 0, 'cached_tokens': 0}}}"
      ]
     },
     "execution_count": 10,
     "metadata": {},
     "output_type": "execute_result"
    }
   ],
   "source": [
    "url = \"https://upload.wikimedia.org/wikipedia/commons/thumb/d/dd/Gfp-wisconsin-madison-the-nature-boardwalk.jpg/2560px-Gfp-wisconsin-madison-the-nature-boardwalk.jpg\"\n",
    "\n",
    "response = client.chat.completions.create(\n",
    "  model=\"gpt-4o-mini\",\n",
    "  messages=[\n",
    "    {\n",
    "      \"role\": \"user\",\n",
    "      \"content\": [\n",
    "        {\"type\": \"text\", \"text\": \"이 이미지의 내용을 설명해줘. 한국어로 설명해줘.\"},\n",
    "        {\n",
    "          \"type\": \"image_url\",\n",
    "          \"image_url\": {\n",
    "            \"url\": url\n",
    "          },\n",
    "        },\n",
    "      ],\n",
    "    }\n",
    "  ],\n",
    "  max_tokens=300,\n",
    ")\n",
    "\n",
    "response.to_dict()"
   ]
  },
  {
   "cell_type": "code",
   "execution_count": 11,
   "id": "1bb38be4-cac2-4e73-a784-4c0732006b17",
   "metadata": {},
   "outputs": [
    {
     "name": "stdout",
     "output_type": "stream",
     "text": [
      "이 이미지는 넓은 초원과 나무들로 둘러싸인 보행로를 보여줍니다. 보행로는 나무로 만들어져 있으며, 초록색 풀밭 사이로 뻗어 있습니다. 하늘은 푸르고 구름이 흩어져 있어 맑은 날씨를 나타내고 있습니다. 전체적으로 평화롭고 자연적인 풍경이 느껴지는 장면입니다.\n"
     ]
    }
   ],
   "source": [
    "print(response.choices[0].message.content)"
   ]
  },
  {
   "cell_type": "markdown",
   "id": "7806b76d-628c-4946-9a57-92f0d5a0d0f7",
   "metadata": {},
   "source": [
    "### Base 64로 인코딩된 이미지 업로드\r\n",
    "로컬에 이미지 또는 이미지 세트가 있는 경우 이를 Base 64 인코딩 형식으로 모델에 전달할 수 있습니다. 다음은 이에 대한 실제 예입니다."
   ]
  },
  {
   "cell_type": "code",
   "execution_count": 7,
   "id": "69159b03-d829-469c-97e3-a3e44b1e0dc3",
   "metadata": {},
   "outputs": [
    {
     "name": "stdout",
     "output_type": "stream",
     "text": [
      "Choice(finish_reason='stop', index=0, logprobs=None, message=ChatCompletionMessage(content='이 이미지는 잘 정리된 냉장고의 내부를 보여줍니다. 냉장고에는 다양한 신선한 채소와 과일이 가득 차 있습니다. 상단 선반에는 여러 종류의 과일, 예를 들어 딸기, 레몬, 사과와 같은 것들이 놓여 있고, 중간 선반에는 다양한 채소가 배열되어 있습니다. 바닥 서랍에는 여러 가지 채소와 과일이 잘 정리되어 있으며, 음료수와 유제품도 다양한 색상의 용기에 담겨 있습니다. 전체적으로 매우 건강하고 신선한 식품들이 가득한 모습입니다.', refusal=None, role='assistant', audio=None, function_call=None, tool_calls=None))\n"
     ]
    }
   ],
   "source": [
    "import base64\n",
    "import requests\n",
    "\n",
    "# Function to encode the image\n",
    "def encode_image(image_path):\n",
    "  with open(image_path, \"rb\") as image_file:\n",
    "    return base64.b64encode(image_file.read()).decode('utf-8')\n",
    "\n",
    "# Path to your image\n",
    "image_path = \"data/냉장고내용물.jpg\"\n",
    "\n",
    "# Getting the base64 string\n",
    "base64_image = encode_image(image_path)\n",
    "\n",
    "headers = {\n",
    "  \"Content-Type\": \"application/json\",\n",
    "  \"Authorization\": f\"Bearer {openai.api_key }\"\n",
    "}\n",
    "\n",
    "response = client.chat.completions.create(\n",
    "  model=\"gpt-4o-mini\",\n",
    "  messages=[\n",
    "    {\n",
    "      \"role\": \"user\",\n",
    "      \"content\": [\n",
    "        {\n",
    "          \"type\": \"text\",\n",
    "          \"text\": \"이 이미지의 내용을 한국어로 설명해줘.\"\n",
    "        },\n",
    "        {\n",
    "          \"type\": \"image_url\",\n",
    "          \"image_url\": {\n",
    "            \"url\": f\"data:image/jpeg;base64,{base64_image}\"\n",
    "          }\n",
    "        }\n",
    "      ],\n",
    "    }\n",
    "  ],\n",
    ")\n",
    "\n",
    "print(response.choices[0])"
   ]
  },
  {
   "cell_type": "markdown",
   "id": "8be985d2-2e5d-4f3a-9596-81e80fd43e00",
   "metadata": {},
   "source": [
    "### 다중 이미지 입력\n",
    "Chat Completions API는 base64로 인코딩된 형식이나 이미지 URL로 여러 이미지 입력을 가져와 처리할 수 있습니다. 모델은 각 이미지를 처리하고 모든 이미지의 정보를 사용하여 질문에 답합니다.\n",
    "\n",
    "<img src=\"https://upload.wikimedia.org/wikipedia/commons/thumb/d/dd/Gfp-wisconsin-madison-the-nature-boardwalk.jpg/2560px-Gfp-wisconsin-madison-the-nature-boardwalk.jpg\" width=300px />\n",
    "\n",
    "<img src=\"https://img.freepik.com/premium-photo/a-wooden-walkway-leads-to-a-green-field-with-a-mountain-in-the-background_800563-10576.jpg\" width=300px />"
   ]
  },
  {
   "cell_type": "code",
   "execution_count": 8,
   "id": "b825769b-e41f-474c-9257-129aa20f3c07",
   "metadata": {},
   "outputs": [],
   "source": [
    "from openai import OpenAI\n",
    "\n",
    "client = OpenAI()\n",
    "response = client.chat.completions.create(\n",
    "  model=\"gpt-4o-mini\",\n",
    "  messages=[\n",
    "    {\n",
    "      \"role\": \"user\",\n",
    "      \"content\": [\n",
    "        {\n",
    "          \"type\": \"text\",\n",
    "          \"text\": \"이 이미지에는 무엇이 들어있나요? 그들 사이에 어떤 차이가 있나요?\",\n",
    "        },\n",
    "        {\n",
    "          \"type\": \"image_url\",\n",
    "          \"image_url\": {\n",
    "            \"url\": \"https://upload.wikimedia.org/wikipedia/commons/thumb/d/dd/Gfp-wisconsin-madison-the-nature-boardwalk.jpg/2560px-Gfp-wisconsin-madison-the-nature-boardwalk.jpg\",\n",
    "          },\n",
    "        },\n",
    "        {\n",
    "          \"type\": \"image_url\",\n",
    "          \"image_url\": {\n",
    "            \"url\": \"https://img.freepik.com/premium-photo/a-wooden-walkway-leads-to-a-green-field-with-a-mountain-in-the-background_800563-10576.jpg\",\n",
    "          },\n",
    "        },\n",
    "      ],\n",
    "    }\n",
    "  ],\n",
    "  max_tokens=300,\n",
    ")"
   ]
  },
  {
   "cell_type": "code",
   "execution_count": 9,
   "id": "1f140a53-7758-40ee-aa7d-da3369da2df7",
   "metadata": {},
   "outputs": [
    {
     "name": "stdout",
     "output_type": "stream",
     "text": [
      "첫 번째 이미지는 맑은 하늘과 초록의 풀밭이 펼쳐진 경치로, 나무로 만들어진 산책로가 초원을 지나가는 모습입니다. 푸르른 식물과 맑은 날씨가 주는 평화로운 분위기가 특징적입니다.\n",
      "\n",
      "두 번째 이미지는 지평선에 있는 산과 함께 석양이 드리워진 풍경으로, 길게 펼쳐진 길이 밀밭을 지나고 있는 모습입니다. 이 이미지에서는 시간대가 저녁이나 아침쯤으로 보이며, 빛과 그림자의 대비가 강조됩니다.\n",
      "\n",
      "두 이미지의 주된 차이는 분위기와 시간대입니다. 첫 번째 이미지는 낮의 생동감 넘치는 느낌을 주는 반면, 두 번째 이미지는 석양의 차분한 느낌을 담고 있습니다. 또한, 첫 번째는 초원과 숲이 있는 반면, 두 번째는 밀밭과 산이 배경으로 되어 있습니다.\n"
     ]
    }
   ],
   "source": [
    "print(response.choices[0].message.content)"
   ]
  },
  {
   "cell_type": "code",
   "execution_count": null,
   "id": "9e304b90-0d30-4dca-89f4-4d7c46ae346c",
   "metadata": {},
   "outputs": [],
   "source": []
  }
 ],
 "metadata": {
  "kernelspec": {
   "display_name": "Python 3 (ipykernel)",
   "language": "python",
   "name": "python3"
  },
  "language_info": {
   "codemirror_mode": {
    "name": "ipython",
    "version": 3
   },
   "file_extension": ".py",
   "mimetype": "text/x-python",
   "name": "python",
   "nbconvert_exporter": "python",
   "pygments_lexer": "ipython3",
   "version": "3.9.16"
  }
 },
 "nbformat": 4,
 "nbformat_minor": 5
}
