{
 "cells": [
  {
   "cell_type": "markdown",
   "id": "e0619d6b-69f6-4f0a-91fa-85eebe422e45",
   "metadata": {},
   "source": [
    "# Assistants API\n",
    "\n",
    "Assistants API를 사용하면 자체 애플리케이션 내에 AI 도우미를 구축할 수 있습니다. 어시스턴트에는 instruction(지침)이 있으며 모델, 도구 및 파일을 활용하여 사용자 쿼리에 응답할 수 있습니다. Assistants API는 현재 코드 해석기, 파일 검색 및 함수 호출의 세 가지 유형의 도구를 지원합니다.  \n",
    "\n",
    "Assistants 플레이그라운드(https://platform.openai.com/playground?mode=assistant)를 사용 하거나 아래에 설명된 것과 같이 Assistants API의 기능을 탐색할 수 있습니다."
   ]
  },
  {
   "cell_type": "code",
   "execution_count": null,
   "id": "cb715463",
   "metadata": {},
   "outputs": [],
   "source": []
  },
  {
   "cell_type": "code",
   "execution_count": null,
   "id": "512c8af4",
   "metadata": {},
   "outputs": [],
   "source": []
  },
  {
   "cell_type": "markdown",
   "id": "9317c693-6639-458a-998c-72304b2e0d97",
   "metadata": {},
   "source": [
    "### 코드 해석기 (Code Interpreter)\n",
    "\n",
    "Assistants가 샌드박스 실행 환경에서 Python 코드를 작성하고 실행할 수 있습니다. 이 도구는 다양한 데이터와 포맷의 파일을 처리할 수 있으며, 데이터와 그래프 이미지가 포함된 파일을 생성할 수 있습니다. 코드 해석기를 사용하면 어시스턴트가 코드를 반복적으로 실행하여 어려운 코드 및 수학 문제를 해결할 수 있습니다. 어시스턴트가 실행에 실패한 코드를 작성하면 코드 실행이 성공할 때까지 다른 코드 실행을 시도하여 이 코드를 반복할 수 있습니다."
   ]
  },
  {
   "cell_type": "markdown",
   "id": "f11f5b57-ac33-4d4f-84f7-f1ffe0aaff0d",
   "metadata": {},
   "source": [
    "### Step 1 : assistant 생성  \n",
    "\n",
    "- assistant는 model , instructions및 같은 여러 매개변수를 사용하여 사용자의 메시지에 응답하도록 구성할 수 있는 엔터티를 나타냅니다.\n",
    "\n",
    "Instruction: 어시스턴트와 모델이 어떻게 행동하거나 반응해야 하는지 지시  \n",
    "Model: 모델 지정   \n",
    "Tools: API는 OpenAI에서 구축하고 호스팅하는 코드 해석기 및 검색을 지원합니다.  \n",
    "Functions: 함수 호출을 사용하면 Assistants API에 함수를 설명하고 인수와 함께 호출해야 하는 함수를 지능적으로 반환하도록 할 수 있습니다.  \n",
    "\n",
    "### 이 예에서는 코드 해석기 도구가 활성화된 개인 수학 교사인 도우미를 만듭니다.  \n",
    "예) code interpreter가 활성화된 개인 수학 교사 assistant를 생성하여 주어진 수학 문제를 푸는 python code 생성"
   ]
  },
  {
   "cell_type": "code",
   "execution_count": null,
   "id": "0424e1f4",
   "metadata": {},
   "outputs": [],
   "source": [
    "# assistant 생성"
   ]
  },
  {
   "cell_type": "markdown",
   "id": "837e7ba4-5e9d-4ec4-9f18-57d152df45ad",
   "metadata": {},
   "source": [
    "### Step 2 : Thread 생성\n",
    "\n",
    "스레드는 사용자와 하나 이상의 Assistant 간의 대화를 나타냅니다. 사용자(또는 AI 애플리케이션)가 어시스턴트와 대화를 시작할 때 스레드를 생성할 수 있습니다.  \n",
    "사용자가 대화를 시작하자마자 사용자당 하나의 스레드를 생성하는 것이 좋습니다. 메시지를 생성하여 이 스레드에 사용자별 컨텍스트와 파일을 전달합니다.    "
   ]
  },
  {
   "cell_type": "code",
   "execution_count": null,
   "id": "4193f29e",
   "metadata": {},
   "outputs": [],
   "source": [
    "# thread 생성"
   ]
  },
  {
   "cell_type": "markdown",
   "id": "fbc2f82d-2ca6-4f1e-ace5-3f63bc2fcaa7",
   "metadata": {},
   "source": [
    "### Step 3 : Thread에 message 추가\n",
    "\n",
    "사용자나 애플리케이션이 생성한 메시지의 내용은 스레드에 메시지 개체로 추가됩니다. 메시지에는 텍스트와 파일이 모두 포함될 수 있습니다. 스레드에 추가할 수 있는 메시지 수에는 제한이 없습니다. 모델의 컨텍스트 창에 맞지 ​​않는 모든 컨텍스트를 스마트하게 자릅니다. 어시스턴트 API를 사용하면 특정 RUN에 대해 모델에 전달되는 입력 토큰 수에 대한 제어를 위임합니다. 즉, 경우에 따라 어시스턴트 실행 비용에 대한 제어 권한이 줄어들지만 복잡성을 처리할 필요는 없습니다. "
   ]
  },
  {
   "cell_type": "code",
   "execution_count": null,
   "id": "8dfca1a7",
   "metadata": {},
   "outputs": [],
   "source": [
    "# thread에 message 추가\n",
    "    #content=\"I need to solve the equation `3x + 11 = 14`. Can you help me?\""
   ]
  },
  {
   "cell_type": "code",
   "execution_count": null,
   "id": "4c4a1db8",
   "metadata": {},
   "outputs": [],
   "source": []
  },
  {
   "cell_type": "markdown",
   "id": "8442d29b-e724-4062-b8de-a89e1ddb565e",
   "metadata": {},
   "source": [
    "### Step 4 : Run 생성\n",
    "\n",
    "모든 사용자 메시지가 스레드에 추가되면 특정 Assistant를 사용하여 스레드를 Run할 수 있습니다. Run을 생성하면 Assistant와 관련된 모델 및 도구를 사용하여 응답을 생성합니다. 이러한 응답은 스레드에 assistant메시지로 추가됩니다.\n",
    "\n",
    "| 방식                          | 응답 속도       | 구현 난이도 | 사용 시점                   | 특징                              | 선택 기준 |\r\n",
    "|------------------------------|--------------|----------|--------------------------|----------------------------------|------------------------------|\r\n",
    "| **Streaming (`stream()`)**   | 빠름 (즉시 응답) | 복잡함     | 실시간 응답이 필요한 경우      | 이벤트 기반 응답, 자연스러운 대화 | ✅ 대화형 챗봇처럼 실시간 응답이 중요한 경우  |\r\n",
    "|                              |              |          |                          |                                  | ✅ 결과를 빠르게 부분적으로 보여줘야 하는 경우 |\r\n",
    "|                              |              |          |                          |                                  | ✅ API 요청이 오래 걸리는 작업을 실행하는 경우 (예: 코드 실행, 데이터 분석 등) |\r\n",
    "| **Polling (`create_and_poll()`)** | 느림 (완료 후 응답) | 간단함     | 전체 결과가 필요할 때          | 한 번에 모든 결과를 가져옴       | ✅ 응답을 한 번에 처리해야 하는 경우 (예: 로그 분석, 문서 요약 등) |\r\n",
    "|                              |              |          |                          |                                  | ✅ 실시간 응답이 필요하지 않은 백그라운드 작업 |\r\n",
    "|                              |              |          |                          |                                  | ✅ 간단한 API 호출이 필요한 경우 |\r\n",
    " |\r\n"
   ]
  },
  {
   "cell_type": "markdown",
   "id": "0a20afa0-a97c-43a9-b469-5be9f2bfe8ef",
   "metadata": {},
   "source": [
    "### 방법 1 - streaming 방식\n",
    "OpenAI의 AssistantEventHandler를 사용하여 Run을 만들고 응답을 스트리밍할 수 있습니다."
   ]
  },
  {
   "cell_type": "code",
   "execution_count": null,
   "id": "b47c7485",
   "metadata": {},
   "outputs": [],
   "source": [
    "# 먼저, 이벤트 핸들러 클래스(EventHandler)를 생성하여\n",
    "# 응답 스트림에서 이벤트를 어떻게 처리할지 정의합니다.\n",
    "class EventHandler(AssistantEventHandler):    \n",
    "  # 텍스트 생성이 완료되었을 때 호출되는 메서드\n",
    "  def on_text_created(self, text) -> None:\n",
    "  # 텍스트 생성 중간에 호출되는 메서드. 점진적으로 delta.value 출력\n",
    "  def on_text_delta(self, delta, snapshot):\n",
    "  # 도구 호출이 생성되었을 때 호출되는 메서드\n",
    "  def on_tool_call_created(self, tool_call):\n",
    "  # 도구 호출 중간에 호출되는 메서드\n",
    "  def on_tool_call_delta(self, delta, snapshot):\n",
    "      # 파이썬 코드\n",
    "      # 파이썬 코드 실행 결과\n",
    "          # 실행된 코드의 출력을 로그 형태로 출력"
   ]
  },
  {
   "cell_type": "code",
   "execution_count": null,
   "id": "16772e7f",
   "metadata": {},
   "outputs": [],
   "source": [
    "# 그런 다음, `stream` SDK 도우미와 `EventHandler` 클래스를 사용하여\n",
    "# Run을 생성하고 응답을 스트리밍합니다."
   ]
  },
  {
   "cell_type": "markdown",
   "id": "bd9820cb-45a1-4cef-9229-7e6e70ecc1f5",
   "metadata": {},
   "source": [
    "### 방법 2 - polling 방식 \n",
    "RUN은 비동기식입니다. 즉, 터미널 상태에 도달할 때까지 Run 개체를 폴링하여 상태를 모니터링해야 한다는 뜻입니다. 'create_and_poll' SDK는 Run 생성과 완료 폴링을 모두 지원합니다."
   ]
  },
  {
   "cell_type": "code",
   "execution_count": null,
   "id": "9e1d2d3d",
   "metadata": {},
   "outputs": [],
   "source": [
    "# `create_and_poll` 메서드를 사용하여 새로운 실행(run)을 생성하고 해당 실행이 완료될 때까지 폴링합니다."
   ]
  },
  {
   "cell_type": "code",
   "execution_count": null,
   "id": "f139c71a",
   "metadata": {},
   "outputs": [],
   "source": [
    "# 실행 상태 확인"
   ]
  },
  {
   "cell_type": "code",
   "execution_count": null,
   "id": "34217c80",
   "metadata": {},
   "outputs": [],
   "source": []
  },
  {
   "cell_type": "code",
   "execution_count": null,
   "id": "c9fa2aae",
   "metadata": {},
   "outputs": [],
   "source": []
  },
  {
   "cell_type": "code",
   "execution_count": null,
   "id": "5e4a9fff",
   "metadata": {},
   "outputs": [],
   "source": []
  },
  {
   "cell_type": "code",
   "execution_count": null,
   "id": "3a2f0e03",
   "metadata": {},
   "outputs": [],
   "source": []
  },
  {
   "cell_type": "markdown",
   "id": "e27ee005-6f12-4d1b-abe5-ab295a9c73a7",
   "metadata": {},
   "source": [
    "## 코드 해석기를 이용한 파일 내용 분석\n",
    "Assistant 에 전달된 파일은 이 Assistant를 사용하는 모든 Run에서 액세스할 수 있습니다.  \n",
    "\n",
    "다음은 OpenAI의 code interpreter 도구를 사용하여 업로드된 mydata.csv 파일을 바탕으로 사용자에게 응답하는 샘플 코드입니다. 이 코드는 사용자가 특정 질문을 할 때 CSV 파일을 읽고, 해당 질문에 맞는 응답을 제공하는 예제입니다.\n",
    "\n",
    "가정: 사용자가 학생의 이름을 입력하면 해당 학생의 나이와 성적을 반환하는 예제\n",
    "\n",
    "#### 1. CSV 파일 업로드 및 어시스턴트 생성 코드"
   ]
  },
  {
   "cell_type": "code",
   "execution_count": null,
   "id": "68bf8600",
   "metadata": {},
   "outputs": [],
   "source": [
    "# 예시 데이터 생성\n",
    "# 데이터프레임 생성\n",
    "# CSV 파일로 저장"
   ]
  },
  {
   "cell_type": "code",
   "execution_count": null,
   "id": "454e6208",
   "metadata": {},
   "outputs": [],
   "source": [
    "# \"mydata.csv\" 파일을 업로드\n",
    "# 파일 ID를 사용하여 어시스턴트 생성"
   ]
  },
  {
   "cell_type": "markdown",
   "id": "2410b7d4-20ab-4ba0-a1cf-fe87d8c558c0",
   "metadata": {},
   "source": [
    "#### 2. 사용자 질문에 응답하는 코드 인터프리터 코드"
   ]
  },
  {
   "cell_type": "code",
   "execution_count": null,
   "id": "692da6ca",
   "metadata": {},
   "outputs": [],
   "source": []
  },
  {
   "cell_type": "code",
   "execution_count": null,
   "id": "9d1fd9a0",
   "metadata": {},
   "outputs": [],
   "source": [
    "# 그런 다음, `stream` SDK 도우미와 `EventHandler` 클래스를 사용하여\n",
    "# Run을 생성하고 응답을 스트리밍합니다."
   ]
  },
  {
   "cell_type": "code",
   "execution_count": null,
   "id": "d238a73f",
   "metadata": {},
   "outputs": [],
   "source": []
  }
 ],
 "metadata": {
  "kernelspec": {
   "display_name": "Python 3 (ipykernel)",
   "language": "python",
   "name": "python3"
  },
  "language_info": {
   "codemirror_mode": {
    "name": "ipython",
    "version": 3
   },
   "file_extension": ".py",
   "mimetype": "text/x-python",
   "name": "python",
   "nbconvert_exporter": "python",
   "pygments_lexer": "ipython3",
   "version": "3.9.16"
  }
 },
 "nbformat": 4,
 "nbformat_minor": 5
}
