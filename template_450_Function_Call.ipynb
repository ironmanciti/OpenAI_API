{
 "cells": [
  {
   "cell_type": "markdown",
   "id": "14745a6a-9274-4410-8223-d47c135d3923",
   "metadata": {},
   "source": [
    "# 함수 호출\n",
    "- 대규모 언어 모델을 외부 도구에 연결하는 방법  \n",
    "\n",
    "- API 호출에서 함수를 설명하고 모델이 하나 이상의 함수를 호출하기 위한 인수가 포함된 JSON 개체를 출력하도록 지능적으로 선택하도록 할 수 있습니다. Chat Completions API는 함수를 호출하지 않습니다. 대신 모델은 코드에서 함수를 호출하는 데 사용할 수 있는 JSON을 생성합니다.\n",
    "- 모델은 함수를 호출해야 하는 시기를 감지하고 함수를 준수하는 JSON으로 응답하도록 훈련되었습니다. 이 기능에는 잠재적인 위험도 따릅니다. 사용자를 대신하여 세상에 영향을 미치는 조치(이메일 전송, 온라인 게시, 구매 등)를 수행하기 전에 사용자 확인 흐름을 구축하는 것이 좋습니다."
   ]
  },
  {
   "cell_type": "markdown",
   "id": "25632191-7a44-4ea2-81a0-7ef6529140c7",
   "metadata": {},
   "source": [
    "### 채팅 모델로 함수를 호출하는 방법\n",
    "\n",
    "함수 호출을 위한 기본 단계는 다음과 같습니다:\n",
    "\n",
    "1. **모델 호출**: 사용자 질의와 함께 함수 집합을 정의하여 모델을 호출합니다. 함수 목록을 `tools` 파라미터에 제공합니다.\n",
    "\n",
    "\n",
    "2. **모델의 함수 호출 선택**: 모델은 하나 이상의 함수를 호출할 수 있습니다. 이 경우, 모델의 응답 내용은 사용자가 정의한 스키마에 따른 JSON 객체 문자열이 됩니다. \n",
    "\n",
    "\n",
    "3. **JSON 파싱 및 함수 호출**: 코드에서 문자열을 JSON으로 파싱하고, 제공된 인수가 있는 경우 함수를 호출합니다.\n",
    "\n",
    "\n",
    "4. **모델 재호출 및 결과 요약**: 함수 응답을 새로운 메시지로 추가하여 모델을 다시 호출합니다. 모델이 결과를 사용자에게 요약하여 전달합니다.\n",
    "\n",
    "이 단계들은 사용자 질의에 따라 적절한 함수를 선택하고, 해당 함수의 응답을 처리하여 최종 결과를 사용자에게 제공하는 과정을 포함합니다. 이를 통해 사용자는 더 나은 응답을 받을 수 있습니다."
   ]
  },
  {
   "cell_type": "markdown",
   "id": "86bcdef2-ea2f-4ebf-bd91-b1c02e594394",
   "metadata": {},
   "source": [
    "### 함수 정의 (Defining Functions)\n",
    "- 각 API 요청의 tools 매개변수 내에서 함수를 정의할 수 있습니다.\n",
    "- 함수는 스키마(Schema) 를 통해 정의되며, 모델이 함수의 목적과 입력 인수를 이해할 수 있도록 돕습니다.\n",
    "스키마는 다음과 같은 필드로 구성됩니다.\n",
    "| 필드        | 설명                                      |\r\n",
    "|------------|------------------------------------------|\r\n",
    "| **name**   | 함수의 이름 (예: `get_weather`)          |\r\n",
    "| **description** | 함수가 언제, 어떻게 사용되는지 설명  |\r\n",
    "| **parameters**  | 함수의 입력 인수를 정의하는 JSON 스키마 |\r\n"
   ]
  },
  {
   "cell_type": "code",
   "execution_count": null,
   "id": "795c2747",
   "metadata": {},
   "outputs": [],
   "source": []
  },
  {
   "cell_type": "code",
   "execution_count": null,
   "id": "ac1ebed0",
   "metadata": {},
   "outputs": [],
   "source": []
  },
  {
   "cell_type": "code",
   "execution_count": null,
   "id": "d2f4ee87",
   "metadata": {},
   "outputs": [],
   "source": [
    "# 예제 더미 함수로 하드 코딩된 동일한 날씨 정보를 반환합니다.\n",
    "# 실제 환경에서는 백엔드 API 또는 외부 API가 될 수 있습니다.\n",
    "def get_current_weather(location, unit=\"celsius\"):"
   ]
  },
  {
   "cell_type": "code",
   "execution_count": null,
   "id": "c5c70c17",
   "metadata": {},
   "outputs": [],
   "source": [
    "# 모델이 호출할 수 있는 함수들을 딕셔너리 형태로 정의합니다.\n",
    "# 이 예제에서는 하나의 함수만 있지만, 여러 개의 함수가 있을 수 있습니다."
   ]
  },
  {
   "cell_type": "code",
   "execution_count": null,
   "id": "928c7095",
   "metadata": {},
   "outputs": [],
   "source": [
    "#함수 집합 정의"
   ]
  },
  {
   "cell_type": "code",
   "execution_count": null,
   "id": "96d9fa89",
   "metadata": {},
   "outputs": [],
   "source": [
    "# Step 1: 모델 호출: 사용자 질의와 함께 함수 집합을 정의하여 모델을 호출합니다. 함수 목록을 tools 파라미터에 제공합니다.\n",
    "# Step 2: 모델의 함수 호출 선택: 모델은 하나 이상의 함수를 호출할 수 있습니다. \n",
    "# 이 경우, 모델의 응답 내용은 사용자가 정의한 스키마에 따른 JSON 객체 문자열이 됩니다."
   ]
  },
  {
   "cell_type": "code",
   "execution_count": null,
   "id": "7e09ce22",
   "metadata": {},
   "outputs": [],
   "source": [
    "# 도구 호출 처리\n",
    "        # Step 3: 함수를 호출합니다.\n",
    "        # 함수 응답을 대화에 추가\n",
    "    # Step 4: 각 함수 호출에 대한 정보와 함수 응답을 모델에 전달합니다."
   ]
  },
  {
   "cell_type": "code",
   "execution_count": null,
   "id": "f7357f7a",
   "metadata": {},
   "outputs": [],
   "source": [
    "# second_response를 dictionary로 출력"
   ]
  },
  {
   "cell_type": "code",
   "execution_count": null,
   "id": "b6c9119a",
   "metadata": {},
   "outputs": [],
   "source": [
    "# message.content 출력"
   ]
  },
  {
   "cell_type": "markdown",
   "id": "5af0ec0f-ba19-4cc8-ae09-252da6de50eb",
   "metadata": {},
   "source": [
    "### Free Weather API 이용\n",
    "https://open-meteo.com/"
   ]
  },
  {
   "cell_type": "code",
   "execution_count": null,
   "id": "68f44a9d",
   "metadata": {},
   "outputs": [],
   "source": [
    "# 현재의 온도 가져오기\n",
    "def get_weather(latitude, longitude):\n",
    "# 서울의 위도, 경도"
   ]
  },
  {
   "cell_type": "code",
   "execution_count": null,
   "id": "58e91e27",
   "metadata": {},
   "outputs": [],
   "source": []
  },
  {
   "cell_type": "code",
   "execution_count": null,
   "id": "f1ad02f1",
   "metadata": {},
   "outputs": [],
   "source": [
    "# 함수 호출 확인 "
   ]
  },
  {
   "cell_type": "code",
   "execution_count": null,
   "id": "5da494ce",
   "metadata": {},
   "outputs": [],
   "source": [
    "# parameters 확인"
   ]
  },
  {
   "cell_type": "code",
   "execution_count": null,
   "id": "5473d825",
   "metadata": {},
   "outputs": [],
   "source": [
    "# 함수 호출 결과 저장"
   ]
  },
  {
   "cell_type": "code",
   "execution_count": null,
   "id": "1c9ecec9",
   "metadata": {},
   "outputs": [],
   "source": []
  },
  {
   "cell_type": "code",
   "execution_count": null,
   "id": "631561a5",
   "metadata": {},
   "outputs": [],
   "source": [
    "# 모델의 함수 호출 결과 메시지를 messages 리스트에 추가\n",
    "# 함수 실행 결과를 messages 리스트에 추가"
   ]
  },
  {
   "cell_type": "code",
   "execution_count": null,
   "id": "b77a00d0",
   "metadata": {},
   "outputs": [],
   "source": [
    "# API를 호출하여 모델의 응답을 생성 (Function Calling 포함)"
   ]
  },
  {
   "cell_type": "code",
   "execution_count": null,
   "id": "2b74e974",
   "metadata": {},
   "outputs": [],
   "source": []
  },
  {
   "cell_type": "markdown",
   "id": "8b0e5a52-3eb4-4f92-951e-2282287902f2",
   "metadata": {},
   "source": [
    "### Email 보내기"
   ]
  },
  {
   "cell_type": "code",
   "execution_count": null,
   "id": "c5dc094f",
   "metadata": {},
   "outputs": [],
   "source": [
    "# email 생성 함수\n",
    "def send_email(to, subject, body):\n",
    "    # 메일 제목과 내용을 설정하는 모듈"
   ]
  },
  {
   "cell_type": "code",
   "execution_count": null,
   "id": "970ae6ce",
   "metadata": {},
   "outputs": [],
   "source": [
    "# 모델이 호출할 수 있는 함수들을 딕셔너리 형태로 정의합니다.\n",
    "# 이 예제에서는 하나의 함수만 있지만, 여러 개의 함수가 있을 수 있습니다."
   ]
  },
  {
   "cell_type": "code",
   "execution_count": null,
   "id": "a3b84d80",
   "metadata": {},
   "outputs": [],
   "source": [
    "# 이메일 보내기(send_email) 함수 호출 예제"
   ]
  },
  {
   "cell_type": "code",
   "execution_count": null,
   "id": "e5176b5a",
   "metadata": {},
   "outputs": [],
   "source": [
    "# 첫 번째 함수 호출(`tool_calls[0]`)을 딕셔너리 형식으로 변환"
   ]
  },
  {
   "cell_type": "code",
   "execution_count": null,
   "id": "36c72cfd",
   "metadata": {},
   "outputs": [],
   "source": [
    "# OpenAI API의 응답에서 첫 번째 선택된 응답 메시지 가져오기\n",
    "# Assistant가 호출한 Function Calling(함수 호출) 목록 가져오기"
   ]
  },
  {
   "cell_type": "code",
   "execution_count": null,
   "id": "36afe699",
   "metadata": {},
   "outputs": [],
   "source": [
    "# 도구 호출 처리\n",
    "        # Step 3: 함수를 호출합니다.\n",
    "        # 함수 응답을 대화에 추가\n",
    "    # Step 4: 각 함수 호출에 대한 정보와 함수 응답을 모델에 전달합니다."
   ]
  },
  {
   "cell_type": "code",
   "execution_count": null,
   "id": "3a4c43fd",
   "metadata": {},
   "outputs": [],
   "source": []
  },
  {
   "cell_type": "code",
   "execution_count": null,
   "id": "51b770ba",
   "metadata": {},
   "outputs": [],
   "source": []
  }
 ],
 "metadata": {
  "kernelspec": {
   "display_name": "Python 3 (ipykernel)",
   "language": "python",
   "name": "python3"
  },
  "language_info": {
   "codemirror_mode": {
    "name": "ipython",
    "version": 3
   },
   "file_extension": ".py",
   "mimetype": "text/x-python",
   "name": "python",
   "nbconvert_exporter": "python",
   "pygments_lexer": "ipython3",
   "version": "3.9.16"
  }
 },
 "nbformat": 4,
 "nbformat_minor": 5
}
