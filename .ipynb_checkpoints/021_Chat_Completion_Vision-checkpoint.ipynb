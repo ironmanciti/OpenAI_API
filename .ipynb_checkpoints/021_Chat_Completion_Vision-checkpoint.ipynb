{
 "cells": [
  {
   "cell_type": "markdown",
   "id": "c5a91499-2154-45fc-b4b0-10c888d61c6d",
   "metadata": {},
   "source": [
    "# Vision\n",
    "\n",
    "- GPT-4o with image inpus\n",
    "\n",
    "- GPT-4o와 GPT-4 Turbo 모두 비전 기능을 갖추고 있습니다. 즉, 모델이 이미지를 촬영하고 그에 대한 질문에 답할 수 있습니다"
   ]
  },
  {
   "cell_type": "code",
   "execution_count": 1,
   "id": "989f8b65-992a-4c1c-b196-aa19cfff4e95",
   "metadata": {},
   "outputs": [],
   "source": [
    "import os\n",
    "import openai\n",
    "import sys\n",
    "sys.path.append('./')\n",
    "\n",
    "from dotenv import load_dotenv, find_dotenv\n",
    "_ = load_dotenv(find_dotenv()) # read local .env file\n",
    "\n",
    "openai.api_key  = os.environ['OPENAI_API_KEY']"
   ]
  },
  {
   "cell_type": "markdown",
   "id": "77b88726-3171-428a-9145-c2a4e48c3521",
   "metadata": {},
   "source": [
    "이미지는 두 가지 주요 방법, 즉 이미지에 대한 링크를 전달하거나 요청에 base64로 인코딩된 이미지를 직접 전달하는 방법으로 모델에서 사용할 수 있습니다. "
   ]
  },
  {
   "cell_type": "code",
   "execution_count": 2,
   "id": "d5d24889-8f2f-479a-b5a1-d8d4a7a26b31",
   "metadata": {},
   "outputs": [],
   "source": [
    "from openai import OpenAI\n",
    "\n",
    "client = OpenAI()"
   ]
  },
  {
   "cell_type": "markdown",
   "id": "1a776c83-96c5-47bd-a67a-5b220905e0cc",
   "metadata": {},
   "source": [
    "<img src=\"https://upload.wikimedia.org/wikipedia/commons/thumb/d/dd/Gfp-wisconsin-madison-the-nature-boardwalk.jpg/2560px-Gfp-wisconsin-madison-the-nature-boardwalk.jpg\" width=300px />"
   ]
  },
  {
   "cell_type": "code",
   "execution_count": 3,
   "id": "db721c95-6024-4d85-961c-a5d4c648e9a0",
   "metadata": {},
   "outputs": [
    {
     "data": {
      "text/plain": [
       "{'id': 'chatcmpl-9XLCoedtOImNla0C9ICceLwXAbXH3',\n",
       " 'choices': [{'finish_reason': 'stop',\n",
       "   'index': 0,\n",
       "   'logprobs': None,\n",
       "   'message': {'content': '이 이미지는 파란 하늘 아래 넓은 풀밭과 나무로 된 길이 있는 모습을 담고 있습니다. 길 양옆으로는 푸른 잔디와 식물들이 무성하게 자라 있으며, 저 멀리에는 나무들이 자리잡고 있습니다. 하늘은 맑고 밝은 하늘색으로, 여기저기 흰 구름이 떠 있습니다. 전반적으로 평화롭고 자연 친화적인 분위기가 느껴지는 풍경입니다.',\n",
       "    'role': 'assistant'}}],\n",
       " 'created': 1717733366,\n",
       " 'model': 'gpt-4o-2024-05-13',\n",
       " 'object': 'chat.completion',\n",
       " 'system_fingerprint': 'fp_aa87380ac5',\n",
       " 'usage': {'completion_tokens': 107,\n",
       "  'prompt_tokens': 1127,\n",
       "  'total_tokens': 1234}}"
      ]
     },
     "execution_count": 3,
     "metadata": {},
     "output_type": "execute_result"
    }
   ],
   "source": [
    "url = \"https://upload.wikimedia.org/wikipedia/commons/thumb/d/dd/Gfp-wisconsin-madison-the-nature-boardwalk.jpg/2560px-Gfp-wisconsin-madison-the-nature-boardwalk.jpg\"\n",
    "\n",
    "response = client.chat.completions.create(\n",
    "  model=\"gpt-4o\",\n",
    "  messages=[\n",
    "    {\n",
    "      \"role\": \"user\",\n",
    "      \"content\": [\n",
    "        {\"type\": \"text\", \"text\": \"이 이미지의 내용을 설명해줘. 한국어로 설명해줘.\"},\n",
    "        {\n",
    "          \"type\": \"image_url\",\n",
    "          \"image_url\": {\n",
    "            \"url\": url,\n",
    "          },\n",
    "        },\n",
    "      ],\n",
    "    }\n",
    "  ],\n",
    "  max_tokens=300,\n",
    ")\n",
    "\n",
    "response.to_dict()"
   ]
  },
  {
   "cell_type": "code",
   "execution_count": 4,
   "id": "1bb38be4-cac2-4e73-a784-4c0732006b17",
   "metadata": {},
   "outputs": [
    {
     "name": "stdout",
     "output_type": "stream",
     "text": [
      "이 이미지는 파란 하늘 아래 넓은 풀밭과 나무로 된 길이 있는 모습을 담고 있습니다. 길 양옆으로는 푸른 잔디와 식물들이 무성하게 자라 있으며, 저 멀리에는 나무들이 자리잡고 있습니다. 하늘은 맑고 밝은 하늘색으로, 여기저기 흰 구름이 떠 있습니다. 전반적으로 평화롭고 자연 친화적인 분위기가 느껴지는 풍경입니다.\n"
     ]
    }
   ],
   "source": [
    "print(response.choices[0].message.content)"
   ]
  },
  {
   "cell_type": "markdown",
   "id": "7806b76d-628c-4946-9a57-92f0d5a0d0f7",
   "metadata": {},
   "source": [
    "### Base 64로 인코딩된 이미지 업로드\r\n",
    "로컬에 이미지 또는 이미지 세트가 있는 경우 이를 Base 64 인코딩 형식으로 모델에 전달할 수 있습니다. 다음은 이에 대한 실제 예입니다."
   ]
  },
  {
   "cell_type": "code",
   "execution_count": 30,
   "id": "69159b03-d829-469c-97e3-a3e44b1e0dc3",
   "metadata": {},
   "outputs": [
    {
     "name": "stdout",
     "output_type": "stream",
     "text": [
      "{'id': 'chatcmpl-9XLOiPfMWspbFxjhfRZK0ucYRJITH', 'object': 'chat.completion', 'created': 1717734104, 'model': 'gpt-4o-2024-05-13', 'choices': [{'index': 0, 'message': {'role': 'assistant', 'content': '이 이미지는 다양한 식품과 음료로 가득 찬 냉장고의 내부를 보여줍니다. 냉장고 선반에는 각종 채소와 과일, 생수병, 유제품, 소스와 같은 여러 가지 음식이 정리되어 있습니다. 좌측과 우측 문 선반에는 우유, 주스, 그리고 각종 작은 병들이 배치되어 있고, 선반 위에는 신선한 채소와 과일들이 놓여 있습니다. 중간 선반에는 플라스틱 물병과 여러 가지 야채들이 눈에 띄며, 하단의 서랍에는 당근, 셀러리, 레몬 등 다양한 채소와 과일이 보관되어 있습니다. 전체적으로 냉장고는 정리정돈이 잘 되어 있으며 알록달록한 식품들이 매우 신선해 보입니다.'}, 'logprobs': None, 'finish_reason': 'stop'}], 'usage': {'prompt_tokens': 443, 'completion_tokens': 186, 'total_tokens': 629}, 'system_fingerprint': 'fp_aa87380ac5'}\n"
     ]
    }
   ],
   "source": [
    "import base64\n",
    "import requests\n",
    "\n",
    "# Function to encode the image\n",
    "def encode_image(image_path):\n",
    "  with open(image_path, \"rb\") as image_file:\n",
    "    return base64.b64encode(image_file.read()).decode('utf-8')\n",
    "\n",
    "# Path to your image\n",
    "image_path = \"data/냉장고내용물.jpg\"\n",
    "\n",
    "# Getting the base64 string\n",
    "base64_image = encode_image(image_path)\n",
    "\n",
    "headers = {\n",
    "  \"Content-Type\": \"application/json\",\n",
    "  \"Authorization\": f\"Bearer {openai.api_key }\"\n",
    "}\n",
    "\n",
    "payload = {\n",
    "  \"model\": \"gpt-4o\",\n",
    "  \"messages\": [\n",
    "    {\n",
    "      \"role\": \"user\",\n",
    "      \"content\": [\n",
    "        {\n",
    "          \"type\": \"text\",\n",
    "          \"text\": \"이 이미지의 내용을 한국어로 설명해줘.\"\n",
    "        },\n",
    "        {\n",
    "          \"type\": \"image_url\",\n",
    "          \"image_url\": {\n",
    "            \"url\": f\"data:image/jpeg;base64,{base64_image}\"\n",
    "          }\n",
    "        }\n",
    "      ]\n",
    "    }\n",
    "  ],\n",
    "  \"max_tokens\": 300\n",
    "}\n",
    "\n",
    "response = requests.post(\"https://api.openai.com/v1/chat/completions\", headers=headers, json=payload)\n",
    "\n",
    "print(response.json())"
   ]
  },
  {
   "cell_type": "code",
   "execution_count": 31,
   "id": "38b8d4dd-fe6c-490e-8d5a-34d7e020ad63",
   "metadata": {},
   "outputs": [
    {
     "data": {
      "text/plain": [
       "'이 이미지는 다양한 식품과 음료로 가득 찬 냉장고의 내부를 보여줍니다. 냉장고 선반에는 각종 채소와 과일, 생수병, 유제품, 소스와 같은 여러 가지 음식이 정리되어 있습니다. 좌측과 우측 문 선반에는 우유, 주스, 그리고 각종 작은 병들이 배치되어 있고, 선반 위에는 신선한 채소와 과일들이 놓여 있습니다. 중간 선반에는 플라스틱 물병과 여러 가지 야채들이 눈에 띄며, 하단의 서랍에는 당근, 셀러리, 레몬 등 다양한 채소와 과일이 보관되어 있습니다. 전체적으로 냉장고는 정리정돈이 잘 되어 있으며 알록달록한 식품들이 매우 신선해 보입니다.'"
      ]
     },
     "execution_count": 31,
     "metadata": {},
     "output_type": "execute_result"
    }
   ],
   "source": [
    "res = response.json()\n",
    "res['choices'][0]['message']['content']"
   ]
  },
  {
   "cell_type": "markdown",
   "id": "8be985d2-2e5d-4f3a-9596-81e80fd43e00",
   "metadata": {},
   "source": [
    "### 다중 이미지 입력\n",
    "Chat Completions API는 base64로 인코딩된 형식이나 이미지 URL로 여러 이미지 입력을 가져와 처리할 수 있습니다. 모델은 각 이미지를 처리하고 모든 이미지의 정보를 사용하여 질문에 답합니다.\n",
    "\n",
    "<img src=\"https://upload.wikimedia.org/wikipedia/commons/thumb/d/dd/Gfp-wisconsin-madison-the-nature-boardwalk.jpg/2560px-Gfp-wisconsin-madison-the-nature-boardwalk.jpg\" width=300px />\n",
    "\n",
    "<img src=\"https://img.freepik.com/premium-photo/a-wooden-walkway-leads-to-a-green-field-with-a-mountain-in-the-background_800563-10576.jpg\" width=300px />"
   ]
  },
  {
   "cell_type": "code",
   "execution_count": 41,
   "id": "b825769b-e41f-474c-9257-129aa20f3c07",
   "metadata": {},
   "outputs": [],
   "source": [
    "from openai import OpenAI\n",
    "\n",
    "client = OpenAI()\n",
    "response = client.chat.completions.create(\n",
    "  model=\"gpt-4o\",\n",
    "  messages=[\n",
    "    {\n",
    "      \"role\": \"user\",\n",
    "      \"content\": [\n",
    "        {\n",
    "          \"type\": \"text\",\n",
    "          \"text\": \"이 이미지에는 무엇이 들어있나요? 그들 사이에 어떤 차이가 있나요?\",\n",
    "        },\n",
    "        {\n",
    "          \"type\": \"image_url\",\n",
    "          \"image_url\": {\n",
    "            \"url\": \"https://upload.wikimedia.org/wikipedia/commons/thumb/d/dd/Gfp-wisconsin-madison-the-nature-boardwalk.jpg/2560px-Gfp-wisconsin-madison-the-nature-boardwalk.jpg\",\n",
    "          },\n",
    "        },\n",
    "        {\n",
    "          \"type\": \"image_url\",\n",
    "          \"image_url\": {\n",
    "            \"url\": \"https://img.freepik.com/premium-photo/a-wooden-walkway-leads-to-a-green-field-with-a-mountain-in-the-background_800563-10576.jpg\",\n",
    "          },\n",
    "        },\n",
    "      ],\n",
    "    }\n",
    "  ],\n",
    "  max_tokens=300,\n",
    ")"
   ]
  },
  {
   "cell_type": "code",
   "execution_count": 42,
   "id": "9457ff50-d563-49e2-a152-2d6ee4b1d2f8",
   "metadata": {},
   "outputs": [
    {
     "data": {
      "text/plain": [
       "ChatCompletion(id='chatcmpl-9XLbIfU8isbxzCijlyZcAj1bgFCIS', choices=[Choice(finish_reason='length', index=0, logprobs=None, message=ChatCompletionMessage(content='이 두 이미지에는 다음과 같은 내용이 포함되어 있습니다:\\n\\n첫 번째 이미지:\\n- 푸른 하늘과 구름이 있는 맑은 날씨\\n- 녹색의 풀밭\\n- 나무로 된 보도\\n- 멀리 보이는 나무들\\n\\n두 번째 이미지:\\n- 해질녘 또는 해돋이 시간의 하늘(어두운 하늘과 햇빛이 섞인 모습)\\n- 녹색의 들판\\n- 나무로 된 보도\\n- 멀리 보이는 산들\\n\\n이미지 간 차이점:\\n1. **시간 및 날씨**: 첫 번째 이미지는 맑은 날씨의 청명한 하늘을 보여주는 반면, 두 번째 이미지는 해질녘이나 해돋이 시간대의 하늘을 보여줍니다.\\n2. **배경 요소**: 첫 번째 이미지는 멀리 있는 나무들이 배경을 이루지만, 두 번째 이미지는 멀리 산들이 보입니다.\\n3. **보도의 상태**: 첫 번째 이미지의 나무 보도는 전체적으로 상태가 양호하지만, 두 번째 이미지의 나무 보도는 여기저기 빈틈이 보입니다.\\n4. **조명 분위기**: 첫 번째 이미지는 밝고 명랑한 분위기를 강조하지만, 두 번째 이미지는 조용하고 평온한 느낌을 줍니다', role='assistant', function_call=None, tool_calls=None))], created=1717734884, model='gpt-4o-2024-05-13', object='chat.completion', system_fingerprint='fp_aa87380ac5', usage=CompletionUsage(completion_tokens=300, prompt_tokens=1556, total_tokens=1856))"
      ]
     },
     "execution_count": 42,
     "metadata": {},
     "output_type": "execute_result"
    }
   ],
   "source": [
    "response"
   ]
  },
  {
   "cell_type": "code",
   "execution_count": 44,
   "id": "1f140a53-7758-40ee-aa7d-da3369da2df7",
   "metadata": {},
   "outputs": [
    {
     "name": "stdout",
     "output_type": "stream",
     "text": [
      "이 두 이미지에는 다음과 같은 내용이 포함되어 있습니다:\n",
      "\n",
      "첫 번째 이미지:\n",
      "- 푸른 하늘과 구름이 있는 맑은 날씨\n",
      "- 녹색의 풀밭\n",
      "- 나무로 된 보도\n",
      "- 멀리 보이는 나무들\n",
      "\n",
      "두 번째 이미지:\n",
      "- 해질녘 또는 해돋이 시간의 하늘(어두운 하늘과 햇빛이 섞인 모습)\n",
      "- 녹색의 들판\n",
      "- 나무로 된 보도\n",
      "- 멀리 보이는 산들\n",
      "\n",
      "이미지 간 차이점:\n",
      "1. **시간 및 날씨**: 첫 번째 이미지는 맑은 날씨의 청명한 하늘을 보여주는 반면, 두 번째 이미지는 해질녘이나 해돋이 시간대의 하늘을 보여줍니다.\n",
      "2. **배경 요소**: 첫 번째 이미지는 멀리 있는 나무들이 배경을 이루지만, 두 번째 이미지는 멀리 산들이 보입니다.\n",
      "3. **보도의 상태**: 첫 번째 이미지의 나무 보도는 전체적으로 상태가 양호하지만, 두 번째 이미지의 나무 보도는 여기저기 빈틈이 보입니다.\n",
      "4. **조명 분위기**: 첫 번째 이미지는 밝고 명랑한 분위기를 강조하지만, 두 번째 이미지는 조용하고 평온한 느낌을 줍니다\n"
     ]
    }
   ],
   "source": [
    "print(response.choices[0].message.content)"
   ]
  },
  {
   "cell_type": "code",
   "execution_count": null,
   "id": "9e304b90-0d30-4dca-89f4-4d7c46ae346c",
   "metadata": {},
   "outputs": [],
   "source": []
  }
 ],
 "metadata": {
  "kernelspec": {
   "display_name": "Python 3 (ipykernel)",
   "language": "python",
   "name": "python3"
  },
  "language_info": {
   "codemirror_mode": {
    "name": "ipython",
    "version": 3
   },
   "file_extension": ".py",
   "mimetype": "text/x-python",
   "name": "python",
   "nbconvert_exporter": "python",
   "pygments_lexer": "ipython3",
   "version": "3.9.16"
  }
 },
 "nbformat": 4,
 "nbformat_minor": 5
}
