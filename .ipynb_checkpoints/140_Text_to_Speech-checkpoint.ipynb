{
 "cells": [
  {
   "cell_type": "code",
   "execution_count": 1,
   "id": "0ed382a9-0877-4faf-be05-0a7b6ba33ae2",
   "metadata": {},
   "outputs": [],
   "source": [
    "import os\n",
    "import openai\n",
    "import sys\n",
    "sys.path.append('./')\n",
    "\n",
    "from dotenv import load_dotenv, find_dotenv\n",
    "_ = load_dotenv(find_dotenv()) # read local .env file"
   ]
  },
  {
   "attachments": {},
   "cell_type": "markdown",
   "id": "4352baae-7044-4a6f-a4b8-d18da7b47c20",
   "metadata": {},
   "source": [
    "# Text to Audio\n",
    "- 텍스트를 오디오로 변환\n",
    "- 6개의 내장 음성 제공\n",
    "( alloy, echo, fable, onyx, nova및 shimmer)"
   ]
  },
  {
   "cell_type": "code",
   "execution_count": 6,
   "id": "b946d023-0409-4096-9d07-46234e3236c0",
   "metadata": {},
   "outputs": [
    {
     "name": "stderr",
     "output_type": "stream",
     "text": [
      "C:\\Users\\trimu\\AppData\\Local\\Temp\\ipykernel_30016\\80842627.py:15: DeprecationWarning: Due to a bug, this method doesn't actually stream the response content, `.with_streaming_response.method()` should be used instead\n",
      "  response.stream_to_file(speech_file_path)\n"
     ]
    }
   ],
   "source": [
    "from openai import OpenAI\n",
    "client = OpenAI()\n",
    "\n",
    "speech_file_path = \"output/speech.mp3\"\n",
    "\n",
    "response = client.audio.speech.create(\n",
    "  model=\"tts-1\",\n",
    "  voice=\"alloy\",\n",
    "  input=\"\"\"\n",
    "  한국의 자연은 울창한 산림, 아름다운 해안선, 그리고 계절마다 변화하는 아름다운 경관으로 유명합니다. \n",
    "  봄에는 벚꽃이, 가을에는 단풍이 화려하며, 전국에 흩어진 국립공원과 하천은 탐방객들에게 인기 있는 명소입니다.\n",
    "  \"\"\"\n",
    ")\n",
    "\n",
    "response.stream_to_file(speech_file_path)"
   ]
  },
  {
   "cell_type": "code",
   "execution_count": null,
   "id": "8ee54b7e-2f28-4a5b-ade0-7d2e4ab63f5e",
   "metadata": {},
   "outputs": [],
   "source": []
  }
 ],
 "metadata": {
  "kernelspec": {
   "display_name": "Python 3 (ipykernel)",
   "language": "python",
   "name": "python3"
  },
  "language_info": {
   "codemirror_mode": {
    "name": "ipython",
    "version": 3
   },
   "file_extension": ".py",
   "mimetype": "text/x-python",
   "name": "python",
   "nbconvert_exporter": "python",
   "pygments_lexer": "ipython3",
   "version": "3.9.16"
  }
 },
 "nbformat": 4,
 "nbformat_minor": 5
}
