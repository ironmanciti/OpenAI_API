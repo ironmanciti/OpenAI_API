{
 "cells": [
  {
   "attachments": {},
   "cell_type": "markdown",
   "id": "e0619d6b-69f6-4f0a-91fa-85eebe422e45",
   "metadata": {},
   "source": [
    "# Assistants API - Function Calling(함수 호출)\n",
    "\n",
    "함수 호출을 사용하면 Assistants API에 함수를 설명하고 인수와 함께 호출해야 하는 함수를 지능적으로 반환하도록 할 수 있습니다.\n",
    "\n",
    "이 예에서는 날씨 assistant를 만들고 assistant가 호출할 수 있는 도구로 `get_current_temp`, `get_rain_probability` 및 `get_n_day_weather_forecast`라는 세 가지 함수를 정의합니다. 사용자 쿼리에 따라 모델은 2023년 11월 6일 이후에 출시된 최신 모델을 사용하는 경우 병렬 함수 호출을 호출합니다. 병렬 함수 호출을 사용하는 예시에서는 assistant에게 오늘 특정 도시의 날씨가 어떨지와 비가 올 확률을 물어봅니다. 스트리밍으로 어시스턴트의 응답을 출력하는 방법도 보여줍니다.\n"
   ]
  },
  {
   "cell_type": "code",
   "execution_count": 1,
   "id": "7a0399e0-6377-4e2b-a155-488cb32821ea",
   "metadata": {},
   "outputs": [],
   "source": [
    "import os\n",
    "import openai\n",
    "import sys\n",
    "sys.path.append('./')\n",
    "\n",
    "from dotenv import load_dotenv, find_dotenv\n",
    "_ = load_dotenv(find_dotenv()) # read local .env file"
   ]
  },
  {
   "cell_type": "markdown",
   "id": "c1203d8d-8661-409d-bb54-bbf32979494e",
   "metadata": {},
   "source": [
    "### 1단계: 함수 정의\n",
    "어시스턴트를 생성할 때 먼저 어시스턴트의 tools 매개변수 아래에 기능을 정의합니다."
   ]
  },
  {
   "cell_type": "code",
   "execution_count": 2,
   "id": "b7a3f2ce-a4e9-48ee-8745-33e76c8fb5c0",
   "metadata": {},
   "outputs": [],
   "source": [
    "from openai import OpenAI\n",
    "client = OpenAI()\n",
    " \n",
    "assistant = client.beta.assistants.create(\n",
    "  instructions=\"당신은 날씨 봇입니다. 제공된 function을 사용하여 질문에 답하세요.\",\n",
    "  model=\"gpt-4o\",\n",
    "  tools=[\n",
    "    {\n",
    "      \"type\": \"function\",\n",
    "      \"function\": {\n",
    "        \"name\": \"get_current_temperature\",\n",
    "        \"description\": \"특정 위치의 현재 온도를 가져옵니다.\",\n",
    "        \"parameters\": {\n",
    "          \"type\": \"object\",\n",
    "          \"properties\": {\n",
    "            \"location\": {\n",
    "              \"type\": \"string\",\n",
    "              \"description\": \"도시/도, e.g., 인천/경기도\"\n",
    "            },\n",
    "          },\n",
    "          \"required\": [\"location\"]\n",
    "        }\n",
    "      }\n",
    "    },\n",
    "    {\n",
    "      \"type\": \"function\",\n",
    "      \"function\": {\n",
    "        \"name\": \"get_rain_probability\",\n",
    "        \"description\": \"특정 지역에 비가 올 확률을 가져옵니다.\",\n",
    "        \"parameters\": {\n",
    "          \"type\": \"object\",\n",
    "          \"properties\": {\n",
    "            \"location\": {\n",
    "              \"type\": \"string\",\n",
    "              \"description\": \"도시/도, e.g., 인천/경기도\"\n",
    "            }\n",
    "          },\n",
    "          \"required\": [\"location\"]\n",
    "        }\n",
    "      }\n",
    "    },\n",
    "    {\n",
    "        \"type\": \"function\",\n",
    "        \"function\": {\n",
    "            \"name\": \"get_n_day_weather_forecast\",\n",
    "            \"description\": \"N일간의 날씨 예보를 가져옵니다.\", \n",
    "            \"parameters\": {\n",
    "                \"type\": \"object\",\n",
    "                \"properties\": {\n",
    "                    \"location\": {\n",
    "                        \"type\": \"string\",\n",
    "                        \"description\": \"도시와 주를 나타내는 문자열, 예: 샌프란시스코, CA.\", \n",
    "                    },\n",
    "                    \"num_days\": {\n",
    "                        \"type\": \"integer\",\n",
    "                        \"description\": \"예보할 일수\", \n",
    "                    }\n",
    "                },\n",
    "                \"required\": [\"location\", \"num_days\"]\n",
    "            },\n",
    "        }\n",
    "    },\n",
    "  ]\n",
    ")"
   ]
  },
  {
   "cell_type": "markdown",
   "id": "4f7b82b3-d4a8-4c71-87bd-42fcd18383f6",
   "metadata": {},
   "source": [
    "### 2단계: 스레드 생성 및 메시지 추가\r\n",
    "사용자가 대화를 시작할 때 스레드를 생성하고 사용자가 질문을 하면 스레드에 메시지를 추가합니다."
   ]
  },
  {
   "cell_type": "code",
   "execution_count": 3,
   "id": "35812d39-0b51-49db-a256-20b1583b80ad",
   "metadata": {},
   "outputs": [],
   "source": [
    "thread = client.beta.threads.create()\n",
    "message = client.beta.threads.messages.create(\n",
    "  thread_id=thread.id,\n",
    "  role=\"user\",\n",
    "  content=\"오늘 부산의 날씨는 어때요? 비가 올 확률은 어때요?\",\n",
    ")"
   ]
  },
  {
   "cell_type": "markdown",
   "id": "be50703a-ade6-40d7-b8ae-41e6316f8ab9",
   "metadata": {},
   "source": [
    "### 3단계: 실행 시작\n",
    "하나 이상의 기능을 트리거하는 사용자 메시지가 포함된 스레드에서 Run을 시작하면 Run이 `pending` 상태로 들어갑니다. 처리거 끝난 후 Run은 Run의 상태를 확인할 수 있는 `require_action` 상태로 전환됩니다. 이는 Run 실행을 계속하려면 도구(tools)를 실행하고 해당 출력을 Assistant에 제출해야 함을 나타냅니다. 우리의 경우에는 사용자 쿼리로 인해 병렬 함수 호출이 발생했음을 나타내는 두 개의 tool_call이 표시됩니다."
   ]
  },
  {
   "cell_type": "markdown",
   "id": "0a20afa0-a97c-43a9-b469-5be9f2bfe8ef",
   "metadata": {},
   "source": [
    "#### streaming 사용\n",
    "OpenAI의 AssistantEventHandler를 사용하여 Run을 만들고 응답을 스트리밍할 수 있습니다."
   ]
  },
  {
   "cell_type": "code",
   "execution_count": 7,
   "id": "8c41c953-6e17-4af1-afbb-3a20fd9d4322",
   "metadata": {},
   "outputs": [
    {
     "name": "stdout",
     "output_type": "stream",
     "text": [
      "서울의 현재 기온은 57°F (약 14°C)이며, 비가 올 확률은 6%입니다.\n",
      "\n",
      "그러나, 앞으로 5일간의 날씨 정보를 불러오는 데 문제가 있습니다. 다른 도움이 필요하시면 알려주세요!\n"
     ]
    }
   ],
   "source": [
    "from typing_extensions import override\n",
    "from openai import AssistantEventHandler\n",
    " \n",
    "class EventHandler(AssistantEventHandler):\n",
    "    @override\n",
    "    def on_event(self, event):\n",
    "      # 'requires_action'으로 표시된 이벤트 검색\n",
    "      if event.event == 'thread.run.requires_action':\n",
    "        run_id = event.data.id  # Retrieve the run ID from the event data\n",
    "        self.handle_requires_action(event.data, run_id)\n",
    " \n",
    "    def handle_requires_action(self, data, run_id):\n",
    "      tool_outputs = []\n",
    "        \n",
    "      for tool in data.required_action.submit_tool_outputs.tool_calls:\n",
    "        if tool.function.name == \"get_current_temperature\":\n",
    "          tool_outputs.append({\"tool_call_id\": tool.id, \"output\": \"57\"})\n",
    "        elif tool.function.name == \"get_rain_probability\":\n",
    "          tool_outputs.append({\"tool_call_id\": tool.id, \"output\": \"0.06\"})\n",
    "        elif tool.function.name == \"get_n_day_weather_forecast\":\n",
    "          tool_outputs.append({\"tool_call_id\": tool.id, \"output\": \"n일간의 날씨를 알려면 실제 외부 함수 연결이 필요합니다.\"})\n",
    "        \n",
    "      self.submit_tool_outputs(tool_outputs, run_id)\n",
    " \n",
    "    def submit_tool_outputs(self, tool_outputs, run_id):\n",
    "      # submit_tool_outputs_stream 함수 사용\n",
    "      with client.beta.threads.runs.submit_tool_outputs_stream(\n",
    "        thread_id=self.current_run.thread_id,\n",
    "        run_id=self.current_run.id,\n",
    "        tool_outputs=tool_outputs,\n",
    "        event_handler=EventHandler(),\n",
    "      ) as stream:\n",
    "        for text in stream.text_deltas:\n",
    "          print(text, end=\"\", flush=True)\n",
    "        print()\n",
    " \n",
    "\n",
    "with client.beta.threads.runs.stream(\n",
    "  thread_id=thread.id,\n",
    "  assistant_id=assistant.id,\n",
    "  event_handler=EventHandler()\n",
    ") as stream:\n",
    "  stream.until_done()"
   ]
  },
  {
   "cell_type": "markdown",
   "id": "17f83b53-b1b0-4020-8711-69a5a998128c",
   "metadata": {},
   "source": [
    "### Thread에 새로운 message 추가 및 Run 생성"
   ]
  },
  {
   "cell_type": "code",
   "execution_count": 6,
   "id": "bec5ba41-7ee4-4180-94b3-f9acc7a7976d",
   "metadata": {},
   "outputs": [
    {
     "name": "stdout",
     "output_type": "stream",
     "text": [
      "서울의 현재 기온은 57°F (약 14°C)입니다. 비가 올 확률은 6%입니다.\n",
      "\n",
      "그러나, 앞으로 5일간의 날씨 정보를 불러오는 데 문제가 발생했습니다. 다른 도움이 필요하시면 알려주세요!\n"
     ]
    }
   ],
   "source": [
    "message = client.beta.threads.messages.create(\n",
    "      thread_id=thread.id,\n",
    "      role=\"user\",\n",
    "      content=\"오늘 서울의 온도는 어떤가요? 비가 올 확률은 어떤가요? 앞으로 5일간의 날씨는 어떻게 예상되나요?\"\n",
    "    )\n",
    "\n",
    "with client.beta.threads.runs.stream(\n",
    "      thread_id=thread.id,\n",
    "      assistant_id=assistant.id,\n",
    "      instructions=\"사용자를 고객님이라고 부르세요. 사용자에게 프리미엄 계정이 있습니다.\",\n",
    "      event_handler=EventHandler(),\n",
    "    ) as stream:\n",
    "      stream.until_done()"
   ]
  },
  {
   "cell_type": "code",
   "execution_count": null,
   "id": "9dad2a7c-b2cd-40a0-a78a-b5b7d24d5e6b",
   "metadata": {},
   "outputs": [],
   "source": []
  }
 ],
 "metadata": {
  "kernelspec": {
   "display_name": "Python 3 (ipykernel)",
   "language": "python",
   "name": "python3"
  },
  "language_info": {
   "codemirror_mode": {
    "name": "ipython",
    "version": 3
   },
   "file_extension": ".py",
   "mimetype": "text/x-python",
   "name": "python",
   "nbconvert_exporter": "python",
   "pygments_lexer": "ipython3",
   "version": "3.9.16"
  }
 },
 "nbformat": 4,
 "nbformat_minor": 5
}
