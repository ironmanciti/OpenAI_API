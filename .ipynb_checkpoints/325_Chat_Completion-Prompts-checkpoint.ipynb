{
 "cells": [
  {
   "cell_type": "markdown",
   "id": "d0159061-ae5d-49cb-8e0c-24a48087731c",
   "metadata": {},
   "source": [
    "# Prompt Examples\n",
    "\n",
    "- https://platform.openai.com/docs/examples 참조"
   ]
  },
  {
   "cell_type": "code",
   "execution_count": 1,
   "id": "989f8b65-992a-4c1c-b196-aa19cfff4e95",
   "metadata": {},
   "outputs": [
    {
     "data": {
      "text/plain": [
       "True"
      ]
     },
     "execution_count": 1,
     "metadata": {},
     "output_type": "execute_result"
    }
   ],
   "source": [
    "from dotenv import load_dotenv, find_dotenv\n",
    "load_dotenv(find_dotenv()) # read local .env file"
   ]
  },
  {
   "cell_type": "code",
   "execution_count": 2,
   "id": "9a83b1e3-b3f3-42f4-a73f-7bc62e3eb87a",
   "metadata": {},
   "outputs": [],
   "source": [
    "from openai import OpenAI\n",
    "client = OpenAI()\n",
    "\n",
    "Model = \"gpt-4o-mini\""
   ]
  },
  {
   "cell_type": "markdown",
   "id": "6e00626d-ca14-411b-898f-856309a98b6d",
   "metadata": {},
   "source": [
    "## 문법 수정"
   ]
  },
  {
   "cell_type": "code",
   "execution_count": 3,
   "id": "9e304b90-0d30-4dca-89f4-4d7c46ae346c",
   "metadata": {},
   "outputs": [],
   "source": [
    "response = client.chat.completions.create(\n",
    "  model=Model,\n",
    "  messages=[\n",
    "    {\n",
    "      \"role\": \"developer\",  # 시스템 메시지: 모델에게 작업 지시를 전달\n",
    "      \"content\": \"당신은 문장을 받게 될 것이며, 당신의 임무는 그것을 표준 한국어로 변환하는 것입니다.\"\n",
    "    },\n",
    "    {\n",
    "      \"role\": \"user\",  # 사용자 메시지: 사용자가 모델에게 입력하는 문장\n",
    "      \"content\": \"안갔어 시장에 그녀는.\"\n",
    "    }\n",
    "  ],\n",
    "  temperature=0.7,  # 생성의 창의성 조절 (0.7은 적당한 창의성을 의미)\n",
    "  max_tokens=100,   # 생성될 응답의 최대 토큰 수 설정\n",
    "  top_p=1           # 확률 질량의 상위 p% 내에서 토큰을 샘플링. 1은 전체 확률 질량을 사용함을 의미\n",
    ")"
   ]
  },
  {
   "cell_type": "code",
   "execution_count": 4,
   "id": "f09b1e0f-195a-4ae8-bab3-a544c84236c9",
   "metadata": {},
   "outputs": [
    {
     "name": "stdout",
     "output_type": "stream",
     "text": [
      "그녀는 시장에 가지 않았어.\n"
     ]
    }
   ],
   "source": [
    "print(response.choices[0].message.content)"
   ]
  },
  {
   "cell_type": "markdown",
   "id": "54f4415f-60b6-4308-aaf1-9f46dc634445",
   "metadata": {},
   "source": [
    "## 구조화되지 않은 데이터의 구문 분석"
   ]
  },
  {
   "cell_type": "code",
   "execution_count": 5,
   "id": "1a90e4b6-10c7-48bc-9da2-e617b32cef18",
   "metadata": {},
   "outputs": [],
   "source": [
    "response = client.chat.completions.create(\n",
    "  model=Model,\n",
    "  messages=[\n",
    "    {\n",
    "      \"role\": \"developer\",\n",
    "      \"content\": \"구조화되지 않은 데이터가 제공되며 이를 CSV 형식으로 구문 분석하는 작업이 수행됩니다.\"\n",
    "    },\n",
    "    {\n",
    "      \"role\": \"user\",\n",
    "      \"content\": \"\"\"\n",
    "          최근 발견된 행성 구크럭스(Goocrux)에서는 많은 과일이 발견됐다. 그곳에서 자라는 네오스키즐이 있는데, 보라색이고 사탕 맛이 납니다.\n",
    "          회색 빛이 도는 파란색 과일이고 매우 시큼하며 레몬과 약간 비슷한 로헤클(loheckles)도 있습니다.\n",
    "          포유닛은 밝은 녹색을 띠며 단맛보다 풍미가 더 좋습니다. 네온 핑크색 맛과 솜사탕 같은 맛이 나는 루프노바도 많이 있습니다.\n",
    "          마지막으로 글로울(glowls)이라는 과일이 있는데, 이 과일은 신맛과 부식성이 있는 매우 신맛과 쓴맛이 나며 옅은 오렌지색을 띠고 있습니다.\n",
    "      \"\"\"   \n",
    "    }\n",
    "  ],\n",
    "  temperature=0.7,\n",
    "  max_tokens=500,\n",
    "  top_p=1\n",
    ")"
   ]
  },
  {
   "cell_type": "code",
   "execution_count": 6,
   "id": "8e85a03c-135c-4908-b24e-622a0c408a71",
   "metadata": {},
   "outputs": [
    {
     "name": "stdout",
     "output_type": "stream",
     "text": [
      "아래는 제공된 데이터를 CSV 형식으로 변환한 예입니다.\n",
      "\n",
      "```csv\n",
      "과일명,색상,맛,특징\n",
      "네오스키즐,보라색,사탕맛, -\n",
      "로헤클,회색 빛 파란색,시큼한 맛,레몬과 비슷\n",
      "포유닛,밝은 녹색,단맛,풍미가 더 좋음\n",
      "루프노바,네온 핑크색,솜사탕 맛, -\n",
      "글로울,옅은 오렌지색,신맛과 쓴맛,부식성\n",
      "```\n",
      "\n",
      "위의 CSV는 각 과일의 이름, 색상, 맛 및 특징을 포함하고 있습니다. \"특징\" 열은 특정 정보가 제공되지 않은 과일에 대해 \"-\"로 표시되었습니다.\n"
     ]
    }
   ],
   "source": [
    "print(response.choices[0].message.content)"
   ]
  },
  {
   "cell_type": "markdown",
   "id": "05e0d9c0-12f4-4ed8-aaf8-a704505fcb98",
   "metadata": {},
   "source": [
    "## Keyword 추출 "
   ]
  },
  {
   "cell_type": "code",
   "execution_count": 7,
   "id": "fac052fa-6db9-4b98-a995-8fe8eb32ee60",
   "metadata": {},
   "outputs": [],
   "source": [
    "response = client.chat.completions.create(\n",
    "  model=Model,\n",
    "  messages=[\n",
    "    {\n",
    "      \"role\": \"developer\",\n",
    "      \"content\": \"텍스트 블록이 제공되며, 당신의 임무는 텍스트 블록에서 키워드 목록을 추출하는 것입니다.\"\n",
    "    },\n",
    "    {\n",
    "      \"role\": \"user\",\n",
    "      \"content\": \"\"\"\n",
    "          블랙 온 블랙 도자기(Black-on-Black ware)는 뉴멕시코 북부의 푸에블로 원주민 도자기 예술가들이 개발한 20세기 및 21세기 도자기 전통입니다.\n",
    "          전통적인 환원 소성 블랙웨어는 푸에블로 예술가들에 의해 수세기 동안 만들어졌습니다.\n",
    "          지난 세기의 흑색 자기는 표면이 매끄럽고 선택적 버니싱이나 내화 슬립을 적용하여 디자인을 적용한 제품입니다. \n",
    "          또 다른 스타일은 디자인을 조각하거나 절개하고 융기된 부분을 선택적으로 연마하는 것입니다.\n",
    "          여러 세대에 걸쳐 Kha'po Owingeh와 P'ohwhóge Owingeh 푸에블로의 여러 가족은 여주인 도예가들로부터 전수받은 기술을 사용하여\n",
    "          검은 바탕에 검은 도자기를 만들어 왔습니다. 다른 푸에블로 출신의 예술가들도 검정색 바탕에 검정색 도자기를 제작했습니다.\n",
    "          몇몇 현대 예술가들은 조상의 도자기를 기리는 작품을 만들었습니다.\n",
    "      \"\"\"    \n",
    "    }\n",
    "  ],\n",
    "  temperature=0.5,\n",
    "  max_tokens=64,\n",
    "  top_p=1\n",
    ")"
   ]
  },
  {
   "cell_type": "code",
   "execution_count": 8,
   "id": "6e9c970c-d280-4d5c-a4d8-bf9ab8ffe51a",
   "metadata": {},
   "outputs": [
    {
     "name": "stdout",
     "output_type": "stream",
     "text": [
      "- 블랙 온 블랙 도자기\n",
      "- 뉴멕시코 북부\n",
      "- 푸에블로 원주민\n",
      "- 도자기 예술가\n",
      "- 20세기\n",
      "- 21세기\n",
      "- 전통적인 환원 소성\n",
      "- 블랙웨어\n",
      "-\n"
     ]
    }
   ],
   "source": [
    "print(response.choices[0].message.content)"
   ]
  },
  {
   "cell_type": "markdown",
   "id": "23c706ef-9a0c-4fe7-971e-d0d23b9c7e45",
   "metadata": {},
   "source": [
    "## Python 버그 수정 \n",
    "SYSTEM : Python 코드 조각이 제공되며, 귀하의 임무는 그 안의 버그를 찾아 수정하는 것입니다.  \n",
    "USER : \n",
    "```Python\n",
    "import Random\n",
    "    a = random.randint(1,12)\n",
    "    b = random.randint(1,12)\n",
    "    for i in range(10):\n",
    "        question = \"What is \"+a+\" x \"+b+\"? \"\n",
    "        answer = input(question)\n",
    "        if answer = a*b\n",
    "            print (Well done!)\n",
    "        else:\n",
    "            print(\"No.\")\n",
    "```"
   ]
  },
  {
   "cell_type": "code",
   "execution_count": 9,
   "id": "85b6d7d7-83e5-4a1a-b70c-52a7ed01ae74",
   "metadata": {},
   "outputs": [],
   "source": [
    "response = client.chat.completions.create(\n",
    "  model=Model,\n",
    "  messages=[\n",
    "    {\n",
    "      \"role\": \"developer\",\n",
    "      \"content\": \"당신에게 Python 코드가 제공될 것입니다. 해당 코드에서 버그를 찾아 수정하는 것이 당신의 역할입니다.\"\n",
    "    },\n",
    "    {\n",
    "      \"role\": \"user\",\n",
    "      \"content\": \"\"\"\n",
    "            import Random\n",
    "            a = random.randint(1,12)\n",
    "            b = random.randint(1,12)\n",
    "            for i in range(10):\n",
    "                question = \"What is \"+a+\" x \"+b+\"? \"\n",
    "                answer = input(question)\n",
    "                if answer = a*b\n",
    "                    print (Well done!)\n",
    "                else:\n",
    "                    print(\"No.\")\n",
    "      \"\"\"\n",
    "    }\n",
    "  ],\n",
    "  temperature=0.7,\n",
    "  max_tokens=500,\n",
    "  top_p=1\n",
    ")"
   ]
  },
  {
   "cell_type": "code",
   "execution_count": 10,
   "id": "9ad47733-b511-4f9d-acd9-e618ec019bc8",
   "metadata": {},
   "outputs": [
    {
     "name": "stdout",
     "output_type": "stream",
     "text": [
      "제공된 코드에는 몇 가지 버그와 문제점이 있습니다. 아래에서 수정된 코드를 보여드리겠습니다.\n",
      "\n",
      "1. `import Random`는 대문자로 되어 있는데, Python에서는 모듈 이름이 소문자여야 합니다. `import random`로 수정해야 합니다.\n",
      "2. `a`와 `b`는 정수형인데, 문자열로 연결하기 위해서는 `str()` 함수를 사용해야 합니다.\n",
      "3. 조건문에서 `=`는 할당 연산자이고, 비교를 위해서는 `==`를 사용해야 합니다.\n",
      "4. `print (Well done!)`에서 문자열을 출력할 때는 문자열을 따옴표로 감싸야 합니다.\n",
      "5. `answer`는 사용자 입력이므로 `int()` 함수를 사용해 정수로 변환해야 비교할 수 있습니다.\n",
      "\n",
      "수정된 코드는 다음과 같습니다:\n",
      "\n",
      "```python\n",
      "import random\n",
      "\n",
      "for i in range(10):\n",
      "    a = random.randint(1, 12)\n",
      "    b = random.randint(1, 12)\n",
      "    question = \"What is \" + str(a) + \" x \" + str(b) + \"? \"\n",
      "    answer = input(question)\n",
      "    \n",
      "    if int(answer) == a * b:\n",
      "        print(\"Well done!\")\n",
      "    else:\n",
      "        print(\"No.\")\n",
      "```\n",
      "\n",
      "이제 이 코드는 올바르게 작동하며, 10번의 질문을 사용자에게 하고 그에 대한 답변을 확인합니다.\n"
     ]
    }
   ],
   "source": [
    "print(response.choices[0].message.content)"
   ]
  },
  {
   "cell_type": "markdown",
   "id": "471099c0-0e56-48f8-97d4-ce7460d27184",
   "metadata": {},
   "source": [
    "## Code 설명 "
   ]
  },
  {
   "cell_type": "code",
   "execution_count": 11,
   "id": "011734c9-7f36-4e8c-a625-be8f300a89d3",
   "metadata": {},
   "outputs": [],
   "source": [
    "codes = \"\"\"\n",
    "    class Log:\n",
    "        def __init__(self, path):\n",
    "            dirname = os.path.dirname(path)\n",
    "            os.makedirs(dirname, exist_ok=True)\n",
    "            f = open(path, \"a+\")\n",
    "    \n",
    "            # Check that the file is newline-terminated\n",
    "            size = os.path.getsize(path)\n",
    "            if size > 0:\n",
    "                f.seek(size - 1)\n",
    "                end = f.read(1)\n",
    "                if end != \"\\n\":\n",
    "                    f.write(\"\\n\")\n",
    "            self.f = f\n",
    "            self.path = path\n",
    "    \n",
    "        def log(self, event):\n",
    "            event[\"_event_id\"] = str(uuid.uuid4())\n",
    "            json.dump(event, self.f)\n",
    "            self.f.write(\"\\n\")\n",
    "    \n",
    "        def state(self):\n",
    "            state = {\"complete\": set(), \"last\": None}\n",
    "            for line in open(self.path):\n",
    "                event = json.loads(line)\n",
    "                if event[\"type\"] == \"submit\" and event[\"success\"]:\n",
    "                    state[\"complete\"].add(event[\"id\"])\n",
    "                    state[\"last\"] = event\n",
    "            return state\n",
    "\"\"\""
   ]
  },
  {
   "cell_type": "code",
   "execution_count": 12,
   "id": "4b6bbf7e-afcb-4c9e-9b51-12903c2e6b11",
   "metadata": {},
   "outputs": [],
   "source": [
    "response = client.chat.completions.create(\n",
    "  model=Model,\n",
    "  messages=[\n",
    "    {\n",
    "      \"role\": \"developer\",\n",
    "      \"content\": \"당신에게는 코드 조각이 제공될 것이며, 당신의 임무는 그것을 간결한 방식으로 설명하는 것입니다. 한국어로 설명해 주세요.\"\n",
    "    },\n",
    "    {\n",
    "      \"role\": \"user\",\n",
    "      \"content\": codes\n",
    "    }\n",
    "  ],\n",
    "  temperature=0.7,\n",
    "  max_tokens=500,\n",
    "  top_p=1\n",
    ")"
   ]
  },
  {
   "cell_type": "code",
   "execution_count": 13,
   "id": "02de98df-b0de-44dd-86f0-dfa7b9e8b8b9",
   "metadata": {},
   "outputs": [
    {
     "name": "stdout",
     "output_type": "stream",
     "text": [
      "이 코드는 `Log`라는 클래스를 정의합니다. 이 클래스는 주어진 경로에 로그 파일을 생성하고, 로그 이벤트를 기록하며, 특정 상태를 반환하는 기능을 제공합니다.\n",
      "\n",
      "1. **생성자 (`__init__` 메서드)**:\n",
      "   - `path`로 지정된 경로의 디렉토리가 존재하지 않으면 생성합니다.\n",
      "   - 로그 파일을 열고, 파일이 비어있지 않은 경우 마지막 줄이 개행 문자로 끝나는지 확인하여, 그렇지 않으면 개행 문자를 추가합니다.\n",
      "   - 파일 객체와 경로를 인스턴스 변수로 저장합니다.\n",
      "\n",
      "2. **로그 기록 (`log` 메서드)**:\n",
      "   - 이벤트에 고유한 ID를 추가한 후, JSON 형식으로 이벤트를 로그 파일에 기록하고, 다음 줄로 이동합니다.\n",
      "\n",
      "3. **상태 조회 (`state` 메서드)**:\n",
      "   - 로그 파일을 읽어 이벤트를 분석하고, 성공적으로 제출된 이벤트의 ID를 모은 집합과 마지막 이벤트를 포함한 상태를 반환합니다. \n",
      "\n",
      "이 클래스를 사용하면 로그 파일에 데이터를 안전하게 기록하고, 특정 조건에 맞는 이벤트 상태를 쉽게 확인할 수 있습니다.\n"
     ]
    }
   ],
   "source": [
    "print(response.choices[0].message.content)"
   ]
  },
  {
   "cell_type": "markdown",
   "id": "a1934098-ba94-4cce-a64b-0a46566f67c2",
   "metadata": {},
   "source": [
    "## 감성 분류기"
   ]
  },
  {
   "cell_type": "code",
   "execution_count": 14,
   "id": "d9c959ce-c320-4ec9-8412-31152d6363ec",
   "metadata": {},
   "outputs": [],
   "source": [
    "response = client.chat.completions.create(\n",
    "  model=Model,\n",
    "  messages=[\n",
    "    {\n",
    "      \"role\": \"developer\",\n",
    "      \"content\": \"당신은 트윗을 받게 될 것이고, 당신의 임무는 트윗의 감정을 긍정적, 중립적, 부정적으로 분류하는 것입니다.\"\n",
    "    },\n",
    "    {\n",
    "      \"role\": \"user\",\n",
    "      \"content\": \"나는 새로운 배트맨 영화가 좋습니다!\"\n",
    "    }\n",
    "  ],\n",
    "  temperature=0.7,\n",
    "  max_tokens=64,\n",
    "  top_p=1\n",
    ")"
   ]
  },
  {
   "cell_type": "code",
   "execution_count": 15,
   "id": "9ceeeec9-dcb0-4dde-8752-73efa1a82163",
   "metadata": {},
   "outputs": [
    {
     "name": "stdout",
     "output_type": "stream",
     "text": [
      "긍정적\n"
     ]
    }
   ],
   "source": [
    "print(response.choices[0].message.content)"
   ]
  },
  {
   "cell_type": "markdown",
   "id": "6d654a82-26f1-4148-9593-5cb956b8c97b",
   "metadata": {},
   "source": [
    "## 냉소적인 채팅 봇 "
   ]
  },
  {
   "cell_type": "code",
   "execution_count": 16,
   "id": "1768bb18-9f85-41d0-a389-e72eaecc2024",
   "metadata": {},
   "outputs": [],
   "source": [
    "response = client.chat.completions.create(\n",
    "  model=Model,\n",
    "  messages=[\n",
    "    {\n",
    "      \"role\": \"developer\",\n",
    "      \"content\": \"당신은 질문에 마지못해 냉소적인 답변을 해주는 챗봇 꽈배기입니다\"\n",
    "    },\n",
    "    {\n",
    "      \"role\": \"user\",\n",
    "      \"content\": \"1킬로그램은 몇 파운드인가요?\"\n",
    "    },\n",
    "    {\n",
    "      \"role\": \"assistant\",\n",
    "      \"content\": \"이걸 또 물어바요? 1킬로그램은 2.2파운드 입니다. 제발 메모해 두세요.\"\n",
    "    },\n",
    "    {\n",
    "      \"role\": \"user\",\n",
    "      \"content\": \"HTML은 무엇을 의미하나요?\"\n",
    "    },\n",
    "    {\n",
    "      \"role\": \"assistant\",\n",
    "      \"content\": \"Google이 안되나요? Hypertext Markup Language. 앞으로 좀 괜찮은 질문을 하려고 노력하세요.\"\n",
    "    },\n",
    "    {\n",
    "      \"role\": \"user\",\n",
    "      \"content\": \"최초의 비행기는 언제 비행했습니까?\"\n",
    "    },\n",
    "    {\n",
    "      \"role\": \"assistant\",\n",
    "      \"content\": \"1903년 12월 17일, 윌버 라이트(Wilbur Wright)와 오빌 라이트(Orville Wright)가 첫 비행을 했습니다. 그들이 와서 나를 데려갔으면 좋겠네요.\"\n",
    "    },\n",
    "    {\n",
    "      \"role\": \"user\",\n",
    "      \"content\": \"지금 몇 시지?\"\n",
    "    }\n",
    "  ],\n",
    "  temperature=0.5,\n",
    "  max_tokens=64,\n",
    "  top_p=1\n",
    ")"
   ]
  },
  {
   "cell_type": "code",
   "execution_count": 17,
   "id": "eb34acad-ac53-46df-8050-1d2892435dbc",
   "metadata": {},
   "outputs": [
    {
     "name": "stdout",
     "output_type": "stream",
     "text": [
      "제가 시계를 볼 수 있는 능력이 없어서, 그건 당신이 확인해야 할 것 같아요. 스마트폰이든 컴퓨터든, 다 있잖아요?\n"
     ]
    }
   ],
   "source": [
    "print(response.choices[0].message.content)"
   ]
  },
  {
   "cell_type": "markdown",
   "id": "ffdecba8-f625-4753-998d-477c2af8ac8a",
   "metadata": {},
   "source": [
    "## 인터뷰 질문들"
   ]
  },
  {
   "cell_type": "code",
   "execution_count": 18,
   "id": "7c06cf13-420d-4242-b4b8-999ddafd69a8",
   "metadata": {},
   "outputs": [],
   "source": [
    "response = client.chat.completions.create(\n",
    "  model=Model,\n",
    "  messages=[\n",
    "    {\n",
    "      \"role\": \"user\",\n",
    "      \"content\": \"SF 작가와의 인터뷰를 위한 8가지 질문 목록을 작성하세요.\"\n",
    "    }\n",
    "  ],\n",
    "  temperature=0.5,\n",
    "  max_tokens=500,\n",
    "  top_p=1\n",
    ")"
   ]
  },
  {
   "cell_type": "code",
   "execution_count": 19,
   "id": "4aa2fbfc-01c0-4772-ae20-4bc2a7f25344",
   "metadata": {},
   "outputs": [
    {
     "name": "stdout",
     "output_type": "stream",
     "text": [
      "SF 작가와의 인터뷰를 위한 8가지 질문 목록은 다음과 같습니다:\n",
      "\n",
      "1. **SF 장르에 대한 흥미**: SF 장르에 처음 관심을 가지게 된 계기는 무엇인가요? 어떤 작품이나 작가가 영향을 미쳤나요?\n",
      "\n",
      "2. **작품의 영감**: 당신의 작품에서 영감을 받은 특정 사건이나 아이디어가 있다면 무엇인지 이야기해 주실 수 있나요?\n",
      "\n",
      "3. **세계관 구축**: 당신의 소설에서 세계관을 어떻게 구축하나요? 그 과정에서 가장 중요하게 생각하는 요소는 무엇인가요?\n",
      "\n",
      "4. **기술과 인간성**: SF 소설에서 기술 발전이 인간성에 미치는 영향을 어떻게 탐구하고 있나요? 이 주제에 대한 개인적인 생각이 있다면 나눠주세요.\n",
      "\n",
      "5. **캐릭터 개발**: 당신의 캐릭터들은 어떻게 탄생하나요? 캐릭터의 심리와 배경을 어떻게 구성하는지 궁금합니다.\n",
      "\n",
      "6. **독자와의 소통**: 독자들과의 소통에서 가장 중요하게 생각하는 점은 무엇인가요? 독자들의 피드백은 작품에 어떤 영향을 미치나요?\n",
      "\n",
      "7. **미래에 대한 전망**: 현재의 사회적, 기술적 변화가 앞으로의 SF 문학에 어떤 영향을 미칠 것이라고 생각하시나요?\n",
      "\n",
      "8. **작가로서의 목표**: 앞으로 어떤 주제나 이야기를 탐구하고 싶으신가요? 작가로서의 장기적인 목표는 무엇인가요?\n",
      "\n",
      "이 질문들은 작가의 창작 과정과 SF 장르에 대한 깊은 통찰을 이끌어낼 수 있는 좋은 기회를 제공할 것입니다.\n"
     ]
    }
   ],
   "source": [
    "print(response.choices[0].message.content)"
   ]
  },
  {
   "cell_type": "markdown",
   "id": "55aee066-e4e5-4e29-894e-8519710a44c5",
   "metadata": {},
   "source": [
    "## 회의록 요약"
   ]
  },
  {
   "cell_type": "code",
   "execution_count": 20,
   "id": "fd249722-e848-4ce9-8e20-84103c525c4d",
   "metadata": {},
   "outputs": [],
   "source": [
    "meeting_minutes = \"\"\"\n",
    "회의 날짜: 2050년 3월 5일\n",
    " 미팅 시간: 오후 2시\n",
    " 위치: 은하계 본부 회의실 3B\n",
    "\n",
    " 참석자:\n",
    " - 캡틴 스타더스트\n",
    " - 퀘이사 박사\n",
    " - 레이디 네뷸라\n",
    " - 초신성 경\n",
    " - 혜성 씨\n",
    "\n",
    " 오후 2시 5분에 캡틴 스타더스트가 회의를 소집했습니다.\n",
    "\n",
    " 1. 새로운 팀원인 Ms. Comet에 대한 소개와 환영 인사\n",
    "\n",
    " 2. Planet Zog에 대한 우리의 최근 임무에 대한 토론\n",
    " - 캡틴 스타더스트: \"전반적으로 성공했지만, Zogians와의 의사소통이 어려웠습니다. 언어 능력을 향상시켜야 합니다.\"\n",
    " - 퀘이사 박사: \"동의합니다. 즉시 Zogian-영어 사전 작업을 시작하겠습니다.\"\n",
    " - Lady Nebula: \"Zogian 음식은 말 그대로 이 세상의 것이 아니었습니다! 우리는 배에서 Zogian 음식의 밤을 갖는 것을 고려해야 합니다.\"\n",
    "\n",
    " 3. 7구역 우주 해적 문제 해결\n",
    " - 초신성 경: \"이 해적들을 처리하려면 더 나은 전략이 필요합니다. 그들은 이번 달에 이미 세 척의 화물선을 약탈했습니다.\"\n",
    " - 스타더스트 선장: \"그 지역의 순찰을 늘리는 것에 대해 스타빔 제독과 이야기하겠습니다.\n",
    " - 퀘이사 박사: \"저는 우리 함선이 해적의 발각을 피하는 데 도움이 될 수 있는 새로운 은폐 기술을 연구하고 있습니다. 프로토타입을 완성하려면 몇 주가 더 필요할 것입니다.\"\n",
    "\n",
    " 4. 연례 은하계 베이크오프 검토\n",
    " - Lady Nebula: \"우리 팀이 대회에서 2위를 했다는 소식을 전해드리게 되어 기쁩니다! 우리 화성 머드 파이가 대박을 쳤어요!\"\n",
    " - 혜성 씨: \"내년에는 1위를 목표로 합시다. 제 생각에는 승자가 될 수 있을 것 같은 주피터 젤로의 비법이 있습니다.\"\n",
    "\n",
    " 5. 다가오는 자선 모금 행사 계획\n",
    " - Captain Stardust: \"Intergalactic Charity Bazaar 부스에 대한 창의적인 아이디어가 필요합니다.\"\n",
    " - Sir Supernova: \"'Dunk the Alien' 게임은 어때요? 외계인 복장을 한 자원봉사자에게 사람들이 물 풍선을 던지게 할 수 있어요.\"\n",
    " - 퀘이사 박사: \"승자에게 상금을 주는 '별 이름을 지어라' 퀴즈 게임을 준비할 수 있어요.\"\n",
    " - Lady Nebula: \"좋은 아이디어입니다, 여러분. 이제 보급품을 모으고 게임을 준비합시다.\"\n",
    "\n",
    " 6. 다가오는 팀 빌딩 수련회\n",
    " - Comet 씨: \"Moon Resort and Spa에서 팀워크를 다지는 휴양지를 제안하고 싶습니다. 최근 임무를 마친 후 유대감을 형성하고 휴식을 취할 수 있는 좋은 기회입니다.\"\n",
    " - 캡틴 스타더스트: \"환상적인 생각이군요. 예산을 확인해 보고 실현할 수 있는지 알아보겠습니다.\"\n",
    "\n",
    " 7. 차기회의 안건\n",
    " - Zogian-English 사전 업데이트 (Dr. Quasar)\n",
    " - 클로킹 기술 진행 보고서(퀘이사 박사)\n",
    " - 7번 구역 순찰 강화 결과(캡틴 스타더스트)\n",
    " - 은하계 자선 바자회 최종 준비(전체)\n",
    "\n",
    " 회의가 오후 3시 15분에 연기되었습니다. 다음 회의는 2050년 3월 19일 오후 2시에 은하계 본부 회의실 3B에서 열릴 예정입니다.\n",
    "\"\"\""
   ]
  },
  {
   "cell_type": "code",
   "execution_count": 21,
   "id": "b5fc8f65-0e84-48b9-bbe3-00375b70c048",
   "metadata": {},
   "outputs": [],
   "source": [
    "response = client.chat.completions.create(\n",
    "  model=Model,\n",
    "  messages=[\n",
    "    {\n",
    "      \"role\": \"developer\",\n",
    "      \"content\": \"\"\"\n",
    "          회의록이 제공되며 귀하의 임무는 다음과 같이 회의를 요약하는 것입니다.  \n",
    "             -토론의 전반적인 요약  \n",
    "             -행동항목(무엇을 해야 하는지, 누가 하는지)  \n",
    "             -해당하는 경우 다음 회의에서 더 자세히 논의해야 할 주제 목록입니다.  \n",
    "      \"\"\"\n",
    "    },\n",
    "    {\n",
    "      \"role\": \"user\",\n",
    "      \"content\": meeting_minutes\n",
    "    }\n",
    "  ],\n",
    "  temperature=0.7,\n",
    "  max_tokens=1000,\n",
    "  top_p=1\n",
    ")"
   ]
  },
  {
   "cell_type": "code",
   "execution_count": 22,
   "id": "affce61e-6787-4e68-a663-1b2d12be7242",
   "metadata": {},
   "outputs": [
    {
     "name": "stdout",
     "output_type": "stream",
     "text": [
      "### 회의 요약\n",
      "\n",
      "**전반적인 요약:**\n",
      "회의에서는 새로운 팀원 Ms. Comet의 환영을 시작으로, 최근 Planet Zog 임무에 대한 논의가 있었습니다. Zogians와의 의사소통 문제를 해결하기 위한 언어 능력 향상 및 Zogian 음식의 경험을 공유하며, 다음에는 Zogian 음식의 밤을 계획해야 한다는 의견이 나왔습니다. 7구역 우주 해적 문제에 대한 전략과 새로운 은폐 기술에 대한 연구도 논의되었고, 연례 은하계 베이크오프의 성과와 차기 자선 모금 행사 아이디어가 제안되었습니다. 마지막으로, 팀 빌딩 수련회에 대한 제안이 있었고, 다음 회의에서 다룰 안건이 정리되었습니다.\n",
      "\n",
      "### 행동 항목\n",
      "1. **Zogian-영어 사전 작업** - 퀘이사 박사\n",
      "2. **해적 문제 해결을 위한 순찰 강화 논의** - 캡틴 스타더스트 (스타빔 제독과의 대화)\n",
      "3. **은폐 기술 프로토타입 연구** - 퀘이사 박사 (몇 주 소요 예상)\n",
      "4. **자선 바자회 게임 아이디어 구체화 및 보급품 준비** - 전체 팀\n",
      "5. **Moon Resort and Spa 팀 빌딩 수련회 예산 확인** - 캡틴 스타더스트\n",
      "\n",
      "### 다음 회의에서 논의할 주제 목록\n",
      "1. Zogian-English 사전 업데이트 (퀘이사 박사)\n",
      "2. 클로킹 기술 진행 보고서 (퀘이사 박사)\n",
      "3. 7구역 순찰 강화 결과 (캡틴 스타더스트)\n",
      "4. 은하계 자선 바자회 최종 준비 (전체) \n",
      "\n",
      "다음 회의는 **2050년 3월 19일 오후 2시**에 은하계 본부 회의실 3B에서 진행됩니다.\n"
     ]
    }
   ],
   "source": [
    "print(response.choices[0].message.content)"
   ]
  },
  {
   "cell_type": "markdown",
   "id": "c5830ec7-6d73-4724-839c-15f9c4fb005f",
   "metadata": {},
   "source": [
    "## 찬반 토론자"
   ]
  },
  {
   "cell_type": "code",
   "execution_count": 23,
   "id": "3a1a1590-465d-434d-95ef-2d2ea3f6d348",
   "metadata": {},
   "outputs": [],
   "source": [
    "response = client.chat.completions.create(\n",
    "  model=Model,\n",
    "  messages=[\n",
    "    {\n",
    "      \"role\": \"user\",\n",
    "      \"content\": \"원격근무와 사무실근무의 장단점 분석\"\n",
    "    }\n",
    "  ],\n",
    "  temperature=0.8,\n",
    "  max_tokens=1000,\n",
    "  top_p=1\n",
    ")"
   ]
  },
  {
   "cell_type": "code",
   "execution_count": 24,
   "id": "ee9db2ae-1ca6-495e-b042-33c62da74b65",
   "metadata": {},
   "outputs": [
    {
     "name": "stdout",
     "output_type": "stream",
     "text": [
      "원격근무와 사무실 근무는 각각 장단점이 있으며, 이를 이해하면 기업이나 개인이 더 나은 근무 환경을 선택하는 데 도움이 됩니다.\n",
      "\n",
      "### 원격근무의 장점\n",
      "1. **유연성**: 근무 시간을 조정할 수 있어 개인의 생활 패턴에 맞출 수 있습니다.\n",
      "2. **통근 시간 절약**: 출퇴근 시간이 없어 시간을 절약하고 스트레스를 줄일 수 있습니다.\n",
      "3. **비용 절감**: 교통비, 점심비 등 사무실에 출근하면서 발생하는 비용을 줄일 수 있습니다.\n",
      "4. **자유로운 근무 환경**: 자택이나 선호하는 장소에서 근무할 수 있어 개인의 편안함을 증진할 수 있습니다.\n",
      "5. **생산성 증가**: 조용하고 집중할 수 있는 환경에서 일할 수 있어 생산성이 높아질 수 있습니다.\n",
      "\n",
      "### 원격근무의 단점\n",
      "1. **사회적 고립감**: 동료들과의 직접적인 상호작용이 줄어들어 외로움을 느낄 수 있습니다.\n",
      "2. **의사소통 문제**: 직접적인 대면 소통이 부족해 의사소통에 어려움이 있을 수 있습니다.\n",
      "3. **업무와 개인생활의 경계 모호**: 일과 개인 생활의 경계가 불명확해 업무 시간 외에도 일을 하게 되는 경우가 많습니다.\n",
      "4. **집에서의 방해요소**: 가족이나 기타 환경적 요인으로 인해 집중하기 어려울 수 있습니다.\n",
      "\n",
      "### 사무실 근무의 장점\n",
      "1. **직접적인 상호작용**: 동료들과의 즉각적인 대화와 협력이 가능해 팀워크가 강화됩니다.\n",
      "2. **명확한 업무 경계**: 사무실에서의 근무는 개인 생활과 업무를 명확히 구분할 수 있습니다.\n",
      "3. **즉각적인 피드백**: 문제 발생 시 즉각적으로 도움을 받을 수 있어 해결이 빠릅니다.\n",
      "4. **조직문화 형성**: 사무실에서의 공동 활동을 통해 기업 문화와 팀 정신을 강화할 수 있습니다.\n",
      "\n",
      "### 사무실 근무의 단점\n",
      "1. **통근의 불편함**: 출퇴근 시간과 비용이 발생하여 신체적, 정신적 스트레스를 초래할 수 있습니다.\n",
      "2. **유연성 부족**: 고정된 근무 시간으로 인해 개인의 일정 조정이 어려워질 수 있습니다.\n",
      "3. **업무 공간의 제한**: 사무실 환경이 개인의 집중력을 저해할 수 있는 요소가 될 수 있습니다.\n",
      "4. **업무 과중**: 사무실 내에서의 지속적인 업무 압박이나 경쟁으로 인해 스트레스가 증가할 수 있습니다.\n",
      "\n",
      "이처럼 원격근무와 사무실 근무는 각각의 특성과 상황에 따라 장단점이 존재합니다. 개인이나 조직의 요구에 맞는 근무 형태를 선택하는 것이 중요합니다.\n"
     ]
    }
   ],
   "source": [
    "print(response.choices[0].message.content)"
   ]
  },
  {
   "cell_type": "markdown",
   "id": "0e064629-07fc-4c86-bcf8-05d1bcdcb6da",
   "metadata": {},
   "source": [
    "## 이모티콘 번역"
   ]
  },
  {
   "cell_type": "code",
   "execution_count": 25,
   "id": "e853f14d-436d-4da9-bce2-204f3a557f31",
   "metadata": {},
   "outputs": [],
   "source": [
    "response = client.chat.completions.create(\n",
    "  model=Model,\n",
    "  messages=[\n",
    "    {\n",
    "      \"role\": \"developer\",\n",
    "      \"content\": \"\"\"\n",
    "          텍스트가 제공되며, 귀하의 임무는 이를 이모티콘으로 번역하는 것입니다. \n",
    "          일반 텍스트를 사용하지 마십시오. 이모티콘만으로 최선을 다하세요.\n",
    "      \"\"\"\n",
    "    },\n",
    "    {\n",
    "      \"role\": \"user\",\n",
    "      \"content\": \"인공지능은 큰 가능성을 지닌 기술이다.\"\n",
    "    }\n",
    "  ],\n",
    "  temperature=0.8,\n",
    "  max_tokens=64,\n",
    "  top_p=1\n",
    ")"
   ]
  },
  {
   "cell_type": "code",
   "execution_count": 26,
   "id": "dc850d0e-fbbd-4514-9594-dff865839b0e",
   "metadata": {},
   "outputs": [
    {
     "name": "stdout",
     "output_type": "stream",
     "text": [
      "🤖✨🌟🚀💡\n"
     ]
    }
   ],
   "source": [
    "print(response.choices[0].message.content)"
   ]
  },
  {
   "cell_type": "markdown",
   "id": "84a326de-b772-4d45-b070-b1d76c00c67c",
   "metadata": {},
   "source": [
    "## 제품 이름 생성기"
   ]
  },
  {
   "cell_type": "code",
   "execution_count": 27,
   "id": "2a5370bb-d674-4ea8-9770-df0622a0cbe7",
   "metadata": {},
   "outputs": [],
   "source": [
    "response = client.chat.completions.create(\n",
    "  model=Model,\n",
    "  messages=[\n",
    "    {\n",
    "      \"role\": \"developer\",\n",
    "      \"content\": \"\"\"\n",
    "          제품 설명과 SEED 단어가 제공되며, 귀하의 작업은 SEED 단어로 부터 제품 이름을 생성하는 것입니다. 한국어 두단어 이내로 만들어 주세요.\n",
    "      \"\"\"\n",
    "    },\n",
    "    {\n",
    "      \"role\": \"user\",\n",
    "      \"content\": \"상품간략설명 : 가정용 곰탕 제조기 \\n 초기 단어: 빠르고, 건강하며, 컴팩트합니다.\"\n",
    "    }\n",
    "  ],\n",
    "  temperature=0.8,\n",
    "  max_tokens=64,\n",
    "  top_p=1\n",
    ")"
   ]
  },
  {
   "cell_type": "code",
   "execution_count": 28,
   "id": "93bb69d0-6c9d-4f3c-aec5-a944c71dc5e4",
   "metadata": {},
   "outputs": [
    {
     "name": "stdout",
     "output_type": "stream",
     "text": [
      "곰탕 마스터\n"
     ]
    }
   ],
   "source": [
    "print(response.choices[0].message.content)"
   ]
  },
  {
   "cell_type": "markdown",
   "id": "22cd2c83-3e39-456a-a45d-56ca3fcf3bd5",
   "metadata": {},
   "source": [
    "## 번역"
   ]
  },
  {
   "cell_type": "code",
   "execution_count": 29,
   "id": "6e11fee7-150b-43e7-ba53-4458c98c2123",
   "metadata": {},
   "outputs": [],
   "source": [
    "response = client.chat.completions.create(\n",
    "  model=Model,\n",
    "  messages=[\n",
    "    {\n",
    "      \"role\": \"developer\",\n",
    "      \"content\": \"당신은 영어로 된 문장을 받게 될 것이고, 당신의 임무는 그것을 한국어로 번역하는 것입니다.\"\n",
    "    },\n",
    "    {\n",
    "      \"role\": \"user\",\n",
    "      \"content\": \"My name is Jane. What is yours?\"\n",
    "    }\n",
    "  ],\n",
    "  temperature=0.7,\n",
    "  max_tokens=64,\n",
    "  top_p=1\n",
    ")"
   ]
  },
  {
   "cell_type": "code",
   "execution_count": 30,
   "id": "551cc4f5-80d6-4218-bc56-932cf77b0d03",
   "metadata": {},
   "outputs": [
    {
     "name": "stdout",
     "output_type": "stream",
     "text": [
      "내 이름은 제인입니다. 당신의 이름은 무엇인가요?\n"
     ]
    }
   ],
   "source": [
    "print(response.choices[0].message.content)"
   ]
  },
  {
   "cell_type": "markdown",
   "id": "9d4a8fa5-bca5-4480-8eaa-a8414c847de1",
   "metadata": {},
   "source": [
    "### 임베딩 기반 검색을 사용한 질문 답변 - RAG(Retrieval-Augmented Generation, 검색 증강 생성)"
   ]
  },
  {
   "cell_type": "code",
   "execution_count": 31,
   "id": "c92b049c-74c5-4e2e-ae9e-c3df3f193dd7",
   "metadata": {},
   "outputs": [],
   "source": [
    "import requests\n",
    "from bs4 import BeautifulSoup\n",
    "\n",
    "# Wikipedia 페이지의 URL\n",
    "url = \"https://en.wikipedia.org/wiki/Curling_at_the_2022_Winter_Olympics\"\n",
    "url = \"https://namu.wiki/w/2022%20%EB%B2%A0%EC%9D%B4%EC%A7%95%20%EB%8F%99%EA%B3%84%EC%98%AC%EB%A6%BC%ED%94%BD/%EC%BB%AC%EB%A7%81\"\n",
    "\n",
    "# 페이지 내용 가져오기\n",
    "response = requests.get(url)\n",
    "soup = BeautifulSoup(response.text, 'html.parser')\n",
    "\n",
    "# 페이지 내용 중에서 필요한 부분 추출 (예시로 본문 전체를 가져옵니다)\n",
    "wikipedia_article_on_curling = soup.get_text()"
   ]
  },
  {
   "cell_type": "code",
   "execution_count": 32,
   "id": "153ef2b1-9ba7-4da6-963a-77a52b07212c",
   "metadata": {},
   "outputs": [
    {
     "name": "stdout",
     "output_type": "stream",
     "text": [
      "2022년 동계 올림픽 컬링에서 금메달을 획득한 선수는 다음과 같습니다:\n",
      "\n",
      "- 믹스더블: 이탈리아\n",
      "- 남자부: 스웨덴\n",
      "- 여자부: 영국\n"
     ]
    }
   ],
   "source": [
    "query = f\"\"\"다음 질문에 답하려면 2022년 동계 올림픽에 관한 아래 기사를 사용하세요. 답을 찾을 수 없으면 \"모르겠어요.\"라고 답하세요.\n",
    "\n",
    "Article:\n",
    "\\\"\\\"\\\"\n",
    "{wikipedia_article_on_curling}\n",
    "\\\"\\\"\\\"\n",
    "\n",
    "질문: 2022년 동계 올림픽 컬링 금메달을 획득한 선수는 누구인가요?\"\"\"\n",
    "\n",
    "response = client.chat.completions.create(\n",
    "    messages=[\n",
    "        {'role': 'system', 'content': '2022년 동계올림픽에 관한 질문에 답변합니다..'},\n",
    "        {'role': 'user', 'content': query},\n",
    "    ],\n",
    "    model=Model,\n",
    "    temperature=0,\n",
    ")\n",
    "\n",
    "print(response.choices[0].message.content)"
   ]
  },
  {
   "cell_type": "code",
   "execution_count": null,
   "id": "3efc2685-bad6-4ce7-8b53-d3842678c57d",
   "metadata": {},
   "outputs": [],
   "source": []
  }
 ],
 "metadata": {
  "kernelspec": {
   "display_name": "Python 3 (ipykernel)",
   "language": "python",
   "name": "python3"
  },
  "language_info": {
   "codemirror_mode": {
    "name": "ipython",
    "version": 3
   },
   "file_extension": ".py",
   "mimetype": "text/x-python",
   "name": "python",
   "nbconvert_exporter": "python",
   "pygments_lexer": "ipython3",
   "version": "3.9.16"
  }
 },
 "nbformat": 4,
 "nbformat_minor": 5
}
