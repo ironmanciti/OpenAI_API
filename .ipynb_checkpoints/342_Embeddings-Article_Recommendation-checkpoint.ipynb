{
 "cells": [
  {
   "cell_type": "markdown",
   "id": "2c34c7d7-7a5a-4ada-95ee-5a00ece22727",
   "metadata": {},
   "source": [
    "# Embedding을 이용한 기사 추천 시스템 구축\n",
    "\n",
    "- **임베딩 이해**: 임베딩의 개념을 이해하고 의미론적 의미를 포착하는 방식으로 텍스트 데이터를 표현하는 방법을 이해합니다.\n",
    "- **OpenAI의 임베딩 API**: 임베딩 생성을 위한 OpenAI의 API에 대해 알아보고 이를 활용하여 영화 메타데이터를 추천 알고리즘에 적합한 형식으로 변환하는 방법을 알아보세요.\n",
    "- **추천 로직**: 코사인 유사도를 사용하여 사용자 선호도에 따라 가장 관련성이 높은 영화 추천을 찾는 추천 시스템용 로직을 구현합니다.\n",
    "\n",
    "- 최근접 이웃 검색 방식"
   ]
  },
  {
   "cell_type": "code",
   "execution_count": 1,
   "id": "989f8b65-992a-4c1c-b196-aa19cfff4e95",
   "metadata": {},
   "outputs": [],
   "source": [
    "import os\n",
    "import openai\n",
    "import sys\n",
    "sys.path.append('./')\n",
    "\n",
    "from dotenv import load_dotenv, find_dotenv\n",
    "_ = load_dotenv(find_dotenv()) # read local .env file"
   ]
  },
  {
   "cell_type": "code",
   "execution_count": 2,
   "id": "c27e1f6a-db6a-45ab-9d0d-87fcaa77e164",
   "metadata": {},
   "outputs": [],
   "source": [
    "import pandas as pd\n",
    "import numpy as np\n",
    "from openai import OpenAI \n",
    "client = OpenAI()  # OpenAI 클라이언트 생성\n",
    "\n",
    "Model = \"gpt-4o\"\n",
    "embedding_model = \"text-embedding-3-small\"  # 사용할 텍스트 임베딩 모델"
   ]
  },
  {
   "cell_type": "markdown",
   "id": "5b7e8876-c812-4f0f-8278-c681df47263f",
   "metadata": {},
   "source": [
    "### Data Load"
   ]
  },
  {
   "cell_type": "code",
   "execution_count": 3,
   "id": "1f7caad8-ba1f-46b5-9c0f-4fd1b9496c6e",
   "metadata": {},
   "outputs": [
    {
     "name": "stdout",
     "output_type": "stream",
     "text": [
      "전체 데이터 셋 크기: (2000, 4)\n",
      "줄인 데이터 셋 크기: (500, 4)\n",
      "                                            title  \\\n",
      "674   Some consumers getting that sinking feeling   \n",
      "1699                          Bryant Trial Begins   \n",
      "1282                     Rivalry Lives Up to Hype   \n",
      "1315   Vodafone #39;s New Handsets To Beat Rivals   \n",
      "1210                               F1 test vetoed   \n",
      "\n",
      "                                            description  label_int     label  \n",
      "674   Consumers who cut it close by paying bills fro...          3  Business  \n",
      "1699  After months of legal wrangling, the case of &...          2    Sports  \n",
      "1282  While not quite a return to glory, Monday repr...          2    Sports  \n",
      "1315  Vodafone has increased the competition ahead o...          3  Business  \n",
      "1210  NICK Heidfeld #39;s test with Williams has bee...          2    Sports  \n"
     ]
    }
   ],
   "source": [
    "# 데이터 로드(http://groups.di.unipi.it/~gulli/AG_corpus_of_news_articles.html에서 전체 데이터 세트 사용 가능)\n",
    "dataset_path = \"data/AG_news_samples.csv\"\n",
    "df_2000 = pd.read_csv(dataset_path)\n",
    "print(\"전체 데이터 셋 크기:\", df_2000.shape)\n",
    "\n",
    "# 비용 절감을 위해 데이터 프레임을 500개의 샘플로 줄임\n",
    "df = df_2000.sample(n=500, random_state=1)\n",
    "print(\"줄인 데이터 셋 크기:\", df.shape)\n",
    "\n",
    "# 첫 5개의 샘플 출력\n",
    "n_examples = 5\n",
    "print(df.head(n_examples))"
   ]
  },
  {
   "cell_type": "markdown",
   "id": "5783e529-15a5-43f6-8313-7d42011b2199",
   "metadata": {},
   "source": [
    "생략 부호로 잘리지 않은 동일한 예를 살펴보겠습니다."
   ]
  },
  {
   "cell_type": "code",
   "execution_count": 5,
   "id": "cc2cc51f-1af1-4eb1-b30b-e3daafc15ddf",
   "metadata": {},
   "outputs": [
    {
     "name": "stdout",
     "output_type": "stream",
     "text": [
      "\n",
      "Title: Some consumers getting that sinking feeling\n",
      "Description: Consumers who cut it close by paying bills from their checking accounts a couple of days before depositing funds will be out of luck under a new law that takes effect Oct. 28.\n",
      "Label: Business\n",
      "\n",
      "Title: Bryant Trial Begins\n",
      "Description: After months of legal wrangling, the case of &lt;em&gt;People v. Kobe Bean Bryant&lt;/em&gt; commences on Friday in Eagle, Colo., with testimony set to begin next month.\n",
      "Label: Sports\n",
      "\n",
      "Title: Rivalry Lives Up to Hype\n",
      "Description: While not quite a return to glory, Monday represents the Redskins' return to the national consciousness.\n",
      "Label: Sports\n",
      "\n",
      "Title: Vodafone #39;s New Handsets To Beat Rivals\n",
      "Description: Vodafone has increased the competition ahead of Christmas with plans to launch 10 handsets before the festive season. The Newbury-based group said it will begin selling the phones in November.\n",
      "Label: Business\n",
      "\n",
      "Title: F1 test vetoed\n",
      "Description: NICK Heidfeld #39;s test with Williams has been brought forward after BAR blocked plans for Anthony Davidson to drive its Formula One rival #39;s car.\n",
      "Label: Sports\n"
     ]
    }
   ],
   "source": [
    "# print the title, description, and label of each example\n",
    "for idx, row in df.head(n_examples).iterrows():\n",
    "    print(\"\")\n",
    "    print(f\"Title: {row['title']}\")\n",
    "    print(f\"Description: {row['description']}\")\n",
    "    print(f\"Label: {row['label']}\")"
   ]
  },
  {
   "cell_type": "markdown",
   "id": "2a0dcf25-d339-4bcb-94bf-f2d413314184",
   "metadata": {},
   "source": [
    "- 이러한 기사에 대한 임베딩을 가져오기 전에 생성한 임베딩을 저장하기 위한 캐시를 설정해 보겠습니다. 일반적으로 나중에 다시 사용할 수 있도록 임베딩을 저장하는 것이 좋습니다. 저장하지 않으면 다시 계산할 때마다 비용을 다시 지불하게 됩니다.\r",
    "- \r\n",
    "캐시는 (텍스트, 모델)의 튜플을 부동 소수점 목록인 임베딩에 매핑하는 사전입니다. 캐시는 Python 피클 파일로 저장됩니다."
   ]
  },
  {
   "cell_type": "code",
   "execution_count": 6,
   "id": "44b64d68-9007-48ca-ab7e-b38d99cd89d7",
   "metadata": {},
   "outputs": [],
   "source": [
    "# 재계산을 피하기 위해 임베딩 캐시 설정\n",
    "# 캐시는 튜플(텍스트, 모델)의 dictinary입니다 -> 임베딩, 피클 파일로 저장됨\n",
    "import pickle\n",
    "\n",
    "def get_embedding(text, model):\n",
    "    # 입력 텍스트에서 줄바꿈 문자를 공백으로 대체\n",
    "    text = text.replace(\"\\n\", \" \")\n",
    "    # 텍스트 임베딩 생성\n",
    "    return client.embeddings.create(input=text, model=model).data[0].embedding\n",
    "\n",
    "# embedding cache 경로 설정\n",
    "embedding_cache_path = \"data/recommendations_embeddings_cache.pkl\"\n",
    "\n",
    "# 저장된 캐시가 있으면 캐시의 초기값으로 로드합니다.\n",
    "try:\n",
    "    embedding_cache = pd.read_pickle(embedding_cache_path)\n",
    "except:\n",
    "    embedding_cache = {}\n",
    "\n",
    "# 존재하는 경우 캐시에서 임베딩을 검색하고 그렇지 않은 경우 API를 통해 요청하는 함수를 정의합니다.\n",
    "def embedding_from_string(\n",
    "    string: str,\n",
    "    model: str = embedding_model,\n",
    "    embedding_cache=embedding_cache\n",
    ") -> list:\n",
    "    \"\"\"재계산을 피하기 위해 캐시를 사용하여 주어진 문자열의 임베딩을 반환합니다.\"\"\"\n",
    "    if (string, model) not in embedding_cache.keys():\n",
    "        embedding_cache[(string, model)] = get_embedding(string, model)\n",
    "        with open(embedding_cache_path, \"wb\") as embedding_cache_file:\n",
    "            pickle.dump(embedding_cache, embedding_cache_file)\n",
    "    return embedding_cache[(string, model)]"
   ]
  },
  {
   "cell_type": "code",
   "execution_count": 8,
   "id": "cca4d2c9-25f5-4d5e-accc-3c4456846bc3",
   "metadata": {},
   "outputs": [
    {
     "data": {
      "text/plain": [
       "500"
      ]
     },
     "execution_count": 8,
     "metadata": {},
     "output_type": "execute_result"
    }
   ],
   "source": [
    "# 현재의 cache size\n",
    "len(embedding_cache)"
   ]
  },
  {
   "cell_type": "markdown",
   "id": "a21fddcb-624a-42a4-ae47-d9d8e4423bee",
   "metadata": {},
   "source": [
    "임베딩을 가져와서 제대로 작동하는지 확인해 보겠습니다."
   ]
  },
  {
   "cell_type": "code",
   "execution_count": 9,
   "id": "0a95fb74-d7e1-42fa-a73b-a2a4930eb8e0",
   "metadata": {},
   "outputs": [
    {
     "name": "stdout",
     "output_type": "stream",
     "text": [
      "\n",
      "Example string: Consumers who cut it close by paying bills from their checking accounts a couple of days before depositing funds will be out of luck under a new law that takes effect Oct. 28.\n",
      "\n",
      "Example embedding: [0.030383672565221786, 0.019305197522044182, 0.012050963938236237, 0.0240887850522995, 0.0003535946016199887, 0.03172412887215614, 0.04013483226299286, 0.03750648722052574, 0.03811100870370865, -0.013943372294306755]...\n"
     ]
    }
   ],
   "source": [
    "# 데이터 세트의 첫 번째 설명을 가져옵니다.\n",
    "example_string = df[\"description\"].values[0]\n",
    "print(f\"\\nExample string: {example_string}\")\n",
    "\n",
    "# 임베딩의 처음 10차원을 인쇄합니다.\n",
    "example_embedding = embedding_from_string(example_string)\n",
    "print(f\"\\nExample embedding: {example_embedding[:10]}...\")"
   ]
  },
  {
   "cell_type": "code",
   "execution_count": 11,
   "id": "8da936e3-7448-43ec-b450-b45b93761df8",
   "metadata": {},
   "outputs": [
    {
     "data": {
      "text/plain": [
       "500"
      ]
     },
     "execution_count": 11,
     "metadata": {},
     "output_type": "execute_result"
    }
   ],
   "source": [
    "# 현재의 cache size\n",
    "len(embedding_cache)"
   ]
  },
  {
   "cell_type": "markdown",
   "id": "7b17658d-bb14-4b83-9946-841ba4dd7877",
   "metadata": {},
   "source": [
    "### 임베딩을 기반으로 유사한 기사 추천  \n",
    "유사한 기사를 찾으려면 다음 3단계 계획을 따르세요.\n",
    "\n",
    "1. 모든 기사 설명의 유사성 임베딩을 가져옵니다.  \n",
    "2. 소스 기사 제목과 다른 모든 기사 사이의 거리를 계산합니다.  \n",
    "3. 소스 기사 제목에 가장 가까운 다른 기사를 인쇄하세요."
   ]
  },
  {
   "cell_type": "code",
   "execution_count": 12,
   "id": "31abaa83-eb4e-4ceb-91d7-f4a05134c784",
   "metadata": {},
   "outputs": [],
   "source": [
    "from scipy import spatial\n",
    "\n",
    "def print_recommendations_from_strings(\n",
    "    strings: list[str],\n",
    "    index_of_source_string: int,\n",
    "    k_nearest_neighbors: int = 1,\n",
    "    model=embedding_model,\n",
    ") -> list[int]:\n",
    "    \"\"\"주어진 문자열의 가장 가까운 이웃 k개를 인쇄합니다..\"\"\"\n",
    "    # 모든 문자열에 대한 임베딩 가져오기\n",
    "    embeddings = [embedding_from_string(string, model=model) for string in strings]\n",
    "\n",
    "    # 소스 문자열의 임베딩을 가져옵니다.\n",
    "    query_embedding = embeddings[index_of_source_string]\n",
    "\n",
    "    # 소스 임베딩과 다른 임베딩 사이의 거리를 얻습니다.\n",
    "    distances = [\n",
    "        spatial.distance.cosine(query_embedding, embedding) for embedding in embeddings\n",
    "    ]\n",
    "    \n",
    "    # 가장 가까운 이웃의 인덱스 가져오기\n",
    "    indices_of_nearest_neighbors = np.argsort(distances)\n",
    "\n",
    "    # 소스 문자열을 출력\n",
    "    query_string = strings[index_of_source_string]\n",
    "    print(f\"Source string: {query_string}\")\n",
    "    # k개의 가장 가까운 이웃 출력\n",
    "    k_counter = 0\n",
    "    for i in indices_of_nearest_neighbors:\n",
    "        # 시작 문자열과 동일하게 일치하는 문자열을 건너뜁니다.\n",
    "        if query_string == strings[i]:\n",
    "            continue\n",
    "        # k개의 기사를 인쇄한 후 중지\n",
    "        if k_counter >= k_nearest_neighbors:\n",
    "            break\n",
    "        k_counter += 1\n",
    "\n",
    "        # 비슷한 문자열과 그것들의 거리를 출력\n",
    "        print(\n",
    "            f\"\"\"\n",
    "        --- Recommendation #{k_counter} (nearest neighbor {k_counter} of {k_nearest_neighbors}) ---\n",
    "        String: {strings[i]}\n",
    "        Distance: {distances[i]:0.3f}\"\"\"\n",
    "        )\n",
    "\n",
    "    return indices_of_nearest_neighbors"
   ]
  },
  {
   "cell_type": "markdown",
   "id": "49a3dc83-3295-41f4-ad6e-6ad5e4c27acc",
   "metadata": {},
   "source": [
    "### 추천 예시\r",
    "다음의  기사와 유사한 기사를 찾아보겠습니다."
   ]
  },
  {
   "cell_type": "code",
   "execution_count": 13,
   "id": "e79d6fc5-b009-49b6-a893-8efe6f40a131",
   "metadata": {},
   "outputs": [
    {
     "data": {
      "text/plain": [
       "'Israeli authorities have launched an investigation into death threats against Israeli Prime Minister Ariel Sharon and other officials supporting his disengagement plan from Gaza and parts of the West Bank, Jerusalem police said Tuesday.'"
      ]
     },
     "execution_count": 13,
     "metadata": {},
     "output_type": "execute_result"
    }
   ],
   "source": [
    "IDX = 5\n",
    "article_descriptions = df[\"description\"].tolist()\n",
    "article_descriptions[IDX]"
   ]
  },
  {
   "cell_type": "code",
   "execution_count": 14,
   "id": "1d19b101-510b-4972-8abe-5ae556cf7f1e",
   "metadata": {},
   "outputs": [
    {
     "data": {
      "text/plain": [
       "500"
      ]
     },
     "execution_count": 14,
     "metadata": {},
     "output_type": "execute_result"
    }
   ],
   "source": [
    "strings=article_descriptions\n",
    "len(strings)"
   ]
  },
  {
   "cell_type": "code",
   "execution_count": 15,
   "id": "c48a8f88-6a6a-4852-9e86-d6401eecb415",
   "metadata": {},
   "outputs": [
    {
     "name": "stdout",
     "output_type": "stream",
     "text": [
      "Source string: Israeli authorities have launched an investigation into death threats against Israeli Prime Minister Ariel Sharon and other officials supporting his disengagement plan from Gaza and parts of the West Bank, Jerusalem police said Tuesday.\n",
      "\n",
      "        --- Recommendation #1 (nearest neighbor 1 of 5) ---\n",
      "        String:  JERUSALEM (Reuters) - Israeli Prime Minister Ariel Sharon  said on Thursday Yasser Arafat's death could be a turning point  for peacemaking but he would pursue a unilateral plan that  would strip Palestinians of some land they want for a state.\n",
      "        Distance: 0.359\n",
      "\n",
      "        --- Recommendation #2 (nearest neighbor 2 of 5) ---\n",
      "        String: Israels Shin Bet security service has tightened protection of the prime minister, MPs and parliament ahead of next weeks crucial vote on a Gaza withdrawal.\n",
      "        Distance: 0.387\n",
      "\n",
      "        --- Recommendation #3 (nearest neighbor 3 of 5) ---\n",
      "        String:  GAZA (Reuters) - An Israeli helicopter fired a missile into  a town in the southern Gaza Strip late on Wednesday, witnesses  said, hours after a Palestinian suicide bomber blew herself up  in Jerusalem, killing two Israeli border policemen.\n",
      "        Distance: 0.505\n",
      "\n",
      "        --- Recommendation #4 (nearest neighbor 4 of 5) ---\n",
      "        String: The Israeli military killed four Palestinian militants on Wednesday as troops in tanks and armored vehicles pushed into another town in the northern Gaza Strip, extending \n",
      "        Distance: 0.549\n",
      "\n",
      "        --- Recommendation #5 (nearest neighbor 5 of 5) ---\n",
      "        String: withdrawal of troops and settlers from occupied Gaza next year. Militants seek to claim any pullout as a victory.  quot;Islamic Jihad will not be broken by this martyrdom, quot; said Khaled al-Batsh, a senior political leader in Gaza.\n",
      "        Distance: 0.587\n",
      "Wall time: 54.5 ms\n"
     ]
    }
   ],
   "source": [
    "%%time\n",
    "article_descriptions = df[\"description\"].tolist()\n",
    "\n",
    "tony_blair_articles = print_recommendations_from_strings(\n",
    "    strings=article_descriptions,  # 기사 설명을 바탕으로 유사성을 판단해 보겠습니다.\n",
    "    index_of_source_string=IDX,  # IDX 번째 기사와 유사한 기사\n",
    "    k_nearest_neighbors=5,     # 가장 유사한 기사 5개\n",
    ")"
   ]
  },
  {
   "cell_type": "code",
   "execution_count": 17,
   "id": "c95e5e90-7c4c-4d91-8136-475281ba3afd",
   "metadata": {},
   "outputs": [
    {
     "data": {
      "text/plain": [
       "500"
      ]
     },
     "execution_count": 17,
     "metadata": {},
     "output_type": "execute_result"
    }
   ],
   "source": [
    "# 현재의 cache size\n",
    "len(embedding_cache)"
   ]
  },
  {
   "cell_type": "code",
   "execution_count": null,
   "id": "f6743ca5-0fb0-4b66-8181-e539536ccf6c",
   "metadata": {},
   "outputs": [],
   "source": []
  }
 ],
 "metadata": {
  "kernelspec": {
   "display_name": "Python 3 (ipykernel)",
   "language": "python",
   "name": "python3"
  },
  "language_info": {
   "codemirror_mode": {
    "name": "ipython",
    "version": 3
   },
   "file_extension": ".py",
   "mimetype": "text/x-python",
   "name": "python",
   "nbconvert_exporter": "python",
   "pygments_lexer": "ipython3",
   "version": "3.9.16"
  }
 },
 "nbformat": 4,
 "nbformat_minor": 5
}
