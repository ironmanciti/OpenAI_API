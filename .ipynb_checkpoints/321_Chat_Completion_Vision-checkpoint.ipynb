{
 "cells": [
  {
   "cell_type": "markdown",
   "id": "c5a91499-2154-45fc-b4b0-10c888d61c6d",
   "metadata": {},
   "source": [
    "# Vision 기능\n",
    "\n",
    "- GPT-4o with image inpus\n",
    "\n",
    "- GPT-4o와 GPT-4 Turbo 모두 비전 기능을 갖추고 있습니다. 즉, 모델이 이미지를 촬영하고 그에 대한 질문에 답할 수 있습니다"
   ]
  },
  {
   "cell_type": "code",
   "execution_count": 1,
   "id": "989f8b65-992a-4c1c-b196-aa19cfff4e95",
   "metadata": {},
   "outputs": [
    {
     "data": {
      "text/plain": [
       "True"
      ]
     },
     "execution_count": 1,
     "metadata": {},
     "output_type": "execute_result"
    }
   ],
   "source": [
    "from dotenv import load_dotenv, find_dotenv\n",
    "load_dotenv(find_dotenv()) # read local .env file"
   ]
  },
  {
   "cell_type": "markdown",
   "id": "77b88726-3171-428a-9145-c2a4e48c3521",
   "metadata": {},
   "source": [
    "이미지는 두 가지 주요 방법, 즉 이미지에 대한 링크를 전달하거나 요청에 base64로 인코딩된 이미지를 직접 전달하는 방법으로 모델에서 사용할 수 있습니다. "
   ]
  },
  {
   "cell_type": "code",
   "execution_count": 2,
   "id": "d5d24889-8f2f-479a-b5a1-d8d4a7a26b31",
   "metadata": {},
   "outputs": [],
   "source": [
    "from openai import OpenAI\n",
    "client = OpenAI()\n",
    "\n",
    "Model = \"gpt-4o-mini\""
   ]
  },
  {
   "cell_type": "markdown",
   "id": "1a776c83-96c5-47bd-a67a-5b220905e0cc",
   "metadata": {},
   "source": [
    "### 이미지의 내용 설명\n",
    "<img src=\"https://upload.wikimedia.org/wikipedia/commons/thumb/d/dd/Gfp-wisconsin-madison-the-nature-boardwalk.jpg/2560px-Gfp-wisconsin-madison-the-nature-boardwalk.jpg\" width=300px />"
   ]
  },
  {
   "cell_type": "code",
   "execution_count": 3,
   "id": "db721c95-6024-4d85-961c-a5d4c648e9a0",
   "metadata": {},
   "outputs": [
    {
     "data": {
      "text/plain": [
       "{'id': 'chatcmpl-AwJV6L4PcwTT9S10MyI0TZgUu3EAm',\n",
       " 'choices': [{'finish_reason': 'stop',\n",
       "   'index': 0,\n",
       "   'logprobs': None,\n",
       "   'message': {'content': '이미지에는 넓은 초원과 그 위를 지나가는 나무 데크가 있습니다. 초원은 푸른 풀과 식물들로 가득 차 있으며, 주변에는 여러 나무와 덤불들이 보입니다. 하늘은 푸르르고 구름이 몇 개 떠 있으며, 전체적으로 평화롭고 자연의 아름다움을 느낄 수 있는 풍경입니다. 데크는 자연 속을 탐험할 수 있는 길로 이어지는 것을 나타냅니다.',\n",
       "    'refusal': None,\n",
       "    'role': 'assistant'}}],\n",
       " 'created': 1738461348,\n",
       " 'model': 'gpt-4o-mini-2024-07-18',\n",
       " 'object': 'chat.completion',\n",
       " 'service_tier': 'default',\n",
       " 'system_fingerprint': 'fp_bd83329f63',\n",
       " 'usage': {'completion_tokens': 107,\n",
       "  'prompt_tokens': 1160,\n",
       "  'total_tokens': 1267,\n",
       "  'completion_tokens_details': {'audio_tokens': 0,\n",
       "   'reasoning_tokens': 0,\n",
       "   'accepted_prediction_tokens': 0,\n",
       "   'rejected_prediction_tokens': 0},\n",
       "  'prompt_tokens_details': {'audio_tokens': 0, 'cached_tokens': 1024}}}"
      ]
     },
     "execution_count": 3,
     "metadata": {},
     "output_type": "execute_result"
    }
   ],
   "source": [
    "url = \"https://upload.wikimedia.org/wikipedia/commons/thumb/d/dd/Gfp-wisconsin-madison-the-nature-boardwalk.jpg/2560px-Gfp-wisconsin-madison-the-nature-boardwalk.jpg\"\n",
    "\n",
    "response = client.chat.completions.create(\n",
    "  model=Model,\n",
    "  messages=[\n",
    "    {\n",
    "      \"role\": \"user\",\n",
    "      \"content\": [\n",
    "        {\"type\": \"text\", \"text\": \"이 이미지의 내용을 설명해줘. 한국어로 설명해줘.\"},\n",
    "        {\"type\": \"image_url\", \"image_url\": {\"url\": url}},\n",
    "      ],\n",
    "    }\n",
    "  ],\n",
    "  max_tokens=300,\n",
    ")\n",
    "\n",
    "response.to_dict()"
   ]
  },
  {
   "cell_type": "code",
   "execution_count": 4,
   "id": "1bb38be4-cac2-4e73-a784-4c0732006b17",
   "metadata": {},
   "outputs": [
    {
     "name": "stdout",
     "output_type": "stream",
     "text": [
      "이미지에는 넓은 초원과 그 위를 지나가는 나무 데크가 있습니다. 초원은 푸른 풀과 식물들로 가득 차 있으며, 주변에는 여러 나무와 덤불들이 보입니다. 하늘은 푸르르고 구름이 몇 개 떠 있으며, 전체적으로 평화롭고 자연의 아름다움을 느낄 수 있는 풍경입니다. 데크는 자연 속을 탐험할 수 있는 길로 이어지는 것을 나타냅니다.\n"
     ]
    }
   ],
   "source": [
    "print(response.choices[0].message.content)"
   ]
  },
  {
   "cell_type": "markdown",
   "id": "7806b76d-628c-4946-9a57-92f0d5a0d0f7",
   "metadata": {},
   "source": [
    "### Base 64로 인코딩된 이미지 업로드\r\n",
    "로컬에 이미지 또는 이미지 세트가 있는 경우 이를 Base 64 인코딩 형식으로 모델에 전달할 수 있습니다. 다음은 이에 대한 실제 예입니다."
   ]
  },
  {
   "cell_type": "code",
   "execution_count": 8,
   "id": "69159b03-d829-469c-97e3-a3e44b1e0dc3",
   "metadata": {},
   "outputs": [
    {
     "name": "stdout",
     "output_type": "stream",
     "text": [
      "이 이미지는 냉장고 내부를 보여주고 있으며, 다양한 신선한 채소와 과일이 가득 차 있습니다. 상단 선반에는 딸기, 사과, 오렌지, 그리고 여러 가지 채소가 보이고, 중간 선반에도 여러 색깔의 채소와 과일이 정리되어 있습니다. 하단 서랍에는 당근, 호박과 같은 신선한 재료들이 있으며, 음료수병도 몇 개 눈에 띕니다. 전반적으로 건강식 재료들이 잘 정리된 모습입니다.\n"
     ]
    }
   ],
   "source": [
    "import base64\n",
    "\n",
    "# Function to encode the image\n",
    "def encode_image(image_path):\n",
    "  with open(image_path, \"rb\") as image_file:\n",
    "    return base64.b64encode(image_file.read()).decode('utf-8')\n",
    "\n",
    "# Path to your image\n",
    "image_path = \"data/냉장고내용물.jpg\"\n",
    "\n",
    "# Getting the base64 string\n",
    "base64_image = encode_image(image_path)\n",
    "\n",
    "response = client.chat.completions.create(\n",
    "  model=Model,\n",
    "  messages=[\n",
    "    {\n",
    "      \"role\": \"user\",\n",
    "      \"content\": [\n",
    "        {\"type\": \"text\", \"text\": \"이 이미지의 내용을 한국어로 설명해줘.\"},\n",
    "        { \"type\": \"image_url\",\"image_url\": {\"url\": f\"data:image/jpeg;base64,{base64_image}\"}}\n",
    "      ],\n",
    "    }\n",
    "  ],\n",
    ")\n",
    "\n",
    "print(response.choices[0].message.content)"
   ]
  },
  {
   "cell_type": "markdown",
   "id": "8be985d2-2e5d-4f3a-9596-81e80fd43e00",
   "metadata": {},
   "source": [
    "### 다중 이미지 입력\n",
    "Chat Completions API는 base64로 인코딩된 형식이나 이미지 URL로 여러 이미지 입력을 가져와 처리할 수 있습니다. 모델은 각 이미지를 처리하고 모든 이미지의 정보를 사용하여 질문에 답합니다.\n",
    "\n",
    "<img src=\"https://upload.wikimedia.org/wikipedia/commons/thumb/d/dd/Gfp-wisconsin-madison-the-nature-boardwalk.jpg/2560px-Gfp-wisconsin-madison-the-nature-boardwalk.jpg\" width=300px />\n",
    "\n",
    "<img src=\"https://img.freepik.com/premium-photo/a-wooden-walkway-leads-to-a-green-field-with-a-mountain-in-the-background_800563-10576.jpg\" width=300px />"
   ]
  },
  {
   "cell_type": "code",
   "execution_count": 6,
   "id": "b825769b-e41f-474c-9257-129aa20f3c07",
   "metadata": {},
   "outputs": [],
   "source": [
    "response = client.chat.completions.create(\n",
    "  model=Model,\n",
    "  messages=[\n",
    "    {\n",
    "      \"role\": \"user\",\n",
    "      \"content\": [\n",
    "        {\n",
    "          \"type\": \"text\",\n",
    "          \"text\": \"이 이미지에는 무엇이 들어있나요? 그들 사이에 어떤 차이가 있나요?\",\n",
    "        },\n",
    "        {\n",
    "          \"type\": \"image_url\",\n",
    "          \"image_url\": {\n",
    "            \"url\": \"https://upload.wikimedia.org/wikipedia/commons/thumb/d/dd/Gfp-wisconsin-madison-the-nature-boardwalk.jpg/2560px-Gfp-wisconsin-madison-the-nature-boardwalk.jpg\",\n",
    "          },\n",
    "        },\n",
    "        {\n",
    "          \"type\": \"image_url\",\n",
    "          \"image_url\": {\n",
    "            \"url\": \"https://img.freepik.com/premium-photo/a-wooden-walkway-leads-to-a-green-field-with-a-mountain-in-the-background_800563-10576.jpg\",\n",
    "          },\n",
    "        },\n",
    "      ],\n",
    "    }\n",
    "  ],\n",
    "  max_tokens=300,\n",
    ")"
   ]
  },
  {
   "cell_type": "code",
   "execution_count": 7,
   "id": "1f140a53-7758-40ee-aa7d-da3369da2df7",
   "metadata": {},
   "outputs": [
    {
     "name": "stdout",
     "output_type": "stream",
     "text": [
      "두 이미지는 자연 경관을 보여주고 있으며, 공통점과 차이를 가지고 있습니다.\n",
      "\n",
      "### 공통점:\n",
      "1. **경관**: 둘 다 자연 환경에서 촬영된 장면이며, 모두 나무로 된 길이 있습니다.\n",
      "2. **보행로**: 두 이미지 모두 보행로가 중앙에 배치되어 있어, 사람들이 걸어갈 수 있는 경로를 제공합니다.\n",
      "\n",
      "### 차이점:\n",
      "1. **환경**: 첫 번째 이미지는 풀밭과 나무, 푸른 하늘이 있는 습기 있는 지역을 보여줍니다. 두 번째 이미지는 넓은 논과 산이 보이며, 저녁 또는 아침의 따뜻한 빛을 받고 있습니다.\n",
      "2. **색감과 분위기**: 첫 번째 이미지는 밝고 화사한 느낌을 주며, 두 번째 이미지는 더욱 음침하고 편안한 분위기를 연출합니다. \n",
      "\n",
      "이 두 이미지는 자연의 아름다움을 각기 다른 방식으로 표현하고 있습니다.\n"
     ]
    }
   ],
   "source": [
    "print(response.choices[0].message.content)"
   ]
  },
  {
   "cell_type": "code",
   "execution_count": null,
   "id": "9e304b90-0d30-4dca-89f4-4d7c46ae346c",
   "metadata": {},
   "outputs": [],
   "source": []
  }
 ],
 "metadata": {
  "kernelspec": {
   "display_name": "Python 3 (ipykernel)",
   "language": "python",
   "name": "python3"
  },
  "language_info": {
   "codemirror_mode": {
    "name": "ipython",
    "version": 3
   },
   "file_extension": ".py",
   "mimetype": "text/x-python",
   "name": "python",
   "nbconvert_exporter": "python",
   "pygments_lexer": "ipython3",
   "version": "3.9.16"
  }
 },
 "nbformat": 4,
 "nbformat_minor": 5
}
