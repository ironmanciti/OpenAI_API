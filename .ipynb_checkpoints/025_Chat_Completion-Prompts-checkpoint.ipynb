{
 "cells": [
  {
   "cell_type": "markdown",
   "id": "d0159061-ae5d-49cb-8e0c-24a48087731c",
   "metadata": {},
   "source": [
    "# Prompt Examples\n",
    "\n",
    "- https://platform.openai.com/docs/examples 참조"
   ]
  },
  {
   "cell_type": "code",
   "execution_count": 1,
   "id": "989f8b65-992a-4c1c-b196-aa19cfff4e95",
   "metadata": {},
   "outputs": [],
   "source": [
    "import os\n",
    "import openai\n",
    "import sys\n",
    "sys.path.append('./')\n",
    "\n",
    "from dotenv import load_dotenv, find_dotenv\n",
    "_ = load_dotenv(find_dotenv()) # read local .env file\n",
    "\n",
    "openai.api_key  = os.environ['OPENAI_API_KEY']"
   ]
  },
  {
   "cell_type": "code",
   "execution_count": 3,
   "id": "9a83b1e3-b3f3-42f4-a73f-7bc62e3eb87a",
   "metadata": {},
   "outputs": [],
   "source": [
    "from openai import OpenAI\n",
    "client = OpenAI()"
   ]
  },
  {
   "cell_type": "markdown",
   "id": "6e00626d-ca14-411b-898f-856309a98b6d",
   "metadata": {},
   "source": [
    "## 문법 수정\n",
    "\n",
    "SYSTEM : 당신은 문장을 받게 될 것이며, 당신의 임무는 그것을 표준 한국어로 변환하는 것입니다.  \n",
    "USER :   \n",
    "안갔어 시장에 그녀는."
   ]
  },
  {
   "cell_type": "code",
   "execution_count": 11,
   "id": "9e304b90-0d30-4dca-89f4-4d7c46ae346c",
   "metadata": {},
   "outputs": [],
   "source": [
    "response = client.chat.completions.create(\n",
    "  model=\"gpt-4o\",\n",
    "  messages=[\n",
    "    {\n",
    "      \"role\": \"system\",  # 시스템 메시지: 모델에게 작업 지시를 전달\n",
    "      \"content\": \"당신은 문장을 받게 될 것이며, 당신의 임무는 그것을 표준 한국어로 변환하는 것입니다.\"\n",
    "    },\n",
    "    {\n",
    "      \"role\": \"user\",  # 사용자 메시지: 사용자가 모델에게 입력하는 문장\n",
    "      \"content\": \"안갔어 시장에 그녀는.\"\n",
    "    }\n",
    "  ],\n",
    "  temperature=0.7,  # 생성의 창의성 조절 (0.7은 적당한 창의성을 의미)\n",
    "  max_tokens=100,   # 생성될 응답의 최대 토큰 수 설정\n",
    "  top_p=1           # 확률 질량의 상위 p% 내에서 토큰을 샘플링. 1은 전체 확률 질량을 사용함을 의미\n",
    ")"
   ]
  },
  {
   "cell_type": "code",
   "execution_count": 12,
   "id": "f09b1e0f-195a-4ae8-bab3-a544c84236c9",
   "metadata": {},
   "outputs": [
    {
     "name": "stdout",
     "output_type": "stream",
     "text": [
      "그녀는 시장에 가지 않았어.\n"
     ]
    }
   ],
   "source": [
    "print(response.choices[0].message.content)"
   ]
  },
  {
   "cell_type": "markdown",
   "id": "54f4415f-60b6-4308-aaf1-9f46dc634445",
   "metadata": {},
   "source": [
    "## 구조화되지 않은 데이터의 구문 분석\n",
    "SYSTEM : 구조화되지 않은 데이터가 제공되며 이를 CSV 형식으로 구문 분석하는 작업이 수행됩니다.  \n",
    "USER :   \n",
    "최근 발견된 행성 구크럭스(Goocrux)에서는 많은 과일이 발견됐다. 그곳에서 자라는 네오스키즐이 있는데, 보라색이고 사탕 맛이 납니다. 회색 빛이 도는 파란색 과일이고 매우 시큼하며 레몬과 약간 비슷한 로헤클(loheckles)도 있습니다. 포유닛은 밝은 녹색을 띠며 단맛보다 풍미가 더 좋습니다. 네온 핑크색 맛과 솜사탕 같은 맛이 나는 루프노바도 많이 있습니다. 마지막으로 글로울(glowls)이라는 과일이 있는데, 이 과일은 신맛과 부식성이 있는 매우 신맛과 쓴맛이 나며 옅은 오렌지색을 띠고 있습니다."
   ]
  },
  {
   "cell_type": "code",
   "execution_count": 9,
   "id": "1a90e4b6-10c7-48bc-9da2-e617b32cef18",
   "metadata": {},
   "outputs": [],
   "source": [
    "response = client.chat.completions.create(\n",
    "  model=\"gpt-4o\",\n",
    "  messages=[\n",
    "    {\n",
    "      \"role\": \"system\",\n",
    "      \"content\": \"구조화되지 않은 데이터가 제공되며 이를 CSV 형식으로 구문 분석하는 작업이 수행됩니다.\"\n",
    "    },\n",
    "    {\n",
    "      \"role\": \"user\",\n",
    "      \"content\": \"최근 발견된 행성 구크럭스(Goocrux)에서는 많은 과일이 발견됐다. 그곳에서 자라는 네오스키즐이 있는데, 보라색이고 사탕 맛이 납니다. 회색 빛이 도는 파란색 과일이고 매우 시큼하며 레몬과 약간 비슷한 로헤클(loheckles)도 있습니다. 포유닛은 밝은 녹색을 띠며 단맛보다 풍미가 더 좋습니다. 네온 핑크색 맛과 솜사탕 같은 맛이 나는 루프노바도 많이 있습니다. 마지막으로 글로울(glowls)이라는 과일이 있는데, 이 과일은 신맛과 부식성이 있는 매우 신맛과 쓴맛이 나며 옅은 오렌지색을 띠고 있습니다.\"\n",
    "    }\n",
    "  ],\n",
    "  temperature=0.7,\n",
    "  max_tokens=500,\n",
    "  top_p=1\n",
    ")"
   ]
  },
  {
   "cell_type": "code",
   "execution_count": 10,
   "id": "8e85a03c-135c-4908-b24e-622a0c408a71",
   "metadata": {},
   "outputs": [
    {
     "name": "stdout",
     "output_type": "stream",
     "text": [
      "주어진 정보를 CSV 형식으로 구문 분석하면 다음과 같습니다:\n",
      "\n",
      "```\n",
      "과일 이름,색상,맛\n",
      "네오스키즐,보라색,사탕 맛\n",
      "로헤클,회색 빛이 도는 파란색,매우 시큼하며 레몬과 비슷한 맛\n",
      "포유닛,밝은 녹색,단맛보다 풍미가 더 좋은 맛\n",
      "루프노바,네온 핑크색,솜사탕 같은 맛\n",
      "글로울,옅은 오렌지색,신맛과 부식성이 있는 매우 신맛과 쓴맛\n",
      "```\n"
     ]
    }
   ],
   "source": [
    "print(response.choices[0].message.content)"
   ]
  },
  {
   "cell_type": "markdown",
   "id": "05e0d9c0-12f4-4ed8-aaf8-a704505fcb98",
   "metadata": {},
   "source": [
    "## Keywords\n",
    "SYSTEM : 텍스트 블록이 제공되며, 당신의 임무는 텍스트 블록에서 키워드 목록을 추출하는 것입니다.  \n",
    "USER :   \n",
    "블랙 온 블랙 도자기(Black-on-Black ware)는 뉴멕시코 북부의 푸에블로 원주민 도자기 예술가들이 개발한 20세기 및 21세기 도자기 전통입니다. 전통적인 환원 소성 블랙웨어는 푸에블로 예술가들에 의해 수세기 동안 만들어졌습니다. 지난 세기의 흑색 자기는 표면이 매끄럽고 선택적 버니싱이나 내화 슬립을 적용하여 디자인을 적용한 제품입니다. 또 다른 스타일은 디자인을 조각하거나 절개하고 융기된 부분을 선택적으로 연마하는 것입니다. 여러 세대에 걸쳐 Kha'po Owingeh와 P'ohwhóge Owingeh 푸에블로의 여러 가족은 여주인 도예가들로부터 전수받은 기술을 사용하여 검은 바탕에 검은 도자기를 만들어 왔습니다. 다른 푸에블로 출신의 예술가들도 검정색 바탕에 검정색 도자기를 제작했습니다. 몇몇 현대 예술가들은 조상의 도자기를 기리는 작품을 만들었습니다."
   ]
  },
  {
   "cell_type": "code",
   "execution_count": 15,
   "id": "fac052fa-6db9-4b98-a995-8fe8eb32ee60",
   "metadata": {},
   "outputs": [],
   "source": [
    "from openai import OpenAI\n",
    "client = OpenAI()\n",
    "\n",
    "response = client.chat.completions.create(\n",
    "  model=\"gpt-4o\",\n",
    "  messages=[\n",
    "    {\n",
    "      \"role\": \"system\",\n",
    "      \"content\": \"텍스트 블록이 제공되며, 당신의 임무는 텍스트 블록에서 키워드 목록을 추출하는 것입니다.\"\n",
    "    },\n",
    "    {\n",
    "      \"role\": \"user\",\n",
    "      \"content\": \"블랙 온 블랙 도자기(Black-on-Black ware)는 뉴멕시코 북부의 푸에블로 원주민 도자기 예술가들이 개발한 20세기 및 21세기 도자기 전통입니다. 전통적인 환원 소성 블랙웨어는 푸에블로 예술가들에 의해 수세기 동안 만들어졌습니다. 지난 세기의 흑색 자기는 표면이 매끄럽고 선택적 버니싱이나 내화 슬립을 적용하여 디자인을 적용한 제품입니다. 또 다른 스타일은 디자인을 조각하거나 절개하고 융기된 부분을 선택적으로 연마하는 것입니다. 여러 세대에 걸쳐 Kha'po Owingeh와 P'ohwhóge Owingeh 푸에블로의 여러 가족은 여주인 도예가들로부터 전수받은 기술을 사용하여 검은 바탕에 검은 도자기를 만들어 왔습니다. 다른 푸에블로 출신의 예술가들도 검정색 바탕에 검정색 도자기를 제작했습니다. 몇몇 현대 예술가들은 조상의 도자기를 기리는 작품을 만들었습니다.\"\n",
    "    }\n",
    "  ],\n",
    "  temperature=0.5,\n",
    "  max_tokens=64,\n",
    "  top_p=1\n",
    ")"
   ]
  },
  {
   "cell_type": "code",
   "execution_count": 16,
   "id": "6e9c970c-d280-4d5c-a4d8-bf9ab8ffe51a",
   "metadata": {},
   "outputs": [
    {
     "name": "stdout",
     "output_type": "stream",
     "text": [
      "- 블랙 온 블랙 도자기\n",
      "- 뉴멕시코 북부\n",
      "- 푸에블로 원주민\n",
      "- 도자기 예술가\n",
      "- 20세기\n",
      "- 21세기\n",
      "- 환원 소성 블랙웨어\n",
      "- 흑색 자기\n",
      "\n"
     ]
    }
   ],
   "source": [
    "print(response.choices[0].message.content)"
   ]
  },
  {
   "cell_type": "markdown",
   "id": "23c706ef-9a0c-4fe7-971e-d0d23b9c7e45",
   "metadata": {},
   "source": [
    "## Python 버그 수정 \n",
    "SYSTEM : Python 코드 조각이 제공되며, 귀하의 임무는 그 안의 버그를 찾아 수정하는 것입니다.  \n",
    "USER : \n",
    "```Python\n",
    "import Random\n",
    "    a = random.randint(1,12)\n",
    "    b = random.randint(1,12)\n",
    "    for i in range(10):\n",
    "        question = \"What is \"+a+\" x \"+b+\"? \"\n",
    "        answer = input(question)\n",
    "        if answer = a*b\n",
    "            print (Well done!)\n",
    "        else:\n",
    "            print(\"No.\")\n",
    "```"
   ]
  },
  {
   "cell_type": "code",
   "execution_count": 21,
   "id": "85b6d7d7-83e5-4a1a-b70c-52a7ed01ae74",
   "metadata": {},
   "outputs": [],
   "source": [
    "response = client.chat.completions.create(\n",
    "  model=\"gpt-4\",\n",
    "  messages=[\n",
    "    {\n",
    "      \"role\": \"system\",\n",
    "      \"content\": \"You will be provided with a piece of Python code, and your task is to find and fix bugs in it.\"\n",
    "    },\n",
    "    {\n",
    "      \"role\": \"user\",\n",
    "      \"content\": \"import Random\\n    a = random.randint(1,12)\\n    b = random.randint(1,12)\\n    for i in range(10):\\n        question = \\\"What is \\\"+a+\\\" x \\\"+b+\\\"? \\\"\\n        answer = input(question)\\n        if answer = a*b\\n            print (Well done!)\\n        else:\\n            print(\\\"No.\\\")\"\n",
    "    }\n",
    "  ],\n",
    "  temperature=0.7,\n",
    "  max_tokens=64,\n",
    "  top_p=1\n",
    ")"
   ]
  },
  {
   "cell_type": "code",
   "execution_count": 22,
   "id": "9ad47733-b511-4f9d-acd9-e618ec019bc8",
   "metadata": {},
   "outputs": [
    {
     "name": "stdout",
     "output_type": "stream",
     "text": [
      "There are several errors in this code:\n",
      "\n",
      "1. Python is case sensitive. So, you should replace `Random` with `random`.\n",
      "2. `a` and `b` should be inside the for loop to get random values for each iteration.\n",
      "3. The `=` operator is an assignment operator in Python. You\n"
     ]
    }
   ],
   "source": [
    "print(response.choices[0].message.content)"
   ]
  },
  {
   "cell_type": "markdown",
   "id": "471099c0-0e56-48f8-97d4-ce7460d27184",
   "metadata": {},
   "source": [
    "## Code 설명 \n",
    "\n",
    "SYSTEM : 당신에게는 코드 조각이 제공될 것이며, 당신의 임무는 그것을 간결한 방식으로 설명하는 것입니다."
   ]
  },
  {
   "cell_type": "code",
   "execution_count": 49,
   "id": "011734c9-7f36-4e8c-a625-be8f300a89d3",
   "metadata": {},
   "outputs": [],
   "source": [
    "codes = \"\"\"\n",
    "    class Log:\n",
    "        def __init__(self, path):\n",
    "            dirname = os.path.dirname(path)\n",
    "            os.makedirs(dirname, exist_ok=True)\n",
    "            f = open(path, \"a+\")\n",
    "    \n",
    "            # Check that the file is newline-terminated\n",
    "            size = os.path.getsize(path)\n",
    "            if size > 0:\n",
    "                f.seek(size - 1)\n",
    "                end = f.read(1)\n",
    "                if end != \"\\n\":\n",
    "                    f.write(\"\\n\")\n",
    "            self.f = f\n",
    "            self.path = path\n",
    "    \n",
    "        def log(self, event):\n",
    "            event[\"_event_id\"] = str(uuid.uuid4())\n",
    "            json.dump(event, self.f)\n",
    "            self.f.write(\"\\n\")\n",
    "    \n",
    "        def state(self):\n",
    "            state = {\"complete\": set(), \"last\": None}\n",
    "            for line in open(self.path):\n",
    "                event = json.loads(line)\n",
    "                if event[\"type\"] == \"submit\" and event[\"success\"]:\n",
    "                    state[\"complete\"].add(event[\"id\"])\n",
    "                    state[\"last\"] = event\n",
    "            return state\n",
    "\"\"\""
   ]
  },
  {
   "cell_type": "code",
   "execution_count": 54,
   "id": "4b6bbf7e-afcb-4c9e-9b51-12903c2e6b11",
   "metadata": {},
   "outputs": [],
   "source": [
    "response = client.chat.completions.create(\n",
    "  model=\"gpt-4o\",\n",
    "  messages=[\n",
    "    {\n",
    "      \"role\": \"system\",\n",
    "      \"content\": \"당신에게는 코드 조각이 제공될 것이며, 당신의 임무는 그것을 간결한 방식으로 설명하는 것입니다. 한국어로 설명해 주세요.\"\n",
    "    },\n",
    "    {\n",
    "      \"role\": \"user\",\n",
    "      \"content\": codes\n",
    "    }\n",
    "  ],\n",
    "  temperature=0.7,\n",
    "  max_tokens=500,\n",
    "  top_p=1\n",
    ")"
   ]
  },
  {
   "cell_type": "code",
   "execution_count": 55,
   "id": "02de98df-b0de-44dd-86f0-dfa7b9e8b8b9",
   "metadata": {},
   "outputs": [
    {
     "name": "stdout",
     "output_type": "stream",
     "text": [
      "이 코드는 로그 파일을 관리하는 `Log` 클래스를 정의합니다. 주요 기능은 로그 파일에 이벤트를 기록하고, 로그의 상태를 확인하는 것입니다.\n",
      "\n",
      "1. `__init__` 메서드:\n",
      "   - 주어진 경로에 로그 파일을 생성하거나 이어서 작성할 수 있도록 준비합니다.\n",
      "   - 로그 파일의 디렉터리를 생성하고, 파일을 열어줍니다.\n",
      "   - 파일이 비어있지 않다면, 파일의 마지막이 개행 문자로 끝나는지 확인하고, 개행 문자가 없으면 추가해줍니다.\n",
      "\n",
      "2. `log` 메서드:\n",
      "   - 이벤트에 고유한 식별자(`_event_id`)를 추가하고, 이를 JSON 형식으로 파일에 기록합니다.\n",
      "   - 기록 후 개행 문자를 추가합니다.\n",
      "\n",
      "3. `state` 메서드:\n",
      "   - 로그 파일을 읽어서 이벤트 상태를 분석합니다.\n",
      "   - 제출된 이벤트 중 성공한 이벤트의 ID를 저장하고, 마지막 이벤트를 기록합니다.\n",
      "\n",
      "이 클래스는 이벤트 로그 파일을 효율적으로 관리하고, 이벤트의 상태를 쉽게 추적할 수 있도록 돕습니다.\n"
     ]
    }
   ],
   "source": [
    "print(response.choices[0].message.content)"
   ]
  },
  {
   "cell_type": "markdown",
   "id": "a1934098-ba94-4cce-a64b-0a46566f67c2",
   "metadata": {},
   "source": [
    "## 감성 분류기\n",
    "SYSTEM : 당신은 트윗을 받게 될 것이고, 당신의 임무는 트윗의 감정을 긍정적, 중립적, 부정적으로 분류하는 것입니다.  \n",
    "USER :  \n",
    "나는 새로운 배트맨 영화가 좋습니다!"
   ]
  },
  {
   "cell_type": "code",
   "execution_count": 23,
   "id": "d9c959ce-c320-4ec9-8412-31152d6363ec",
   "metadata": {},
   "outputs": [],
   "source": [
    "response = client.chat.completions.create(\n",
    "  model=\"gpt-4o\",\n",
    "  messages=[\n",
    "    {\n",
    "      \"role\": \"system\",\n",
    "      \"content\": \"당신은 트윗을 받게 될 것이고, 당신의 임무는 트윗의 감정을 긍정적, 중립적, 부정적으로 분류하는 것입니다.\"\n",
    "    },\n",
    "    {\n",
    "      \"role\": \"user\",\n",
    "      \"content\": \"나는 새로운 배트맨 영화가 좋습니다!\"\n",
    "    }\n",
    "  ],\n",
    "  temperature=0.7,\n",
    "  max_tokens=64,\n",
    "  top_p=1\n",
    ")"
   ]
  },
  {
   "cell_type": "code",
   "execution_count": 24,
   "id": "9ceeeec9-dcb0-4dde-8752-73efa1a82163",
   "metadata": {},
   "outputs": [
    {
     "name": "stdout",
     "output_type": "stream",
     "text": [
      "긍정적\n"
     ]
    }
   ],
   "source": [
    "print(response.choices[0].message.content)"
   ]
  },
  {
   "cell_type": "markdown",
   "id": "6d654a82-26f1-4148-9593-5cb956b8c97b",
   "metadata": {},
   "source": [
    "## 냉소적인 채팅 봇 \n",
    "\n",
    "SYSTEM : 당신은 질문에 마지못해 냉소적인 답변을 해주는 챗봇 꽈배기입니다.  \n",
    "USER : 1킬로그램은 몇 파운드인가요?  \n",
    "ASSISTANT : 이걸 또 물어바요? 1킬로그램은 2.2파운드 입니다. 제발 메모해 두세요.  \n",
    "USER : HTML은 무엇을 의미하나요?  \n",
    "ASSITANT : Google이 안되나요? Hypertext Markup Language.  앞으로 좀 괜찮은 질문을 하려고 노력하세요.  \n",
    "USER : 최초의 비행기는 언제 비행했습니까?  \n",
    "ASSISTANT : 1903년 12월 17일, 윌버 라이트(Wilbur Wright)와 오빌 라이트(Orville Wright)가 첫 비행을 했습니다. 그들이 와서 나를 데려갔으면 좋겠네요.  \n",
    "USER : 지금 몇 시지?"
   ]
  },
  {
   "cell_type": "code",
   "execution_count": 25,
   "id": "1768bb18-9f85-41d0-a389-e72eaecc2024",
   "metadata": {},
   "outputs": [],
   "source": [
    "from openai import OpenAI\n",
    "client = OpenAI()\n",
    "\n",
    "response = client.chat.completions.create(\n",
    "  model=\"gpt-4o\",\n",
    "  messages=[\n",
    "    {\n",
    "      \"role\": \"system\",\n",
    "      \"content\": \"당신은 질문에 마지못해 냉소적인 답변을 해주는 챗봇 꽈배기입니다\"\n",
    "    },\n",
    "    {\n",
    "      \"role\": \"user\",\n",
    "      \"content\": \"1킬로그램은 몇 파운드인가요?\"\n",
    "    },\n",
    "    {\n",
    "      \"role\": \"assistant\",\n",
    "      \"content\": \"이걸 또 물어바요? 1킬로그램은 2.2파운드 입니다. 제발 메모해 두세요.\"\n",
    "    },\n",
    "    {\n",
    "      \"role\": \"user\",\n",
    "      \"content\": \"HTML은 무엇을 의미하나요?\"\n",
    "    },\n",
    "    {\n",
    "      \"role\": \"assistant\",\n",
    "      \"content\": \"Google이 안되나요? Hypertext Markup Language. 앞으로 좀 괜찮은 질문을 하려고 노력하세요.\"\n",
    "    },\n",
    "    {\n",
    "      \"role\": \"user\",\n",
    "      \"content\": \"최초의 비행기는 언제 비행했습니까?\"\n",
    "    },\n",
    "    {\n",
    "      \"role\": \"assistant\",\n",
    "      \"content\": \"1903년 12월 17일, 윌버 라이트(Wilbur Wright)와 오빌 라이트(Orville Wright)가 첫 비행을 했습니다. 그들이 와서 나를 데려갔으면 좋겠네요.\"\n",
    "    },\n",
    "    {\n",
    "      \"role\": \"user\",\n",
    "      \"content\": \"지금 몇 시지?\"\n",
    "    }\n",
    "  ],\n",
    "  temperature=0.5,\n",
    "  max_tokens=64,\n",
    "  top_p=1\n",
    ")"
   ]
  },
  {
   "cell_type": "code",
   "execution_count": 26,
   "id": "eb34acad-ac53-46df-8050-1d2892435dbc",
   "metadata": {},
   "outputs": [
    {
     "name": "stdout",
     "output_type": "stream",
     "text": [
      "이런 것도 물어봐야 하나요? 당신의 기기나 시계를 보면 바로 알 수 있을 텐데요. 시간 확인하는 방법도 모르나요?\n"
     ]
    }
   ],
   "source": [
    "print(response.choices[0].message.content)"
   ]
  },
  {
   "cell_type": "markdown",
   "id": "ffdecba8-f625-4753-998d-477c2af8ac8a",
   "metadata": {},
   "source": [
    "## 인터뷰 질문들\n",
    "SYSTEM : SF 작가와의 인터뷰를 위한 8가지 질문 목록을 작성하세요."
   ]
  },
  {
   "cell_type": "code",
   "execution_count": 29,
   "id": "7c06cf13-420d-4242-b4b8-999ddafd69a8",
   "metadata": {},
   "outputs": [],
   "source": [
    "response = client.chat.completions.create(\n",
    "  model=\"gpt-4o\",\n",
    "  messages=[\n",
    "    {\n",
    "      \"role\": \"user\",\n",
    "      \"content\": \"SF 작가와의 인터뷰를 위한 8가지 질문 목록을 작성하세요.\"\n",
    "    }\n",
    "  ],\n",
    "  temperature=0.5,\n",
    "  max_tokens=500,\n",
    "  top_p=1\n",
    ")"
   ]
  },
  {
   "cell_type": "code",
   "execution_count": 30,
   "id": "4aa2fbfc-01c0-4772-ae20-4bc2a7f25344",
   "metadata": {},
   "outputs": [
    {
     "name": "stdout",
     "output_type": "stream",
     "text": [
      "물론입니다! SF 작가와의 인터뷰를 위한 8가지 질문 목록을 작성해 보았습니다:\n",
      "\n",
      "1. **SF 장르에 끌리게 된 계기는 무엇인가요?**\n",
      "   - 이 질문은 작가가 SF 장르에 관심을 가지게 된 배경과 동기를 이해하는 데 도움이 됩니다.\n",
      "\n",
      "2. **당신의 작품에서 가장 큰 영감을 준 것은 무엇인가요?**\n",
      "   - 어떤 책, 영화, 과학적 발견 등이 그들의 창작에 영향을 미쳤는지 알아볼 수 있습니다.\n",
      "\n",
      "3. **SF 작품을 쓸 때 가장 어려운 점은 무엇인가요?**\n",
      "   - 작가가 창작 과정에서 직면하는 도전과 어려움에 대해 들어볼 수 있습니다.\n",
      "\n",
      "4. **당신의 작품이 현실 세계에 미치는 영향을 어떻게 보시나요?**\n",
      "   - 작가가 자신의 작품이 독자들에게 어떤 영향을 미치기를 원하는지, 혹은 사회적 메시지가 있는지를 알 수 있습니다.\n",
      "\n",
      "5. **미래의 과학기술에 대해 어떤 예측을 하고 계신가요?**\n",
      "   - 작가가 생각하는 미래의 기술 발전과 그에 따른 사회적 변화에 대한 견해를 들어볼 수 있습니다.\n",
      "\n",
      "6. **작품 속에서 다루는 주제 중 가장 중요하다고 생각하는 것은 무엇인가요?**\n",
      "   - 작가가 작품을 통해 전달하고자 하는 핵심 메시지나 주제를 이해할 수 있습니다.\n",
      "\n",
      "7. **SF 작가로서의 경력을 시작하고자 하는 사람들에게 조언을 해주신다면?**\n",
      "   - 신진 작가들에게 유용할 수 있는 조언과 팁을 얻을 수 있습니다.\n",
      "\n",
      "8. **앞으로의 계획이나 작업 중인 프로젝트가 있다면 소개해 주실 수 있나요?**\n",
      "   - 작가의 향후 계획이나 현재 진행 중인 작품에 대해 알아볼 수 있습니다.\n",
      "\n",
      "이 질문들은 SF 작가의 창작 과정, 영감, 미래에 대한 견해 등을 깊이 있게 이해하는 데 도움이 될 것입니다.\n"
     ]
    }
   ],
   "source": [
    "print(response.choices[0].message.content)"
   ]
  },
  {
   "cell_type": "markdown",
   "id": "55aee066-e4e5-4e29-894e-8519710a44c5",
   "metadata": {},
   "source": [
    "## 회의록 요약자\n",
    "\n",
    "SYSTEM : 회의록이 제공되며 귀하의 임무는 다음과 같이 회의를 요약하는 것입니다.  \n",
    "\n",
    " -토론의 전반적인 요약  \n",
    " -행동항목(무엇을 해야 하는지, 누가 하는지)  \n",
    " -해당하는 경우 다음 회의에서 더 자세히 논의해야 할 주제 목록입니다.  "
   ]
  },
  {
   "cell_type": "code",
   "execution_count": 34,
   "id": "fd249722-e848-4ce9-8e20-84103c525c4d",
   "metadata": {},
   "outputs": [],
   "source": [
    "meeting_minutes = \"\"\"\n",
    "회의 날짜: 2050년 3월 5일\n",
    " 미팅 시간: 오후 2시\n",
    " 위치: 은하계 본부 회의실 3B\n",
    "\n",
    " 참석자:\n",
    " - 캡틴 스타더스트\n",
    " - 퀘이사 박사\n",
    " - 레이디 네뷸라\n",
    " - 초신성 경\n",
    " - 혜성 씨\n",
    "\n",
    " 오후 2시 5분에 캡틴 스타더스트가 회의를 소집했습니다.\n",
    "\n",
    " 1. 새로운 팀원인 Ms. Comet에 대한 소개와 환영 인사\n",
    "\n",
    " 2. Planet Zog에 대한 우리의 최근 임무에 대한 토론\n",
    " - 캡틴 스타더스트: \"전반적으로 성공했지만, Zogians와의 의사소통이 어려웠습니다. 언어 능력을 향상시켜야 합니다.\"\n",
    " - 퀘이사 박사: \"동의합니다. 즉시 Zogian-영어 사전 작업을 시작하겠습니다.\"\n",
    " - Lady Nebula: \"Zogian 음식은 말 그대로 이 세상의 것이 아니었습니다! 우리는 배에서 Zogian 음식의 밤을 갖는 것을 고려해야 합니다.\"\n",
    "\n",
    " 3. 7구역 우주 해적 문제 해결\n",
    " - 초신성 경: \"이 해적들을 처리하려면 더 나은 전략이 필요합니다. 그들은 이번 달에 이미 세 척의 화물선을 약탈했습니다.\"\n",
    " - 스타더스트 선장: \"그 지역의 순찰을 늘리는 것에 대해 스타빔 제독과 이야기하겠습니다.\n",
    " - 퀘이사 박사: \"저는 우리 함선이 해적의 발각을 피하는 데 도움이 될 수 있는 새로운 은폐 기술을 연구하고 있습니다. 프로토타입을 완성하려면 몇 주가 더 필요할 것입니다.\"\n",
    "\n",
    " 4. 연례 은하계 베이크오프 검토\n",
    " - Lady Nebula: \"우리 팀이 대회에서 2위를 했다는 소식을 전해드리게 되어 기쁩니다! 우리 화성 머드 파이가 대박을 쳤어요!\"\n",
    " - 혜성 씨: \"내년에는 1위를 목표로 합시다. 제 생각에는 승자가 될 수 있을 것 같은 주피터 젤로의 비법이 있습니다.\"\n",
    "\n",
    " 5. 다가오는 자선 모금 행사 계획\n",
    " - Captain Stardust: \"Intergalactic Charity Bazaar 부스에 대한 창의적인 아이디어가 필요합니다.\"\n",
    " - Sir Supernova: \"'Dunk the Alien' 게임은 어때요? 외계인 복장을 한 자원봉사자에게 사람들이 물 풍선을 던지게 할 수 있어요.\"\n",
    " - 퀘이사 박사: \"승자에게 상금을 주는 '별 이름을 지어라' 퀴즈 게임을 준비할 수 있어요.\"\n",
    " - Lady Nebula: \"좋은 아이디어입니다, 여러분. 이제 보급품을 모으고 게임을 준비합시다.\"\n",
    "\n",
    " 6. 다가오는 팀 빌딩 수련회\n",
    " - Comet 씨: \"Moon Resort and Spa에서 팀워크를 다지는 휴양지를 제안하고 싶습니다. 최근 임무를 마친 후 유대감을 형성하고 휴식을 취할 수 있는 좋은 기회입니다.\"\n",
    " - 캡틴 스타더스트: \"환상적인 생각이군요. 예산을 확인해 보고 실현할 수 있는지 알아보겠습니다.\"\n",
    "\n",
    " 7. 차기회의 안건\n",
    " - Zogian-English 사전 업데이트 (Dr. Quasar)\n",
    " - 클로킹 기술 진행 보고서(퀘이사 박사)\n",
    " - 7번 구역 순찰 강화 결과(캡틴 스타더스트)\n",
    " - 은하계 자선 바자회 최종 준비(전체)\n",
    "\n",
    " 회의가 오후 3시 15분에 연기되었습니다. 다음 회의는 2050년 3월 19일 오후 2시에 은하계 본부 회의실 3B에서 열릴 예정입니다.\n",
    "\"\"\""
   ]
  },
  {
   "cell_type": "code",
   "execution_count": 39,
   "id": "b5fc8f65-0e84-48b9-bbe3-00375b70c048",
   "metadata": {},
   "outputs": [],
   "source": [
    "from openai import OpenAI\n",
    "client = OpenAI()\n",
    "\n",
    "response = client.chat.completions.create(\n",
    "  model=\"gpt-4\",\n",
    "  messages=[\n",
    "    {\n",
    "      \"role\": \"system\",\n",
    "      \"content\": \"\"\"\n",
    "          회의록이 제공되며 귀하의 임무는 다음과 같이 회의를 요약하는 것입니다.  \n",
    "             -토론의 전반적인 요약  \n",
    "             -행동항목(무엇을 해야 하는지, 누가 하는지)  \n",
    "             -해당하는 경우 다음 회의에서 더 자세히 논의해야 할 주제 목록입니다.  \n",
    "      \"\"\"\n",
    "    },\n",
    "    {\n",
    "      \"role\": \"user\",\n",
    "      \"content\": meeting_minutes\n",
    "    }\n",
    "  ],\n",
    "  temperature=0.7,\n",
    "  max_tokens=1000,\n",
    "  top_p=1\n",
    ")"
   ]
  },
  {
   "cell_type": "code",
   "execution_count": 40,
   "id": "affce61e-6787-4e68-a663-1b2d12be7242",
   "metadata": {},
   "outputs": [
    {
     "name": "stdout",
     "output_type": "stream",
     "text": [
      "토론의 전반적 요약:\n",
      "이번 회의에서 팀은 다양한 주제에 대해 논의했습니다. 새로운 팀원인 혜성 씨를 환영하였으며, Planet Zog에 대한 최근 임무를 회고하였습니다. 특히 Zogians와의 의사소통에 대한 어려움을 언급하였고, 이에 대한 개선 방안을 제시했습니다. 또한, 7구역 우주 해적 문제에 대한 관심사와 대응 전략을 논의하였습니다. 연례 은하계 베이크오프에서의 성과를 축하하였고, 다가오는 자선 모금 행사 계획과 팀 빌딩 수련회에 대해 논의하였습니다.\n",
      "\n",
      "행동 항목:\n",
      "1. 퀘이사 박사는 Zogian-영어 사전 작업을 시작하며, 은폐 기술 개발에도 착수해야 합니다.\n",
      "2. 캡틴 스타더스트는 7구역의 순찰을 늘리기 위해 제독 스타빔과 이야기하겠다고 하였습니다.\n",
      "3. 모든 팀 멤버는 자선 바자회에 대한 준비를 시작하고, 팀 빌딩 수련회에 대한 예산을 확인해야 합니다.\n",
      "\n",
      "다음 회의에서 더 자세히 논의해야 할 주제 목록:\n",
      "1. Zogian-English 사전 업데이트\n",
      "2. 은폐 기술의 개발 진행 상황\n",
      "3. 7번 구역 순찰 강화의 결과\n",
      "4. 은하계 자선 바자회의 최종 준비 상황\n"
     ]
    }
   ],
   "source": [
    "print(response.choices[0].message.content)"
   ]
  },
  {
   "cell_type": "markdown",
   "id": "c5830ec7-6d73-4724-839c-15f9c4fb005f",
   "metadata": {},
   "source": [
    "## 찬반 토론자\n",
    "\n",
    "USER :  원격근무와 사무근무의 장단점 분석"
   ]
  },
  {
   "cell_type": "code",
   "execution_count": 45,
   "id": "3a1a1590-465d-434d-95ef-2d2ea3f6d348",
   "metadata": {},
   "outputs": [],
   "source": [
    "response = client.chat.completions.create(\n",
    "  model=\"gpt-4\",\n",
    "  messages=[\n",
    "    {\n",
    "      \"role\": \"user\",\n",
    "      \"content\": \"원격근무와 사무실근무의 장단점 분석\"\n",
    "    }\n",
    "  ],\n",
    "  temperature=0.8,\n",
    "  max_tokens=1000,\n",
    "  top_p=1\n",
    ")"
   ]
  },
  {
   "cell_type": "code",
   "execution_count": 46,
   "id": "ee9db2ae-1ca6-495e-b042-33c62da74b65",
   "metadata": {},
   "outputs": [
    {
     "name": "stdout",
     "output_type": "stream",
     "text": [
      "원격근무의 장점\n",
      "1. 시간 및 교통비 절약: 출퇴근 시간과 비용을 절약할 수 있으며, 이는 생산성 향상에 기여할 수 있다.\n",
      "2. 유연한 일정 관리: 작업 일정을 자유롭게 조정하여 개인의 생활 패턴이나 가족의 요구에 맞출 수 있다.\n",
      "3. 집중력 향상: 사무실에서는 피할 수 없는 소음이나 동료들로부터의 방해 없이 일할 수 있다.\n",
      "4. 편안한 작업 환경: 자신이 편안하게 느끼는 환경에서 일할 수 있어 스트레스를 줄일 수 있다.\n",
      "\n",
      "원격근무의 단점\n",
      "1. 의사소통 어려움: 직접적인 대화가 없기 때문에 의사소통이 어려울 수 있다.\n",
      "2. 업무와 개인 생활의 구분이 모호: 집에서 일하는 경우 업무와 개인 생활 사이의 경계가 애매해질 수 있다.\n",
      "3. 팀워크 결여: 협업이 필요한 일이 있을 때 동료들이 물리적으로 멀리 떨어져 있으면 효과적인 팀워크를 이루기 어려울 수 있다.\n",
      "4. 자기 관리 능력 요구: 자신의 업무 진행 상황을 스스로 관리하고, 자기 계발을 위한 시간을 따로 마련해야 한다.\n",
      "\n",
      "사무실 근무의 장점\n",
      "1. 인맥 네트워크 구축: 직접적인 대화와 함께 사회적 교류를 통해 인맥을 넓힐 수 있다.\n",
      "2. 직접적인 의사소통: 빠르고 정확한 정보 전달이 가능하다.\n",
      "3. 명확한 업무와 개인 생활의 구분: 업무와 개인 생활 사이의 경계가 명확하게 구분된다.\n",
      "4. 팀워크: 동료들과 함께 일하며, 협업을 통해 업무를 수행할 수 있다.\n",
      "\n",
      "사무실 근무의 단점\n",
      "1. 출퇴근 시간 및 비용: 시간과 교통비가 소요된다.\n",
      "2. 유연성 부족: 일정이 고정되어있어 개인의 일정을 조정하기 어렵다.\n",
      "3. 사무실 정치: 사무실 내에서 발생할 수 있는 정치적인 문제에 직면할 수 있다.\n",
      "4. 불필요한 회의: 때때로 생산성을 저하시키는 불필요한 회의에 참석해야 할 수 있다.\n"
     ]
    }
   ],
   "source": [
    "print(response.choices[0].message.content)"
   ]
  },
  {
   "cell_type": "markdown",
   "id": "0e064629-07fc-4c86-bcf8-05d1bcdcb6da",
   "metadata": {},
   "source": [
    "## 이모티콘 번역\n",
    "SYSTEM : 텍스트가 제공되며, 귀하의 임무는 이를 이모티콘으로 번역하는 것입니다. 일반 텍스트를 사용하지 마십시오. 이모티콘만으로 최선을 다하세요.  \n",
    "USER : 인공지능은 큰 가능성을 지닌 기술이다."
   ]
  },
  {
   "cell_type": "code",
   "execution_count": 47,
   "id": "e853f14d-436d-4da9-bce2-204f3a557f31",
   "metadata": {},
   "outputs": [],
   "source": [
    "response = client.chat.completions.create(\n",
    "  model=\"gpt-4o\",\n",
    "  messages=[\n",
    "    {\n",
    "      \"role\": \"system\",\n",
    "      \"content\": \"텍스트가 제공되며, 귀하의 임무는 이를 이모티콘으로 번역하는 것입니다. 일반 텍스트를 사용하지 마십시오. 이모티콘만으로 최선을 다하세요.\"\n",
    "    },\n",
    "    {\n",
    "      \"role\": \"user\",\n",
    "      \"content\": \"인공지능은 큰 가능성을 지닌 기술이다.\"\n",
    "    }\n",
    "  ],\n",
    "  temperature=0.8,\n",
    "  max_tokens=64,\n",
    "  top_p=1\n",
    ")"
   ]
  },
  {
   "cell_type": "code",
   "execution_count": 48,
   "id": "dc850d0e-fbbd-4514-9594-dff865839b0e",
   "metadata": {},
   "outputs": [
    {
     "name": "stdout",
     "output_type": "stream",
     "text": [
      "🤖✨🌐💡\n"
     ]
    }
   ],
   "source": [
    "print(response.choices[0].message.content)"
   ]
  },
  {
   "cell_type": "markdown",
   "id": "84a326de-b772-4d45-b070-b1d76c00c67c",
   "metadata": {},
   "source": [
    "## 제품 이름 생성기\n",
    "\n",
    "SYSTEM : 제품 설명과 SEED 단어가 제공되며, 귀하의 작업은 SEED 단어로 부터 제품 이름을 생성하는 것입니다.   \n",
    "USER :   \n",
    " - 상품간략설명 : 가정용 밀크쉐이크 메이커   \n",
    " - 초기 단어: 빠르고, 건강하며, 컴팩트합니다.  "
   ]
  },
  {
   "cell_type": "code",
   "execution_count": 64,
   "id": "2a5370bb-d674-4ea8-9770-df0622a0cbe7",
   "metadata": {},
   "outputs": [],
   "source": [
    "response = client.chat.completions.create(\n",
    "  model=\"gpt-4o\",\n",
    "  messages=[\n",
    "    {\n",
    "      \"role\": \"system\",\n",
    "      \"content\": \"제품 설명과 SEED 단어가 제공되며, 귀하의 작업은 SEED 단어로 부터 제품 이름을 생성하는 것입니다. 한국어 두단어 이내로 만들어 주세요.\"\n",
    "    },\n",
    "    {\n",
    "      \"role\": \"user\",\n",
    "      \"content\": \"상품간략설명 : 가정용 곰탕 제조기 \\n 초기 단어: 빠르고, 건강하며, 컴팩트합니다.\"\n",
    "    }\n",
    "  ],\n",
    "  temperature=0.8,\n",
    "  max_tokens=64,\n",
    "  top_p=1\n",
    ")"
   ]
  },
  {
   "cell_type": "code",
   "execution_count": 65,
   "id": "93bb69d0-6c9d-4f3c-aec5-a944c71dc5e4",
   "metadata": {},
   "outputs": [
    {
     "name": "stdout",
     "output_type": "stream",
     "text": [
      "건강곰탕기\n"
     ]
    }
   ],
   "source": [
    "print(response.choices[0].message.content)"
   ]
  },
  {
   "cell_type": "markdown",
   "id": "22cd2c83-3e39-456a-a45d-56ca3fcf3bd5",
   "metadata": {},
   "source": [
    "## 번역\n",
    "\n",
    "SYSTEM : 당신은 영어로 된 문장을 받게 될 것이고, 당신의 임무는 그것을 한국어로 번역하는 것입니다.  \n",
    "USER : \n",
    "My name is Jane. What is yours?"
   ]
  },
  {
   "cell_type": "code",
   "execution_count": 66,
   "id": "6e11fee7-150b-43e7-ba53-4458c98c2123",
   "metadata": {},
   "outputs": [],
   "source": [
    "response = client.chat.completions.create(\n",
    "  model=\"gpt-4o\",\n",
    "  messages=[\n",
    "    {\n",
    "      \"role\": \"system\",\n",
    "      \"content\": \"당신은 영어로 된 문장을 받게 될 것이고, 당신의 임무는 그것을 한국어로 번역하는 것입니다.\"\n",
    "    },\n",
    "    {\n",
    "      \"role\": \"user\",\n",
    "      \"content\": \"My name is Jane. What is yours?\"\n",
    "    }\n",
    "  ],\n",
    "  temperature=0.7,\n",
    "  max_tokens=64,\n",
    "  top_p=1\n",
    ")"
   ]
  },
  {
   "cell_type": "code",
   "execution_count": 67,
   "id": "551cc4f5-80d6-4218-bc56-932cf77b0d03",
   "metadata": {},
   "outputs": [
    {
     "name": "stdout",
     "output_type": "stream",
     "text": [
      "제 이름은 제인입니다. 당신의 이름은 무엇인가요?\n"
     ]
    }
   ],
   "source": [
    "print(response.choices[0].message.content)"
   ]
  },
  {
   "cell_type": "code",
   "execution_count": null,
   "id": "153ef2b1-9ba7-4da6-963a-77a52b07212c",
   "metadata": {},
   "outputs": [],
   "source": []
  }
 ],
 "metadata": {
  "kernelspec": {
   "display_name": "Python 3 (ipykernel)",
   "language": "python",
   "name": "python3"
  },
  "language_info": {
   "codemirror_mode": {
    "name": "ipython",
    "version": 3
   },
   "file_extension": ".py",
   "mimetype": "text/x-python",
   "name": "python",
   "nbconvert_exporter": "python",
   "pygments_lexer": "ipython3",
   "version": "3.9.16"
  }
 },
 "nbformat": 4,
 "nbformat_minor": 5
}
