{
 "cells": [
  {
   "cell_type": "markdown",
   "id": "c5a91499-2154-45fc-b4b0-10c888d61c6d",
   "metadata": {},
   "source": [
    "# Text Generation models"
   ]
  },
  {
   "cell_type": "markdown",
   "id": "94635dde-ab9f-4d32-b3aa-5db234bb122d",
   "metadata": {},
   "source": [
    "## Chat Completion API"
   ]
  },
  {
   "cell_type": "code",
   "execution_count": null,
   "id": "7dc1f114",
   "metadata": {},
   "outputs": [],
   "source": [
    "# !pip install -q openai\n",
    "# !pip install -q python-dotenv"
   ]
  },
  {
   "cell_type": "code",
   "execution_count": null,
   "id": "0d1e856d",
   "metadata": {},
   "outputs": [],
   "source": []
  },
  {
   "cell_type": "markdown",
   "id": "3461435a-a667-4f08-a1df-1f4b731c9d43",
   "metadata": {},
   "source": [
    "#### 메시지와 역할 (Messages and Roles)\n",
    "\n",
    "Chat Completions API에서는 모델에 지침을 제공하는 **메시지 배열(array of messages)** 을 통해 프롬프트를 생성합니다.  \n",
    "각 메시지는 **다른 역할(Role)** 을 가질 수 있으며, 이는 모델이 입력을 해석하는 방식에 영향을 미칩니다.\n",
    "\n",
    "\n",
    "\n",
    "## **역할(Role) 설명**\n",
    "\n",
    "| **Role**      | **설명**                                                                                              | **사용 예제**                                                                                                                                                                   |\n",
    "|---------------|------------------------------------------------------------------------------------------------------|--------------------------------------------------------------------------------------------------------------------------------------------------------------------------------|\n",
    "| **user**      | 모델에게 특정 출력을 요청하는 메시지. ChatGPT에서 사용자가 입력하는 일반적인 메시지와 동일합니다.           | `\"재귀함수에 대한 시를 작성해줘.\"`                                                                                                                              |\n",
    "| **developer** | 사용자 메시지보다 우선적으로 적용되는 모델 지침. 이전에는 \"system prompt\"로 불렸습니다.                      | `\"당신은 미국 남동부 지역 사투리를 사용하는 프로그래밍 질문 도우미입니다. 이제 모든 응답은 남부 스타일의 말투로 작성되어야 합니다.\"`                                                                                 |\n",
    "| **assistant** | 모델이 생성한 메시지로, 이전 요청에서 생성된 응답을 포함할 수 있습니다.                                     |  `\"똑똑! 누구세요? 나는 OpenAI야! OpenAI 누구?\"`                                                                            |\n",
    "\n",
    "---\n",
    "\n",
    "## **메시지 역할의 중요성**\n",
    "- **더 나은 응답 생성**: 역할을 적절히 사용하면 **더 정교하고 원하는 방식의 결과**를 얻을 수 있습니다.\n",
    "- **계층적 지침 전달**: `developer` 역할을 사용하여 모델의 동작과 톤을 정의할 수 있습니다.\n",
    "- **비결정적(Dynamic)**: 각 역할의 효과는 상황에 따라 달라질 수 있으므로, 여러 접근 방식을 시도해보는 것이 좋습니다."
   ]
  },
  {
   "cell_type": "code",
   "execution_count": null,
   "id": "0ec3fc04",
   "metadata": {},
   "outputs": [],
   "source": []
  },
  {
   "cell_type": "code",
   "execution_count": null,
   "id": "97469ebe",
   "metadata": {},
   "outputs": [],
   "source": []
  },
  {
   "cell_type": "code",
   "execution_count": null,
   "id": "e4b45711",
   "metadata": {},
   "outputs": [],
   "source": []
  },
  {
   "cell_type": "markdown",
   "id": "444715f4-8b62-4c16-a9d3-aa037d3fb67e",
   "metadata": {},
   "source": [
    "- 모든 응답에는 'finish_reason'이 포함되며, 'finish_reason'의 가능한 값은 다음과 같습니다:\n",
    "    - stop: API가 완전한 메시지를 반환하거나, stop 매개변수를 통해 제공된 중단 시퀀스 중 하나에 의해 메시지가 종료됨\n",
    "    - length: max_tokens 매개변수 또는 토큰 제한으로 인해 완전하지 않은 모델 출력\n",
    "    - function_call: 모델이 함수를 호출하기로 결정함"
   ]
  },
  {
   "cell_type": "code",
   "execution_count": null,
   "id": "cad6bae0",
   "metadata": {},
   "outputs": [],
   "source": []
  },
  {
   "cell_type": "markdown",
   "id": "632be6d1-52ba-4cd8-b8bc-15281213b414",
   "metadata": {},
   "source": [
    "### 구조화된 출력 (Structured Outputs)\n",
    "\n",
    "- JSON 스키마를 준수하는 응답을 보장합니다.  \n",
    "\n",
    "- JSON은 애플리케이션 간 데이터 교환을 위한 전 세계적으로 널리 사용되는 포맷 중 하나입니다.  \n",
    "\n",
    "- 구조화된 출력(Structured Outputs)은 모델이 항상 제공된 [JSON 스키마](https://json-schema.org/overview/what-is-jsonschema)를 준수하도록 보장하는 기능입니다. 이를 통해 모델이 필요한 키를 누락하거나, 잘못된 열거형(enum) 값을 생성하는 걱정을 덜 수 있습니다.\n",
    "\n",
    "**구조화된 출력의 주요 장점**\n",
    "\n",
    "1. **신뢰할 수 있는 타입 안정성**: 잘못된 형식의 응답을 검증하거나 재요청할 필요가 없습니다.  \n",
    "2. **명시적인 거부**: 안전성 기반의 모델 거부를 프로그래밍 방식으로 감지할 수 있습니다.  \n",
    "3. **간단한 프롬프트**: 일관된 형식을 달성하기 위해 강한 표현의 프롬프트가 필요하지 않습니다.  \n",
    "\n",
    "**SDK와 통합**  \n",
    "\n",
    "REST API뿐만 아니라, OpenAI의 [Python](https://github.com/openai/openai-python/blob/main/helpers.md#structured-outputs-parsing-helpers) SDK에서도 [Pydantic](https://docs.pydantic.dev/latest/)를 사용하여 객체 스키마를 정의하기 쉽게 지원합니다."
   ]
  },
  {
   "cell_type": "code",
   "execution_count": null,
   "id": "7e5753d1",
   "metadata": {},
   "outputs": [],
   "source": [
    "class CalendarEvent(BaseModel):"
   ]
  },
  {
   "cell_type": "code",
   "execution_count": null,
   "id": "cc323300",
   "metadata": {},
   "outputs": [],
   "source": []
  },
  {
   "cell_type": "markdown",
   "id": "d884b7e7-03d3-4668-8f5b-0e7b447dbeb5",
   "metadata": {},
   "source": [
    "## Token 관리\n",
    "- \"ChatGPT is great!“ 는 6개의 토큰으로 인코딩됩니다 $\\rightarrow$ [\"Chat\", \"G\", \"PT\", \" is\", \" great\", \"!\"]\n",
    "- 예를 들어, API 호출이 메시지 입력에서 10개의 토큰을 사용하고 메시지 출력에서 ​​20개의 토큰을 받은 경우 30개의 토큰에 대한 요금이 청구됩니다.\n"
   ]
  },
  {
   "cell_type": "code",
   "execution_count": null,
   "id": "f4d644cd",
   "metadata": {},
   "outputs": [],
   "source": []
  },
  {
   "cell_type": "markdown",
   "id": "cab3f31a-ec6c-4c96-9d64-2411e6111eaa",
   "metadata": {},
   "source": [
    "## 재현 가능한 출력 \n",
    "- SEED 매개 변수 사용"
   ]
  },
  {
   "cell_type": "code",
   "execution_count": null,
   "id": "bee5e50a",
   "metadata": {},
   "outputs": [],
   "source": []
  },
  {
   "cell_type": "code",
   "execution_count": null,
   "id": "812db9b3",
   "metadata": {},
   "outputs": [],
   "source": []
  },
  {
   "cell_type": "markdown",
   "id": "39ebea80-caec-4952-9261-46b6f107c032",
   "metadata": {},
   "source": [
    "### 수학문제 풀이"
   ]
  },
  {
   "cell_type": "code",
   "execution_count": null,
   "id": "1db9ac6a",
   "metadata": {},
   "outputs": [],
   "source": []
  },
  {
   "cell_type": "code",
   "execution_count": null,
   "id": "23101823",
   "metadata": {},
   "outputs": [],
   "source": []
  }
 ],
 "metadata": {
  "kernelspec": {
   "display_name": "Python 3 (ipykernel)",
   "language": "python",
   "name": "python3"
  },
  "language_info": {
   "codemirror_mode": {
    "name": "ipython",
    "version": 3
   },
   "file_extension": ".py",
   "mimetype": "text/x-python",
   "name": "python",
   "nbconvert_exporter": "python",
   "pygments_lexer": "ipython3",
   "version": "3.9.16"
  }
 },
 "nbformat": 4,
 "nbformat_minor": 5
}
