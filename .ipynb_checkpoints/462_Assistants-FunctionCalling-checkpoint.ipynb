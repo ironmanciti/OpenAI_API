{
 "cells": [
  {
   "attachments": {},
   "cell_type": "markdown",
   "id": "e0619d6b-69f6-4f0a-91fa-85eebe422e45",
   "metadata": {},
   "source": [
    "# Assistants API - Function Calling(함수 호출)\n",
    "\n",
    "함수 호출을 사용하면 Assistants API에 함수를 설명하고 인수와 함께 호출해야 하는 함수를 지능적으로 반환하도록 할 수 있습니다.\n",
    "\n",
    "이 예에서는 날씨 assistant를 만들고 assistant가 호출할 수 있는 도구로 `get_current_temp`, `get_rain_probability` 및 `get_n_day_weather_forecast`라는 세 가지 함수를 정의합니다. 사용자 쿼리에 따라 모델은 2023년 11월 6일 이후에 출시된 최신 모델을 사용하는 경우 병렬 함수 호출을 호출합니다. 병렬 함수 호출을 사용하는 예시에서는 assistant에게 오늘 특정 도시의 날씨가 어떨지와 비가 올 확률을 물어봅니다. 스트리밍으로 어시스턴트의 응답을 출력하는 방법도 보여줍니다.\n"
   ]
  },
  {
   "cell_type": "code",
   "execution_count": 1,
   "id": "7a0399e0-6377-4e2b-a155-488cb32821ea",
   "metadata": {},
   "outputs": [
    {
     "data": {
      "text/plain": [
       "True"
      ]
     },
     "execution_count": 1,
     "metadata": {},
     "output_type": "execute_result"
    }
   ],
   "source": [
    "from dotenv import load_dotenv, find_dotenv\n",
    "load_dotenv(find_dotenv()) # read local .env file"
   ]
  },
  {
   "cell_type": "code",
   "execution_count": 2,
   "id": "4b8abb8d-35fd-453a-8e06-61bf20bd997b",
   "metadata": {},
   "outputs": [],
   "source": [
    "from openai import OpenAI\n",
    "client = OpenAI()\n",
    "\n",
    "Model = \"gpt-4o-mini\""
   ]
  },
  {
   "cell_type": "markdown",
   "id": "c1203d8d-8661-409d-bb54-bbf32979494e",
   "metadata": {},
   "source": [
    "### 1단계: 함수 정의\n",
    "어시스턴트를 생성할 때 먼저 어시스턴트의 tools 매개변수 아래에 기능을 정의합니다."
   ]
  },
  {
   "cell_type": "code",
   "execution_count": 3,
   "id": "a88b8602-8e0c-41a1-906f-e278575bacb3",
   "metadata": {},
   "outputs": [
    {
     "name": "stdout",
     "output_type": "stream",
     "text": [
      "현재 기온: -12.6°C\n",
      "\n",
      "현재 강수 확률: 0%\n",
      "\n",
      "7일간의 날씨 예보:\n",
      "날짜: 2025-02-08, 최고기온: -5.2°C, 최저기온: -13.2°C, 강수 확률: 0%\n",
      "날짜: 2025-02-09, 최고기온: -2.6°C, 최저기온: -10.7°C, 강수 확률: 0%\n",
      "날짜: 2025-02-10, 최고기온: 1.8°C, 최저기온: -8.9°C, 강수 확률: 0%\n",
      "날짜: 2025-02-11, 최고기온: 4.2°C, 최저기온: -6.0°C, 강수 확률: 0%\n",
      "날짜: 2025-02-12, 최고기온: 2.1°C, 최저기온: -1.3°C, 강수 확률: 81%\n",
      "날짜: 2025-02-13, 최고기온: 4.4°C, 최저기온: -4.7°C, 강수 확률: 13%\n",
      "날짜: 2025-02-14, 최고기온: 3.5°C, 최저기온: -2.9°C, 강수 확률: 0%\n"
     ]
    }
   ],
   "source": [
    "import requests\n",
    "\n",
    "# 현재 기온을 가져오는 함수\n",
    "def get_current_temperature(latitude, longitude):\n",
    "    \"\"\"\n",
    "    주어진 위도(latitude)와 경도(longitude)에 대한 현재 기온(섭씨)을 반환합니다.\n",
    "    \"\"\"\n",
    "    response = requests.get(f\"https://api.open-meteo.com/v1/forecast?latitude={latitude}&longitude={longitude}&current=temperature_2m\")\n",
    "    data = response.json()                    # 응답을 JSON 형식으로 변환\n",
    "    return data['current']['temperature_2m']  # 현재 기온 값 반환\n",
    "\n",
    "# 현재 강수 확률을 가져오는 함수\n",
    "def get_rain_probability(latitude, longitude):\n",
    "    \"\"\"\n",
    "    주어진 위도(latitude)와 경도(longitude)에 대한 현재 강수 확률(%)을 반환합니다.\n",
    "    \"\"\"\n",
    "    response = requests.get(f\"https://api.open-meteo.com/v1/forecast?latitude={latitude}&longitude={longitude}&current=precipitation_probability\")\n",
    "    data = response.json()                     # 응답을 JSON 형식으로 변환\n",
    "    return data['current']['precipitation_probability']  # 강수 확률 값 반환\n",
    "\n",
    "# N일간의 날씨 예보를 가져오는 함수\n",
    "def get_n_day_weather_forecast(latitude, longitude, days):\n",
    "    \"\"\"\n",
    "    주어진 위도(latitude)와 경도(longitude)에 대한 N일간(최대 7일)의 날씨 예보를 반환합니다.\n",
    "    반환 데이터는 날짜별 최고/최저 기온 및 강수 확률을 포함합니다.\n",
    "    \"\"\"\n",
    "    response = requests.get(\n",
    "        f\"https://api.open-meteo.com/v1/forecast?latitude={latitude}&longitude={longitude}\"\n",
    "        f\"&daily=temperature_2m_max,temperature_2m_min,precipitation_probability_max\"\n",
    "        f\"&timezone=Asia/Seoul&forecast_days={days}\"\n",
    "    )\n",
    "    data = response.json()  # 응답을 JSON 형식으로 변환\n",
    "    \n",
    "    forecast = []           # 예보 데이터를 저장할 리스트\n",
    "    for i in range(days):\n",
    "        forecast.append({\n",
    "            \"date\": data[\"daily\"][\"time\"][i],        # 날짜\n",
    "            \"max_temp\": data[\"daily\"][\"temperature_2m_max\"][i],  # 최고 기온\n",
    "            \"min_temp\": data[\"daily\"][\"temperature_2m_min\"][i],  # 최저 기온\n",
    "            \"rain_probability\": data[\"daily\"][\"precipitation_probability_max\"][i]  # 강수 확률\n",
    "        })\n",
    "    \n",
    "    return forecast  # N일간의 날씨 예보 데이터 반환\n",
    "\n",
    "# 서울의 위도, 경도 제공\n",
    "latitude = 37.56667  \n",
    "longitude = 126.97806  \n",
    "\n",
    "# 현재 기온 출력\n",
    "current_temperature = get_current_temperature(latitude, longitude)\n",
    "print(f\"현재 기온: {current_temperature}°C\")\n",
    "print()\n",
    "\n",
    "# 현재 강수 확률 출력\n",
    "rain_probability = get_rain_probability(latitude, longitude)\n",
    "print(f\"현재 강수 확률: {rain_probability}%\")\n",
    "print()\n",
    "\n",
    "# 서울의 7일간의 날씨 예보 요청\n",
    "forecast = get_n_day_weather_forecast(latitude, longitude, 7)\n",
    "\n",
    "# N일간의 날씨 예보 출력\n",
    "print(\"7일간의 날씨 예보:\")\n",
    "for day in forecast:\n",
    "    print(f\"날짜: {day['date']}, 최고기온: {day['max_temp']}°C, 최저기온: {day['min_temp']}°C, 강수 확률: {day['rain_probability']}%\")"
   ]
  },
  {
   "cell_type": "code",
   "execution_count": 21,
   "id": "b7a3f2ce-a4e9-48ee-8745-33e76c8fb5c0",
   "metadata": {},
   "outputs": [
    {
     "data": {
      "text/plain": [
       "Assistant(id='asst_wSqEkzgMfZug0D0ADKCldST1', created_at=1738973873, description=None, instructions='당신은 날씨 봇입니다. 제공된 function을 사용하여 질문에 답하세요.', metadata={}, model='gpt-4o-mini', name=None, object='assistant', tools=[FunctionTool(function=FunctionDefinition(name='get_current_temperature', description='제공된 좌표의 현재 기온을 섭씨(Celsius) 단위로 가져오세요.', parameters={'type': 'object', 'properties': {'latitude': {'type': 'number'}, 'longitude': {'type': 'number'}}, 'required': ['latitude', 'longitude'], 'additionalProperties': False}, strict=True), type='function'), FunctionTool(function=FunctionDefinition(name='get_rain_probability', description='특정 지역에 비가 올 확률을 가져옵니다.', parameters={'type': 'object', 'properties': {'latitude': {'type': 'number'}, 'longitude': {'type': 'number'}}, 'required': ['latitude', 'longitude'], 'additionalProperties': False}, strict=True), type='function'), FunctionTool(function=FunctionDefinition(name='get_n_day_weather_forecast', description='N일간의 날씨 예보를 가져옵니다.', parameters={'type': 'object', 'properties': {'latitude': {'type': 'number'}, 'longitude': {'type': 'number'}, 'days': {'type': 'integer', 'description': '예보할 일수'}}, 'required': ['latitude', 'longitude', 'days'], 'additionalProperties': False}, strict=True), type='function')], response_format='auto', temperature=1.0, tool_resources=ToolResources(code_interpreter=None, file_search=None), top_p=1.0, reasoning_effort=None)"
      ]
     },
     "execution_count": 21,
     "metadata": {},
     "output_type": "execute_result"
    }
   ],
   "source": [
    "# 함수 호출 assistant 생성 \n",
    "assistant = client.beta.assistants.create(\n",
    "  instructions=\"당신은 날씨 봇입니다. 제공된 function을 사용하여 질문에 답하세요.\",\n",
    "  model=Model,\n",
    "  tools=[\n",
    "    {\n",
    "      \"type\": \"function\",\n",
    "      \"function\": {\n",
    "        \"name\": \"get_current_temperature\",\n",
    "        \"description\": \"제공된 좌표의 현재 기온을 섭씨(Celsius) 단위로 가져오세요.\",\n",
    "        \"parameters\": {\n",
    "          \"type\": \"object\",\n",
    "          \"properties\": {\n",
    "                \"latitude\": {\"type\": \"number\"},\n",
    "                \"longitude\": {\"type\": \"number\"}\n",
    "            },\n",
    "          \"required\": [\"latitude\", \"longitude\"],\n",
    "          \"additionalProperties\": False\n",
    "        },\n",
    "        \"strict\": True   # JSON 스키마의 엄격한 준수(strict mode)를 적용  \n",
    "      }\n",
    "    },\n",
    "    {\n",
    "      \"type\": \"function\",\n",
    "      \"function\": {\n",
    "        \"name\": \"get_rain_probability\",\n",
    "        \"description\": \"특정 지역에 비가 올 확률을 가져옵니다.\",\n",
    "        \"parameters\": {\n",
    "          \"type\": \"object\",\n",
    "          \"properties\": {\n",
    "                \"latitude\": {\"type\": \"number\"},\n",
    "                \"longitude\": {\"type\": \"number\"}\n",
    "            },\n",
    "          \"required\": [\"latitude\", \"longitude\"],\n",
    "          \"additionalProperties\": False\n",
    "        },\n",
    "        \"strict\": True   \n",
    "      }\n",
    "    },\n",
    "    {\n",
    "        \"type\": \"function\",\n",
    "        \"function\": {\n",
    "            \"name\": \"get_n_day_weather_forecast\",\n",
    "            \"description\": \"N일간의 날씨 예보를 가져옵니다.\", \n",
    "            \"parameters\": {\n",
    "                \"type\": \"object\",\n",
    "                \"properties\": {\n",
    "                    \"latitude\": {\"type\": \"number\"},\n",
    "                    \"longitude\": {\"type\": \"number\"},\n",
    "                    \"days\": {\n",
    "                        \"type\": \"integer\",\n",
    "                        \"description\": \"예보할 일수\", \n",
    "                    }\n",
    "                },\n",
    "                \"required\": [\"latitude\", \"longitude\", \"days\"],\n",
    "                \"additionalProperties\": False\n",
    "            },\n",
    "            \"strict\": True \n",
    "        }\n",
    "    },\n",
    "  ]\n",
    ")\n",
    "\n",
    "assistant"
   ]
  },
  {
   "cell_type": "code",
   "execution_count": 22,
   "id": "83383c05-49dc-4210-9ec4-002e4c5709b6",
   "metadata": {},
   "outputs": [
    {
     "data": {
      "text/plain": [
       "[FunctionTool(function=FunctionDefinition(name='get_current_temperature', description='제공된 좌표의 현재 기온을 섭씨(Celsius) 단위로 가져오세요.', parameters={'type': 'object', 'properties': {'latitude': {'type': 'number'}, 'longitude': {'type': 'number'}}, 'required': ['latitude', 'longitude'], 'additionalProperties': False}, strict=True), type='function'),\n",
       " FunctionTool(function=FunctionDefinition(name='get_rain_probability', description='특정 지역에 비가 올 확률을 가져옵니다.', parameters={'type': 'object', 'properties': {'latitude': {'type': 'number'}, 'longitude': {'type': 'number'}}, 'required': ['latitude', 'longitude'], 'additionalProperties': False}, strict=True), type='function'),\n",
       " FunctionTool(function=FunctionDefinition(name='get_n_day_weather_forecast', description='N일간의 날씨 예보를 가져옵니다.', parameters={'type': 'object', 'properties': {'latitude': {'type': 'number'}, 'longitude': {'type': 'number'}, 'days': {'type': 'integer', 'description': '예보할 일수'}}, 'required': ['latitude', 'longitude', 'days'], 'additionalProperties': False}, strict=True), type='function')]"
      ]
     },
     "execution_count": 22,
     "metadata": {},
     "output_type": "execute_result"
    }
   ],
   "source": [
    "assistant.tools"
   ]
  },
  {
   "cell_type": "markdown",
   "id": "4f7b82b3-d4a8-4c71-87bd-42fcd18383f6",
   "metadata": {},
   "source": [
    "### 2단계: 스레드 생성 및 메시지 추가\r\n",
    "사용자가 대화를 시작할 때 스레드를 생성하고 사용자가 질문을 하면 스레드에 메시지를 추가합니다."
   ]
  },
  {
   "cell_type": "code",
   "execution_count": 23,
   "id": "35812d39-0b51-49db-a256-20b1583b80ad",
   "metadata": {},
   "outputs": [],
   "source": [
    "# 새로운 Thread(대화 세션) 생성\n",
    "thread = client.beta.threads.create()\n",
    "\n",
    "# 사용자 메시지를 Thread에 추가\n",
    "message = client.beta.threads.messages.create(\n",
    "  thread_id=thread.id,   # 생성된 Thread의 ID 지정\n",
    "  role=\"user\",\n",
    "  content=\"오늘 서울의 날씨는 어때요? 비가 올 확률은 어때요? 오늘 부터 일주일간의 날씨는 어떨까요?\",\n",
    ")"
   ]
  },
  {
   "cell_type": "markdown",
   "id": "be50703a-ade6-40d7-b8ae-41e6316f8ab9",
   "metadata": {},
   "source": [
    "### 3단계: 실행 시작\n",
    "하나 이상의 기능을 트리거하는 사용자 메시지가 포함된 스레드에서 Run을 시작하면 Run이 `pending` 상태로 들어갑니다. 처리거 끝난 후 Run은 Run의 상태를 확인할 수 있는 `require_action` 상태로 전환됩니다. 이는 Run 실행을 계속하려면 도구(tools)를 실행하고 해당 출력을 Assistant에 제출해야 함을 나타냅니다. 우리의 경우에는 사용자 쿼리로 인해 병렬 함수 호출이 발생했음을 나타내는 두 개의 tool_call이 표시됩니다."
   ]
  },
  {
   "cell_type": "markdown",
   "id": "0a20afa0-a97c-43a9-b469-5be9f2bfe8ef",
   "metadata": {},
   "source": [
    "#### streaming 사용\n",
    "OpenAI의 AssistantEventHandler를 사용하여 Run을 만들고 응답을 스트리밍할 수 있습니다."
   ]
  },
  {
   "cell_type": "code",
   "execution_count": 24,
   "id": "8c41c953-6e17-4af1-afbb-3a20fd9d4322",
   "metadata": {},
   "outputs": [
    {
     "name": "stdout",
     "output_type": "stream",
     "text": [
      "오늘 서울의 날씨는 현재 기온이 -12.2도입니다. 비가 올 확률은 0%로, 오늘은 비가 내리지 않을 것으로 보입니다.\n",
      "\n",
      "일주일간의 날씨 예보는 다음과 같습니다:\n",
      "\n",
      "- **2025-02-08**: 최고 기온 -5.2도, 최저 기온 -13.2도, 비 올 확률 0%\n",
      "- **2025-02-09**: 최고 기온 -2.6도, 최저 기온 -10.7도, 비 올 확률 0%\n",
      "- **2025-02-10**: 최고 기온 1.8도, 최저 기온 -8.9도, 비 올 확률 0%\n",
      "- **2025-02-11**: 최고 기온 4.2도, 최저 기온 -6.0도, 비 올 확률 0%\n",
      "- **2025-02-12**: 최고 기온 2.1도, 최저 기온 -1.3도, 비 올 확률 81%\n",
      "- **2025-02-13**: 최고 기온 4.4도, 최저 기온 -4.7도, 비 올 확률 13%\n",
      "- **2025-02-14**: 최고 기온 3.5도, 최저 기온 -2.9도, 비 올 확률 0%\n",
      "\n",
      "기온이 많이 낮으니 외출 시 따뜻하게 입으세요!\n"
     ]
    }
   ],
   "source": [
    "import json\n",
    "from typing_extensions import override\n",
    "from openai import AssistantEventHandler\n",
    "\n",
    "# EventHandler 클래스 정의 (Function Calling을 처리하는 역할)\n",
    "class EventHandler(AssistantEventHandler):\n",
    "    @override\n",
    "    def on_event(self, event):\n",
    "        # 'requires_action' 이벤트 감지\n",
    "        if event.event == 'thread.run.requires_action':\n",
    "            run_id = event.data.id  # 실행 ID 가져오기\n",
    "            self.handle_requires_action(event.data, run_id)\n",
    "\n",
    "    def handle_requires_action(self, data, run_id):\n",
    "        tool_outputs = []  # 모든 함수 결과를 저장할 리스트\n",
    "\n",
    "        # 요청된 모든 함수 호출 확인\n",
    "        for tool in data.required_action.submit_tool_outputs.tool_calls:\n",
    "            # JSON 문자열로 전달된 함수 인자 파싱\n",
    "            args = json.loads(tool.function.arguments)\n",
    "            if tool.function.name == \"get_current_temperature\":\n",
    "                output = get_current_temperature(args[\"latitude\"], args[\"longitude\"])\n",
    "                tool_outputs.append({\"tool_call_id\": tool.id, \"output\": str(output)})\n",
    "            elif tool.function.name == \"get_rain_probability\":\n",
    "                output = get_rain_probability(args[\"latitude\"], args[\"longitude\"])\n",
    "                tool_outputs.append({\"tool_call_id\": tool.id, \"output\": str(output)})\n",
    "            elif tool.function.name == \"get_n_day_weather_forecast\":\n",
    "                output = get_n_day_weather_forecast(args[\"latitude\"], args[\"longitude\"], args[\"days\"])\n",
    "                tool_outputs.append({\"tool_call_id\": tool.id, \"output\": str(output)})\n",
    "\n",
    "        self.submit_tool_outputs(tool_outputs, run_id)\n",
    "\n",
    "    def submit_tool_outputs(self, tool_outputs, run_id):\n",
    "        if not tool_outputs:\n",
    "            print(\"제출할 함수 출력이 없습니다.\")\n",
    "            return\n",
    "\n",
    "        # `submit_tool_outputs_stream()`을 사용하여 함수 결과 제출\n",
    "        with client.beta.threads.runs.submit_tool_outputs_stream(\n",
    "            thread_id=self.current_run.thread_id,\n",
    "            run_id=self.current_run.id,\n",
    "            tool_outputs=tool_outputs,\n",
    "            event_handler=EventHandler(),  # 새로운 이벤트 핸들러\n",
    "        ) as stream:\n",
    "            for text in stream.text_deltas:\n",
    "                print(text, end=\"\", flush=True)\n",
    "            print()\n",
    "\n",
    "# Function Calling은 스트리밍 방식만 지원됨\n",
    "# Assistant가 실행되면서 EventHandler가 `Function Calling` 요청을 처리\n",
    "with client.beta.threads.runs.stream(\n",
    "    thread_id=thread.id,          # 실행할 Thread ID\n",
    "    assistant_id=assistant.id,    # 실행할 Assistant ID\n",
    "    event_handler=EventHandler()  # Function Calling을 처리할 이벤트 핸들러\n",
    ") as stream:\n",
    "    stream.until_done()   # 모든 처리가 완료될 때까지 대기"
   ]
  },
  {
   "cell_type": "markdown",
   "id": "17f83b53-b1b0-4020-8711-69a5a998128c",
   "metadata": {},
   "source": [
    "### Thread에 새로운 message 추가 및 Run 생성"
   ]
  },
  {
   "cell_type": "code",
   "execution_count": 25,
   "id": "bec5ba41-7ee4-4180-94b3-f9acc7a7976d",
   "metadata": {},
   "outputs": [
    {
     "name": "stdout",
     "output_type": "stream",
     "text": [
      "오늘 부산의 기온은 현재 -7.8도입니다. 비가 올 확률은 0%로, 오늘은 비가 내리지 않을 것으로 보입니다.\n",
      "\n",
      "앞으로 5일간의 날씨 예보는 다음과 같습니다:\n",
      "\n",
      "- **2025-02-08**: 최고 기온 -0.6도, 최저 기온 -10.3도, 비 올 확률 0%\n",
      "- **2025-02-09**: 최고 기온 2.7도, 최저 기온 -7.2도, 비 올 확률 0%\n",
      "- **2025-02-10**: 최고 기온 4.1도, 최저 기온 -6.0도, 비 올 확률 0%\n",
      "- **2025-02-11**: 최고 기온 7.4도, 최저 기온 -2.4도, 비 올 확률 0%\n",
      "- **2025-02-12**: 최고 기온 11.4도, 최저 기온 4.8도, 비 올 확률 95%\n",
      "\n",
      "앞으로 날씨가 많이 따뜻해질 예정이니 건강 관리 잘하시길 바랍니다!\n"
     ]
    }
   ],
   "source": [
    "# 사용자의 메시지를 생성하여 Thread(대화 세션)에 추가\n",
    "message = client.beta.threads.messages.create(\n",
    "      thread_id=thread.id,\n",
    "      role=\"user\",\n",
    "      content=\"오늘 부산의 온도는 어떤가요? 비가 올 확률은 어떤가요? 앞으로 5일간의 날씨는 어떻게 예상되나요?\"\n",
    "    )\n",
    "\n",
    "# Assistant 실행 (Function Calling 처리)\n",
    "with client.beta.threads.runs.stream(\n",
    "      thread_id=thread.id,\n",
    "      assistant_id=assistant.id,\n",
    "      instructions=\"사용자를 고객님이라고 부르세요. 사용자에게 프리미엄 계정이 있습니다.\",\n",
    "      event_handler=EventHandler(),\n",
    "    ) as stream:\n",
    "      stream.until_done()"
   ]
  },
  {
   "cell_type": "code",
   "execution_count": null,
   "id": "9dad2a7c-b2cd-40a0-a78a-b5b7d24d5e6b",
   "metadata": {},
   "outputs": [],
   "source": []
  }
 ],
 "metadata": {
  "kernelspec": {
   "display_name": "Python 3 (ipykernel)",
   "language": "python",
   "name": "python3"
  },
  "language_info": {
   "codemirror_mode": {
    "name": "ipython",
    "version": 3
   },
   "file_extension": ".py",
   "mimetype": "text/x-python",
   "name": "python",
   "nbconvert_exporter": "python",
   "pygments_lexer": "ipython3",
   "version": "3.9.16"
  }
 },
 "nbformat": 4,
 "nbformat_minor": 5
}
