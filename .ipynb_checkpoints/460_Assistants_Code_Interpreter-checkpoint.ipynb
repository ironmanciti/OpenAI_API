{
 "cells": [
  {
   "cell_type": "markdown",
   "id": "e0619d6b-69f6-4f0a-91fa-85eebe422e45",
   "metadata": {},
   "source": [
    "# Assistants API\n",
    "\n",
    "Assistants API를 사용하면 자체 애플리케이션 내에 AI 도우미를 구축할 수 있습니다. 어시스턴트에는 instruction(지침)이 있으며 모델, 도구 및 파일을 활용하여 사용자 쿼리에 응답할 수 있습니다. Assistants API는 현재 코드 해석기, 파일 검색 및 함수 호출의 세 가지 유형의 도구를 지원합니다.  \n",
    "\n",
    "Assistants 플레이그라운드(https://platform.openai.com/playground?mode=assistant)를 사용 하거나 아래에 설명된 것과 같이 Assistants API의 기능을 탐색할 수 있습니다."
   ]
  },
  {
   "cell_type": "code",
   "execution_count": 1,
   "id": "7a0399e0-6377-4e2b-a155-488cb32821ea",
   "metadata": {},
   "outputs": [
    {
     "data": {
      "text/plain": [
       "True"
      ]
     },
     "execution_count": 1,
     "metadata": {},
     "output_type": "execute_result"
    }
   ],
   "source": [
    "from dotenv import load_dotenv, find_dotenv\n",
    "load_dotenv(find_dotenv()) # read local .env file"
   ]
  },
  {
   "cell_type": "code",
   "execution_count": 2,
   "id": "e277abc4-3f8a-40c4-8113-591b8190f129",
   "metadata": {},
   "outputs": [],
   "source": [
    "from openai import OpenAI\n",
    "client = OpenAI()\n",
    "\n",
    "Model = \"gpt-4o-mini\""
   ]
  },
  {
   "cell_type": "markdown",
   "id": "9317c693-6639-458a-998c-72304b2e0d97",
   "metadata": {},
   "source": [
    "### 코드 해석기 (Code Interpreter)\n",
    "\n",
    "Assistants가 샌드박스 실행 환경에서 Python 코드를 작성하고 실행할 수 있습니다. 이 도구는 다양한 데이터와 포맷의 파일을 처리할 수 있으며, 데이터와 그래프 이미지가 포함된 파일을 생성할 수 있습니다. 코드 해석기를 사용하면 어시스턴트가 코드를 반복적으로 실행하여 어려운 코드 및 수학 문제를 해결할 수 있습니다. 어시스턴트가 실행에 실패한 코드를 작성하면 코드 실행이 성공할 때까지 다른 코드 실행을 시도하여 이 코드를 반복할 수 있습니다."
   ]
  },
  {
   "cell_type": "markdown",
   "id": "f11f5b57-ac33-4d4f-84f7-f1ffe0aaff0d",
   "metadata": {},
   "source": [
    "### Step 1 : assistant 생성  \n",
    "\n",
    "- assistant는 model , instructions및 같은 여러 매개변수를 사용하여 사용자의 메시지에 응답하도록 구성할 수 있는 엔터티를 나타냅니다.\n",
    "\n",
    "Instruction: 어시스턴트와 모델이 어떻게 행동하거나 반응해야 하는지 지시  \n",
    "Model: 모델 지정   \n",
    "Tools: API는 OpenAI에서 구축하고 호스팅하는 코드 해석기 및 검색을 지원합니다.  \n",
    "Functions: 함수 호출을 사용하면 Assistants API에 함수를 설명하고 인수와 함께 호출해야 하는 함수를 지능적으로 반환하도록 할 수 있습니다.  \n",
    "\n",
    "### 이 예에서는 코드 해석기 도구가 활성화된 개인 수학 교사인 도우미를 만듭니다.  \n",
    "예) code interpreter가 활성화된 개인 수학 교사 assistant를 생성하여 주어진 수학 문제를 푸는 python code 생성"
   ]
  },
  {
   "cell_type": "code",
   "execution_count": 3,
   "id": "35daa4a9-6052-40d7-ae36-686ae081fd8c",
   "metadata": {},
   "outputs": [
    {
     "data": {
      "text/plain": [
       "Assistant(id='asst_lsZINCgA1q0LERcbqwmvPW2w', created_at=1738883707, description=None, instructions='당신은 개인 수학 교사입니다. 수학 문제에 답하는 python 코드를 작성하고 실행해 보세요.', metadata={}, model='gpt-4o-mini', name='Math Tutor', object='assistant', tools=[CodeInterpreterTool(type='code_interpreter')], response_format='auto', temperature=1.0, tool_resources=ToolResources(code_interpreter=ToolResourcesCodeInterpreter(file_ids=[]), file_search=None), top_p=1.0, reasoning_effort=None)"
      ]
     },
     "execution_count": 3,
     "metadata": {},
     "output_type": "execute_result"
    }
   ],
   "source": [
    "# assistant 생성\n",
    "assistant = client.beta.assistants.create(\n",
    "    name=\"Math Tutor\",\n",
    "    instructions=\"당신은 개인 수학 교사입니다. 수학 문제에 답하는 python 코드를 작성하고 실행해 보세요.\",\n",
    "    tools=[{\"type\": \"code_interpreter\"}],\n",
    "    model=Model\n",
    ")\n",
    "assistant"
   ]
  },
  {
   "cell_type": "markdown",
   "id": "837e7ba4-5e9d-4ec4-9f18-57d152df45ad",
   "metadata": {},
   "source": [
    "### Step 2 : Thread 생성\n",
    "\n",
    "스레드는 사용자와 하나 이상의 Assistant 간의 대화를 나타냅니다. 사용자(또는 AI 애플리케이션)가 어시스턴트와 대화를 시작할 때 스레드를 생성할 수 있습니다.  \n",
    "사용자가 대화를 시작하자마자 사용자당 하나의 스레드를 생성하는 것이 좋습니다. 메시지를 생성하여 이 스레드에 사용자별 컨텍스트와 파일을 전달합니다.    "
   ]
  },
  {
   "cell_type": "code",
   "execution_count": 4,
   "id": "6b56570b-36db-4062-a51d-0d705f7b1055",
   "metadata": {},
   "outputs": [
    {
     "data": {
      "text/plain": [
       "Thread(id='thread_sjaKjyDz9OSBgA3cll8ZRTdU', created_at=1738883707, metadata={}, object='thread', tool_resources=ToolResources(code_interpreter=None, file_search=None))"
      ]
     },
     "execution_count": 4,
     "metadata": {},
     "output_type": "execute_result"
    }
   ],
   "source": [
    "# thread 생성\n",
    "thread = client.beta.threads.create()\n",
    "thread"
   ]
  },
  {
   "cell_type": "markdown",
   "id": "fbc2f82d-2ca6-4f1e-ace5-3f63bc2fcaa7",
   "metadata": {},
   "source": [
    "### Step 3 : Thread에 message 추가\n",
    "\n",
    "사용자나 애플리케이션이 생성한 메시지의 내용은 스레드에 메시지 개체로 추가됩니다. 메시지에는 텍스트와 파일이 모두 포함될 수 있습니다. 스레드에 추가할 수 있는 메시지 수에는 제한이 없습니다. 모델의 컨텍스트 창에 맞지 ​​않는 모든 컨텍스트를 스마트하게 자릅니다. 어시스턴트 API를 사용하면 특정 RUN에 대해 모델에 전달되는 입력 토큰 수에 대한 제어를 위임합니다. 즉, 경우에 따라 어시스턴트 실행 비용에 대한 제어 권한이 줄어들지만 복잡성을 처리할 필요는 없습니다. "
   ]
  },
  {
   "cell_type": "code",
   "execution_count": 5,
   "id": "8487396e-d8f1-40ca-a723-0e3a75f1ef37",
   "metadata": {},
   "outputs": [
    {
     "data": {
      "text/plain": [
       "Message(id='msg_1ZPcY1HfiH5h30Ru4ZC3L8yZ', assistant_id=None, attachments=[], completed_at=None, content=[TextContentBlock(text=Text(annotations=[], value='방정식 `3x + 11 = 14`를 풀려고해. 도와줘.'), type='text')], created_at=1738883708, incomplete_at=None, incomplete_details=None, metadata={}, object='thread.message', role='user', run_id=None, status=None, thread_id='thread_sjaKjyDz9OSBgA3cll8ZRTdU')"
      ]
     },
     "execution_count": 5,
     "metadata": {},
     "output_type": "execute_result"
    }
   ],
   "source": [
    "# thread에 message 추가\n",
    "message = client.beta.threads.messages.create(\n",
    "    thread_id=thread.id,\n",
    "    role=\"user\",\n",
    "    #content=\"I need to solve the equation `3x + 11 = 14`. Can you help me?\"\n",
    "    content=\"방정식 `3x + 11 = 14`를 풀려고해. 도와줘.\"\n",
    ")\n",
    "\n",
    "message"
   ]
  },
  {
   "cell_type": "code",
   "execution_count": 6,
   "id": "fad323fb-0825-4bb9-a4cf-8e97ebeba7d3",
   "metadata": {},
   "outputs": [
    {
     "data": {
      "text/plain": [
       "{'id': 'msg_1ZPcY1HfiH5h30Ru4ZC3L8yZ',\n",
       " 'assistant_id': None,\n",
       " 'attachments': [],\n",
       " 'completed_at': None,\n",
       " 'content': [TextContentBlock(text=Text(annotations=[], value='방정식 `3x + 11 = 14`를 풀려고해. 도와줘.'), type='text')],\n",
       " 'created_at': 1738883708,\n",
       " 'incomplete_at': None,\n",
       " 'incomplete_details': None,\n",
       " 'metadata': {},\n",
       " 'object': 'thread.message',\n",
       " 'role': 'user',\n",
       " 'run_id': None,\n",
       " 'status': None,\n",
       " 'thread_id': 'thread_sjaKjyDz9OSBgA3cll8ZRTdU',\n",
       " '_request_id': 'req_54d23538db0aec866c7a6f5bf0d94cf3',\n",
       " '__exclude_fields__': {'__exclude_fields__', '_request_id'}}"
      ]
     },
     "execution_count": 6,
     "metadata": {},
     "output_type": "execute_result"
    }
   ],
   "source": [
    "vars(message)"
   ]
  },
  {
   "cell_type": "markdown",
   "id": "8442d29b-e724-4062-b8de-a89e1ddb565e",
   "metadata": {},
   "source": [
    "### Step 4 : Run 생성\n",
    "\n",
    "모든 사용자 메시지가 스레드에 추가되면 특정 Assistant를 사용하여 스레드를 Run할 수 있습니다. Run을 생성하면 Assistant와 관련된 모델 및 도구를 사용하여 응답을 생성합니다. 이러한 응답은 스레드에 assistant메시지로 추가됩니다.\n",
    "\n",
    "| 방식                          | 응답 속도       | 구현 난이도 | 사용 시점                   | 특징                              | 선택 기준 |\r\n",
    "|------------------------------|--------------|----------|--------------------------|----------------------------------|------------------------------|\r\n",
    "| **Streaming (`stream()`)**   | 빠름 (즉시 응답) | 복잡함     | 실시간 응답이 필요한 경우      | 이벤트 기반 응답, 자연스러운 대화 | ✅ 대화형 챗봇처럼 실시간 응답이 중요한 경우  |\r\n",
    "|                              |              |          |                          |                                  | ✅ 결과를 빠르게 부분적으로 보여줘야 하는 경우 |\r\n",
    "|                              |              |          |                          |                                  | ✅ API 요청이 오래 걸리는 작업을 실행하는 경우 (예: 코드 실행, 데이터 분석 등) |\r\n",
    "| **Polling (`create_and_poll()`)** | 느림 (완료 후 응답) | 간단함     | 전체 결과가 필요할 때          | 한 번에 모든 결과를 가져옴       | ✅ 응답을 한 번에 처리해야 하는 경우 (예: 로그 분석, 문서 요약 등) |\r\n",
    "|                              |              |          |                          |                                  | ✅ 실시간 응답이 필요하지 않은 백그라운드 작업 |\r\n",
    "|                              |              |          |                          |                                  | ✅ 간단한 API 호출이 필요한 경우 |\r\n",
    " |\r\n"
   ]
  },
  {
   "cell_type": "markdown",
   "id": "0a20afa0-a97c-43a9-b469-5be9f2bfe8ef",
   "metadata": {},
   "source": [
    "### 방법 1 - streaming 방식\n",
    "OpenAI의 AssistantEventHandler를 사용하여 Run을 만들고 응답을 스트리밍할 수 있습니다."
   ]
  },
  {
   "cell_type": "code",
   "execution_count": 7,
   "id": "4c80affa-deae-42da-af7a-29056a35d866",
   "metadata": {},
   "outputs": [],
   "source": [
    "from typing_extensions import override\n",
    "from openai import AssistantEventHandler\n",
    " \n",
    "# 먼저, 이벤트 핸들러 클래스(EventHandler)를 생성하여\n",
    "# 응답 스트림에서 이벤트를 어떻게 처리할지 정의합니다.\n",
    "class EventHandler(AssistantEventHandler):    \n",
    "  # 텍스트 생성이 완료되었을 때 호출되는 메서드\n",
    "  @override\n",
    "  def on_text_created(self, text) -> None:\n",
    "    print(f\"\\nassistant-1 > \", end=\"\", flush=True)\n",
    "      \n",
    "  # 텍스트 생성 중간에 호출되는 메서드. 점진적으로 delta.value 출력\n",
    "  @override\n",
    "  def on_text_delta(self, delta, snapshot):\n",
    "    print(delta.value, end=\"\", flush=True)\n",
    "      \n",
    "  # 도구 호출이 생성되었을 때 호출되는 메서드\n",
    "  def on_tool_call_created(self, tool_call):\n",
    "    print(f\"\\nassistant-2 > {tool_call.type}\\n\", flush=True)  #호출한 도구 출력\n",
    "  \n",
    "  # 도구 호출 중간에 호출되는 메서드\n",
    "  def on_tool_call_delta(self, delta, snapshot):\n",
    "    if delta.type == 'code_interpreter':\n",
    "      # 파이썬 코드\n",
    "      if delta.code_interpreter.input:\n",
    "        print(delta.code_interpreter.input, end=\"\", flush=True)\n",
    "      # 파이썬 코드 실행 결과\n",
    "      if delta.code_interpreter.outputs:\n",
    "        print(f\"\\n\\noutput >\", flush=True)\n",
    "        for output in delta.code_interpreter.outputs:\n",
    "          # 실행된 코드의 출력을 로그 형태로 출력\n",
    "          if output.type == \"logs\":\n",
    "            print(f\"\\n{output.logs}\", flush=True)"
   ]
  },
  {
   "cell_type": "code",
   "execution_count": 8,
   "id": "8c41c953-6e17-4af1-afbb-3a20fd9d4322",
   "metadata": {},
   "outputs": [
    {
     "name": "stdout",
     "output_type": "stream",
     "text": [
      "\n",
      "assistant-2 > code_interpreter\n",
      "\n",
      "import sympy as sp\n",
      "\n",
      "# 변수 정의\n",
      "x = sp.symbols('x')\n",
      "\n",
      "# 방정식 정의\n",
      "equation = sp.Eq(3*x + 11, 14)\n",
      "\n",
      "# 방정식 풀기\n",
      "solution = sp.solve(equation, x)\n",
      "solution\n",
      "assistant-1 > 방정식 \\( 3x + 11 = 14 \\)의 해는 \\( x = 1 \\)입니다."
     ]
    }
   ],
   "source": [
    "# 그런 다음, `stream` SDK 도우미와 `EventHandler` 클래스를 사용하여\n",
    "# Run을 생성하고 응답을 스트리밍합니다.\n",
    "with client.beta.threads.runs.stream(\n",
    "  thread_id=thread.id,\n",
    "  assistant_id=assistant.id,\n",
    "  instructions=\"Python code를 생성해 주세요.\",  # 사용자에 대한 지시\n",
    "  event_handler=EventHandler(),  # EventHandler 클래스 인스턴스를 이벤트 핸들러로 사용\n",
    ") as stream:\n",
    "  stream.until_done()  # 스트림이 완료될 때까지 대기"
   ]
  },
  {
   "cell_type": "markdown",
   "id": "bd9820cb-45a1-4cef-9229-7e6e70ecc1f5",
   "metadata": {},
   "source": [
    "### 방법 2 - polling 방식 \n",
    "RUN은 비동기식입니다. 즉, 터미널 상태에 도달할 때까지 Run 개체를 폴링하여 상태를 모니터링해야 한다는 뜻입니다. 'create_and_poll' SDK는 Run 생성과 완료 폴링을 모두 지원합니다."
   ]
  },
  {
   "cell_type": "code",
   "execution_count": 9,
   "id": "8f8e5e05-db5d-44f5-81b8-4d109febb5f7",
   "metadata": {},
   "outputs": [
    {
     "data": {
      "text/plain": [
       "{'id': 'run_SSeCelH1rZyZdbg3T6sppHqG',\n",
       " 'assistant_id': 'asst_lsZINCgA1q0LERcbqwmvPW2w',\n",
       " 'cancelled_at': None,\n",
       " 'completed_at': 1738883747,\n",
       " 'created_at': 1738883740,\n",
       " 'expires_at': None,\n",
       " 'failed_at': None,\n",
       " 'incomplete_details': None,\n",
       " 'instructions': '풀이 과정을 단계적으로 설명해줘',\n",
       " 'last_error': None,\n",
       " 'max_completion_tokens': None,\n",
       " 'max_prompt_tokens': None,\n",
       " 'metadata': {},\n",
       " 'model': 'gpt-4o-mini',\n",
       " 'object': 'thread.run',\n",
       " 'parallel_tool_calls': True,\n",
       " 'required_action': None,\n",
       " 'response_format': 'auto',\n",
       " 'started_at': 1738883741,\n",
       " 'status': 'completed',\n",
       " 'thread_id': 'thread_sjaKjyDz9OSBgA3cll8ZRTdU',\n",
       " 'tool_choice': 'auto',\n",
       " 'tools': [CodeInterpreterTool(type='code_interpreter')],\n",
       " 'truncation_strategy': TruncationStrategy(type='auto', last_messages=None),\n",
       " 'usage': Usage(completion_tokens=219, prompt_tokens=256, total_tokens=475, prompt_token_details={'cached_tokens': 0}, completion_tokens_details={'reasoning_tokens': 0}),\n",
       " 'temperature': 1.0,\n",
       " 'top_p': 1.0,\n",
       " 'tool_resources': {},\n",
       " 'reasoning_effort': None,\n",
       " '_request_id': 'req_23c52d5c1e76698b164a5f3b21d4e85d',\n",
       " '__exclude_fields__': {'__exclude_fields__', '_request_id'}}"
      ]
     },
     "execution_count": 9,
     "metadata": {},
     "output_type": "execute_result"
    }
   ],
   "source": [
    "# `create_and_poll` 메서드를 사용하여 새로운 실행(run)을 생성하고 해당 실행이 완료될 때까지 폴링합니다.\n",
    "run = client.beta.threads.runs.create_and_poll(\n",
    "  thread_id=thread.id,  # 실행할 스레드의 ID\n",
    "  assistant_id=assistant.id,  # 실행할 어시스턴트의 ID\n",
    "  instructions=\"풀이 과정을 단계적으로 설명해줘\"  # 어시스턴트에게 제공할 지시사항\n",
    ")\n",
    "\n",
    "vars(run)"
   ]
  },
  {
   "cell_type": "code",
   "execution_count": 10,
   "id": "d40264d4-e736-4e61-858c-301759d104f2",
   "metadata": {},
   "outputs": [
    {
     "name": "stdout",
     "output_type": "stream",
     "text": [
      "SyncCursorPage[Message](data=[Message(id='msg_4pnuoHePc6DKbIXwvoQxOTnU', assistant_id='asst_lsZINCgA1q0LERcbqwmvPW2w', attachments=[], completed_at=None, content=[TextContentBlock(text=Text(annotations=[], value='이 방정식을 푸는 과정을 단계적으로 설명할게요.\\n\\n1. **방정식 상태**: \\n   \\\\[\\n   3x + 11 = 14\\n   \\\\]\\n\\n2. **변수 정리**: \\n   방정식의 양 변에서 \\\\( 11 \\\\)을 빼줍니다:\\n   \\\\[\\n   3x + 11 - 11 = 14 - 11\\n   \\\\]\\n\\n3. **정리**:\\n   \\\\[\\n   3x = 3\\n   \\\\]\\n\\n4. **변수에 대한 식 만들기**:\\n   \\\\( 3 \\\\)으로 양 변을 나누어 변수 \\\\( x \\\\)를 구합니다:\\n   \\\\[\\n   x = \\\\frac{3}{3}\\n   \\\\]\\n\\n5. **최종 해**:\\n   \\\\[\\n   x = 1\\n   \\\\]\\n\\n따라서 방정식 \\\\( 3x + 11 = 14 \\\\)의 해는 \\\\( x = 1 \\\\)입니다.'), type='text')], created_at=1738883742, incomplete_at=None, incomplete_details=None, metadata={}, object='thread.message', role='assistant', run_id='run_SSeCelH1rZyZdbg3T6sppHqG', status=None, thread_id='thread_sjaKjyDz9OSBgA3cll8ZRTdU'), Message(id='msg_b77yq1L4t5gqIlFOfuTibRAH', assistant_id='asst_lsZINCgA1q0LERcbqwmvPW2w', attachments=[], completed_at=None, content=[TextContentBlock(text=Text(annotations=[], value='방정식 \\\\( 3x + 11 = 14 \\\\)의 해는 \\\\( x = 1 \\\\)입니다.'), type='text')], created_at=1738883739, incomplete_at=None, incomplete_details=None, metadata={}, object='thread.message', role='assistant', run_id='run_3Re68t5najxlgaoKvVakXSq8', status=None, thread_id='thread_sjaKjyDz9OSBgA3cll8ZRTdU'), Message(id='msg_1ZPcY1HfiH5h30Ru4ZC3L8yZ', assistant_id=None, attachments=[], completed_at=None, content=[TextContentBlock(text=Text(annotations=[], value='방정식 `3x + 11 = 14`를 풀려고해. 도와줘.'), type='text')], created_at=1738883708, incomplete_at=None, incomplete_details=None, metadata={}, object='thread.message', role='user', run_id=None, status=None, thread_id='thread_sjaKjyDz9OSBgA3cll8ZRTdU')], object='list', first_id='msg_4pnuoHePc6DKbIXwvoQxOTnU', last_id='msg_1ZPcY1HfiH5h30Ru4ZC3L8yZ', has_more=False)\n"
     ]
    }
   ],
   "source": [
    "# 실행 상태 확인\n",
    "if run.status == 'completed': \n",
    "  messages = client.beta.threads.messages.list(\n",
    "    thread_id=thread.id\n",
    "  )\n",
    "  print(messages)\n",
    "else:\n",
    "  print(run.status)"
   ]
  },
  {
   "cell_type": "code",
   "execution_count": 11,
   "id": "9cf0db5b-7072-42cb-bda1-f227b4d4a65e",
   "metadata": {},
   "outputs": [
    {
     "data": {
      "text/plain": [
       "Message(id='msg_4pnuoHePc6DKbIXwvoQxOTnU', assistant_id='asst_lsZINCgA1q0LERcbqwmvPW2w', attachments=[], completed_at=None, content=[TextContentBlock(text=Text(annotations=[], value='이 방정식을 푸는 과정을 단계적으로 설명할게요.\\n\\n1. **방정식 상태**: \\n   \\\\[\\n   3x + 11 = 14\\n   \\\\]\\n\\n2. **변수 정리**: \\n   방정식의 양 변에서 \\\\( 11 \\\\)을 빼줍니다:\\n   \\\\[\\n   3x + 11 - 11 = 14 - 11\\n   \\\\]\\n\\n3. **정리**:\\n   \\\\[\\n   3x = 3\\n   \\\\]\\n\\n4. **변수에 대한 식 만들기**:\\n   \\\\( 3 \\\\)으로 양 변을 나누어 변수 \\\\( x \\\\)를 구합니다:\\n   \\\\[\\n   x = \\\\frac{3}{3}\\n   \\\\]\\n\\n5. **최종 해**:\\n   \\\\[\\n   x = 1\\n   \\\\]\\n\\n따라서 방정식 \\\\( 3x + 11 = 14 \\\\)의 해는 \\\\( x = 1 \\\\)입니다.'), type='text')], created_at=1738883742, incomplete_at=None, incomplete_details=None, metadata={}, object='thread.message', role='assistant', run_id='run_SSeCelH1rZyZdbg3T6sppHqG', status=None, thread_id='thread_sjaKjyDz9OSBgA3cll8ZRTdU')"
      ]
     },
     "execution_count": 11,
     "metadata": {},
     "output_type": "execute_result"
    }
   ],
   "source": [
    "messages.data[0]"
   ]
  },
  {
   "cell_type": "code",
   "execution_count": 12,
   "id": "6ad61950-b08a-4358-b03f-2e264c756c07",
   "metadata": {},
   "outputs": [
    {
     "data": {
      "text/plain": [
       "'assistant'"
      ]
     },
     "execution_count": 12,
     "metadata": {},
     "output_type": "execute_result"
    }
   ],
   "source": [
    "messages.data[0].role"
   ]
  },
  {
   "cell_type": "code",
   "execution_count": 13,
   "id": "4d8d77c8-eca0-4141-bcc0-261d19d8c4be",
   "metadata": {},
   "outputs": [
    {
     "data": {
      "text/plain": [
       "'이 방정식을 푸는 과정을 단계적으로 설명할게요.\\n\\n1. **방정식 상태**: \\n   \\\\[\\n   3x + 11 = 14\\n   \\\\]\\n\\n2. **변수 정리**: \\n   방정식의 양 변에서 \\\\( 11 \\\\)을 빼줍니다:\\n   \\\\[\\n   3x + 11 - 11 = 14 - 11\\n   \\\\]\\n\\n3. **정리**:\\n   \\\\[\\n   3x = 3\\n   \\\\]\\n\\n4. **변수에 대한 식 만들기**:\\n   \\\\( 3 \\\\)으로 양 변을 나누어 변수 \\\\( x \\\\)를 구합니다:\\n   \\\\[\\n   x = \\\\frac{3}{3}\\n   \\\\]\\n\\n5. **최종 해**:\\n   \\\\[\\n   x = 1\\n   \\\\]\\n\\n따라서 방정식 \\\\( 3x + 11 = 14 \\\\)의 해는 \\\\( x = 1 \\\\)입니다.'"
      ]
     },
     "execution_count": 13,
     "metadata": {},
     "output_type": "execute_result"
    }
   ],
   "source": [
    "messages.data[0].content[0].text.value"
   ]
  },
  {
   "cell_type": "code",
   "execution_count": 14,
   "id": "12608ff7-2625-48e2-92e4-4c6b37333934",
   "metadata": {},
   "outputs": [
    {
     "name": "stdout",
     "output_type": "stream",
     "text": [
      "role: user\n",
      "방정식 `3x + 11 = 14`를 풀려고해. 도와줘.\n",
      "------------------------------------------------------------------------------------------------------------------------------------------------------\n",
      "role: assistant\n",
      "방정식 \\( 3x + 11 = 14 \\)의 해는 \\( x = 1 \\)입니다.\n",
      "------------------------------------------------------------------------------------------------------------------------------------------------------\n",
      "role: assistant\n",
      "이 방정식을 푸는 과정을 단계적으로 설명할게요.\n",
      "\n",
      "1. **방정식 상태**: \n",
      "   \\[\n",
      "   3x + 11 = 14\n",
      "   \\]\n",
      "\n",
      "2. **변수 정리**: \n",
      "   방정식의 양 변에서 \\( 11 \\)을 빼줍니다:\n",
      "   \\[\n",
      "   3x + 11 - 11 = 14 - 11\n",
      "   \\]\n",
      "\n",
      "3. **정리**:\n",
      "   \\[\n",
      "   3x = 3\n",
      "   \\]\n",
      "\n",
      "4. **변수에 대한 식 만들기**:\n",
      "   \\( 3 \\)으로 양 변을 나누어 변수 \\( x \\)를 구합니다:\n",
      "   \\[\n",
      "   x = \\frac{3}{3}\n",
      "   \\]\n",
      "\n",
      "5. **최종 해**:\n",
      "   \\[\n",
      "   x = 1\n",
      "   \\]\n",
      "\n",
      "따라서 방정식 \\( 3x + 11 = 14 \\)의 해는 \\( x = 1 \\)입니다.\n",
      "------------------------------------------------------------------------------------------------------------------------------------------------------\n"
     ]
    }
   ],
   "source": [
    "values = [(messages.data[i].role, messages.data[i].content[0].text.value) for i in range(len(messages.data)-1, -1, -1)]\n",
    "\n",
    "for role, value in values:\n",
    "    print(f\"role: {role}\")\n",
    "    print(value)\n",
    "    print(150*\"-\")"
   ]
  },
  {
   "cell_type": "markdown",
   "id": "e27ee005-6f12-4d1b-abe5-ab295a9c73a7",
   "metadata": {},
   "source": [
    "## 코드 해석기를 이용한 파일 내용 분석\n",
    "Assistant 에 전달된 파일은 이 Assistant를 사용하는 모든 Run에서 액세스할 수 있습니다.  \n",
    "\n",
    "다음은 OpenAI의 code interpreter 도구를 사용하여 업로드된 mydata.csv 파일을 바탕으로 사용자에게 응답하는 샘플 코드입니다. 이 코드는 사용자가 특정 질문을 할 때 CSV 파일을 읽고, 해당 질문에 맞는 응답을 제공하는 예제입니다.\n",
    "\n",
    "가정: 사용자가 학생의 이름을 입력하면 해당 학생의 나이와 성적을 반환하는 예제\n",
    "\n",
    "#### 1. CSV 파일 업로드 및 어시스턴트 생성 코드"
   ]
  },
  {
   "cell_type": "code",
   "execution_count": 17,
   "id": "6af4fd93-613b-48ee-8b54-27b047256f7d",
   "metadata": {},
   "outputs": [
    {
     "name": "stdout",
     "output_type": "stream",
     "text": [
      "CSV 파일이 data/mydata.csv에 저장되었습니다.\n"
     ]
    }
   ],
   "source": [
    "import pandas as pd\n",
    "\n",
    "# 예시 데이터 생성\n",
    "data = {\n",
    "    \"name\": [\"Alice\", \"Bob\", \"Charlie\"],\n",
    "    \"age\": [14, 15, 13],\n",
    "    \"grade\": [\"A\", \"B\", \"A\"]\n",
    "}\n",
    "\n",
    "# 데이터프레임 생성\n",
    "df = pd.DataFrame(data)\n",
    "\n",
    "# CSV 파일로 저장\n",
    "csv_file_path = \"data/mydata.csv\"\n",
    "df.to_csv(csv_file_path, index=False)\n",
    "\n",
    "print(f\"CSV 파일이 {csv_file_path}에 저장되었습니다.\")"
   ]
  },
  {
   "cell_type": "code",
   "execution_count": 18,
   "id": "15fb47dd-8ee0-40ea-9bf1-c6dc7dea5f18",
   "metadata": {},
   "outputs": [
    {
     "name": "stdout",
     "output_type": "stream",
     "text": [
      "어시스턴트가 생성되었습니다.\n"
     ]
    }
   ],
   "source": [
    "# \"mydata.csv\" 파일을 업로드\n",
    "file = client.files.create(\n",
    "  file=open(\"data/mydata.csv\", \"rb\"),\n",
    "  purpose='assistants'\n",
    ")\n",
    "\n",
    "# 파일 ID를 사용하여 어시스턴트 생성\n",
    "assistant = client.beta.assistants.create(\n",
    "  instructions=\"당신은 개인 비서입니다. 학생 정보에 관해 질문을 받으면 코드 해석기를 사용하여 CSV 파일에서 세부정보를 가져옵니다. 한국어로 답합니다.\",\n",
    "  model=Model,\n",
    "  tools=[{\"type\": \"code_interpreter\"}],\n",
    "  tool_resources={\n",
    "    \"code_interpreter\": {\n",
    "      \"file_ids\": [file.id]\n",
    "    }\n",
    "  }\n",
    ")\n",
    "\n",
    "print(\"어시스턴트가 생성되었습니다.\")"
   ]
  },
  {
   "cell_type": "markdown",
   "id": "2410b7d4-20ab-4ba0-a1cf-fe87d8c558c0",
   "metadata": {},
   "source": [
    "#### 2. 사용자 질문에 응답하는 코드 인터프리터 코드"
   ]
  },
  {
   "cell_type": "code",
   "execution_count": 19,
   "id": "abd84e2b-85a8-4beb-b0bc-e8ffd139f69f",
   "metadata": {},
   "outputs": [],
   "source": [
    "thread = client.beta.threads.create(\n",
    "  messages=[\n",
    "    {\n",
    "      \"role\": \"user\",\n",
    "      \"content\": \"Alice 의 나이와 학년은 어떻게 되나요?\",\n",
    "      \"attachments\": [\n",
    "        {\n",
    "          \"file_id\": file.id,\n",
    "          \"tools\": [{\"type\": \"code_interpreter\"}]\n",
    "        }\n",
    "      ]\n",
    "    }\n",
    "  ]\n",
    ")"
   ]
  },
  {
   "cell_type": "code",
   "execution_count": 20,
   "id": "daafe701-e01b-4471-adbd-45657f4a6313",
   "metadata": {},
   "outputs": [
    {
     "name": "stdout",
     "output_type": "stream",
     "text": [
      "\n",
      "assistant-2 > code_interpreter\n",
      "\n",
      "# 우선 업로드된 파일을 확인해 보겠습니다.\n",
      "file_path = '/mnt/data/file-ScC9bkD2LKvXvS9b4qmaGj'\n",
      "\n",
      "# 파일의 내용을 읽어보겠습니다.\n",
      "with open(file_path, 'r') as file:\n",
      "    file_contents = file.read()\n",
      "\n",
      "file_contents\n",
      "assistant-1 > 업로드된 파일의 내용은 다음과 같습니다:\n",
      "\n",
      "```\n",
      "name,age,grade\n",
      "Alice,14,A\n",
      "Bob,15,B\n",
      "Charlie,13,A\n",
      "```\n",
      "\n",
      "이 파일에 따르면, Alice의 나이는 14살이고 학년은 A입니다."
     ]
    }
   ],
   "source": [
    "# 그런 다음, `stream` SDK 도우미와 `EventHandler` 클래스를 사용하여\n",
    "# Run을 생성하고 응답을 스트리밍합니다.\n",
    "with client.beta.threads.runs.stream(\n",
    "  thread_id=thread.id,\n",
    "  assistant_id=assistant.id,\n",
    "  instructions=\"사용자를 고객님이라고 부르세요.\",  # 사용자를 Jane Doe라고 부르고, 프리미엄 계정을 가지고 있다고 지시\n",
    "  event_handler=EventHandler(),  # EventHandler 클래스 인스턴스를 이벤트 핸들러로 사용\n",
    ") as stream:\n",
    "  stream.until_done()  # 스트림이 완료될 때까지 대기"
   ]
  },
  {
   "cell_type": "code",
   "execution_count": null,
   "id": "983dec13-fb62-40d3-99dc-7cf5bae5b739",
   "metadata": {},
   "outputs": [],
   "source": []
  }
 ],
 "metadata": {
  "kernelspec": {
   "display_name": "Python 3 (ipykernel)",
   "language": "python",
   "name": "python3"
  },
  "language_info": {
   "codemirror_mode": {
    "name": "ipython",
    "version": 3
   },
   "file_extension": ".py",
   "mimetype": "text/x-python",
   "name": "python",
   "nbconvert_exporter": "python",
   "pygments_lexer": "ipython3",
   "version": "3.9.16"
  }
 },
 "nbformat": 4,
 "nbformat_minor": 5
}
