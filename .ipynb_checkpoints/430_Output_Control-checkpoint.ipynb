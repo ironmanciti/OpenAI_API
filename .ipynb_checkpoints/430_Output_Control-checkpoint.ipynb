{
 "cells": [
  {
   "cell_type": "markdown",
   "id": "6ae088d7-3725-4567-8d0e-bbc0cac194b6",
   "metadata": {},
   "source": [
    "# 구조화된 출력 (Structured Outputs)\n",
    "\n",
    "### 응답을 JSON 스키마에 맞게 생성하기\n",
    "\n",
    "- JSON은 애플리케이션 간 데이터 교환을 위한 가장 널리 사용되는 형식 중 하나입니다.\n",
    "\n",
    "- 구조화된 출력(Structured Outputs) 기능을 사용하면 모델이 제공된 JSON 스키마를 항상 준수하도록 보장할 수 있습니다.\n",
    "이를 통해 필수 키가 누락되거나 잘못된 값이 생성되는 문제를 방지할 수 있습니다.\n",
    "\n",
    "- 구조화된 출력의 장점\n",
    "    - 타입 안전성 보장 - 응답이 항상 올바른 형식을 따르므로 검증 및 재요청이 불필요함\n",
    "    - 명시적인 거부 응답 - 안전상의 이유로 모델이 요청을 거부하면 이를 프로그래밍 방식으로 감지 가능\n",
    "    - 더 간단한 프롬프트 작성 - 특정 형식을 강제하기 위한 프롬프트 조정이 불필요\n",
    "  \n",
    "<br>  \n",
    "- Python OpenAI SDK에서는 JSON 스키마를 사용하여 데이터를 정의할 수 있도록 Pydantic 지원"
   ]
  },
  {
   "cell_type": "code",
   "execution_count": 1,
   "id": "452e849b-75b2-44b8-b020-d29fa07c6a33",
   "metadata": {},
   "outputs": [],
   "source": [
    "import os\n",
    "import openai\n",
    "\n",
    "from dotenv import load_dotenv, find_dotenv\n",
    "_ = load_dotenv(find_dotenv()) # read local .env file"
   ]
  },
  {
   "cell_type": "code",
   "execution_count": 2,
   "id": "738c8737-541c-446d-8151-bbdad6337fee",
   "metadata": {},
   "outputs": [],
   "source": [
    "from openai import OpenAI\n",
    "client = OpenAI()\n",
    "\n",
    "Model = \"gpt-4o-mini-2024-07-18\""
   ]
  },
  {
   "cell_type": "markdown",
   "id": "f35b6ad8-321e-48c1-9677-9b3950578a16",
   "metadata": {},
   "source": [
    "### pydantic.BaseModel\n",
    "- pydantic은 Python의 데이터 검증 및 설정 관리 라이브러리입니다.\n",
    "- BaseModel은 **데이터 유효성 검사 및 JSON 직렬화(Serialization)** 를 쉽게 할 수 있도록 도와주는 핵심 클래스입니다."
   ]
  },
  {
   "cell_type": "code",
   "execution_count": 3,
   "id": "9561e47c-48f9-42e5-866b-3e93c0b45b07",
   "metadata": {},
   "outputs": [
    {
     "name": "stdout",
     "output_type": "stream",
     "text": [
      "이름='과학 박람회' 날자='금요일' 참석자=['Alice', 'Bob']\n"
     ]
    }
   ],
   "source": [
    "from pydantic import BaseModel\n",
    "\n",
    "class CalendarEvent(BaseModel):\n",
    "    이름: str\n",
    "    날자: str\n",
    "    참석자: list[str]\n",
    "\n",
    "completion = client.beta.chat.completions.parse(\n",
    "    model=Model,\n",
    "    messages=[\n",
    "        {\"role\": \"developer\", \"content\": \"이벤트 정보를 추출하세요.\"},\n",
    "        {\"role\": \"user\", \"content\": \"Alice와 Bob은 금요일에 과학 박람회에 갈 예정입니다.\"},\n",
    "    ],\n",
    "    response_format=CalendarEvent,\n",
    ")\n",
    "\n",
    "event = completion.choices[0].message.parsed\n",
    "print(event)"
   ]
  },
  {
   "cell_type": "markdown",
   "id": "6d7f4e55-4f82-4c72-a4f8-5afb50e2f460",
   "metadata": {},
   "source": [
    "### COT (Chain of Thought)  \r\n",
    "모델이 답변을 단계별로 구조화하여 출력하도록 요청할 수 있으며, 이를 통해 사용자가 해결 과정을 따라갈 수 있도록 안내할 수 있습니다."
   ]
  },
  {
   "cell_type": "code",
   "execution_count": 4,
   "id": "91468e2d-e22c-4c19-8630-45894061213e",
   "metadata": {},
   "outputs": [],
   "source": [
    "# 체인 오브 소트(Chain of Thought) 기반 수학 지도용 구조화된 출력\n",
    "\n",
    "class Step(BaseModel):\n",
    "    설명: str\n",
    "    출력: str\n",
    "\n",
    "class MathReasoning(BaseModel):\n",
    "    단계: list[Step]\n",
    "    최종답변: str\n",
    "\n",
    "completion = client.beta.chat.completions.parse(\n",
    "    model=Model,\n",
    "    messages=[\n",
    "        {\"role\": \"developer\", \n",
    "         \"content\": \"당신은 유용한 수학 튜터입니다. 사용자가 해결 과정을 단계별로 따라갈 수 있도록 안내하세요.\"},\n",
    "        {\"role\": \"user\", \n",
    "         \"content\": \"8x + 7 = -23 방정식 문제의 해는?\"}\n",
    "    ],\n",
    "    response_format=MathReasoning,\n",
    ")\n",
    "\n",
    "math_reasoning = completion.choices[0].message.parsed"
   ]
  },
  {
   "cell_type": "code",
   "execution_count": 5,
   "id": "a93aa853-c84e-4373-b658-aac0d2eb98f7",
   "metadata": {},
   "outputs": [
    {
     "data": {
      "text/plain": [
       "{'단계': [{'설명': '주어진 방정식은 8x + 7 = -23 입니다.', '출력': '8x + 7 = -23'},\n",
       "  {'설명': '양변에서 7을 빼줍니다.', '출력': '8x + 7 - 7 = -23 - 7'},\n",
       "  {'설명': '이제 방정식은 8x = -30이 됩니다.', '출력': '8x = -30'},\n",
       "  {'설명': '양변을 8로 나눕니다.', '출력': 'x = -30 / 8'},\n",
       "  {'설명': '나눗셈을 계산합니다.', '출력': 'x = -15 / 4'},\n",
       "  {'설명': '결과적으로 x의 값을 구했습니다.', '출력': 'x = -3.75 또는 x = -15/4'}],\n",
       " '최종답변': 'x = -15/4 또는 x = -3.75'}"
      ]
     },
     "execution_count": 5,
     "metadata": {},
     "output_type": "execute_result"
    }
   ],
   "source": [
    "math_reasoning.dict()"
   ]
  },
  {
   "cell_type": "markdown",
   "id": "54430de4-1f8b-45bd-9efa-084a6ee5a85a",
   "metadata": {},
   "source": [
    "### 구조화된 데이터 추출  \r\n",
    "연구 논문과 같은 비정형 입력 데이터에서 구조화된 필드를 정의하여 정보를 추출할 수 있습니다.."
   ]
  },
  {
   "cell_type": "code",
   "execution_count": 6,
   "id": "db4c5bc5-3320-4167-8d67-8368f9a657d8",
   "metadata": {},
   "outputs": [],
   "source": [
    "# !pip install pymupdf"
   ]
  },
  {
   "cell_type": "code",
   "execution_count": 7,
   "id": "3f40e02b-d99a-4e88-983a-cd7bbf6395d0",
   "metadata": {},
   "outputs": [],
   "source": [
    "# 구조화된 출력을 사용하여 연구 논문에서 데이터 추출하기\n",
    "\n",
    "import fitz  # PyMuPDF\n",
    "\n",
    "def extract_text_from_pdf(pdf_path):\n",
    "    text = \"\"\n",
    "    with fitz.open(pdf_path) as doc:\n",
    "        for page in doc:\n",
    "            text += page.get_text(\"text\") + \"\\n\"\n",
    "    return text\n",
    "\n",
    "# PDF 파일에서 텍스트 추출\n",
    "paper_text = extract_text_from_pdf(\"data/deep_seek.pdf\")\n",
    "\n",
    "class ResearchPaperExtraction(BaseModel):\n",
    "    title: str\n",
    "    authors: list[str]\n",
    "    abstract: str\n",
    "    keywords: list[str]\n",
    "\n",
    "completion = client.beta.chat.completions.parse(\n",
    "    model=Model,\n",
    "    messages=[\n",
    "        {\"role\": \"developer\", \n",
    "         \"content\": \"\"\"\n",
    "         당신은 구조화된 데이터 추출 전문가입니다. 연구 논문의 비정형 텍스트를 제공받으면 이를 주어진 구조로 변환해야 합니다.\n",
    "         변환할 때 한국어로 번역해주세요.\n",
    "         \"\"\"},\n",
    "        {\"role\": \"user\", \n",
    "         \"content\": f\"{paper_text}\"\n",
    "         }\n",
    "    ],\n",
    "    response_format=ResearchPaperExtraction,\n",
    ")\n",
    "\n",
    "research_paper = completion.choices[0].message.parsed"
   ]
  },
  {
   "cell_type": "code",
   "execution_count": 8,
   "id": "a232f987-e5e5-4356-9242-ea66c79faba5",
   "metadata": {},
   "outputs": [
    {
     "data": {
      "text/plain": [
       "{'title': 'DeepSeek-R1: Reasoning Capability in LLMs via Reinforcement Learning',\n",
       " 'authors': ['DeepSeek-AI'],\n",
       " 'abstract': '우리는 첫 번째 세대의 추론 모델인 DeepSeek-R1-Zero 및 DeepSeek-R1을 소개합니다. DeepSeek-R1-Zero는 감독된 미세 조정 없이 대규모 강화 학습(RL)을 통해 훈련된 모델로, 놀라운 추론 능력을 보여줍니다. RL을 통해 DeepSeek-R1-Zero는 자연스럽게 강력하고 흥미로운 여러 가지 추론 행동을 나타냅니다. 그러나 가독성이 떨어지며 언어 혼합과 같은 문제를 겪고 있습니다. 이러한 문제를 해결하고 추론 성능을 더욱 향상시키기 위해, 우리는 RL 이전에 다단계 훈련과 콜드 스타트 데이터를 통합한 DeepSeek-R1을 소개합니다. DeepSeek-R1은 OpenAI-o1-1217와 유사한 성능을 추론 작업에서 달성하였습니다. 연구 커뮤니티를 지원하기 위해, 우리는 DeepSeek-R1-Zero, DeepSeek-R1 및 DeepSeek-R1에서 증류한 여섯 개의 밀집 모델(1.5B, 7B, 8B, 14B, 32B, 70B)을 오픈 소스합니다.',\n",
       " 'keywords': ['DeepSeek-R1',\n",
       "  'Reinforcement Learning',\n",
       "  'Reasoning',\n",
       "  'Large Language Models',\n",
       "  'Deep Learning']}"
      ]
     },
     "execution_count": 8,
     "metadata": {},
     "output_type": "execute_result"
    }
   ],
   "source": [
    "research_paper.dict()"
   ]
  },
  {
   "cell_type": "code",
   "execution_count": 9,
   "id": "5fe5cb7a-b62d-4eeb-872d-343e40aa1e34",
   "metadata": {},
   "outputs": [],
   "source": [
    "# 구조화된 출력을 활용한 콘텐츠 심사\n",
    "\n",
    "from enum import Enum\n",
    "from typing import Optional\n",
    "from pydantic import BaseModel\n",
    "\n",
    "class Category(str, Enum):\n",
    "    폭력 = \"violence\"\n",
    "    성적인_내용 = \"sexual\"\n",
    "    자해 = \"self_harm\"\n",
    "\n",
    "class ContentCompliance(BaseModel):\n",
    "    is_violating: bool\n",
    "    category: Optional[Category]\n",
    "    explanation_if_violating: Optional[str]\n",
    "\n",
    "completion = client.beta.chat.completions.parse(\n",
    "    model=Model,\n",
    "    messages=[\n",
    "        {\"role\": \"developer\", \"content\": \"사용자 입력이 특정 지침을 위반하는지 판단하고, 위반하는 경우 그 이유를 한국어로 설명하세요.\"},\n",
    "        # {\"role\": \"user\", \"content\": \"취업 면접을 준비하는 방법은 무엇인가요?\"}\n",
    "        # {\"role\": \"user\", \"content\": \"일본에서 제일 싸움 잘하는 사람은 도끼로 이마까 입니다.\"}\n",
    "        # {\"role\": \"developer\", \"content\": \"이 사진은 성적으로 노골적인 내용을 포함하고 있어.\"},\n",
    "        {\"role\": \"developer\", \"content\": \"요즘 너무 힘들고 삶을 포기하고 싶어.\"}\n",
    "    ],\n",
    "    response_format=ContentCompliance,\n",
    ")\n",
    "\n",
    "compliance = completion.choices[0].message.parsed"
   ]
  },
  {
   "cell_type": "code",
   "execution_count": 10,
   "id": "33d6097a-b82f-4d7c-8f44-01abea7dca3c",
   "metadata": {},
   "outputs": [
    {
     "data": {
      "text/plain": [
       "{'is_violating': True,\n",
       " 'category': <Category.자해: 'self_harm'>,\n",
       " 'explanation_if_violating': '사용자의 발언은 자기파괴적인 감정을 표현하고 있으며, 이는 심각한 자해 또는 자살에 대한 암시를 포함할 수 있습니다. 이러한 내용은 매우 민감하고 지원이 필요한 상황을 나타내므로, 전문가의 도움을 받는 것이 중요합니다.'}"
      ]
     },
     "execution_count": 10,
     "metadata": {},
     "output_type": "execute_result"
    }
   ],
   "source": [
    "compliance.dict()"
   ]
  },
  {
   "cell_type": "code",
   "execution_count": null,
   "id": "b5c73bfb-cd4a-4883-8fa5-282b1dc3c153",
   "metadata": {},
   "outputs": [],
   "source": []
  }
 ],
 "metadata": {
  "kernelspec": {
   "display_name": "Python 3 (ipykernel)",
   "language": "python",
   "name": "python3"
  },
  "language_info": {
   "codemirror_mode": {
    "name": "ipython",
    "version": 3
   },
   "file_extension": ".py",
   "mimetype": "text/x-python",
   "name": "python",
   "nbconvert_exporter": "python",
   "pygments_lexer": "ipython3",
   "version": "3.9.16"
  }
 },
 "nbformat": 4,
 "nbformat_minor": 5
}
