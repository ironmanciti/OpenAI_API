{
 "cells": [
  {
   "cell_type": "markdown",
   "id": "c5a91499-2154-45fc-b4b0-10c888d61c6d",
   "metadata": {},
   "source": [
    "# Text Generation models\n",
    "\n",
    "- GPT-4o\n",
    "- GPT-4o with image inpus"
   ]
  },
  {
   "cell_type": "markdown",
   "id": "94635dde-ab9f-4d32-b3aa-5db234bb122d",
   "metadata": {},
   "source": [
    "## Chat Completion API"
   ]
  },
  {
   "cell_type": "code",
   "execution_count": 1,
   "id": "989f8b65-992a-4c1c-b196-aa19cfff4e95",
   "metadata": {},
   "outputs": [],
   "source": [
    "import os\n",
    "import openai\n",
    "import sys\n",
    "sys.path.append('./')\n",
    "\n",
    "from dotenv import load_dotenv, find_dotenv\n",
    "_ = load_dotenv(find_dotenv()) # read local .env file"
   ]
  },
  {
   "attachments": {},
   "cell_type": "markdown",
   "id": "09ecb901-f941-40c2-9dcb-e68d6738823a",
   "metadata": {},
   "source": [
    "- 메시지는 메시지 개체의 배열이어야 하며, 각 개체에는role(“system\", “user\" 또는 “assistant\")과 content가 있습니다. 대화는 하나의 메시지만큼 짧을 수도 있고 여러 번 주고받을 수도 있습니다.\n",
    "- 대화는 먼저 system 메시지로 형식화되고 이어서 user 메시지와 assistanc 메시지가 교대로 표시됩니다.  \r",
    "- system 메시지는 assistant의 동작을 설정하는 데 도움이 됩니다. 예를 들어, assitant의 성격을 수정하거나 대화 전반에 걸쳐 assistant가 어떻게 행동해야 하는지에 대한 구체적인 지침을 제공할 수 있습니다. 그러나 system 메시지는 선택 사항이며 system 메시지가 없는 모델의 동작은 \"당신은 도움이 되는 조수입니다\"와 같은 일반적인 메시지를 사용하는 것과 유사할 가능성이 높습니다.  \r",
    "- \n",
    "User 메시지는 assistant가 응답할 요청이나 설명을 제공합니다. Assistant 메시지는 이전 assistant 응답을 저장하지만 원하는 동작의 예를 제공하기 위해 user가 작성할 수도 있습니다  .- \r\n",
    "사용자 지침이 이전 메시지를 참조할 때 대화 기록을 포함하는 것이 중요합니다. 위의 예에서 사용자의 마지막 질문인 \" Where was it played?\" 는 2020년 월드 시리즈에 대한 이전 메시지의 context 에서만 의미가 있습니다. 모델에는 과거 요청에 대한 기억이 없기 때문에 모든 관련 정보는 각 요청의 대화 기록의 일부로 제공되어야 합니다. 대화가 모델의 토큰 제한에 맞지 않으면 어떤 방식으로든 줄여야 합니다 .\r\n",
    "\n"
   ]
  },
  {
   "cell_type": "code",
   "execution_count": 2,
   "id": "db721c95-6024-4d85-961c-a5d4c648e9a0",
   "metadata": {},
   "outputs": [],
   "source": [
    "from openai import OpenAI\n",
    "client = OpenAI()\n",
    "\n",
    "Model = \"gpt-3.5-turbo\"\n",
    "# Model = \"gpt-4o\"\n",
    "\n",
    "response = client.chat.completions.create(\n",
    "  model=Model,\n",
    "  messages=[\n",
    "    {\"role\": \"system\", \"content\": \"You are a helpful assistant.\"},\n",
    "    {\"role\": \"user\", \"content\": \"2020년 코리안 시리즈를 우승한 야구팀이 어디?\"},\n",
    "    {\"role\": \"assistant\", \"content\": \"2020년 한국시리즈(Korean Series) 우승 야구팀은 NC 다이노스(NC Dinos)입니다.\"},\n",
    "    {\"role\": \"user\", \"content\": \"마지막 게임이 어디에서 열렸어?\"}\n",
    "  ]\n",
    ")"
   ]
  },
  {
   "cell_type": "code",
   "execution_count": 3,
   "id": "1bb38be4-cac2-4e73-a784-4c0732006b17",
   "metadata": {},
   "outputs": [
    {
     "data": {
      "text/plain": [
       "{'id': 'chatcmpl-9b0bnVF5lUniVxbXDhXVw1xuK8L7p',\n",
       " 'choices': [{'finish_reason': 'stop',\n",
       "   'index': 0,\n",
       "   'logprobs': None,\n",
       "   'message': {'content': '2020년 한국시리즈 마지막 경기는 창원 NC파크에서 열렸습니다.',\n",
       "    'role': 'assistant'}}],\n",
       " 'created': 1718607503,\n",
       " 'model': 'gpt-3.5-turbo-0125',\n",
       " 'object': 'chat.completion',\n",
       " 'system_fingerprint': None,\n",
       " 'usage': {'completion_tokens': 32, 'prompt_tokens': 110, 'total_tokens': 142}}"
      ]
     },
     "execution_count": 3,
     "metadata": {},
     "output_type": "execute_result"
    }
   ],
   "source": [
    "response.to_dict()"
   ]
  },
  {
   "cell_type": "code",
   "execution_count": 4,
   "id": "82f42489-3c5a-4eee-a76b-f2716c219821",
   "metadata": {},
   "outputs": [
    {
     "name": "stdout",
     "output_type": "stream",
     "text": [
      "2020년 한국시리즈 마지막 경기는 창원 NC파크에서 열렸습니다.\n"
     ]
    }
   ],
   "source": [
    "print(response.choices[0].message.content)"
   ]
  },
  {
   "cell_type": "markdown",
   "id": "444715f4-8b62-4c16-a9d3-aa037d3fb67e",
   "metadata": {},
   "source": [
    "### 모든 응답에는 'finish_reason'이 포함되며, 'finish_reason'의 가능한 값은 다음과 같습니다:\n",
    "- stop: API가 완전한 메시지를 반환하거나, stop 매개변수를 통해 제공된 중단 시퀀스 중 하나에 의해 메시지가 종료됨\n",
    "- length: max_tokens 매개변수 또는 토큰 제한으로 인해 완전하지 않은 모델 출력\n",
    "- function_call: 모델이 함수를 호출하기로 결정함"
   ]
  },
  {
   "cell_type": "code",
   "execution_count": 5,
   "id": "b3f0eebb-d556-4424-92f8-d710d03b7e29",
   "metadata": {},
   "outputs": [
    {
     "name": "stdout",
     "output_type": "stream",
     "text": [
      "stop\n"
     ]
    }
   ],
   "source": [
    "print(response.choices[0].finish_reason)"
   ]
  },
  {
   "cell_type": "markdown",
   "id": "d4a45472-78c2-4d04-b695-374c0bd9c9c0",
   "metadata": {},
   "source": [
    "## JSON mode\n",
    "\n",
    "- respone_format 을 { \"type\": \"json_object\" }로 지정합니다. \n",
    "- JSON 모드를 사용하는 경우 항상 대화의 일부 메시지(예: 시스템 메시지)를 통해 JSON을 생성하도록 모델에 지시합니다.\n",
    "- 문자열이 \"JSON\"컨텍스트 어딘가에 나타나지 않으면 API는 오류를 발생시킵니다."
   ]
  },
  {
   "cell_type": "code",
   "execution_count": 6,
   "id": "d6f34dcc-c41b-4fb0-a3d8-846aa9318b46",
   "metadata": {},
   "outputs": [
    {
     "data": {
      "text/plain": [
       "{'id': 'chatcmpl-9b0bwhZIFH3P8otgN6F36LGk5t24P',\n",
       " 'choices': [{'finish_reason': 'stop',\n",
       "   'index': 0,\n",
       "   'logprobs': None,\n",
       "   'message': {'content': '                                                                                                    ',\n",
       "    'role': 'assistant'}}],\n",
       " 'created': 1718607512,\n",
       " 'model': 'gpt-3.5-turbo-0125',\n",
       " 'object': 'chat.completion',\n",
       " 'system_fingerprint': None,\n",
       " 'usage': {'completion_tokens': 100,\n",
       "  'prompt_tokens': 124,\n",
       "  'total_tokens': 224}}"
      ]
     },
     "execution_count": 6,
     "metadata": {},
     "output_type": "execute_result"
    }
   ],
   "source": [
    "response = client.chat.completions.create(\n",
    "  model=Model,\n",
    "  response_format={ \"type\": \"json_object\" },\n",
    "  messages=[\n",
    "    {\"role\": \"system\", \"content\": \"You are a helpful assistant designed to output JSON.\"},\n",
    "    {\"role\": \"user\", \"content\": \"2020년 코리안 시리즈를 우승한 야구팀이 어디?\"},\n",
    "    {\"role\": \"assistant\", \"content\": \"2020년 한국시리즈(Korean Series) 우승 야구팀은 NC 다이노스(NC Dinos)입니다.\"},\n",
    "    {\"role\": \"user\", \"content\": \"마지막 게임이 어디에서 열렸어? 한국어로 답해줘\"}\n",
    "  ]\n",
    ")\n",
    "\n",
    "response.to_dict()"
   ]
  },
  {
   "cell_type": "code",
   "execution_count": 7,
   "id": "78d34903-ff4f-4760-970b-d0f3038106c7",
   "metadata": {},
   "outputs": [
    {
     "name": "stdout",
     "output_type": "stream",
     "text": [
      "                                                                                                    \n"
     ]
    }
   ],
   "source": [
    "print(response.choices[0].message.content)"
   ]
  },
  {
   "attachments": {},
   "cell_type": "markdown",
   "id": "d884b7e7-03d3-4668-8f5b-0e7b447dbeb5",
   "metadata": {},
   "source": [
    "## Token 관리\n",
    "- \"ChatGPT is great!“ 는 6개의 토큰으로 인코딩됩니다 $\\rightarrow$ [\"Chat\", \"G\", \"PT\", \" is\", \" great\", \"!\"]\n",
    "- 예를 들어, API 호출이 메시지 입력에서 10개의 토큰을 사용하고 메시지 출력에서 ​​20개의 토큰을 받은 경우 30개의 토큰에 대한 요금이 청구됩니다.\r\n"
   ]
  },
  {
   "cell_type": "code",
   "execution_count": 8,
   "id": "daef7c91-651c-4194-8f02-99dcf105ff1a",
   "metadata": {},
   "outputs": [
    {
     "name": "stdout",
     "output_type": "stream",
     "text": [
      "CompletionUsage(completion_tokens=100, prompt_tokens=124, total_tokens=224)\n",
      "124\n"
     ]
    }
   ],
   "source": [
    "print(response.usage)\n",
    "print(response.usage.prompt_tokens)"
   ]
  },
  {
   "cell_type": "code",
   "execution_count": 12,
   "id": "247fc77a-fe74-4fd1-9ae4-646e368e5b65",
   "metadata": {},
   "outputs": [],
   "source": [
    "import tiktoken\n",
    "\n",
    "encoding = tiktoken.encoding_for_model(Model)"
   ]
  },
  {
   "cell_type": "code",
   "execution_count": 19,
   "id": "bc86c2c7-11d0-4449-99a5-9f33b75c1bfe",
   "metadata": {},
   "outputs": [
    {
     "name": "stdout",
     "output_type": "stream",
     "text": [
      "system\n",
      "[9125]\n",
      "You are a helpful assistant designed to output JSON.\n",
      "[2675, 527, 264, 11190, 18328, 6319, 311, 2612, 4823, 13]\n",
      "user\n",
      "[882]\n",
      "2020년 코리안 시리즈를 우승한 야구팀이 어디?\n",
      "[2366, 15, 75265, 226, 3396, 66391, 29102, 31495, 230, 45618, 29102, 96064, 230, 18918, 66822, 108, 18550, 117, 24486, 24814, 120, 89359, 169, 40934, 13094, 80402, 112, 90335, 30]\n",
      "assistant\n",
      "[78191]\n",
      "2020년 한국시리즈(Korean Series) 우승 야구팀은 NC 다이노스(NC Dinos)입니다.\n",
      "[2366, 15, 75265, 226, 62398, 89059, 255, 30426, 29102, 96064, 230, 17155, 46295, 11378, 8, 66822, 108, 18550, 117, 24814, 120, 89359, 169, 40934, 34804, 20660, 50467, 13094, 75265, 116, 25941, 8368, 34, 423, 15570, 8, 80052, 13]\n",
      "user\n",
      "[882]\n",
      "마지막 게임이 어디에서 열렸어? 한국어로 답해줘\n",
      "[40011, 230, 22035, 40011, 231, 100027, 94801, 13094, 80402, 112, 90335, 57575, 25493, 112, 22289, 116, 32179, 30, 62398, 89059, 255, 32179, 17835, 35243, 113, 34983, 59269, 246]\n"
     ]
    },
    {
     "data": {
      "text/plain": [
       "125"
      ]
     },
     "execution_count": 19,
     "metadata": {},
     "output_type": "execute_result"
    }
   ],
   "source": [
    "messages=[\n",
    "    {\"role\": \"system\", \"content\": \"You are a helpful assistant designed to output JSON.\"},\n",
    "    {\"role\": \"user\", \"content\": \"2020년 코리안 시리즈를 우승한 야구팀이 어디?\"},\n",
    "    {\"role\": \"assistant\", \"content\": \"2020년 한국시리즈(Korean Series) 우승 야구팀은 NC 다이노스(NC Dinos)입니다.\"},\n",
    "    {\"role\": \"user\", \"content\": \"마지막 게임이 어디에서 열렸어? 한국어로 답해줘\"}\n",
    "  ]\n",
    "\n",
    "num_tokens = 0\n",
    "for message in messages:\n",
    "  num_tokens += 4  # every message follows <im_start>{role/name}\\n{content}<im_end>\\n\n",
    "  for key, value in message.items():\n",
    "      num_tokens += len(encoding.encode(value))\n",
    "      print(value)\n",
    "      print(encoding.encode(value))\n",
    "\n",
    "num_tokens"
   ]
  },
  {
   "cell_type": "markdown",
   "id": "cab3f31a-ec6c-4c96-9d64-2411e6111eaa",
   "metadata": {},
   "source": [
    "## 재현 가능한 출력 \n",
    "- SEED 매개 변수 사용"
   ]
  },
  {
   "cell_type": "code",
   "execution_count": 20,
   "id": "1043b529-c5f8-4160-ae7f-4e7cfa76bb39",
   "metadata": {},
   "outputs": [
    {
     "data": {
      "text/html": [
       "\n",
       "    <table>\n",
       "    <tr><th style=\"text-align: left;\">Response</th><td style=\"text-align: left;\">알겠습니다. 다음은 \"화성으로의 여정\"에 관한 짧은 이야기입니다:\n",
       "\n",
       "---\n",
       "\n",
       "지구에서 가장 뛰어난 과학자들과 우주비행사들로 구성된 팀이 있었어요. 그들은 인류 최초로 화성에 도착하기 위해 오랜 시간 준비를 해왔어요. 이들의 임무는 단순히 화성에 도착하는 것만이 아니라, 그곳에서 생존하고 새로운 거주지를 건설하는 것이었어요.\n",
       "\n",
       "마침내 발사일이 다가왔고, 팀은 최신 기술로 제작된 우주선에 탑승했어요. 우주선은 거대한 로켓의 힘을 빌려 지구를 떠나 드넓은 우주를 항해하기 시작했어요. 몇 달 동안의 긴 여행 끝에, 그들은 마침내 붉은 행성인 화성의 궤도에 도달했어요.\n",
       "\n",
       "화성 표면에 착륙한 순간, 팀원들은 모두 감격의 눈물을 흘렸어요. 그들은 신중하게 우주복을 입고, 한 발 한 발 조심스럽게 화성의 땅을 밟았어요. 화성의 하늘은 지구와는 전혀 다른 붉은 색으로 물들어 있었고, 공기는 매우 희박했어요.\n",
       "\n",
       "팀은 곧바로 기지를 건설하기 시작했어요. 지구에서 가져온 모듈을 조립하고, 태양광 패널을 설치해 에너지를 공급했어요. 모든 팀원들은 서로 협력하며, 각자의 역할을 성실히 수행했어요. 마침내, 화성에서의 첫 번째 거주지가 완성되었어요.\n",
       "\n",
       "그들은 화성의 극한 환경 속에서도 작은 농장을 조성해 신선한 채소를 키웠어요. 또한, 화성의 토양과 대기를 연구하며, 미래의 화성 거주를 위한 귀중한 데이터를 수집했어요.\n",
       "\n",
       "이렇게 화성에서의 생활이 안정되면서, 팀원들은 서로에게 더욱 의지하며 가족처럼 지냈어요. 그들은 자랑스러움과 함께, 인류의 새로운 문명을 개척해 나가는 선구자가 되었다는 사명감을 느꼈어요.\n",
       "\n",
       "그리고 지구에 남아 있는 사람들에게도 희망을 전하기 위해, 그들은 매일 화성에서의 소식을 전송했어요. 화성으로의 여정은 끝이 아닌 새로운 시작이었어요. 인류는 이제 우주의 더 먼 곳을 향해 나아갈 준비를 하고 있었어요.\n",
       "\n",
       "---\n",
       "\n",
       "이상입니다. 도움이 되었기를 바랍니다!</td></tr>\n",
       "    <tr><th style=\"text-align: left;\">System Fingerprint</th><td style=\"text-align: left;\">fp_319be4768e</td></tr>\n",
       "    <tr><th style=\"text-align: left;\">Number of completion tokens</th><td style=\"text-align: left;\">566</td></tr>\n",
       "    <tr><th style=\"text-align: left;\">finish reason</th><td style=\"text-align: left;\">stop</td></tr>\n",
       "    </table>\n",
       "    "
      ],
      "text/plain": [
       "<IPython.core.display.HTML object>"
      ]
     },
     "metadata": {},
     "output_type": "display_data"
    }
   ],
   "source": [
    "from IPython.display import display, HTML\n",
    "\n",
    "# GPT_MODEL = \"gpt-3.5-turbo\"\n",
    "GPT_MODEL = \"gpt-4o\"\n",
    "SEED = 123\n",
    "\n",
    "topic = \"a journey to Mars\"\n",
    "system_message = \"You are a helpful assistant that generates short stories.\"\n",
    "user_request = f\"{topic}에 관한 짧은 이야기를 한국어로 생성하세요.\"\n",
    "\n",
    "try:\n",
    "    messages = [\n",
    "        {\"role\": \"system\", \"content\": system_message},\n",
    "        {\"role\": \"user\", \"content\": user_request},\n",
    "    ]\n",
    "\n",
    "    response = openai.chat.completions.create(\n",
    "        model=GPT_MODEL,\n",
    "        messages=messages,\n",
    "        seed=SEED,\n",
    "        max_tokens=1000,\n",
    "        temperature=0.7,\n",
    "    )\n",
    "\n",
    "    response_content = response.choices[0].message.content\n",
    "    system_fingerprint = response.system_fingerprint  # 특정 API 응답을 식별하고 추적하는 데 도움 되는 고유 식별자\n",
    "    completion_tokens = (\n",
    "        response.usage.total_tokens - response.usage.prompt_tokens\n",
    "    )\n",
    "    finish_reason = response.choices[0].finish_reason\n",
    "\n",
    "    table = f\"\"\"\n",
    "    <table>\n",
    "    <tr><th style=\"text-align: left;\">Response</th><td style=\"text-align: left;\">{response_content}</td></tr>\n",
    "    <tr><th style=\"text-align: left;\">System Fingerprint</th><td style=\"text-align: left;\">{system_fingerprint}</td></tr>\n",
    "    <tr><th style=\"text-align: left;\">Number of completion tokens</th><td style=\"text-align: left;\">{completion_tokens}</td></tr>\n",
    "    <tr><th style=\"text-align: left;\">finish reason</th><td style=\"text-align: left;\">{finish_reason}</td></tr>\n",
    "    </table>\n",
    "    \"\"\"\n",
    "    display(HTML(table))\n",
    "except Exception as e:\n",
    "    print(f\"An error occurred: {e}\")"
   ]
  },
  {
   "cell_type": "code",
   "execution_count": 21,
   "id": "bcbc14ee-2a65-4ca9-9de6-2f25a75c68d3",
   "metadata": {},
   "outputs": [
    {
     "data": {
      "text/plain": [
       "{'id': 'chatcmpl-9b0pMQyaN7Z8GjgdWoNkJRyPDOY17',\n",
       " 'choices': [{'finish_reason': 'stop',\n",
       "   'index': 0,\n",
       "   'logprobs': None,\n",
       "   'message': {'content': '알겠습니다. 다음은 \"화성으로의 여정\"에 관한 짧은 이야기입니다:\\n\\n---\\n\\n지구에서 가장 뛰어난 과학자들과 우주비행사들로 구성된 팀이 있었어요. 그들은 인류 최초로 화성에 도착하기 위해 오랜 시간 준비를 해왔어요. 이들의 임무는 단순히 화성에 도착하는 것만이 아니라, 그곳에서 생존하고 새로운 거주지를 건설하는 것이었어요.\\n\\n마침내 발사일이 다가왔고, 팀은 최신 기술로 제작된 우주선에 탑승했어요. 우주선은 거대한 로켓의 힘을 빌려 지구를 떠나 드넓은 우주를 항해하기 시작했어요. 몇 달 동안의 긴 여행 끝에, 그들은 마침내 붉은 행성인 화성의 궤도에 도달했어요.\\n\\n화성 표면에 착륙한 순간, 팀원들은 모두 감격의 눈물을 흘렸어요. 그들은 신중하게 우주복을 입고, 한 발 한 발 조심스럽게 화성의 땅을 밟았어요. 화성의 하늘은 지구와는 전혀 다른 붉은 색으로 물들어 있었고, 공기는 매우 희박했어요.\\n\\n팀은 곧바로 기지를 건설하기 시작했어요. 지구에서 가져온 모듈을 조립하고, 태양광 패널을 설치해 에너지를 공급했어요. 모든 팀원들은 서로 협력하며, 각자의 역할을 성실히 수행했어요. 마침내, 화성에서의 첫 번째 거주지가 완성되었어요.\\n\\n그들은 화성의 극한 환경 속에서도 작은 농장을 조성해 신선한 채소를 키웠어요. 또한, 화성의 토양과 대기를 연구하며, 미래의 화성 거주를 위한 귀중한 데이터를 수집했어요.\\n\\n이렇게 화성에서의 생활이 안정되면서, 팀원들은 서로에게 더욱 의지하며 가족처럼 지냈어요. 그들은 자랑스러움과 함께, 인류의 새로운 문명을 개척해 나가는 선구자가 되었다는 사명감을 느꼈어요.\\n\\n그리고 지구에 남아 있는 사람들에게도 희망을 전하기 위해, 그들은 매일 화성에서의 소식을 전송했어요. 화성으로의 여정은 끝이 아닌 새로운 시작이었어요. 인류는 이제 우주의 더 먼 곳을 향해 나아갈 준비를 하고 있었어요.\\n\\n---\\n\\n이상입니다. 도움이 되었기를 바랍니다!',\n",
       "    'role': 'assistant'}}],\n",
       " 'created': 1718608344,\n",
       " 'model': 'gpt-4o-2024-05-13',\n",
       " 'object': 'chat.completion',\n",
       " 'system_fingerprint': 'fp_319be4768e',\n",
       " 'usage': {'completion_tokens': 566, 'prompt_tokens': 38, 'total_tokens': 604}}"
      ]
     },
     "execution_count": 21,
     "metadata": {},
     "output_type": "execute_result"
    }
   ],
   "source": [
    "response.to_dict()"
   ]
  },
  {
   "cell_type": "code",
   "execution_count": null,
   "id": "9e304b90-0d30-4dca-89f4-4d7c46ae346c",
   "metadata": {},
   "outputs": [],
   "source": []
  }
 ],
 "metadata": {
  "kernelspec": {
   "display_name": "Python 3 (ipykernel)",
   "language": "python",
   "name": "python3"
  },
  "language_info": {
   "codemirror_mode": {
    "name": "ipython",
    "version": 3
   },
   "file_extension": ".py",
   "mimetype": "text/x-python",
   "name": "python",
   "nbconvert_exporter": "python",
   "pygments_lexer": "ipython3",
   "version": "3.9.16"
  }
 },
 "nbformat": 4,
 "nbformat_minor": 5
}
