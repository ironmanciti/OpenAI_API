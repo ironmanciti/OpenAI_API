{
 "cells": [
  {
   "cell_type": "code",
   "execution_count": 1,
   "id": "989f8b65-992a-4c1c-b196-aa19cfff4e95",
   "metadata": {},
   "outputs": [],
   "source": [
    "import os\n",
    "import openai\n",
    "import sys\n",
    "sys.path.append('./')\n",
    "\n",
    "from dotenv import load_dotenv, find_dotenv\n",
    "_ = load_dotenv(find_dotenv()) # read local .env file"
   ]
  },
  {
   "attachments": {},
   "cell_type": "markdown",
   "id": "09ecb901-f941-40c2-9dcb-e68d6738823a",
   "metadata": {},
   "source": [
    "# Embedding\n",
    "\n",
    "- 두 텍스트 사이의 관련성을 측정하는 데 사용할 수 있는 텍스트의 숫자 표현  \n",
    "- 검색, 클러스터링, 권장 사항, 이상 탐지 및 분류 작업에 유용"
   ]
  },
  {
   "cell_type": "code",
   "execution_count": 2,
   "id": "c27e1f6a-db6a-45ab-9d0d-87fcaa77e164",
   "metadata": {},
   "outputs": [],
   "source": [
    "from openai import OpenAI \n",
    "client = OpenAI()  # OpenAI 클라이언트 생성\n",
    "\n",
    "embedding_model = \"text-embedding-3-small\"  # 사용할 텍스트 임베딩 모델"
   ]
  },
  {
   "cell_type": "markdown",
   "id": "590ec01a-773b-4a00-bccf-6f2a1ab7185e",
   "metadata": {},
   "source": [
    "### Embedding을 특성으로 사용하여 Naver 영화평 예측 Machine Learning model 작성"
   ]
  },
  {
   "cell_type": "code",
   "execution_count": 3,
   "id": "8adb100a-610c-4a53-9922-76a82b289072",
   "metadata": {},
   "outputs": [],
   "source": [
    "import pandas as pd\n",
    "import numpy as np\n",
    "\n",
    "DATA_TRAIN_PATH = \"https://github.com/ironmanciti/NLP_lecture/raw/master/data/naver_movie/ratings_train.txt\"\n",
    "DATA_TEST_PATH = \"https://github.com/ironmanciti/NLP_lecture/raw/master/data/naver_movie/ratings_test.txt\""
   ]
  },
  {
   "cell_type": "code",
   "execution_count": 4,
   "id": "797853ab-6011-4f3e-b1a2-dc0462bfac24",
   "metadata": {},
   "outputs": [
    {
     "name": "stdout",
     "output_type": "stream",
     "text": [
      "(150000, 3)\n"
     ]
    },
    {
     "data": {
      "text/html": [
       "<div>\n",
       "<style scoped>\n",
       "    .dataframe tbody tr th:only-of-type {\n",
       "        vertical-align: middle;\n",
       "    }\n",
       "\n",
       "    .dataframe tbody tr th {\n",
       "        vertical-align: top;\n",
       "    }\n",
       "\n",
       "    .dataframe thead th {\n",
       "        text-align: right;\n",
       "    }\n",
       "</style>\n",
       "<table border=\"1\" class=\"dataframe\">\n",
       "  <thead>\n",
       "    <tr style=\"text-align: right;\">\n",
       "      <th></th>\n",
       "      <th>id</th>\n",
       "      <th>document</th>\n",
       "      <th>label</th>\n",
       "    </tr>\n",
       "  </thead>\n",
       "  <tbody>\n",
       "    <tr>\n",
       "      <th>0</th>\n",
       "      <td>9976970</td>\n",
       "      <td>아 더빙.. 진짜 짜증나네요 목소리</td>\n",
       "      <td>0</td>\n",
       "    </tr>\n",
       "    <tr>\n",
       "      <th>1</th>\n",
       "      <td>3819312</td>\n",
       "      <td>흠...포스터보고 초딩영화줄....오버연기조차 가볍지 않구나</td>\n",
       "      <td>1</td>\n",
       "    </tr>\n",
       "    <tr>\n",
       "      <th>2</th>\n",
       "      <td>10265843</td>\n",
       "      <td>너무재밓었다그래서보는것을추천한다</td>\n",
       "      <td>0</td>\n",
       "    </tr>\n",
       "    <tr>\n",
       "      <th>3</th>\n",
       "      <td>9045019</td>\n",
       "      <td>교도소 이야기구먼 ..솔직히 재미는 없다..평점 조정</td>\n",
       "      <td>0</td>\n",
       "    </tr>\n",
       "    <tr>\n",
       "      <th>4</th>\n",
       "      <td>6483659</td>\n",
       "      <td>사이몬페그의 익살스런 연기가 돋보였던 영화!스파이더맨에서 늙어보이기만 했던 커스틴 ...</td>\n",
       "      <td>1</td>\n",
       "    </tr>\n",
       "  </tbody>\n",
       "</table>\n",
       "</div>"
      ],
      "text/plain": [
       "         id                                           document  label\n",
       "0   9976970                                아 더빙.. 진짜 짜증나네요 목소리      0\n",
       "1   3819312                  흠...포스터보고 초딩영화줄....오버연기조차 가볍지 않구나      1\n",
       "2  10265843                                  너무재밓었다그래서보는것을추천한다      0\n",
       "3   9045019                      교도소 이야기구먼 ..솔직히 재미는 없다..평점 조정      0\n",
       "4   6483659  사이몬페그의 익살스런 연기가 돋보였던 영화!스파이더맨에서 늙어보이기만 했던 커스틴 ...      1"
      ]
     },
     "execution_count": 4,
     "metadata": {},
     "output_type": "execute_result"
    }
   ],
   "source": [
    "train_data = pd.read_csv(DATA_TRAIN_PATH, delimiter='\\t')\n",
    "print(train_data.shape)\n",
    "train_data.head()"
   ]
  },
  {
   "cell_type": "code",
   "execution_count": 5,
   "id": "61aa9b83-af4b-4130-add9-ca0b37075edd",
   "metadata": {},
   "outputs": [
    {
     "name": "stdout",
     "output_type": "stream",
     "text": [
      "(50000, 3)\n"
     ]
    },
    {
     "data": {
      "text/html": [
       "<div>\n",
       "<style scoped>\n",
       "    .dataframe tbody tr th:only-of-type {\n",
       "        vertical-align: middle;\n",
       "    }\n",
       "\n",
       "    .dataframe tbody tr th {\n",
       "        vertical-align: top;\n",
       "    }\n",
       "\n",
       "    .dataframe thead th {\n",
       "        text-align: right;\n",
       "    }\n",
       "</style>\n",
       "<table border=\"1\" class=\"dataframe\">\n",
       "  <thead>\n",
       "    <tr style=\"text-align: right;\">\n",
       "      <th></th>\n",
       "      <th>id</th>\n",
       "      <th>document</th>\n",
       "      <th>label</th>\n",
       "    </tr>\n",
       "  </thead>\n",
       "  <tbody>\n",
       "    <tr>\n",
       "      <th>0</th>\n",
       "      <td>6270596</td>\n",
       "      <td>굳 ㅋ</td>\n",
       "      <td>1</td>\n",
       "    </tr>\n",
       "    <tr>\n",
       "      <th>1</th>\n",
       "      <td>9274899</td>\n",
       "      <td>GDNTOPCLASSINTHECLUB</td>\n",
       "      <td>0</td>\n",
       "    </tr>\n",
       "    <tr>\n",
       "      <th>2</th>\n",
       "      <td>8544678</td>\n",
       "      <td>뭐야 이 평점들은.... 나쁘진 않지만 10점 짜리는 더더욱 아니잖아</td>\n",
       "      <td>0</td>\n",
       "    </tr>\n",
       "    <tr>\n",
       "      <th>3</th>\n",
       "      <td>6825595</td>\n",
       "      <td>지루하지는 않은데 완전 막장임... 돈주고 보기에는....</td>\n",
       "      <td>0</td>\n",
       "    </tr>\n",
       "    <tr>\n",
       "      <th>4</th>\n",
       "      <td>6723715</td>\n",
       "      <td>3D만 아니었어도 별 다섯 개 줬을텐데.. 왜 3D로 나와서 제 심기를 불편하게 하죠??</td>\n",
       "      <td>0</td>\n",
       "    </tr>\n",
       "  </tbody>\n",
       "</table>\n",
       "</div>"
      ],
      "text/plain": [
       "        id                                           document  label\n",
       "0  6270596                                                굳 ㅋ      1\n",
       "1  9274899                               GDNTOPCLASSINTHECLUB      0\n",
       "2  8544678             뭐야 이 평점들은.... 나쁘진 않지만 10점 짜리는 더더욱 아니잖아      0\n",
       "3  6825595                   지루하지는 않은데 완전 막장임... 돈주고 보기에는....      0\n",
       "4  6723715  3D만 아니었어도 별 다섯 개 줬을텐데.. 왜 3D로 나와서 제 심기를 불편하게 하죠??      0"
      ]
     },
     "execution_count": 5,
     "metadata": {},
     "output_type": "execute_result"
    }
   ],
   "source": [
    "test_data = pd.read_csv(DATA_TEST_PATH, delimiter='\\t')\n",
    "print(test_data.shape)\n",
    "test_data.head()"
   ]
  },
  {
   "cell_type": "markdown",
   "id": "93b143a8-f6d7-4f1b-b4eb-0b2c6fee6405",
   "metadata": {},
   "source": [
    "- OpenAI API 가 유료 서비스이므로 학습 데이터 건수 축소"
   ]
  },
  {
   "cell_type": "code",
   "execution_count": 20,
   "id": "04f08d43-4f01-45a3-9fb0-2332f577f573",
   "metadata": {},
   "outputs": [
    {
     "name": "stdout",
     "output_type": "stream",
     "text": [
      "Train Sample Distribution:\n",
      "label\n",
      "1    500\n",
      "0    500\n",
      "Name: count, dtype: int64\n",
      "\n",
      "Test Sample Distribution:\n",
      "label\n",
      "1    100\n",
      "0    100\n",
      "Name: count, dtype: int64\n"
     ]
    }
   ],
   "source": [
    "# 샘플링할 데이터 수\n",
    "n_train_samples = 500\n",
    "n_test_samples = 100\n",
    "\n",
    "# 긍정 및 부정 리뷰 필터링 (학습 데이터)\n",
    "train_positive = train_data[train_data['label'] == 1]\n",
    "train_negative = train_data[train_data['label'] == 0]\n",
    "\n",
    "# 긍정 및 부정 리뷰 필터링 (테스트 데이터)\n",
    "test_positive = test_data[test_data['label'] == 1]\n",
    "test_negative = test_data[test_data['label'] == 0]\n",
    "\n",
    "# 긍정 및 부정 리뷰에서 각각 n_train_samples 수만큼 무작위 추출 (학습 데이터)\n",
    "train_positive_sample = train_positive.sample(n=n_train_samples, random_state=42)\n",
    "train_negative_sample = train_negative.sample(n=n_train_samples, random_state=42)\n",
    "\n",
    "# 긍정 및 부정 리뷰에서 각각 n_test_samples 수만큼 무작위 추출 (테스트 데이터)\n",
    "test_positive_sample = test_positive.sample(n=n_test_samples, random_state=42)\n",
    "test_negative_sample = test_negative.sample(n=n_test_samples, random_state=42)\n",
    "\n",
    "# 추출한 샘플 데이터 결합 (학습 데이터)\n",
    "train_sample = pd.concat([train_positive_sample, train_negative_sample], ignore_index=True)\n",
    "\n",
    "# 추출한 샘플 데이터 결합 (테스트 데이터)\n",
    "test_sample = pd.concat([test_positive_sample, test_negative_sample], ignore_index=True)\n",
    "\n",
    "# 학습 샘플 데이터 분포 출력\n",
    "print(\"Train Sample Distribution:\")\n",
    "print(train_sample['label'].value_counts())\n",
    "\n",
    "# 테스트 샘플 데이터 분포 출력\n",
    "print(\"\\nTest Sample Distribution:\")\n",
    "print(test_sample['label'].value_counts())"
   ]
  },
  {
   "cell_type": "code",
   "execution_count": 22,
   "id": "0bcbda38-f2df-475b-af34-c3ca1e14d108",
   "metadata": {},
   "outputs": [
    {
     "name": "stdout",
     "output_type": "stream",
     "text": [
      "                                        document  \\\n",
      "0    운이가 살았으면 더 좋았을 꺼 같아요! 넘 재미있게 잘 봤습니다. 수고하셨어요   \n",
      "1                            스크림 표정 대박 ㅋㅋㅋㅋㅋㅋㅋㅋㅋ   \n",
      "2                                              굿   \n",
      "3  너무 공감도 되고.. 예쁜 영화라고 느꼈음 ㅠㅠ 특히 알렉스 캐릭터가 진짜 매력적   \n",
      "4               힘든 시기를 겪고있는 지금, 내게 많은 위로가 되어준 영화   \n",
      "\n",
      "                                           embedding  \n",
      "0  [0.044488899409770966, -0.03607461228966713, -...  \n",
      "1  [0.01893804781138897, -0.026783980429172516, -...  \n",
      "2  [-0.005274930503219366, -0.01909022405743599, ...  \n",
      "3  [0.026312414556741714, 0.020976195111870766, -...  \n",
      "4  [0.0034560193307697773, -0.016391253098845482,...  \n",
      "                                            document  \\\n",
      "0                                              Good!   \n",
      "1  톰 행크스 영화는 믿고 보는데, 이 영화는 그 중에서도 정말 최고네요. 진심으로 추...   \n",
      "2                            뭔가 보는내내 아련하고 여운에 남는다...   \n",
      "3                            아이들은 열광해. 모두 한번더라고 외치네.   \n",
      "4                                         말이 필요 없다..   \n",
      "\n",
      "                                           embedding  \n",
      "0  [0.008779301308095455, 0.0031113270670175552, ...  \n",
      "1  [-0.04521473869681358, 0.03877118229866028, -0...  \n",
      "2  [0.004788501188158989, 0.019072972238063812, 0...  \n",
      "3  [0.06013823300600052, 0.01239758264273405, -0....  \n",
      "4  [0.025567661970853806, 0.030816951766610146, -...  \n",
      "Wall time: 6min 3s\n"
     ]
    }
   ],
   "source": [
    "%%time\n",
    "# 텍스트 임베딩을 생성하는 함수 정의\n",
    "def get_embedding(text, model):\n",
    "    # 주어진 텍스트를 사용하여 임베딩 생성 요청을 보내고 결과를 반환\n",
    "    return client.embeddings.create(input=text, model=model).data[0].embedding\n",
    "\n",
    "# 학습 데이터에 대한 임베딩 생성\n",
    "train_sample['embedding'] = train_sample.document.apply(lambda x: get_embedding(x, model=embedding_model))\n",
    "# 테스트 데이터에 대한 임베딩 생성\n",
    "test_sample['embedding'] = test_sample.document.apply(lambda x: get_embedding(x, model=embedding_model))\n",
    "\n",
    "# 임베딩 결과 확인\n",
    "print(train_sample[['document', 'embedding']].head())\n",
    "print(test_sample[['document', 'embedding']].head())"
   ]
  },
  {
   "cell_type": "code",
   "execution_count": 23,
   "id": "93b81680-f63d-45c0-b9ba-2e0757dfa68e",
   "metadata": {},
   "outputs": [
    {
     "data": {
      "text/html": [
       "<div>\n",
       "<style scoped>\n",
       "    .dataframe tbody tr th:only-of-type {\n",
       "        vertical-align: middle;\n",
       "    }\n",
       "\n",
       "    .dataframe tbody tr th {\n",
       "        vertical-align: top;\n",
       "    }\n",
       "\n",
       "    .dataframe thead th {\n",
       "        text-align: right;\n",
       "    }\n",
       "</style>\n",
       "<table border=\"1\" class=\"dataframe\">\n",
       "  <thead>\n",
       "    <tr style=\"text-align: right;\">\n",
       "      <th></th>\n",
       "      <th>id</th>\n",
       "      <th>document</th>\n",
       "      <th>label</th>\n",
       "      <th>embedding</th>\n",
       "    </tr>\n",
       "  </thead>\n",
       "  <tbody>\n",
       "    <tr>\n",
       "      <th>0</th>\n",
       "      <td>5783305</td>\n",
       "      <td>운이가 살았으면 더 좋았을 꺼 같아요! 넘 재미있게 잘 봤습니다. 수고하셨어요</td>\n",
       "      <td>1</td>\n",
       "      <td>[0.044488899409770966, -0.03607461228966713, -...</td>\n",
       "    </tr>\n",
       "    <tr>\n",
       "      <th>1</th>\n",
       "      <td>4028446</td>\n",
       "      <td>스크림 표정 대박 ㅋㅋㅋㅋㅋㅋㅋㅋㅋ</td>\n",
       "      <td>1</td>\n",
       "      <td>[0.01893804781138897, -0.026783980429172516, -...</td>\n",
       "    </tr>\n",
       "  </tbody>\n",
       "</table>\n",
       "</div>"
      ],
      "text/plain": [
       "        id                                     document  label  \\\n",
       "0  5783305  운이가 살았으면 더 좋았을 꺼 같아요! 넘 재미있게 잘 봤습니다. 수고하셨어요      1   \n",
       "1  4028446                          스크림 표정 대박 ㅋㅋㅋㅋㅋㅋㅋㅋㅋ      1   \n",
       "\n",
       "                                           embedding  \n",
       "0  [0.044488899409770966, -0.03607461228966713, -...  \n",
       "1  [0.01893804781138897, -0.026783980429172516, -...  "
      ]
     },
     "execution_count": 23,
     "metadata": {},
     "output_type": "execute_result"
    }
   ],
   "source": [
    "train_sample.head(2)"
   ]
  },
  {
   "cell_type": "code",
   "execution_count": 24,
   "id": "93086b16-92f8-4d55-a033-57430c118c76",
   "metadata": {},
   "outputs": [
    {
     "data": {
      "text/html": [
       "<div>\n",
       "<style scoped>\n",
       "    .dataframe tbody tr th:only-of-type {\n",
       "        vertical-align: middle;\n",
       "    }\n",
       "\n",
       "    .dataframe tbody tr th {\n",
       "        vertical-align: top;\n",
       "    }\n",
       "\n",
       "    .dataframe thead th {\n",
       "        text-align: right;\n",
       "    }\n",
       "</style>\n",
       "<table border=\"1\" class=\"dataframe\">\n",
       "  <thead>\n",
       "    <tr style=\"text-align: right;\">\n",
       "      <th></th>\n",
       "      <th>id</th>\n",
       "      <th>document</th>\n",
       "      <th>label</th>\n",
       "      <th>embedding</th>\n",
       "    </tr>\n",
       "  </thead>\n",
       "  <tbody>\n",
       "    <tr>\n",
       "      <th>0</th>\n",
       "      <td>4346958</td>\n",
       "      <td>Good!</td>\n",
       "      <td>1</td>\n",
       "      <td>[0.008779301308095455, 0.0031113270670175552, ...</td>\n",
       "    </tr>\n",
       "    <tr>\n",
       "      <th>1</th>\n",
       "      <td>9613528</td>\n",
       "      <td>톰 행크스 영화는 믿고 보는데, 이 영화는 그 중에서도 정말 최고네요. 진심으로 추...</td>\n",
       "      <td>1</td>\n",
       "      <td>[-0.04521473869681358, 0.03877118229866028, -0...</td>\n",
       "    </tr>\n",
       "  </tbody>\n",
       "</table>\n",
       "</div>"
      ],
      "text/plain": [
       "        id                                           document  label  \\\n",
       "0  4346958                                              Good!      1   \n",
       "1  9613528  톰 행크스 영화는 믿고 보는데, 이 영화는 그 중에서도 정말 최고네요. 진심으로 추...      1   \n",
       "\n",
       "                                           embedding  \n",
       "0  [0.008779301308095455, 0.0031113270670175552, ...  \n",
       "1  [-0.04521473869681358, 0.03877118229866028, -0...  "
      ]
     },
     "execution_count": 24,
     "metadata": {},
     "output_type": "execute_result"
    }
   ],
   "source": [
    "test_sample.head(2)"
   ]
  },
  {
   "cell_type": "code",
   "execution_count": 25,
   "id": "49e9bfef-22ed-4010-be80-bf3247125b8c",
   "metadata": {},
   "outputs": [
    {
     "name": "stdout",
     "output_type": "stream",
     "text": [
      "<class 'pandas.core.frame.DataFrame'>\n",
      "RangeIndex: 1000 entries, 0 to 999\n",
      "Data columns (total 4 columns):\n",
      " #   Column     Non-Null Count  Dtype \n",
      "---  ------     --------------  ----- \n",
      " 0   id         1000 non-null   int64 \n",
      " 1   document   1000 non-null   object\n",
      " 2   label      1000 non-null   int64 \n",
      " 3   embedding  1000 non-null   object\n",
      "dtypes: int64(2), object(2)\n",
      "memory usage: 31.4+ KB\n"
     ]
    }
   ],
   "source": [
    "train_sample.info()"
   ]
  },
  {
   "cell_type": "markdown",
   "id": "c43688e0-96f4-4a62-80c0-ea195c6a5d0a",
   "metadata": {},
   "source": [
    "## Machine Learning 학습을 위한 Text Feature Encoder로서의 Embedding 사용"
   ]
  },
  {
   "cell_type": "code",
   "execution_count": 27,
   "id": "d5ee182d-3c03-4cbf-b1cf-dc2708ee43c7",
   "metadata": {},
   "outputs": [
    {
     "data": {
      "text/plain": [
       "((1000, 1536), (200, 1536), (1000,), (200,))"
      ]
     },
     "execution_count": 27,
     "metadata": {},
     "output_type": "execute_result"
    }
   ],
   "source": [
    "# 리스트 형태의 임베딩을 numpy 배열로 변환\n",
    "X_train = np.array(train_sample.embedding.tolist())\n",
    "y_train = train_sample.label.values\n",
    "\n",
    "X_test = np.array(test_sample.embedding.tolist())\n",
    "y_test = test_sample.label.values\n",
    "\n",
    "X_train.shape, X_test.shape, y_train.shape, y_test.shape"
   ]
  },
  {
   "cell_type": "markdown",
   "id": "dcb84128-018f-4e93-b655-3e2307987996",
   "metadata": {},
   "source": [
    "### 이진 분류 모델 작성에 사용"
   ]
  },
  {
   "cell_type": "code",
   "execution_count": 29,
   "id": "9bdf35eb-1dda-4654-8715-965d506520c2",
   "metadata": {},
   "outputs": [
    {
     "name": "stdout",
     "output_type": "stream",
     "text": [
      "0.735\n",
      "[[79 21]\n",
      " [32 68]]\n"
     ]
    }
   ],
   "source": [
    "from sklearn.linear_model import LogisticRegression\n",
    "\n",
    "lr = LogisticRegression()\n",
    "lr.fit(X_train, y_train)\n",
    "\n",
    "preds = lr.predict(X_test)\n",
    "\n",
    "print(accuracy_score(y_test, preds))\n",
    "cm = confusion_matrix(y_test, preds)\n",
    "print(cm)"
   ]
  },
  {
   "cell_type": "code",
   "execution_count": null,
   "id": "c53bbcb9-d44c-4b8a-95a9-d67b1ac3816d",
   "metadata": {},
   "outputs": [],
   "source": []
  }
 ],
 "metadata": {
  "kernelspec": {
   "display_name": "Python 3 (ipykernel)",
   "language": "python",
   "name": "python3"
  },
  "language_info": {
   "codemirror_mode": {
    "name": "ipython",
    "version": 3
   },
   "file_extension": ".py",
   "mimetype": "text/x-python",
   "name": "python",
   "nbconvert_exporter": "python",
   "pygments_lexer": "ipython3",
   "version": "3.9.16"
  }
 },
 "nbformat": 4,
 "nbformat_minor": 5
}
