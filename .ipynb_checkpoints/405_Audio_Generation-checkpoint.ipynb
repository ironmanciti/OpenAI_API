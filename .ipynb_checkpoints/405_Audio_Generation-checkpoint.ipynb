{
 "cells": [
  {
   "cell_type": "markdown",
   "id": "60a5491a-8997-4bb5-bceb-2d5f1aa69451",
   "metadata": {},
   "source": [
    "# 오디오 생성"
   ]
  },
  {
   "cell_type": "code",
   "execution_count": 1,
   "id": "0ed382a9-0877-4faf-be05-0a7b6ba33ae2",
   "metadata": {},
   "outputs": [],
   "source": [
    "import os\n",
    "import openai\n",
    "import sys\n",
    "sys.path.append('./')\n",
    "\n",
    "from dotenv import load_dotenv, find_dotenv\n",
    "_ = load_dotenv(find_dotenv()) # read local .env file"
   ]
  },
  {
   "cell_type": "code",
   "execution_count": 22,
   "id": "3c82d97e-7056-4c55-bb92-b9b9002e677f",
   "metadata": {},
   "outputs": [],
   "source": [
    "from openai import OpenAI\n",
    "\n",
    "client = OpenAI()\n",
    "Model = \"gpt-4o-mini-audio-preview\""
   ]
  },
  {
   "attachments": {},
   "cell_type": "markdown",
   "id": "4352baae-7044-4a6f-a4b8-d18da7b47c20",
   "metadata": {},
   "source": [
    "### 모델로 부터 audio 출력"
   ]
  },
  {
   "cell_type": "code",
   "execution_count": 21,
   "id": "b946d023-0409-4096-9d07-46234e3236c0",
   "metadata": {},
   "outputs": [],
   "source": [
    "import base64\n",
    "\n",
    "completion = client.chat.completions.create(\n",
    "    model=Model,\n",
    "    modalities=[\"text\", \"audio\"],\n",
    "    audio={\"voice\": \"alloy\", \"format\": \"wav\"},\n",
    "    messages=[\n",
    "        {\n",
    "            \"role\": \"user\",\n",
    "            \"content\": \"진도개는 주인에게 충성스러운가요?\"\n",
    "        }\n",
    "    ],\n",
    "    stream=False\n",
    ")\n",
    "\n",
    "wav_bytes = base64.b64decode(completion.choices[0].message.audio.data)\n",
    "with open(\"output/dog.wav\", \"wb\") as f:\n",
    "    f.write(wav_bytes)"
   ]
  },
  {
   "cell_type": "markdown",
   "id": "8ae0fd8d-5cca-4e70-a9cb-e66a3fb4e604",
   "metadata": {},
   "source": [
    "### Audio를 model에 입력하고 Text 와 Audio 를 동시에 출력"
   ]
  },
  {
   "cell_type": "code",
   "execution_count": 23,
   "id": "5af22fae-d967-4abc-ada0-f76441928fa5",
   "metadata": {},
   "outputs": [],
   "source": [
    "import base64\n",
    "import requests\n",
    "\n",
    "# Fetch the audio file and convert it to a base64 encoded string\n",
    "url = \"https://openaiassets.blob.core.windows.net/$web/API/docs/audio/alloy.wav\"\n",
    "response = requests.get(url)\n",
    "response.raise_for_status()\n",
    "wav_data = response.content\n",
    "encoded_string = base64.b64encode(wav_data).decode('utf-8')\n",
    "\n",
    "completion = client.chat.completions.create(\n",
    "    model=Model,\n",
    "    modalities=[\"text\", \"audio\"],\n",
    "    audio={\"voice\": \"alloy\", \"format\": \"wav\"},\n",
    "    messages=[\n",
    "        {\n",
    "            \"role\": \"user\",\n",
    "            \"content\": [\n",
    "                { \n",
    "                    \"type\": \"text\",\n",
    "                    \"text\": \"이 녹음파일에는 어떤 내용이 들어 있나요?\"\n",
    "                },\n",
    "                {\n",
    "                    \"type\": \"input_audio\",\n",
    "                    \"input_audio\": {\n",
    "                        \"data\": encoded_string,\n",
    "                        \"format\": \"wav\"\n",
    "                    }\n",
    "                }\n",
    "            ]\n",
    "        },\n",
    "    ]\n",
    ")\n",
    "\n",
    "wav_bytes = base64.b64decode(completion.choices[0].message.audio.data)\n",
    "with open(\"output/audio_out.wav\", \"wb\") as f:\n",
    "    f.write(wav_bytes)"
   ]
  },
  {
   "cell_type": "code",
   "execution_count": 24,
   "id": "8ee54b7e-2f28-4a5b-ade0-7d2e4ab63f5e",
   "metadata": {},
   "outputs": [
    {
     "data": {
      "text/plain": [
       "'녹음 파일에 언급된 내용은 지구의 자전과 해의 움직임에 관한 것입니다. 지구는 자전을 하면서 태양이 동쪽에서 뜨고 서쪽으로 지는 것을 관찰해 왔습니다. 이러한 관찰은 수천 년 동안 인간에 의해 이어져 온 사실입니다.'"
      ]
     },
     "execution_count": 24,
     "metadata": {},
     "output_type": "execute_result"
    }
   ],
   "source": [
    "completion.choices[0].message.audio.transcript"
   ]
  },
  {
   "cell_type": "code",
   "execution_count": null,
   "id": "c9b0819e-5d5a-4e1a-bac7-19050f4275a4",
   "metadata": {},
   "outputs": [],
   "source": []
  }
 ],
 "metadata": {
  "kernelspec": {
   "display_name": "Python 3 (ipykernel)",
   "language": "python",
   "name": "python3"
  },
  "language_info": {
   "codemirror_mode": {
    "name": "ipython",
    "version": 3
   },
   "file_extension": ".py",
   "mimetype": "text/x-python",
   "name": "python",
   "nbconvert_exporter": "python",
   "pygments_lexer": "ipython3",
   "version": "3.9.16"
  }
 },
 "nbformat": 4,
 "nbformat_minor": 5
}
