{
 "cells": [
  {
   "cell_type": "markdown",
   "metadata": {
    "id": "vUehOJlORE-j"
   },
   "source": [
    "# 고급 추론 및 문제 해결 모델 탐색  \r\n",
    "\r\n",
    "OpenAI의 o1 시리즈 모델은 강화 학습을 통해 훈련된 대형 언어 모델로, 복잡한 추론을 수행할 수 있도록 설계되었습니다. o1 모델은 답변하기 전에 깊이 사고하며, 내부적으로 긴 사고 과정을 거친 후 응답을 생성합니다.  \r\n",
    "\r\n",
    "o1 모델은 과학적 추론에서 뛰어난 성능을 보이며, 경쟁 프로그래밍(Codeforces) 문제에서 상위 89퍼센타일을 기록하고, 미국 수학 올림피아드 예선(AIME)에서 미국 상위 500명 학생 수준의 성과를 달성했으며, 물리학, 생물학, 화학 문제를 다루는 GPQA 벤치마크에서 인간 박사급 정답률을 초과했습니다.  \r\n",
    "\r\n",
    "API에서는 두 가지 추론 모델을 사용할 수 있습니다:  \r\n",
    "\r\n",
    "- **o1**: 광범위한 일반 지식을 활용하여 어려운 문제를 추론하도록 설계된 모델  \r\n",
    "- **o1-mini**: 보다 빠르고 경제적인 버전의 o1 모델로, 방대한 일반 지식이 필요하지 않은 코딩, 수학, 과학 문제 해결에 특히 강점이 있음\n",
    "\n"
   ]
  },
  {
   "cell_type": "code",
   "execution_count": 1,
   "metadata": {
    "id": "lYFNyycCQ2p-"
   },
   "outputs": [
    {
     "data": {
      "text/plain": [
       "True"
      ]
     },
     "execution_count": 1,
     "metadata": {},
     "output_type": "execute_result"
    }
   ],
   "source": [
    "from dotenv import load_dotenv, find_dotenv\n",
    "load_dotenv(find_dotenv()) # read local .env file"
   ]
  },
  {
   "cell_type": "code",
   "execution_count": 2,
   "metadata": {
    "id": "btc16h6ySPFA"
   },
   "outputs": [],
   "source": [
    "from openai import OpenAI\n",
    "client = OpenAI()\n",
    "\n",
    "Model = \"o1-mini\""
   ]
  },
  {
   "cell_type": "code",
   "execution_count": 4,
   "metadata": {
    "id": "MsoHQlVsSywU"
   },
   "outputs": [
    {
     "name": "stdout",
     "output_type": "stream",
     "text": [
      "물론입니다! 입력 문자열로 표현된 행렬을 전치하여 같은 형식으로 출력하는 Python 스크립트를 작성해 보겠습니다. 아래는 이를 수행하는 단계별 예제입니다.\n",
      "\n",
      "### 1. 스크립트 개요\n",
      "\n",
      "1. **입력 처리**: 사용자가 입력한 문자열을 파싱하여 2차원 리스트(행렬)로 변환합니다.\n",
      "2. **전치 행렬 계산**: 파이썬의 `zip` 함수를 사용하여 행렬을 전치합니다.\n",
      "3. **출력 형식 변환**: 전치된 행렬을 다시 문자열 형식으로 변환하여 출력합니다.\n",
      "\n",
      "### 2. 전체 코드\n",
      "\n",
      "```python\n",
      "import ast\n",
      "\n",
      "def parse_matrix(input_str):\n",
      "    \"\"\"\n",
      "    입력 문자열을 파싱하여 2차원 리스트로 변환합니다.\n",
      "    예: '[1,2],[3,4],[5,6]' -> [[1, 2], [3, 4], [5, 6]]\n",
      "    \"\"\"\n",
      "    try:\n",
      "        # 문자열을 리스트 형식으로 감싸서 파싱\n",
      "        matrix = ast.literal_eval(f'[{input_str}]')\n",
      "        # 모든 행이 리스트인지 확인\n",
      "        if all(isinstance(row, list) for row in matrix):\n",
      "            return matrix\n",
      "        else:\n",
      "            raise ValueError(\"모든 행은 리스트여야 합니다.\")\n",
      "    except Exception as e:\n",
      "        raise ValueError(f\"유효한 행렬 형식이 아닙니다: {e}\")\n",
      "\n",
      "def transpose_matrix(matrix):\n",
      "    \"\"\"\n",
      "    주어진 2차원 리스트(행렬)를 전치합니다.\n",
      "    \"\"\"\n",
      "    return [list(row) for row in zip(*matrix)]\n",
      "\n",
      "def matrix_to_string(matrix):\n",
      "    \"\"\"\n",
      "    2차원 리스트(행렬)를 문자열 형식으로 변환합니다.\n",
      "    예: [[1, 3, 5], [2, 4, 6]] -> '[1,3,5],[2,4,6]'\n",
      "    \"\"\"\n",
      "    return ','.join([f'[{\",\".join(map(str, row))}]' for row in matrix])\n",
      "\n",
      "def main():\n",
      "    # 사용자로부터 입력 받기\n",
      "    input_str = input(\"행렬을 입력하세요 (예: [1,2],[3,4],[5,6]): \").strip()\n",
      "    \n",
      "    try:\n",
      "        # 입력 파싱\n",
      "        matrix = parse_matrix(input_str)\n",
      "        \n",
      "        # 전치 행렬 계산\n",
      "        transposed = transpose_matrix(matrix)\n",
      "        \n",
      "        # 출력 형식 변환\n",
      "        output_str = matrix_to_string(transposed)\n",
      "        \n",
      "        print(\"전치 행렬:\", output_str)\n",
      "    except ValueError as ve:\n",
      "        print(\"오류:\", ve)\n",
      "\n",
      "if __name__ == \"__main__\":\n",
      "    main()\n",
      "```\n",
      "\n",
      "### 3. 코드 설명\n",
      "\n",
      "1. **`parse_matrix` 함수**:\n",
      "    - 입력된 문자열을 파싱하여 2차원 리스트로 변환합니다.\n",
      "    - `ast.literal_eval`을 사용하여 안전하게 문자열을 파이썬 객체로 변환합니다.\n",
      "    - 모든 행이 리스트인지 확인하여 행렬의 유효성을 검증합니다.\n",
      "\n",
      "2. **`transpose_matrix` 함수**:\n",
      "    - `zip(*matrix)`를 사용하여 전치를 수행합니다.\n",
      "    - 각 튜플을 리스트로 변환하여 2차원 리스트 형식으로 만듭니다.\n",
      "\n",
      "3. **`matrix_to_string` 함수**:\n",
      "    - 전치된 2차원 리스트를 다시 문자열 형식으로 변환합니다.\n",
      "    - 각 행을 대괄호로 감싸고, 쉼표로 구분하여 결합합니다.\n",
      "\n",
      "4. **`main` 함수**:\n",
      "    - 사용자로부터 입력을 받고, 위의 함수를 순차적으로 호출하여 최종 결과를 출력합니다.\n",
      "    - 오류 발생 시 적절한 메시지를 출력합니다.\n",
      "\n",
      "### 4. 실행 예시\n",
      "\n",
      "```\n",
      "행렬을 입력하세요 (예: [1,2],[3,4],[5,6]): [1,2],[3,4],[5,6]\n",
      "전치 행렬: [1,3,5],[2,4,6]\n",
      "```\n",
      "\n",
      "### 5. 추가 사항\n",
      "\n",
      "- **유효성 검사**: 현재 코드는 입력된 행렬의 모든 행이 동일한 길이를 가지고 있다는 가정 하에 동작합니다. 필요에 따라 추가적인 유효성 검사를 구현할 수 있습니다.\n",
      "- **예외 처리**: 입력 형식이 잘못되었을 때 명확한 오류 메시지를 제공하여 사용자가 쉽게 수정할 수 있도록 도와줍니다.\n",
      "\n",
      "이 스크립트를 사용하면 원하는 형식의 문자열로 표현된 행렬을 쉽게 전치하여 출력할 수 있습니다. 추가적인 기능이 필요하시거나 궁금한 점이 있으시면 언제든지 말씀해 주세요!\n"
     ]
    }
   ],
   "source": [
    "prompt = \"\"\"\n",
    "문자열로 표현된 행렬(예: '[1,2],[3,4],[5,6]')을 입력으로 받아, \n",
    "같은 형식으로 전치 행렬을 출력하는 Python 스크립트를 작성하세요.\n",
    "\"\"\"\n",
    "\n",
    "response = client.chat.completions.create(\n",
    "    model=Model,\n",
    "    messages=[\n",
    "        {\n",
    "            \"role\": \"user\", \n",
    "            \"content\": prompt\n",
    "        }\n",
    "    ]\n",
    ")\n",
    "\n",
    "print(response.choices[0].message.content)"
   ]
  },
  {
   "cell_type": "markdown",
   "metadata": {},
   "source": [
    "### Python code 를 실행해 봅니다."
   ]
  },
  {
   "cell_type": "code",
   "execution_count": 5,
   "metadata": {
    "id": "kIb1xtNFSUAP"
   },
   "outputs": [
    {
     "name": "stdin",
     "output_type": "stream",
     "text": [
      "행렬을 입력하세요 (예: [1,2],[3,4],[5,6]):  [100, 200],[200, 300],[4, 5],[9,10]\n"
     ]
    },
    {
     "name": "stdout",
     "output_type": "stream",
     "text": [
      "전치 행렬: [100,200,4,9],[200,300,5,10]\n"
     ]
    }
   ],
   "source": [
    "import ast\n",
    "\n",
    "def parse_matrix(input_str):\n",
    "    \"\"\"\n",
    "    입력 문자열을 파싱하여 2차원 리스트로 변환합니다.\n",
    "    예: '[1,2],[3,4],[5,6]' -> [[1, 2], [3, 4], [5, 6]]\n",
    "    \"\"\"\n",
    "    try:\n",
    "        # 문자열을 리스트 형식으로 감싸서 파싱\n",
    "        matrix = ast.literal_eval(f'[{input_str}]')\n",
    "        # 모든 행이 리스트인지 확인\n",
    "        if all(isinstance(row, list) for row in matrix):\n",
    "            return matrix\n",
    "        else:\n",
    "            raise ValueError(\"모든 행은 리스트여야 합니다.\")\n",
    "    except Exception as e:\n",
    "        raise ValueError(f\"유효한 행렬 형식이 아닙니다: {e}\")\n",
    "\n",
    "def transpose_matrix(matrix):\n",
    "    \"\"\"\n",
    "    주어진 2차원 리스트(행렬)를 전치합니다.\n",
    "    \"\"\"\n",
    "    return [list(row) for row in zip(*matrix)]\n",
    "\n",
    "def matrix_to_string(matrix):\n",
    "    \"\"\"\n",
    "    2차원 리스트(행렬)를 문자열 형식으로 변환합니다.\n",
    "    예: [[1, 3, 5], [2, 4, 6]] -> '[1,3,5],[2,4,6]'\n",
    "    \"\"\"\n",
    "    return ','.join([f'[{\",\".join(map(str, row))}]' for row in matrix])\n",
    "\n",
    "def main():\n",
    "    # 사용자로부터 입력 받기\n",
    "    input_str = input(\"행렬을 입력하세요 (예: [1,2],[3,4],[5,6]): \").strip()\n",
    "    \n",
    "    try:\n",
    "        # 입력 파싱\n",
    "        matrix = parse_matrix(input_str)\n",
    "        \n",
    "        # 전치 행렬 계산\n",
    "        transposed = transpose_matrix(matrix)\n",
    "        \n",
    "        # 출력 형식 변환\n",
    "        output_str = matrix_to_string(transposed)\n",
    "        \n",
    "        print(\"전치 행렬:\", output_str)\n",
    "    except ValueError as ve:\n",
    "        print(\"오류:\", ve)\n",
    "\n",
    "if __name__ == \"__main__\":\n",
    "    main()"
   ]
  },
  {
   "cell_type": "markdown",
   "metadata": {},
   "source": [
    "### 비용 관리  \r\n",
    "\r\n",
    "o1 시리즈 모델에서 비용을 관리하려면 `max_completion_tokens` 매개변수를 사용하여 모델이 생성하는 총 토큰 수(추론 토큰과 응답 토큰 포함)를 제한할 수 있습니다.  \r\n",
    "\r\n",
    "이전 모델에서는 `max_tokens` 매개변수가 생성되는 토큰 수와 사용자에게 표시되는 토큰 수를 동시에 제어했으며, 이 둘은 항상 동일했습니다. 그러나 o1 시리즈에서는 내부 추론 과정에서 추가 토큰이 생성될 수 있어, 총 생성 토큰 수가 사용자에게 표시되는 토큰 수를 초과할 수 있습니다. 때문에, o1 시리즈에서는 `max_completion_tokens`를 도입하여 모델이 생성하는 총 토큰 수(추론 + 표시된 응답 토큰)를 명확하게 제어할 수 있도록 했습니다. 이를 통해 새로운 모델을 사용할 때 기존 애플리케이션이 정상적으로 작동하도록 보장속 작동합니다."
   ]
  },
  {
   "cell_type": "code",
   "execution_count": 12,
   "metadata": {},
   "outputs": [
    {
     "name": "stdout",
     "output_type": "stream",
     "text": [
      "\n"
     ]
    }
   ],
   "source": [
    "prompt = \"\"\"\n",
    "사용자로부터 질문을 입력받아 데이터베이스에서 해당 질문과 매핑된 답변을 조회하는 Python 애플리케이션을 만들고 싶습니다.  \n",
    "질문과 유사한 답변이 존재하면 해당 답변을 반환하고, 존재하지 않는 경우 사용자가 답변을 입력하도록 요청한 후  \n",
    "해당 질문/답변 쌍을 데이터베이스에 저장합니다.  \n",
    "\n",
    "이 애플리케이션에 필요한 디렉터리 구조를 계획한 후, 각 파일의 전체 내용을 제공하세요.  \n",
    "코드 중간에 설명을 포함하지 말고, 처음과 끝에서만 이유를 설명하세요.\n",
    "\"\"\"\n",
    "\n",
    "response = client.chat.completions.create(\n",
    "    model=Model,\n",
    "    messages=[\n",
    "        {\n",
    "            \"role\": \"user\",\n",
    "            \"content\": [\n",
    "                {\n",
    "                    \"type\": \"text\",\n",
    "                    \"text\": prompt\n",
    "                },\n",
    "            ],\n",
    "        }\n",
    "    ],\n",
    "    max_completion_tokens=1000\n",
    ")\n",
    "\n",
    "print(response.choices[0].message.content)"
   ]
  },
  {
   "cell_type": "markdown",
   "metadata": {},
   "source": [
    "추론 토큰을 위한 충분한 컨텍스트 윈도우 공간 확보가 필요 합니다. 문제의 복잡성에 따라 모델은 수백 개에서 수만 개의 추론 토큰을 생성할 수 있습니다.  \r\n",
    "\r\n",
    "사용된 정확한 추론 토큰 수는 채팅 완성 응답 객체(chat completion response object)의 `usage` 객체 내 `completion_tokens_details`에서 확인할 수 있습니다."
   ]
  },
  {
   "cell_type": "code",
   "execution_count": 22,
   "metadata": {},
   "outputs": [
    {
     "data": {
      "text/plain": [
       "{'completion_tokens': 1000,\n",
       " 'prompt_tokens': 145,\n",
       " 'total_tokens': 1145,\n",
       " 'completion_tokens_details': {'audio_tokens': 0,\n",
       "  'reasoning_tokens': 1000,\n",
       "  'accepted_prediction_tokens': 0,\n",
       "  'rejected_prediction_tokens': 0},\n",
       " 'prompt_tokens_details': {'audio_tokens': 0, 'cached_tokens': 0}}"
      ]
     },
     "execution_count": 22,
     "metadata": {},
     "output_type": "execute_result"
    }
   ],
   "source": [
    "response.usage.to_dict()"
   ]
  },
  {
   "cell_type": "markdown",
   "metadata": {},
   "source": [
    "### COT (Chain of Thought)\n",
    "**Chain of Thought (CoT)** 는 **대형 언어 모델(LLM)** 이 문제를 해결할 때 논리적 사고 과정을 단계별로 명확하게 표현하도록 유도하는 프롬프트 기법입니다.\n",
    "\n",
    "일반적인 LLM의 답변 방식은 질문에 대해 즉시 응답하는 것이지만, CoT를 활용하면 모델이 중간 사고 과정을 거쳐 더 정확하고 신뢰할 수 있는 답변을 생성할 수 있습니다. \n",
    "\n",
    "##### CoT의 핵심 원리\n",
    "- 단계별 사고 과정 유도\n",
    "- 문제를 한 번에 풀도록 요청하는 것이 아니라, **\"하나씩 논리적으로 설명한 후 답변을 제시\"**하도록 유도하는 방식입니다.\n",
    "- 모델에게 \"Let's think step by step.\"(단계별로 생각해 보자) 같은 문구를 추가하면 CoT 방식을 유도할 수 있습니다."
   ]
  },
  {
   "cell_type": "code",
   "execution_count": 31,
   "metadata": {},
   "outputs": [
    {
     "name": "stdout",
     "output_type": "stream",
     "text": [
      "체인 오브 소트(Chain of Thought) 추론을 사용하여 문제를 단계별로 해결해 보겠습니다.\n",
      "\n",
      "**문제:** 자동차가 시속 60km로 2.5시간 동안 이동하면 총 몇 km를 이동하게 될까요?\n",
      "\n",
      "**단계별 해결 과정:**\n",
      "\n",
      "1. **속도 확인:**\n",
      "   - 자동차의 속도는 시속 60킬로미터(km)입니다.\n",
      "   \n",
      "2. **이동 시간 확인:**\n",
      "   - 자동차가 이동한 시간은 2.5시간입니다.\n",
      "   \n",
      "3. **총 거리 계산:**\n",
      "   - 총 거리는 속도와 이동 시간을 곱하여 구할 수 있습니다.\n",
      "   - 공식: 총 거리 = 속도 × 시간\n",
      "   - 이를 식으로 나타내면: 총 거리 = 60 km/h × 2.5 h\n",
      "   \n",
      "4. **계산 수행:**\n",
      "   - 60 km/h × 2.5 h = 150 km\n",
      "\n",
      "**최종 답변:**\n",
      "자동차는 총 **150킬로미터**를 이동하게 됩니다.\n"
     ]
    }
   ],
   "source": [
    "def cot_test(question):\n",
    "    prompt = f\"\"\"\n",
    "    체인 오브 소트(Chain of Thought, CoT) 추론을 사용하여 단계별로 해결해 봅시다.\n",
    "\n",
    "    질문: {question}\n",
    "\n",
    "    신중하게 생각하고, 최종 답변을 제공하기 전에 자세한 단계별 설명을 작성하세요.\n",
    "    \"\"\"\n",
    "\n",
    "    response = client.chat.completions.create(\n",
    "        model=Model,\n",
    "        messages=[\n",
    "                  {\n",
    "                      \"role\": \"user\", \n",
    "                      \"content\": prompt\n",
    "                  }\n",
    "        ],\n",
    "        max_completion_tokens=1000\n",
    "    )\n",
    "\n",
    "    return response.choices[0].message.content\n",
    "\n",
    "# 테스트할 문제\n",
    "test_question = \"자동차가 시속 60km로 2.5시간 동안 이동하면 총 몇 km를 이동하게 될까요?\"\n",
    "\n",
    "# CoT 결과 출력\n",
    "print(cot_test(test_question))"
   ]
  },
  {
   "cell_type": "code",
   "execution_count": null,
   "metadata": {},
   "outputs": [],
   "source": []
  }
 ],
 "metadata": {
  "colab": {
   "provenance": []
  },
  "kernelspec": {
   "display_name": "Python 3 (ipykernel)",
   "language": "python",
   "name": "python3"
  },
  "language_info": {
   "codemirror_mode": {
    "name": "ipython",
    "version": 3
   },
   "file_extension": ".py",
   "mimetype": "text/x-python",
   "name": "python",
   "nbconvert_exporter": "python",
   "pygments_lexer": "ipython3",
   "version": "3.9.16"
  }
 },
 "nbformat": 4,
 "nbformat_minor": 4
}
